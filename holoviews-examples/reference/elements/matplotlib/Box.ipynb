{
 "cells": [
  {
   "cell_type": "markdown",
   "metadata": {},
   "source": [
    "<div class=\"contentcontainer med left\" style=\"margin-left: -50px;\">\n",
    "<dl class=\"dl-horizontal\">\n",
    "  <dt>Title</dt> <dd> Box Element</dd>\n",
    "  <dt>Dependencies</dt> <dd>Matplotlib</dd>\n",
    "  <dt>Backends</dt>\n",
    "    <dd><a href='./Box.ipynb'>Matplotlib</a></dd>\n",
    "    <dd><a href='../bokeh/Box.ipynb'>Bokeh</a></dd>\n",
    "    <dd><a href='../plotly/Box.ipynb'>Plotly</a></dd>\n",
    "</dl>\n",
    "</div>"
   ]
  },
  {
   "cell_type": "code",
   "execution_count": 1,
   "metadata": {},
   "outputs": [
    {
     "data": {
      "application/javascript": "(function(root) {\n  function now() {\n    return new Date();\n  }\n\n  var force = true;\n  var py_version = '3.3.4'.replace('rc', '-rc.').replace('.dev', '-dev.');\n  var reloading = false;\n  var Bokeh = root.Bokeh;\n\n  if (typeof (root._bokeh_timeout) === \"undefined\" || force) {\n    root._bokeh_timeout = Date.now() + 5000;\n    root._bokeh_failed_load = false;\n  }\n\n  function run_callbacks() {\n    try {\n      root._bokeh_onload_callbacks.forEach(function(callback) {\n        if (callback != null)\n          callback();\n      });\n    } finally {\n      delete root._bokeh_onload_callbacks;\n    }\n    console.debug(\"Bokeh: all callbacks have finished\");\n  }\n\n  function load_libs(css_urls, js_urls, js_modules, js_exports, callback) {\n    if (css_urls == null) css_urls = [];\n    if (js_urls == null) js_urls = [];\n    if (js_modules == null) js_modules = [];\n    if (js_exports == null) js_exports = {};\n\n    root._bokeh_onload_callbacks.push(callback);\n\n    if (root._bokeh_is_loading > 0) {\n      console.debug(\"Bokeh: BokehJS is being loaded, scheduling callback at\", now());\n      return null;\n    }\n    if (js_urls.length === 0 && js_modules.length === 0 && Object.keys(js_exports).length === 0) {\n      run_callbacks();\n      return null;\n    }\n    if (!reloading) {\n      console.debug(\"Bokeh: BokehJS not loaded, scheduling load and callback at\", now());\n    }\n\n    function on_load() {\n      root._bokeh_is_loading--;\n      if (root._bokeh_is_loading === 0) {\n        console.debug(\"Bokeh: all BokehJS libraries/stylesheets loaded\");\n        run_callbacks()\n      }\n    }\n    window._bokeh_on_load = on_load\n\n    function on_error() {\n      console.error(\"failed to load \" + url);\n    }\n\n    var skip = [];\n    if (window.requirejs) {\n      window.requirejs.config({'packages': {}, 'paths': {'jspanel': 'https://cdn.jsdelivr.net/npm/jspanel4@4.12.0/dist/jspanel', 'jspanel-modal': 'https://cdn.jsdelivr.net/npm/jspanel4@4.12.0/dist/extensions/modal/jspanel.modal', 'jspanel-tooltip': 'https://cdn.jsdelivr.net/npm/jspanel4@4.12.0/dist/extensions/tooltip/jspanel.tooltip', 'jspanel-hint': 'https://cdn.jsdelivr.net/npm/jspanel4@4.12.0/dist/extensions/hint/jspanel.hint', 'jspanel-layout': 'https://cdn.jsdelivr.net/npm/jspanel4@4.12.0/dist/extensions/layout/jspanel.layout', 'jspanel-contextmenu': 'https://cdn.jsdelivr.net/npm/jspanel4@4.12.0/dist/extensions/contextmenu/jspanel.contextmenu', 'jspanel-dock': 'https://cdn.jsdelivr.net/npm/jspanel4@4.12.0/dist/extensions/dock/jspanel.dock', 'gridstack': 'https://cdn.jsdelivr.net/npm/gridstack@7.2.3/dist/gridstack-all', 'notyf': 'https://cdn.jsdelivr.net/npm/notyf@3/notyf.min'}, 'shim': {'jspanel': {'exports': 'jsPanel'}, 'gridstack': {'exports': 'GridStack'}}});\n      require([\"jspanel\"], function(jsPanel) {\n\twindow.jsPanel = jsPanel\n\ton_load()\n      })\n      require([\"jspanel-modal\"], function() {\n\ton_load()\n      })\n      require([\"jspanel-tooltip\"], function() {\n\ton_load()\n      })\n      require([\"jspanel-hint\"], function() {\n\ton_load()\n      })\n      require([\"jspanel-layout\"], function() {\n\ton_load()\n      })\n      require([\"jspanel-contextmenu\"], function() {\n\ton_load()\n      })\n      require([\"jspanel-dock\"], function() {\n\ton_load()\n      })\n      require([\"gridstack\"], function(GridStack) {\n\twindow.GridStack = GridStack\n\ton_load()\n      })\n      require([\"notyf\"], function() {\n\ton_load()\n      })\n      root._bokeh_is_loading = css_urls.length + 9;\n    } else {\n      root._bokeh_is_loading = css_urls.length + js_urls.length + js_modules.length + Object.keys(js_exports).length;\n    }\n\n    var existing_stylesheets = []\n    var links = document.getElementsByTagName('link')\n    for (var i = 0; i < links.length; i++) {\n      var link = links[i]\n      if (link.href != null) {\n\texisting_stylesheets.push(link.href)\n      }\n    }\n    for (var i = 0; i < css_urls.length; i++) {\n      var url = css_urls[i];\n      if (existing_stylesheets.indexOf(url) !== -1) {\n\ton_load()\n\tcontinue;\n      }\n      const element = document.createElement(\"link\");\n      element.onload = on_load;\n      element.onerror = on_error;\n      element.rel = \"stylesheet\";\n      element.type = \"text/css\";\n      element.href = url;\n      console.debug(\"Bokeh: injecting link tag for BokehJS stylesheet: \", url);\n      document.body.appendChild(element);\n    }    if (((window['jsPanel'] !== undefined) && (!(window['jsPanel'] instanceof HTMLElement))) || window.requirejs) {\n      var urls = ['https://cdn.holoviz.org/panel/1.3.8/dist/bundled/floatpanel/jspanel4@4.12.0/dist/jspanel.js', 'https://cdn.holoviz.org/panel/1.3.8/dist/bundled/floatpanel/jspanel4@4.12.0/dist/extensions/modal/jspanel.modal.js', 'https://cdn.holoviz.org/panel/1.3.8/dist/bundled/floatpanel/jspanel4@4.12.0/dist/extensions/tooltip/jspanel.tooltip.js', 'https://cdn.holoviz.org/panel/1.3.8/dist/bundled/floatpanel/jspanel4@4.12.0/dist/extensions/hint/jspanel.hint.js', 'https://cdn.holoviz.org/panel/1.3.8/dist/bundled/floatpanel/jspanel4@4.12.0/dist/extensions/layout/jspanel.layout.js', 'https://cdn.holoviz.org/panel/1.3.8/dist/bundled/floatpanel/jspanel4@4.12.0/dist/extensions/contextmenu/jspanel.contextmenu.js', 'https://cdn.holoviz.org/panel/1.3.8/dist/bundled/floatpanel/jspanel4@4.12.0/dist/extensions/dock/jspanel.dock.js'];\n      for (var i = 0; i < urls.length; i++) {\n        skip.push(urls[i])\n      }\n    }    if (((window['GridStack'] !== undefined) && (!(window['GridStack'] instanceof HTMLElement))) || window.requirejs) {\n      var urls = ['https://cdn.holoviz.org/panel/1.3.8/dist/bundled/gridstack/gridstack@7.2.3/dist/gridstack-all.js'];\n      for (var i = 0; i < urls.length; i++) {\n        skip.push(urls[i])\n      }\n    }    if (((window['Notyf'] !== undefined) && (!(window['Notyf'] instanceof HTMLElement))) || window.requirejs) {\n      var urls = ['https://cdn.holoviz.org/panel/1.3.8/dist/bundled/notificationarea/notyf@3/notyf.min.js'];\n      for (var i = 0; i < urls.length; i++) {\n        skip.push(urls[i])\n      }\n    }    var existing_scripts = []\n    var scripts = document.getElementsByTagName('script')\n    for (var i = 0; i < scripts.length; i++) {\n      var script = scripts[i]\n      if (script.src != null) {\n\texisting_scripts.push(script.src)\n      }\n    }\n    for (var i = 0; i < js_urls.length; i++) {\n      var url = js_urls[i];\n      if (skip.indexOf(url) !== -1 || existing_scripts.indexOf(url) !== -1) {\n\tif (!window.requirejs) {\n\t  on_load();\n\t}\n\tcontinue;\n      }\n      var element = document.createElement('script');\n      element.onload = on_load;\n      element.onerror = on_error;\n      element.async = false;\n      element.src = url;\n      console.debug(\"Bokeh: injecting script tag for BokehJS library: \", url);\n      document.head.appendChild(element);\n    }\n    for (var i = 0; i < js_modules.length; i++) {\n      var url = js_modules[i];\n      if (skip.indexOf(url) !== -1 || existing_scripts.indexOf(url) !== -1) {\n\tif (!window.requirejs) {\n\t  on_load();\n\t}\n\tcontinue;\n      }\n      var element = document.createElement('script');\n      element.onload = on_load;\n      element.onerror = on_error;\n      element.async = false;\n      element.src = url;\n      element.type = \"module\";\n      console.debug(\"Bokeh: injecting script tag for BokehJS library: \", url);\n      document.head.appendChild(element);\n    }\n    for (const name in js_exports) {\n      var url = js_exports[name];\n      if (skip.indexOf(url) >= 0 || root[name] != null) {\n\tif (!window.requirejs) {\n\t  on_load();\n\t}\n\tcontinue;\n      }\n      var element = document.createElement('script');\n      element.onerror = on_error;\n      element.async = false;\n      element.type = \"module\";\n      console.debug(\"Bokeh: injecting script tag for BokehJS library: \", url);\n      element.textContent = `\n      import ${name} from \"${url}\"\n      window.${name} = ${name}\n      window._bokeh_on_load()\n      `\n      document.head.appendChild(element);\n    }\n    if (!js_urls.length && !js_modules.length) {\n      on_load()\n    }\n  };\n\n  function inject_raw_css(css) {\n    const element = document.createElement(\"style\");\n    element.appendChild(document.createTextNode(css));\n    document.body.appendChild(element);\n  }\n\n  var js_urls = [\"https://cdn.bokeh.org/bokeh/release/bokeh-3.3.4.min.js\", \"https://cdn.bokeh.org/bokeh/release/bokeh-gl-3.3.4.min.js\", \"https://cdn.bokeh.org/bokeh/release/bokeh-widgets-3.3.4.min.js\", \"https://cdn.bokeh.org/bokeh/release/bokeh-tables-3.3.4.min.js\", \"https://cdn.holoviz.org/panel/1.3.8/dist/panel.min.js\"];\n  var js_modules = [];\n  var js_exports = {};\n  var css_urls = [];\n  var inline_js = [    function(Bokeh) {\n      Bokeh.set_log_level(\"info\");\n    },\nfunction(Bokeh) {} // ensure no trailing comma for IE\n  ];\n\n  function run_inline_js() {\n    if ((root.Bokeh !== undefined) || (force === true)) {\n      for (var i = 0; i < inline_js.length; i++) {\n\ttry {\n          inline_js[i].call(root, root.Bokeh);\n\t} catch(e) {\n\t  if (!reloading) {\n\t    throw e;\n\t  }\n\t}\n      }\n      // Cache old bokeh versions\n      if (Bokeh != undefined && !reloading) {\n\tvar NewBokeh = root.Bokeh;\n\tif (Bokeh.versions === undefined) {\n\t  Bokeh.versions = new Map();\n\t}\n\tif (NewBokeh.version !== Bokeh.version) {\n\t  Bokeh.versions.set(NewBokeh.version, NewBokeh)\n\t}\n\troot.Bokeh = Bokeh;\n      }} else if (Date.now() < root._bokeh_timeout) {\n      setTimeout(run_inline_js, 100);\n    } else if (!root._bokeh_failed_load) {\n      console.log(\"Bokeh: BokehJS failed to load within specified timeout.\");\n      root._bokeh_failed_load = true;\n    }\n    root._bokeh_is_initializing = false\n  }\n\n  function load_or_wait() {\n    // Implement a backoff loop that tries to ensure we do not load multiple\n    // versions of Bokeh and its dependencies at the same time.\n    // In recent versions we use the root._bokeh_is_initializing flag\n    // to determine whether there is an ongoing attempt to initialize\n    // bokeh, however for backward compatibility we also try to ensure\n    // that we do not start loading a newer (Panel>=1.0 and Bokeh>3) version\n    // before older versions are fully initialized.\n    if (root._bokeh_is_initializing && Date.now() > root._bokeh_timeout) {\n      root._bokeh_is_initializing = false;\n      root._bokeh_onload_callbacks = undefined;\n      console.log(\"Bokeh: BokehJS was loaded multiple times but one version failed to initialize.\");\n      load_or_wait();\n    } else if (root._bokeh_is_initializing || (typeof root._bokeh_is_initializing === \"undefined\" && root._bokeh_onload_callbacks !== undefined)) {\n      setTimeout(load_or_wait, 100);\n    } else {\n      root._bokeh_is_initializing = true\n      root._bokeh_onload_callbacks = []\n      var bokeh_loaded = Bokeh != null && (Bokeh.version === py_version || (Bokeh.versions !== undefined && Bokeh.versions.has(py_version)));\n      if (!reloading && !bokeh_loaded) {\n\troot.Bokeh = undefined;\n      }\n      load_libs(css_urls, js_urls, js_modules, js_exports, function() {\n\tconsole.debug(\"Bokeh: BokehJS plotting callback run at\", now());\n\trun_inline_js();\n      });\n    }\n  }\n  // Give older versions of the autoload script a head-start to ensure\n  // they initialize before we start loading newer version.\n  setTimeout(load_or_wait, 100)\n}(window));",
      "application/vnd.holoviews_load.v0+json": ""
     },
     "metadata": {},
     "output_type": "display_data"
    },
    {
     "data": {
      "application/javascript": "\nif ((window.PyViz === undefined) || (window.PyViz instanceof HTMLElement)) {\n  window.PyViz = {comms: {}, comm_status:{}, kernels:{}, receivers: {}, plot_index: []}\n}\n\n\n    function JupyterCommManager() {\n    }\n\n    JupyterCommManager.prototype.register_target = function(plot_id, comm_id, msg_handler) {\n      if (window.comm_manager || ((window.Jupyter !== undefined) && (Jupyter.notebook.kernel != null))) {\n        var comm_manager = window.comm_manager || Jupyter.notebook.kernel.comm_manager;\n        comm_manager.register_target(comm_id, function(comm) {\n          comm.on_msg(msg_handler);\n        });\n      } else if ((plot_id in window.PyViz.kernels) && (window.PyViz.kernels[plot_id])) {\n        window.PyViz.kernels[plot_id].registerCommTarget(comm_id, function(comm) {\n          comm.onMsg = msg_handler;\n        });\n      } else if (typeof google != 'undefined' && google.colab.kernel != null) {\n        google.colab.kernel.comms.registerTarget(comm_id, (comm) => {\n          var messages = comm.messages[Symbol.asyncIterator]();\n          function processIteratorResult(result) {\n            var message = result.value;\n            console.log(message)\n            var content = {data: message.data, comm_id};\n            var buffers = []\n            for (var buffer of message.buffers || []) {\n              buffers.push(new DataView(buffer))\n            }\n            var metadata = message.metadata || {};\n            var msg = {content, buffers, metadata}\n            msg_handler(msg);\n            return messages.next().then(processIteratorResult);\n          }\n          return messages.next().then(processIteratorResult);\n        })\n      }\n    }\n\n    JupyterCommManager.prototype.get_client_comm = function(plot_id, comm_id, msg_handler) {\n      if (comm_id in window.PyViz.comms) {\n        return window.PyViz.comms[comm_id];\n      } else if (window.comm_manager || ((window.Jupyter !== undefined) && (Jupyter.notebook.kernel != null))) {\n        var comm_manager = window.comm_manager || Jupyter.notebook.kernel.comm_manager;\n        var comm = comm_manager.new_comm(comm_id, {}, {}, {}, comm_id);\n        if (msg_handler) {\n          comm.on_msg(msg_handler);\n        }\n      } else if ((plot_id in window.PyViz.kernels) && (window.PyViz.kernels[plot_id])) {\n        var comm = window.PyViz.kernels[plot_id].connectToComm(comm_id);\n        comm.open();\n        if (msg_handler) {\n          comm.onMsg = msg_handler;\n        }\n      } else if (typeof google != 'undefined' && google.colab.kernel != null) {\n        var comm_promise = google.colab.kernel.comms.open(comm_id)\n        comm_promise.then((comm) => {\n          window.PyViz.comms[comm_id] = comm;\n          if (msg_handler) {\n            var messages = comm.messages[Symbol.asyncIterator]();\n            function processIteratorResult(result) {\n              var message = result.value;\n              var content = {data: message.data};\n              var metadata = message.metadata || {comm_id};\n              var msg = {content, metadata}\n              msg_handler(msg);\n              return messages.next().then(processIteratorResult);\n            }\n            return messages.next().then(processIteratorResult);\n          }\n        }) \n        var sendClosure = (data, metadata, buffers, disposeOnDone) => {\n          return comm_promise.then((comm) => {\n            comm.send(data, metadata, buffers, disposeOnDone);\n          });\n        };\n        var comm = {\n          send: sendClosure\n        };\n      }\n      window.PyViz.comms[comm_id] = comm;\n      return comm;\n    }\n    window.PyViz.comm_manager = new JupyterCommManager();\n    \n\n\nvar JS_MIME_TYPE = 'application/javascript';\nvar HTML_MIME_TYPE = 'text/html';\nvar EXEC_MIME_TYPE = 'application/vnd.holoviews_exec.v0+json';\nvar CLASS_NAME = 'output';\n\n/**\n * Render data to the DOM node\n */\nfunction render(props, node) {\n  var div = document.createElement(\"div\");\n  var script = document.createElement(\"script\");\n  node.appendChild(div);\n  node.appendChild(script);\n}\n\n/**\n * Handle when a new output is added\n */\nfunction handle_add_output(event, handle) {\n  var output_area = handle.output_area;\n  var output = handle.output;\n  if ((output.data == undefined) || (!output.data.hasOwnProperty(EXEC_MIME_TYPE))) {\n    return\n  }\n  var id = output.metadata[EXEC_MIME_TYPE][\"id\"];\n  var toinsert = output_area.element.find(\".\" + CLASS_NAME.split(' ')[0]);\n  if (id !== undefined) {\n    var nchildren = toinsert.length;\n    var html_node = toinsert[nchildren-1].children[0];\n    html_node.innerHTML = output.data[HTML_MIME_TYPE];\n    var scripts = [];\n    var nodelist = html_node.querySelectorAll(\"script\");\n    for (var i in nodelist) {\n      if (nodelist.hasOwnProperty(i)) {\n        scripts.push(nodelist[i])\n      }\n    }\n\n    scripts.forEach( function (oldScript) {\n      var newScript = document.createElement(\"script\");\n      var attrs = [];\n      var nodemap = oldScript.attributes;\n      for (var j in nodemap) {\n        if (nodemap.hasOwnProperty(j)) {\n          attrs.push(nodemap[j])\n        }\n      }\n      attrs.forEach(function(attr) { newScript.setAttribute(attr.name, attr.value) });\n      newScript.appendChild(document.createTextNode(oldScript.innerHTML));\n      oldScript.parentNode.replaceChild(newScript, oldScript);\n    });\n    if (JS_MIME_TYPE in output.data) {\n      toinsert[nchildren-1].children[1].textContent = output.data[JS_MIME_TYPE];\n    }\n    output_area._hv_plot_id = id;\n    if ((window.Bokeh !== undefined) && (id in Bokeh.index)) {\n      window.PyViz.plot_index[id] = Bokeh.index[id];\n    } else {\n      window.PyViz.plot_index[id] = null;\n    }\n  } else if (output.metadata[EXEC_MIME_TYPE][\"server_id\"] !== undefined) {\n    var bk_div = document.createElement(\"div\");\n    bk_div.innerHTML = output.data[HTML_MIME_TYPE];\n    var script_attrs = bk_div.children[0].attributes;\n    for (var i = 0; i < script_attrs.length; i++) {\n      toinsert[toinsert.length - 1].childNodes[1].setAttribute(script_attrs[i].name, script_attrs[i].value);\n    }\n    // store reference to server id on output_area\n    output_area._bokeh_server_id = output.metadata[EXEC_MIME_TYPE][\"server_id\"];\n  }\n}\n\n/**\n * Handle when an output is cleared or removed\n */\nfunction handle_clear_output(event, handle) {\n  var id = handle.cell.output_area._hv_plot_id;\n  var server_id = handle.cell.output_area._bokeh_server_id;\n  if (((id === undefined) || !(id in PyViz.plot_index)) && (server_id !== undefined)) { return; }\n  var comm = window.PyViz.comm_manager.get_client_comm(\"hv-extension-comm\", \"hv-extension-comm\", function () {});\n  if (server_id !== null) {\n    comm.send({event_type: 'server_delete', 'id': server_id});\n    return;\n  } else if (comm !== null) {\n    comm.send({event_type: 'delete', 'id': id});\n  }\n  delete PyViz.plot_index[id];\n  if ((window.Bokeh !== undefined) & (id in window.Bokeh.index)) {\n    var doc = window.Bokeh.index[id].model.document\n    doc.clear();\n    const i = window.Bokeh.documents.indexOf(doc);\n    if (i > -1) {\n      window.Bokeh.documents.splice(i, 1);\n    }\n  }\n}\n\n/**\n * Handle kernel restart event\n */\nfunction handle_kernel_cleanup(event, handle) {\n  delete PyViz.comms[\"hv-extension-comm\"];\n  window.PyViz.plot_index = {}\n}\n\n/**\n * Handle update_display_data messages\n */\nfunction handle_update_output(event, handle) {\n  handle_clear_output(event, {cell: {output_area: handle.output_area}})\n  handle_add_output(event, handle)\n}\n\nfunction register_renderer(events, OutputArea) {\n  function append_mime(data, metadata, element) {\n    // create a DOM node to render to\n    var toinsert = this.create_output_subarea(\n    metadata,\n    CLASS_NAME,\n    EXEC_MIME_TYPE\n    );\n    this.keyboard_manager.register_events(toinsert);\n    // Render to node\n    var props = {data: data, metadata: metadata[EXEC_MIME_TYPE]};\n    render(props, toinsert[0]);\n    element.append(toinsert);\n    return toinsert\n  }\n\n  events.on('output_added.OutputArea', handle_add_output);\n  events.on('output_updated.OutputArea', handle_update_output);\n  events.on('clear_output.CodeCell', handle_clear_output);\n  events.on('delete.Cell', handle_clear_output);\n  events.on('kernel_ready.Kernel', handle_kernel_cleanup);\n\n  OutputArea.prototype.register_mime_type(EXEC_MIME_TYPE, append_mime, {\n    safe: true,\n    index: 0\n  });\n}\n\nif (window.Jupyter !== undefined) {\n  try {\n    var events = require('base/js/events');\n    var OutputArea = require('notebook/js/outputarea').OutputArea;\n    if (OutputArea.prototype.mime_types().indexOf(EXEC_MIME_TYPE) == -1) {\n      register_renderer(events, OutputArea);\n    }\n  } catch(err) {\n  }\n}\n",
      "application/vnd.holoviews_load.v0+json": ""
     },
     "metadata": {},
     "output_type": "display_data"
    },
    {
     "data": {
      "text/html": [
       "<style>*[data-root-id],\n",
       "*[data-root-id] > * {\n",
       "  box-sizing: border-box;\n",
       "  font-family: var(--jp-ui-font-family);\n",
       "  font-size: var(--jp-ui-font-size1);\n",
       "  color: var(--vscode-editor-foreground, var(--jp-ui-font-color1));\n",
       "}\n",
       "\n",
       "/* Override VSCode background color */\n",
       ".cell-output-ipywidget-background:has(\n",
       "    > .cell-output-ipywidget-background > .lm-Widget > *[data-root-id]\n",
       "  ),\n",
       ".cell-output-ipywidget-background:has(> .lm-Widget > *[data-root-id]) {\n",
       "  background-color: transparent !important;\n",
       "}\n",
       "</style>"
      ]
     },
     "metadata": {},
     "output_type": "display_data"
    },
    {
     "data": {
      "application/vnd.holoviews_exec.v0+json": "",
      "text/html": [
       "<div id='p1002'>\n",
       "  <div id=\"c3a66e45-c7bb-42bd-987a-2cfa7f019e1d\" data-root-id=\"p1002\" style=\"display: contents;\"></div>\n",
       "</div>\n",
       "<script type=\"application/javascript\">(function(root) {\n",
       "  var docs_json = {\"b3da5ce6-7b86-4b28-9612-9b39f37882b5\":{\"version\":\"3.3.4\",\"title\":\"Bokeh Application\",\"roots\":[{\"type\":\"object\",\"name\":\"panel.models.browser.BrowserInfo\",\"id\":\"p1002\"},{\"type\":\"object\",\"name\":\"panel.models.comm_manager.CommManager\",\"id\":\"p1003\",\"attributes\":{\"plot_id\":\"p1002\",\"comm_id\":\"209e5a4be4674cdc9c301c1532cfc7d5\",\"client_comm_id\":\"566c378d5b5b46338e747613b9b2d2ca\"}}],\"defs\":[{\"type\":\"model\",\"name\":\"ReactiveHTML1\"},{\"type\":\"model\",\"name\":\"FlexBox1\",\"properties\":[{\"name\":\"align_content\",\"kind\":\"Any\",\"default\":\"flex-start\"},{\"name\":\"align_items\",\"kind\":\"Any\",\"default\":\"flex-start\"},{\"name\":\"flex_direction\",\"kind\":\"Any\",\"default\":\"row\"},{\"name\":\"flex_wrap\",\"kind\":\"Any\",\"default\":\"wrap\"},{\"name\":\"justify_content\",\"kind\":\"Any\",\"default\":\"flex-start\"}]},{\"type\":\"model\",\"name\":\"FloatPanel1\",\"properties\":[{\"name\":\"config\",\"kind\":\"Any\",\"default\":{\"type\":\"map\"}},{\"name\":\"contained\",\"kind\":\"Any\",\"default\":true},{\"name\":\"position\",\"kind\":\"Any\",\"default\":\"right-top\"},{\"name\":\"offsetx\",\"kind\":\"Any\",\"default\":null},{\"name\":\"offsety\",\"kind\":\"Any\",\"default\":null},{\"name\":\"theme\",\"kind\":\"Any\",\"default\":\"primary\"},{\"name\":\"status\",\"kind\":\"Any\",\"default\":\"normalized\"}]},{\"type\":\"model\",\"name\":\"GridStack1\",\"properties\":[{\"name\":\"mode\",\"kind\":\"Any\",\"default\":\"warn\"},{\"name\":\"ncols\",\"kind\":\"Any\",\"default\":null},{\"name\":\"nrows\",\"kind\":\"Any\",\"default\":null},{\"name\":\"allow_resize\",\"kind\":\"Any\",\"default\":true},{\"name\":\"allow_drag\",\"kind\":\"Any\",\"default\":true},{\"name\":\"state\",\"kind\":\"Any\",\"default\":[]}]},{\"type\":\"model\",\"name\":\"drag1\",\"properties\":[{\"name\":\"slider_width\",\"kind\":\"Any\",\"default\":5},{\"name\":\"slider_color\",\"kind\":\"Any\",\"default\":\"black\"},{\"name\":\"value\",\"kind\":\"Any\",\"default\":50}]},{\"type\":\"model\",\"name\":\"click1\",\"properties\":[{\"name\":\"terminal_output\",\"kind\":\"Any\",\"default\":\"\"},{\"name\":\"debug_name\",\"kind\":\"Any\",\"default\":\"\"},{\"name\":\"clears\",\"kind\":\"Any\",\"default\":0}]},{\"type\":\"model\",\"name\":\"copy_to_clipboard1\",\"properties\":[{\"name\":\"fill\",\"kind\":\"Any\",\"default\":\"none\"},{\"name\":\"value\",\"kind\":\"Any\",\"default\":null}]},{\"type\":\"model\",\"name\":\"FastWrapper1\",\"properties\":[{\"name\":\"object\",\"kind\":\"Any\",\"default\":null},{\"name\":\"style\",\"kind\":\"Any\",\"default\":null}]},{\"type\":\"model\",\"name\":\"NotificationAreaBase1\",\"properties\":[{\"name\":\"js_events\",\"kind\":\"Any\",\"default\":{\"type\":\"map\"}},{\"name\":\"position\",\"kind\":\"Any\",\"default\":\"bottom-right\"},{\"name\":\"_clear\",\"kind\":\"Any\",\"default\":0}]},{\"type\":\"model\",\"name\":\"NotificationArea1\",\"properties\":[{\"name\":\"js_events\",\"kind\":\"Any\",\"default\":{\"type\":\"map\"}},{\"name\":\"notifications\",\"kind\":\"Any\",\"default\":[]},{\"name\":\"position\",\"kind\":\"Any\",\"default\":\"bottom-right\"},{\"name\":\"_clear\",\"kind\":\"Any\",\"default\":0},{\"name\":\"types\",\"kind\":\"Any\",\"default\":[{\"type\":\"map\",\"entries\":[[\"type\",\"warning\"],[\"background\",\"#ffc107\"],[\"icon\",{\"type\":\"map\",\"entries\":[[\"className\",\"fas fa-exclamation-triangle\"],[\"tagName\",\"i\"],[\"color\",\"white\"]]}]]},{\"type\":\"map\",\"entries\":[[\"type\",\"info\"],[\"background\",\"#007bff\"],[\"icon\",{\"type\":\"map\",\"entries\":[[\"className\",\"fas fa-info-circle\"],[\"tagName\",\"i\"],[\"color\",\"white\"]]}]]}]}]},{\"type\":\"model\",\"name\":\"Notification\",\"properties\":[{\"name\":\"background\",\"kind\":\"Any\",\"default\":null},{\"name\":\"duration\",\"kind\":\"Any\",\"default\":3000},{\"name\":\"icon\",\"kind\":\"Any\",\"default\":null},{\"name\":\"message\",\"kind\":\"Any\",\"default\":\"\"},{\"name\":\"notification_type\",\"kind\":\"Any\",\"default\":null},{\"name\":\"_destroyed\",\"kind\":\"Any\",\"default\":false}]},{\"type\":\"model\",\"name\":\"TemplateActions1\",\"properties\":[{\"name\":\"open_modal\",\"kind\":\"Any\",\"default\":0},{\"name\":\"close_modal\",\"kind\":\"Any\",\"default\":0}]},{\"type\":\"model\",\"name\":\"BootstrapTemplateActions1\",\"properties\":[{\"name\":\"open_modal\",\"kind\":\"Any\",\"default\":0},{\"name\":\"close_modal\",\"kind\":\"Any\",\"default\":0}]},{\"type\":\"model\",\"name\":\"MaterialTemplateActions1\",\"properties\":[{\"name\":\"open_modal\",\"kind\":\"Any\",\"default\":0},{\"name\":\"close_modal\",\"kind\":\"Any\",\"default\":0}]}]}};\n",
       "  var render_items = [{\"docid\":\"b3da5ce6-7b86-4b28-9612-9b39f37882b5\",\"roots\":{\"p1002\":\"c3a66e45-c7bb-42bd-987a-2cfa7f019e1d\"},\"root_ids\":[\"p1002\"]}];\n",
       "  var docs = Object.values(docs_json)\n",
       "  if (!docs) {\n",
       "    return\n",
       "  }\n",
       "  const py_version = docs[0].version.replace('rc', '-rc.').replace('.dev', '-dev.')\n",
       "  function embed_document(root) {\n",
       "    var Bokeh = get_bokeh(root)\n",
       "    Bokeh.embed.embed_items_notebook(docs_json, render_items);\n",
       "    for (const render_item of render_items) {\n",
       "      for (const root_id of render_item.root_ids) {\n",
       "\tconst id_el = document.getElementById(root_id)\n",
       "\tif (id_el.children.length && (id_el.children[0].className === 'bk-root')) {\n",
       "\t  const root_el = id_el.children[0]\n",
       "\t  root_el.id = root_el.id + '-rendered'\n",
       "\t}\n",
       "      }\n",
       "    }\n",
       "  }\n",
       "  function get_bokeh(root) {\n",
       "    if (root.Bokeh === undefined) {\n",
       "      return null\n",
       "    } else if (root.Bokeh.version !== py_version) {\n",
       "      if (root.Bokeh.versions === undefined || !root.Bokeh.versions.has(py_version)) {\n",
       "\treturn null\n",
       "      }\n",
       "      return root.Bokeh.versions.get(py_version);\n",
       "    } else if (root.Bokeh.version === py_version) {\n",
       "      return root.Bokeh\n",
       "    }\n",
       "    return null\n",
       "  }\n",
       "  function is_loaded(root) {\n",
       "    var Bokeh = get_bokeh(root)\n",
       "    return (Bokeh != null && Bokeh.Panel !== undefined)\n",
       "  }\n",
       "  if (is_loaded(root)) {\n",
       "    embed_document(root);\n",
       "  } else {\n",
       "    var attempts = 0;\n",
       "    var timer = setInterval(function(root) {\n",
       "      if (is_loaded(root)) {\n",
       "        clearInterval(timer);\n",
       "        embed_document(root);\n",
       "      } else if (document.readyState == \"complete\") {\n",
       "        attempts++;\n",
       "        if (attempts > 200) {\n",
       "          clearInterval(timer);\n",
       "\t  var Bokeh = get_bokeh(root)\n",
       "\t  if (Bokeh == null || Bokeh.Panel == null) {\n",
       "            console.warn(\"Panel: ERROR: Unable to run Panel code because Bokeh or Panel library is missing\");\n",
       "\t  } else {\n",
       "\t    console.warn(\"Panel: WARNING: Attempting to render but not all required libraries could be resolved.\")\n",
       "\t    embed_document(root)\n",
       "\t  }\n",
       "        }\n",
       "      }\n",
       "    }, 25, root)\n",
       "  }\n",
       "})(window);</script>"
      ]
     },
     "metadata": {
      "application/vnd.holoviews_exec.v0+json": {
       "id": "p1002"
      }
     },
     "output_type": "display_data"
    },
    {
     "data": {
      "text/html": [
       "\n",
       "<div class=\"logo-block\">\n",
       "<img src='data:image/png;base64,iVBORw0KGgoAAAANSUhEUgAAAEAAAABACAYAAACqaXHeAAAABHNCSVQICAgIfAhkiAAAAAlwSFlz\n",
       "AAAB+wAAAfsBxc2miwAAABl0RVh0U29mdHdhcmUAd3d3Lmlua3NjYXBlLm9yZ5vuPBoAAA6zSURB\n",
       "VHic7ZtpeFRVmsf/5966taWqUlUJ2UioBBJiIBAwCZtog9IOgjqACsogKtqirT2ttt069nQ/zDzt\n",
       "tI4+CrJIREFaFgWhBXpUNhHZQoKBkIUASchWla1S+3ar7r1nPkDaCAnZKoQP/D7mnPOe9/xy76n3\n",
       "nFSAW9ziFoPFNED2LLK5wcyBDObkb8ZkxuaoSYlI6ZcOKq1eWFdedqNzGHQBk9RMEwFAASkk0Xw3\n",
       "ETacDNi2vtvc7L0ROdw0AjoSotQVkKSvHQz/wRO1lScGModBFbDMaNRN1A4tUBCS3lk7BWhQkgpD\n",
       "lG4852/+7DWr1R3uHAZVQDsbh6ZPN7CyxUrCzJMRouusj0ipRwD2uKm0Zn5d2dFwzX1TCGhnmdGo\n",
       "G62Nna+isiUqhkzuKrkQaJlPEv5mFl2fvGg2t/VnzkEV8F5ioioOEWkLG86fvbpthynjdhXYZziQ\n",
       "x1hC9J2NFyi8vCTt91Fh04KGip0AaG9zuCk2wQCVyoNU3Hjezee9bq92duzzTmxsRJoy+jEZZZYo\n",
       "GTKJ6SJngdJqAfRzpze0+jHreUtPc7gpBLQnIYK6BYp/uGhw9YK688eu7v95ysgshcg9qSLMo3JC\n",
       "4jqLKQFBgdKDPoQ+Pltb8dUyQLpeDjeVgI6EgLIQFT5tEl3rn2losHVsexbZ3EyT9wE1uGdkIPcy\n",
       "BGxn8QUq1QrA5nqW5i2tLqvrrM9NK6AdkVIvL9E9bZL/oyfMVd/jqvc8LylzRBKDJSzIExwhQzuL\n",
       "QYGQj4rHfFTc8mUdu3E7yoLtbTe9gI4EqVgVkug2i5+uXGo919ixbRog+3fTbQ8qJe4ZOYNfMoTI\n",
       "OoshUNosgO60AisX15aeI2PSIp5KiFLI9ubb1vV3Qb2ltwLakUCDAkWX7/nHKRmmGIl9VgYsUhJm\n",
       "2NXjKYADtM1ygne9QQDIXlk49FBstMKx66D1v4+XuQr7vqTe0VcBHQlRWiOCbmmSYe2SqtL6q5rJ\n",
       "zsTb7lKx3FKOYC4DoqyS/B5bvLPxvD9Qtf6saxYLQGJErmDOdOMr/zo96km1nElr8bmPOBwI9COv\n",
       "HnFPRIwmkSOv9kcAS4heRsidOkpeWBgZM+UBrTFAXNYL5Vf2ii9c1trNzpYdaoVil3WIc+wdk+gQ\n",
       "noie3ecCcxt9ITcLAPWt/laGEO/9U6PmzZkenTtsSMQ8uYywJVW+grCstAvCIaAdArAsIWkRDDs/\n",
       "KzLm2YcjY1Lv0UdW73HabE9n6V66cxSzfEmuJssTpKGVp+0vHq73FwL46eOjpMpbRAnNmJFrGJNu\n",
       "Ukf9Yrz+3rghiumCKNXXWPhLYcjxGsIpoCMsIRoFITkW8AuyM8jC1+/QLx4bozCEJIq38+1rtpR6\n",
       "V/yzb8eBlRb3fo5l783N0CWolAzJHaVNzkrTzlEp2bQ2q3TC5gn6wpnoQAmwSiGh2GitnTmVMc5O\n",
       "UyfKWUKCIsU7+fZDKwqdT6DDpvkzAX4/+AMFjk0tDp5GRXLpQ2MUmhgDp5gxQT8+Y7hyPsMi8uxF\n",
       "71H0oebujHALECjFKaW9Lm68n18wXp2kVzIcABytD5iXFzg+WVXkegpAsOOYziqo0OkK76GyquC3\n",
       "ltZAzMhhqlSNmmWTE5T6e3IN05ITFLM4GdN0vtZ3ob8Jh1NAKXFbm5PtLU/eqTSlGjkNAJjdgn/N\n",
       "aedXa0tdi7+t9G0FIF49rtMSEgAs1kDLkTPO7ebm4IUWeyh1bKomXqlgMG6kJmHcSM0clYLJ8XtR\n",
       "1GTnbV3F6I5wCGikAb402npp1h1s7LQUZZSMIfALFOuL3UUrfnS8+rez7v9qcold5tilgHbO1fjK\n",
       "9ubb17u9oshxzMiUBKXWqJNxd+fqb0tLVs4lILFnK71H0Ind7uiPgACVcFJlrb0tV6DzxqqTIhUM\n",
       "CwDf1/rrVhTa33/3pGPxJYdQ2l2cbgVcQSosdx8uqnDtbGjh9SlDVSMNWhlnilfqZk42Th2ZpLpf\n",
       "xrHec5e815zrr0dfBZSwzkZfqsv+1FS1KUknUwPARVvItfKUY+cn57yP7qv07UE3p8B2uhUwLk09\n",
       "e0SCOrK+hbdYHYLjRIl71wWzv9jpEoeOHhGRrJAzyEyNiJuUqX0g2sBN5kGK6y2Blp5M3lsB9Qh4\n",
       "y2Ja6x6+i0ucmKgwMATwhSjdUu49tKrQ/pvN5d53ml2CGwCmJipmKjgmyuaXzNeL2a0AkQ01Th5j\n",
       "2DktO3Jyk8f9vcOBQHV94OK+fPumJmvQHxJoWkaKWq9Vs+yUsbq0zGT1I4RgeH2b5wef7+c7bl8F\n",
       "eKgoHVVZa8ZPEORzR6sT1BzDUAD/d9F78e2Tzv99v8D+fLVTqAKAsbGamKey1Mt9Ann4eH3gTXTz\n",
       "idWtAJ8PQWOk7NzSeQn/OTHDuEikVF1R4z8BQCy+6D1aWRfY0tTGG2OM8rRoPaeIj5ZHzJxszElN\n",
       "VM8K8JS5WOfv8mzRnQAKoEhmt8gyPM4lU9SmBK1MCQBnW4KONT86v1hZ1PbwSXPw4JWussVjtH9Y\n",
       "NCoiL9UoH/6PSu8jFrfY2t36erQHXLIEakMi1SydmzB31h3GGXFDFNPaK8Rme9B79Ixrd0WN+1ij\n",
       "NRQ/doRmuFLBkHSTOm5GruG+pFjFdAmorG4IXH1Qua6ASniclfFtDYt+oUjKipPrCQB7QBQ2lrgP\n",
       "fFzm+9XWUtcqJ3/5vDLDpJ79XHZk3u8nGZ42qlj1+ydtbxysCezrydp6ugmipNJ7WBPB5tydY0jP\n",
       "HaVNzs3QzeE4ZpTbI+ZbnSFPbVOw9vsfnVvqWnirPyCNGD08IlqtYkh2hjZ5dErEQzoNm+6ykyOt\n",
       "Lt5/PQEuSRRKo22VkydK+vvS1XEKlhCJAnsqvcVvH7f/ZU2R67eXbMEGAMiIV5oWZWiWvz5Fv2xG\n",
       "sjqNJQRvn3Rs2lji/lNP19VjAQDgD7FHhujZB9OGqYxRkZxixgRDVlqS6uEOFaJUVu0rPFzctrnF\n",
       "JqijImVp8dEKVWyUXDk92zAuMZ6bFwpBU1HrOw6AdhQgUooChb0+ItMbWJitSo5Ws3IAOGEOtL53\n",
       "0vHZih9sC4vtofZ7Qu6523V/fmGcds1TY3V36pUsBwAbSlxnVh2xLfAD/IAIMDf7XYIkNmXfpp2l\n",
       "18rkAJAy9HKFaIr/qULkeQQKy9zf1JgDB2uaeFNGijo5QsUyacNUUTOnGO42xSnv4oOwpDi1zYkc\n",
       "efUc3I5Gk6PhyTuVKaOGyLUAYPGIoY9Pu/atL/L92+4q9wbflRJ2Trpm/jPjdBtfnqB/dIThcl8A\n",
       "KG7hbRuKnb8qsQsVvVlTrwQAQMUlf3kwJI24Z4JhPMtcfng5GcH49GsrxJpGvvHIaeem2ma+KSjQ\n",
       "lIwUdYyCY8j4dE1KzijNnIP2llF2wcXNnsoapw9XxsgYAl6k+KzUXbi2yP3KR2ecf6z3BFsBICdW\n",
       "nvnIaG3eHybqX7vbpEqUMT+9OL4Qpe8VON7dXuFd39v19FoAABRVePbGGuXTszO0P7tu6lghUonE\n",
       "llRdrhArLvmKdh9u29jcFiRRkfLUxBiFNiqSU9icoZQHo5mYBI1MBgBH6wMNb+U7Pnw337H4gi1Y\n",
       "ciWs+uks3Z9fztUvfzxTm9Ne8XXkvQLHNytOOZeiD4e0PgkAIAYCYknKUNUDSXEKzdWNpnil7r4p\n",
       "xqkjTarZMtk/K8TQ6Qve78qqvXurGwIJqcOUKfUWHsm8KGvxSP68YudXq4pcj39X49uOK2X142O0\n",
       "Tz5/u/7TVybqH0rSya6ZBwD21/gubbrgWdDgEOx9WUhfBaC2ibcEBYm7a7x+ukrBMNcEZggyR0TE\n",
       "T8zUPjikQ4VosQZbTpS4vqizBKvqmvjsqnpfzaZyx9JPiz1/bfGKdgD45XB1zoIMzYbfTdS/NClB\n",
       "Gct0USiY3YL/g0LHy/uq/Ef6uo5+n0R/vyhp17Klpge763f8rMu6YU/zrn2nml+2WtH+Z+5IAAFc\n",
       "2bUTdTDOSNa9+cQY7YLsOIXhevEkCvzph7a8laecz/Un/z4/Ae04XeL3UQb57IwU9ZDr9UuKVajv\n",
       "nxp1+1UVIo/LjztZkKH59fO3G/JemqCfmaCRqbqbd90ZZ8FfjtkfAyD0J/9+C2h1hDwsSxvGjNDc\n",
       "b4zk5NfrSwiQblLHzZhg+Jf4aPlUwpDqkQqa9nimbt1/TDH8OitGMaQnj+RJS6B1fbF7SY1TqO5v\n",
       "/v0WAADl1f7zokgS7s7VT2DZ7pegUjBM7mjtiDZbcN4j0YrHH0rXpCtY0qPX0cVL0rv5jv/ZXend\n",
       "0u/EESYBAFBU4T4Qa5TflZOhTe7pmKpaP8kCVUVw1+yhXfJWvn1P3hnXi33JsTN6PnP3hHZ8Z3/h\n",
       "aLHzmkNPuPj7Bc/F/Q38CwjTpSwQXgE4Vmwry9tpfq/ZFgqFMy4AVDtCvi8rvMvOmv0N4YwbVgEA\n",
       "sPM72/KVnzfspmH7HQGCRLG2yL1+z8XwvPcdCbsAANh+xPzstgMtxeGKt+6MK3/tacfvwhWvIwMi\n",
       "oKEBtm0H7W+UVfkc/Y1V0BhoPlDr/w1w/eu1vjIgAgDg22OtX6/eYfnEz/focrZTHAFR+PSs56/7\n",
       "q32nwpjazxgwAQCwcU/T62t3WL7r6/jVRa6/byp1rei+Z98ZUAEAhEPHPc8fKnTU9nbgtnOe8h0l\n",
       "9hcGIqmODLQAHCy2Xti6v/XNRivf43f4fFvIteu854+VHnR7q9tfBlwAAGz+pnndB9vM26UebAe8\n",
       "SLHujPOTPVW+rwY+sxskAAC2HrA8t2Vvc7ffP1r9o+vwR2dcr92InIAbKKC1FZ5tB1tf+/G8p8sv\n",
       "N/9Q5zd/XR34LYCwV5JdccMEAMDBk45DH243r/X4xGvqxFa/GNpS7n6rwOwNWwHVE26oAADYurf1\n",
       "zx/utOzt+DMKYM0p17YtZZ5VNzqfsB2HewG1WXE8PoZ7gOclbTIvynZf9JV+fqZtfgs/8F/Nu5rB\n",
       "EIBmJ+8QRMmpU7EzGRsf2FzuePqYRbzh/zE26EwdrT10f6r6o8HOYzCJB9Dpff8tbnGLG8L/A/WE\n",
       "roTBs2RqAAAAAElFTkSuQmCC'\n",
       "     style='height:25px; border-radius:12px; display: inline-block; float: left; vertical-align: middle'></img>\n",
       "\n",
       "\n",
       "\n",
       "\n",
       "  <img src='data:image/png;base64,iVBORw0KGgoAAAANSUhEUgAAACAAAAAgCAYAAABzenr0AAAABHNCSVQICAgIfAhkiAAAAAlwSFlz\n",
       "AAAFMAAABTABZarKtgAAABl0RVh0U29mdHdhcmUAd3d3Lmlua3NjYXBlLm9yZ5vuPBoAAArNSURB\n",
       "VFiFnVd5VFNXGv/ee0kgGyQhbFoXIKCFYEXEDVErTucMoKUOWA/VLsNSLPQgFTOdyrHPiIp1lFIQ\n",
       "OlaPShEG3EpPcQmISCuV1bQ1CLKIULeQhJA9JO+9+UMT0x5aPfOdc895373f/e7v/t537/ddBF5Q\n",
       "JBIJl81mJwCACEVRQBCEQhAEAQCgnghCURRCkmS7Wq2+WlJSYn0Rv8jzDHAcD0EQJIVGo5mFQuGF\n",
       "jIyMu39kq1KpkOrq6gU6nS6aIAiGzWY7VVBQ0P9/AcjNzWXy+fxcOp2uiY+Przm0d6+n8dblv/Fo\n",
       "kzM4SzYfPlRePvFnjnt6ehh1dXVv2mw2nlar/byoqMj8wgBwHBchCJIZEhJSeu1yHVi7vtu02t8+\n",
       "NykQ7BMWoOUMhXQsXLv5IQAwSJJEEASxcDicoeTk5DtCoZBy9XX69Gnv3t7ebJIky3EcH3guAKlU\n",
       "GoGiaOKWLVsOvhs7/9XXPMde3/IyIFbMnaPDuD5AUdQuOf2XlD0npTExMWYAgNbWVpZcLg8xGAzB\n",
       "JEnSvby82tPT052LaTQatLy8fBtJkt/s3Lnz5h8CwHFcRKPRNu/YsePAjh072KTs0IGCxRg8RgUB\n",
       "TGpSx6cmHgMAfNqN6Xa1GvJ/D35gYAAViURkcXHxUrPZHDRv3rxv4uLiDI7xPXv2bLdYLBUFBQWD\n",
       "jj7M8ZGbm8tkMpmSrKysQiaTScXGxtpqL7dManT6tcu5mgEWWJyOhicozpk+c3NsbKzNFcBbWWEf\n",
       "1Td9/upA30i3ZJv0h8bGxiSFQmFcuHDhOACAWCy+0d3dvX3lypUtzc3N9t8AiIuLk4SEhByLiooy\n",
       "AgAcO3ZsNlPgH3Cttb35JZo+bCYXIQAA9MDiUW7sWS1KN687w6Mera2twa2trfMvXboUOS28Pyb1\n",
       "U08McRtf/sXBSmt5cc35pqamVQqFwhoZGallMpnU/fv3e7RaberVq1d/AABAn1IfQqfTNRs3blQB\n",
       "AFy+fJk7Nja2XCKRnD3dNSorusPq6NfTPR+gPiEEoLRFXO1tS2+zavv27ReftjNttyr0S1/j0rUP\n",
       "PEJQwNwQYGgAACQSyXmNRhMtk8lYAAApKSlKDMP0+fn5QU4ACIKkxMfH1zjYuHnz5uspKSlOfdX7\n",
       "u68fvOePcCzKQR4YVCgATGfa/F3pnzaHWOAXSDyaMCqH2+r8VXErP3D+snXr1tV2dXW94dATExOr\n",
       "6XT6JgAAVCKRcDEMM4WHh9sAAHJyUqNu//wDymKx7AAAVVVVPiaTKXxByrYMvBsxEMSTwPXhuL+8\n",
       "e/fu9fv371+flvbemogYNz+TnsBOFEwMFO8/KzEYDKFVVVX+AAChoaGT7u7ud48ePRro0DEMs+bl\n",
       "5bFRNpud4O3tfdGBzq5uy/5wTUPM/q2zC9atmbVqeHg4Pi0t7WxGRoZFH5rw76I7LI8HqHfwPL7d\n",
       "rfVagzw1NfW81t4ePUfsP/OrnWZ6fPSuUqFQSEkkkrOjo6OvuQR5q0ajiXLoPj4+lzgcTjwKACLH\n",
       "9SqXy2kzhBO8haGo+UA2wZW+p880DxeveGt9aHx9fT09ctlq3sC0NT9e6xsbjuZblSxl7wKtVotM\n",
       "m6PnXvlmZJBtX91CEMQsxyJsNlteXl4udugIghAajQYFAEhPTx9AEGQOimGY8y4oLt63KlJkdB4t\n",
       "P282Z/c/dPrDH04ktJ9P2tfWXP3+2o1vHzunEp6Xq0lsGt08KzUrcSGTQ3n3XeefLCs5UqnT6Rap\n",
       "VCoEACA7O/snvV4f5gJooLa2NsihoygKKEVRzquTND2OCpttGXdG1tOxwOlgzdvE9v30rV+m3W5I\n",
       "2jfJNQmLH85QUUzPNTwvkAx0+vVGhq2/VV9fT+dyuZ01NTXOXQOA3fGxevXq2waDYY5r8KIoij5b\n",
       "jzB5Cz2oKdOo0erOm+1tVuVtBMZXElNMRJR1fvvjx9iPLQ/RjpuB0Xu/Vp7YmH1864YNG3oNBkPw\n",
       "VD7mzp1rJUnSzZUBmqsBggAgGFC/n6jVA+3WoN3tu1Gg39cg2tEx1Cg3CIJHsclxnl2HRorMN8Z0\n",
       "fRW+vr7GJ36Q56Z5h9BIknzGAMJWtvdQYs0EZe3/FSwqk5tpXEMb1JoYD+n8xRdQJl/fMPEgzKhS\n",
       "L40KCD7lGzg92qIyovpb3y/msT2un2psvFpWVvYyl8vtc1nDSXFXV5c7iqLOtEyS5LNBAADfWeKm\n",
       "Ly4uuvR1++sfv51/P5sfnHm2/Iy+mBmwsaHJbpt+Q0jHSS7TZ/PSNVkNJ/973OxtemD1s91CPb12\n",
       "h9MfvZsk5meo1eqo5ORkxTNWn7HR1tY2l8PhOAsUiqIolCRJcETtv/61qzNySYK5trZ2TCgUUiwW\n",
       "S1FSUhLR+bA/kAzwXcAbHa/cFhrTXrJ/v+7IkSPu3Je4Xm5eboJv2wba5QbO5fQwxhsP679Y+nFO\n",
       "jgAAoKSkJILFYjnBGI1G0YYNGwYBnqRoiqIQlKKojurq6gUAAAKBgKQoiuGYkJWVpTCZTOKmI1Xd\n",
       "HwnDcm+cOnOMw+H0FxYWbqpvqv/r9EV+bky+O+/QoUPiqJRt9JphTLFHbKBCR87tWL9EPN9oNIZn\n",
       "ZWUpXHaMCQQCEgCgsrIyEgBuoGq1+qpOp4t2GPH5/BvFxcVLHXpgYGDD8ePH/56Xl2cCAMjMzOxP\n",
       "S0s7pWfow4RCbz/fAF9RT0+P9yeffHJySSqev+9nxLD1FaAlTR8vlJ8vxxzsFhUVLRMIBB0OvwaD\n",
       "YRlFUdfQkpISK0EQ9J6eHgYAQEZGxl2z2Rw0MjJCBwBITk5+xOVyfzpw4ECSw5lQKKQIbxtJm4EN\n",
       "8eZ7jPz0oNv+dK5FG/jq54eH+IFr/S1KabBy0UerAvI+++wzD4vFEpCWljYEACCTyVh2ux3FcXwS\n",
       "BQCw2WxVdXV1bzrQRURE1FVVVTn1zMzM/pkzZ35/9OjRd0pLS19RqVQIy4/tCwDgOcPTQvFQEQBA\n",
       "aWnpK0ERK2LbyVllN341GUJ4YDu8zD5bKyur7O+85tx9Z2fnO1ar9QjA04KkpaVFs2LFir8olcq7\n",
       "YWFhJpFINNnX16drbGyMjY6Ovg0AIBaLjcuXL5d3d3d7XbhwIW704b3F479MeD1qVfJ5Og/bvb4R\n",
       "LwaDMZabm9uwflNa/z/3HOIv5NsDEK7XS7FeevXPvYNLvm5S/GglCK5KpZorlUobXE8g5ObmMqVS\n",
       "6UG1Wu1BURSHoijOiRMnwgoLC7coFAqBo+9Fm0KhEKStmvvto3TeucFN7pVJYbytarXaQyqVHsRx\n",
       "3N15TF1BuBaljr4rV66wOzo63mAymXdzcnKuwwtIUVHRMqvVGkgQxMV7NXvyJijGvcNXB/7z5Zdf\n",
       "bicI4gSO40NTAgD4bVnuODIAT2pElUq1FEEQO4fD6QsPD++fqixHEATj8/ntjoCrqKhwS0hIsJWV\n",
       "leURBHEOx3G563pT3tn5+flBDAbjg6CgoMMpKSlK17GhoSFMJpMFPk04DJIkEQzDzCwW6+5UD5Oa\n",
       "mhrfO3fufECS5GHXnf8pAAAAHMfdURTdimGYPjExsTo0NHTyj2ynEplMxurs7HyHIAiKJMlSHMct\n",
       "U9k9N2vl5+cH0en0TRiGWX18fC65vnh+LxqNBq2oqFhgMpmi7XY7arVaj+zdu/fxn/l/4bSZl5fH\n",
       "5nK5CQAQMtXznCRJePpEbwOAZhzHX4ix/wHzzC/tu64gcwAAAABJRU5ErkJggg=='\n",
       "       style='height:15px; border-radius:12px; display: inline-block; float: left'></img>\n",
       "  \n",
       "\n",
       "\n",
       "</div>\n"
      ]
     },
     "metadata": {},
     "output_type": "display_data"
    }
   ],
   "source": [
    "import numpy as np\n",
    "import holoviews as hv\n",
    "from holoviews import opts\n",
    "\n",
    "hv.extension('matplotlib')"
   ]
  },
  {
   "cell_type": "markdown",
   "metadata": {},
   "source": [
    "A ``Box`` is an annotation that takes a center x-position, a center y-position and a size:"
   ]
  },
  {
   "cell_type": "code",
   "execution_count": 2,
   "metadata": {},
   "outputs": [
    {
     "data": {
      "text/html": [
       "<img src='data:image/png;base64,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' style='max-width:100%; margin: auto; display: block; '/>"
      ],
      "text/plain": [
       ":Overlay\n",
       "   .Image.I :Image   [x,y]   (z)\n",
       "   .Box.I   :Box   [x,y]\n",
       "   .Box.II  :Box   [x,y]"
      ]
     },
     "execution_count": 2,
     "metadata": {
      "application/vnd.holoviews_exec.v0+json": {}
     },
     "output_type": "execute_result"
    }
   ],
   "source": [
    "data = np.sin(np.mgrid[0:100,0:100][1]/10.0)\n",
    "data[np.arange(40, 60), np.arange(20, 40)] = -1\n",
    "data[np.arange(40, 50), np.arange(70, 80)] = -3    \n",
    "(hv.Image(data) * hv.Box(-0.2, 0, 0.25 ) * hv.Box(-0, 0, (0.4,0.9))).opts(\n",
    "    opts.Box(color='red', linewidth=5),\n",
    "    opts.Image(cmap='gray'))"
   ]
  },
  {
   "cell_type": "markdown",
   "metadata": {},
   "source": [
    "In addition to these arguments, it supports an optional ``aspect ratio``:\n",
    "\n",
    "By default, the size argument results in a square such as the small square shown above. Alternatively, the size can be given as the tuple ``(width, height)`` resulting in a rectangle. If you only supply a size value, you can still specify a rectangle by specifying an optional aspect value. In addition, you can also set the orientation (in radians, rotating anticlockwise):"
   ]
  },
  {
   "cell_type": "code",
   "execution_count": 3,
   "metadata": {},
   "outputs": [
    {
     "data": {
      "text/html": [
       "<img src='data:image/png;base64,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' style='max-width:100%; margin: auto; display: block; '/>"
      ],
      "text/plain": [
       ":Overlay\n",
       "   .Image.I :Image   [x,y]   (z)\n",
       "   .Box.I   :Box   [x,y]"
      ]
     },
     "execution_count": 3,
     "metadata": {
      "application/vnd.holoviews_exec.v0+json": {}
     },
     "output_type": "execute_result"
    }
   ],
   "source": [
    "data = np.sin(np.mgrid[0:100,0:100][1]/10.0)\n",
    "data[np.arange(30, 70), np.arange(30, 70)] = -3\n",
    "box = hv.Box(-0, 0, 0.25, aspect=3, orientation=-np.pi/4)\n",
    "\n",
    "(hv.Image(data) * box).opts(\n",
    "    opts.Box(color='purple', linewidth=5),\n",
    "    opts.Image(cmap='gray'))"
   ]
  },
  {
   "cell_type": "markdown",
   "metadata": {},
   "source": [
    "For full documentation and the available style and plot options, use ``hv.help(hv.Box).``"
   ]
  }
 ],
 "metadata": {
  "kernelspec": {
   "display_name": "dl",
   "language": "python",
   "name": "python3"
  },
  "language_info": {
   "codemirror_mode": {
    "name": "ipython",
    "version": 3
   },
   "file_extension": ".py",
   "mimetype": "text/x-python",
   "name": "python",
   "nbconvert_exporter": "python",
   "pygments_lexer": "ipython3",
   "version": "3.10.13"
  }
 },
 "nbformat": 4,
 "nbformat_minor": 2
}
