{
 "cells": [
  {
   "cell_type": "code",
   "execution_count": 1,
   "metadata": {},
   "outputs": [],
   "source": [
    "import warnings\n",
    "warnings.filterwarnings('ignore')"
   ]
  },
  {
   "cell_type": "code",
   "execution_count": 2,
   "metadata": {},
   "outputs": [
    {
     "data": {
      "text/html": [
       "<div>\n",
       "<style scoped>\n",
       "    .dataframe tbody tr th:only-of-type {\n",
       "        vertical-align: middle;\n",
       "    }\n",
       "\n",
       "    .dataframe tbody tr th {\n",
       "        vertical-align: top;\n",
       "    }\n",
       "\n",
       "    .dataframe thead th {\n",
       "        text-align: right;\n",
       "    }\n",
       "</style>\n",
       "<table border=\"1\" class=\"dataframe\">\n",
       "  <thead>\n",
       "    <tr style=\"text-align: right;\">\n",
       "      <th></th>\n",
       "      <th>score</th>\n",
       "      <th>gdp_per_capita</th>\n",
       "      <th>social_support</th>\n",
       "      <th>healthy_life_expectancy</th>\n",
       "      <th>freedom_to_make_life_choices</th>\n",
       "      <th>generosity</th>\n",
       "      <th>perceptions_of_corruption</th>\n",
       "    </tr>\n",
       "  </thead>\n",
       "  <tbody>\n",
       "    <tr>\n",
       "      <th>Afghanistan</th>\n",
       "      <td>3.203</td>\n",
       "      <td>0.350</td>\n",
       "      <td>0.517</td>\n",
       "      <td>0.361</td>\n",
       "      <td>0.000</td>\n",
       "      <td>0.158</td>\n",
       "      <td>0.025</td>\n",
       "    </tr>\n",
       "    <tr>\n",
       "      <th>Albania</th>\n",
       "      <td>4.719</td>\n",
       "      <td>0.947</td>\n",
       "      <td>0.848</td>\n",
       "      <td>0.874</td>\n",
       "      <td>0.383</td>\n",
       "      <td>0.178</td>\n",
       "      <td>0.027</td>\n",
       "    </tr>\n",
       "    <tr>\n",
       "      <th>Algeria</th>\n",
       "      <td>5.211</td>\n",
       "      <td>1.002</td>\n",
       "      <td>1.160</td>\n",
       "      <td>0.785</td>\n",
       "      <td>0.086</td>\n",
       "      <td>0.073</td>\n",
       "      <td>0.114</td>\n",
       "    </tr>\n",
       "    <tr>\n",
       "      <th>Argentina</th>\n",
       "      <td>6.086</td>\n",
       "      <td>1.092</td>\n",
       "      <td>1.432</td>\n",
       "      <td>0.881</td>\n",
       "      <td>0.471</td>\n",
       "      <td>0.066</td>\n",
       "      <td>0.050</td>\n",
       "    </tr>\n",
       "    <tr>\n",
       "      <th>Armenia</th>\n",
       "      <td>4.559</td>\n",
       "      <td>0.850</td>\n",
       "      <td>1.055</td>\n",
       "      <td>0.815</td>\n",
       "      <td>0.283</td>\n",
       "      <td>0.095</td>\n",
       "      <td>0.064</td>\n",
       "    </tr>\n",
       "  </tbody>\n",
       "</table>\n",
       "</div>"
      ],
      "text/plain": [
       "             score  gdp_per_capita  social_support  healthy_life_expectancy  \\\n",
       "Afghanistan  3.203           0.350           0.517                    0.361   \n",
       "Albania      4.719           0.947           0.848                    0.874   \n",
       "Algeria      5.211           1.002           1.160                    0.785   \n",
       "Argentina    6.086           1.092           1.432                    0.881   \n",
       "Armenia      4.559           0.850           1.055                    0.815   \n",
       "\n",
       "             freedom_to_make_life_choices  generosity  \\\n",
       "Afghanistan                         0.000       0.158   \n",
       "Albania                             0.383       0.178   \n",
       "Algeria                             0.086       0.073   \n",
       "Argentina                           0.471       0.066   \n",
       "Armenia                             0.283       0.095   \n",
       "\n",
       "             perceptions_of_corruption  \n",
       "Afghanistan                      0.025  \n",
       "Albania                          0.027  \n",
       "Algeria                          0.114  \n",
       "Argentina                        0.050  \n",
       "Armenia                          0.064  "
      ]
     },
     "execution_count": 2,
     "metadata": {},
     "output_type": "execute_result"
    }
   ],
   "source": [
    "import pandas as pd\n",
    "# pd.__version__ == 1.1.2\n",
    "data = pd.read_csv(\"./happiness.csv\", index_col=0)\n",
    "X, y = data.drop('score', axis=1), data.score\n",
    "n, p = X.shape\n",
    "data.head()"
   ]
  },
  {
   "cell_type": "code",
   "execution_count": 3,
   "metadata": {},
   "outputs": [
    {
     "name": "stderr",
     "output_type": "stream",
     "text": [
      "2023-10-17 13:54:03.993969: W tensorflow/tsl/platform/profile_utils/cpu_utils.cc:128] Failed to get CPU frequency: 0 Hz\n",
      "WARNING:absl:At this time, the v2.11+ optimizer `tf.keras.optimizers.Adam` runs slowly on M1/M2 Macs, please use the legacy Keras optimizer instead, located at `tf.keras.optimizers.legacy.Adam`.\n",
      "WARNING:absl:There is a known slowdown when using v2.11+ Keras optimizers on M1/M2 Macs. Falling back to the legacy Keras optimizer, i.e., `tf.keras.optimizers.legacy.Adam`.\n"
     ]
    },
    {
     "data": {
      "text/plain": [
       "<keras.callbacks.History at 0x29ca34370>"
      ]
     },
     "execution_count": 3,
     "metadata": {},
     "output_type": "execute_result"
    }
   ],
   "source": [
    "import tensorflow as tf\n",
    "# tf.__version__ == 2.3.0\n",
    "tf.random.set_seed(11)\n",
    "\n",
    "normalizer  = tf.keras.layers.experimental.preprocessing.Normalization(input_shape=[p,])\n",
    "normalizer.adapt(X.to_numpy())\n",
    "\n",
    "model = tf.keras.Sequential([\n",
    "    normalizer,\n",
    "    tf.keras.Input(shape=(p,)),\n",
    "    tf.keras.layers.Dense(p*2, activation='relu'),\n",
    "    tf.keras.layers.Dense(p*3, activation='relu'),\n",
    "    tf.keras.layers.Dense(p*2, activation='relu'),\n",
    "    tf.keras.layers.Dense(p, activation='relu'),\n",
    "    tf.keras.layers.Dense(1, activation='relu')\n",
    "])\n",
    "\n",
    "model.compile(\n",
    "    optimizer=tf.keras.optimizers.Adam(0.001),\n",
    "    loss=tf.keras.losses.mae\n",
    ")\n",
    "\n",
    "model.fit(X, y, batch_size=int(n/10), epochs=2000, verbose=False)"
   ]
  },
  {
   "cell_type": "code",
   "execution_count": 4,
   "metadata": {},
   "outputs": [
    {
     "data": {
      "text/plain": [
       "'1.4.0'"
      ]
     },
     "execution_count": 4,
     "metadata": {},
     "output_type": "execute_result"
    }
   ],
   "source": [
    "import dalex as dx \n",
    "dx.__version__\n"
   ]
  },
  {
   "cell_type": "code",
   "execution_count": 5,
   "metadata": {},
   "outputs": [
    {
     "name": "stdout",
     "output_type": "stream",
     "text": [
      "Preparation of a new explainer is initiated\n",
      "\n",
      "  -> data              : 156 rows 6 cols\n",
      "  -> target variable   : Parameter 'y' was a pandas.Series. Converted to a numpy.ndarray.\n",
      "  -> target variable   : 156 values\n",
      "  -> model_class       : keras.engine.sequential.Sequential (default)\n",
      "  -> label             : happiness\n",
      "  -> predict function  : <function yhat_tf_regression at 0x29cd10a60> will be used (default)\n",
      "1/1 [==============================] - 0s 41ms/step\n",
      "  -> predict function  : Accepts pandas.DataFrame and numpy.ndarray.\n",
      "5/5 [==============================] - 0s 426us/step\n",
      "  -> predicted values  : min = 2.86, mean = 5.42, max = 7.69\n",
      "  -> model type        : regression will be used (default)\n",
      "  -> residual function : difference between y and yhat (default)\n",
      "5/5 [==============================] - 0s 447us/step\n",
      "  -> residuals         : min = -1.08, mean = -0.0113, max = 0.542\n",
      "  -> model_info        : package keras\n",
      "\n",
      "A new explainer has been created!\n"
     ]
    }
   ],
   "source": [
    "explainer = dx.Explainer(model, X, y, label='happiness')"
   ]
  },
  {
   "cell_type": "code",
   "execution_count": 6,
   "metadata": {},
   "outputs": [
    {
     "data": {
      "text/html": [
       "<div>\n",
       "<style scoped>\n",
       "    .dataframe tbody tr th:only-of-type {\n",
       "        vertical-align: middle;\n",
       "    }\n",
       "\n",
       "    .dataframe tbody tr th {\n",
       "        vertical-align: top;\n",
       "    }\n",
       "\n",
       "    .dataframe thead th {\n",
       "        text-align: right;\n",
       "    }\n",
       "</style>\n",
       "<table border=\"1\" class=\"dataframe\">\n",
       "  <thead>\n",
       "    <tr style=\"text-align: right;\">\n",
       "      <th></th>\n",
       "      <th>mse</th>\n",
       "      <th>rmse</th>\n",
       "      <th>r2</th>\n",
       "      <th>mae</th>\n",
       "      <th>mad</th>\n",
       "    </tr>\n",
       "  </thead>\n",
       "  <tbody>\n",
       "    <tr>\n",
       "      <th>happiness</th>\n",
       "      <td>0.020065</td>\n",
       "      <td>0.141649</td>\n",
       "      <td>0.983702</td>\n",
       "      <td>0.059739</td>\n",
       "      <td>0.027377</td>\n",
       "    </tr>\n",
       "  </tbody>\n",
       "</table>\n",
       "</div>"
      ],
      "text/plain": [
       "<dalex.model_explanations._model_performance.object.ModelPerformance at 0x2a92fee20>"
      ]
     },
     "execution_count": 6,
     "metadata": {},
     "output_type": "execute_result"
    }
   ],
   "source": [
    "explainer.model_performance()"
   ]
  },
  {
   "cell_type": "code",
   "execution_count": 7,
   "metadata": {},
   "outputs": [
    {
     "name": "stdout",
     "output_type": "stream",
     "text": [
      "5/5 [==============================] - 0s 1ms/step\n",
      "5/5 [==============================] - 0s 575us/step\n",
      "5/5 [==============================] - 0s 532us/step\n",
      "5/5 [==============================] - 0s 561us/step\n",
      "5/5 [==============================] - 0s 567us/step\n",
      "5/5 [==============================] - 0s 524us/step\n",
      "5/5 [==============================] - 0s 474us/step\n",
      "5/5 [==============================] - 0s 547us/step\n",
      "5/5 [==============================] - 0s 564us/step\n",
      "5/5 [==============================] - 0s 504us/step\n",
      "5/5 [==============================] - 0s 481us/step\n",
      "5/5 [==============================] - 0s 513us/step\n",
      "5/5 [==============================] - 0s 486us/step\n",
      "5/5 [==============================] - 0s 524us/step\n",
      "5/5 [==============================] - 0s 531us/step\n",
      "5/5 [==============================] - 0s 469us/step\n",
      "5/5 [==============================] - 0s 497us/step\n",
      "5/5 [==============================] - 0s 422us/step\n",
      "5/5 [==============================] - 0s 455us/step\n",
      "5/5 [==============================] - 0s 477us/step\n",
      "5/5 [==============================] - 0s 423us/step\n",
      "5/5 [==============================] - 0s 546us/step\n",
      "5/5 [==============================] - 0s 473us/step\n",
      "5/5 [==============================] - 0s 733us/step\n",
      "5/5 [==============================] - 0s 437us/step\n",
      "5/5 [==============================] - 0s 436us/step\n",
      "5/5 [==============================] - 0s 535us/step\n",
      "5/5 [==============================] - 0s 468us/step\n",
      "5/5 [==============================] - 0s 432us/step\n",
      "5/5 [==============================] - 0s 556us/step\n",
      "5/5 [==============================] - 0s 487us/step\n",
      "5/5 [==============================] - 0s 473us/step\n",
      "5/5 [==============================] - 0s 477us/step\n",
      "5/5 [==============================] - 0s 444us/step\n",
      "5/5 [==============================] - 0s 413us/step\n",
      "5/5 [==============================] - 0s 414us/step\n",
      "5/5 [==============================] - 0s 469us/step\n",
      "5/5 [==============================] - 0s 479us/step\n",
      "5/5 [==============================] - 0s 401us/step\n",
      "5/5 [==============================] - 0s 490us/step\n",
      "5/5 [==============================] - 0s 430us/step\n",
      "5/5 [==============================] - 0s 410us/step\n",
      "5/5 [==============================] - 0s 469us/step\n",
      "5/5 [==============================] - 0s 439us/step\n",
      "5/5 [==============================] - 0s 417us/step\n",
      "5/5 [==============================] - 0s 408us/step\n",
      "5/5 [==============================] - 0s 395us/step\n",
      "5/5 [==============================] - 0s 447us/step\n",
      "5/5 [==============================] - 0s 409us/step\n",
      "5/5 [==============================] - 0s 408us/step\n",
      "5/5 [==============================] - 0s 483us/step\n",
      "5/5 [==============================] - 0s 418us/step\n",
      "5/5 [==============================] - 0s 408us/step\n",
      "5/5 [==============================] - 0s 435us/step\n",
      "5/5 [==============================] - 0s 460us/step\n",
      "5/5 [==============================] - 0s 486us/step\n",
      "5/5 [==============================] - 0s 436us/step\n",
      "5/5 [==============================] - 0s 893us/step\n",
      "5/5 [==============================] - 0s 513us/step\n",
      "5/5 [==============================] - 0s 438us/step\n",
      "5/5 [==============================] - 0s 450us/step\n",
      "5/5 [==============================] - 0s 443us/step\n",
      "5/5 [==============================] - 0s 462us/step\n",
      "5/5 [==============================] - 0s 477us/step\n",
      "5/5 [==============================] - 0s 451us/step\n",
      "5/5 [==============================] - 0s 449us/step\n",
      "5/5 [==============================] - 0s 426us/step\n",
      "5/5 [==============================] - 0s 399us/step\n",
      "5/5 [==============================] - 0s 442us/step\n",
      "5/5 [==============================] - 0s 423us/step\n",
      "5/5 [==============================] - 0s 454us/step\n",
      "5/5 [==============================] - 0s 492us/step\n",
      "5/5 [==============================] - 0s 455us/step\n",
      "5/5 [==============================] - 0s 406us/step\n",
      "5/5 [==============================] - 0s 454us/step\n",
      "5/5 [==============================] - 0s 485us/step\n",
      "5/5 [==============================] - 0s 484us/step\n",
      "5/5 [==============================] - 0s 481us/step\n",
      "5/5 [==============================] - 0s 471us/step\n",
      "5/5 [==============================] - 0s 426us/step\n"
     ]
    },
    {
     "data": {
      "application/vnd.plotly.v1+json": {
       "config": {
        "displaylogo": false,
        "modeBarButtonsToRemove": [
         "sendDataToCloud",
         "lasso2d",
         "autoScale2d",
         "select2d",
         "zoom2d",
         "pan2d",
         "zoomIn2d",
         "zoomOut2d",
         "resetScale2d",
         "toggleSpikelines",
         "hoverCompareCartesian",
         "hoverClosestCartesian"
        ],
        "plotlyServerURL": "https://plot.ly",
        "staticPlot": false,
        "toImageButtonOptions": {
         "height": null,
         "width": null
        }
       },
       "data": [
        {
         "base": 0.1416493894409418,
         "hoverinfo": "text",
         "hoverlabel": {
          "bgcolor": "rgba(0,0,0,0.8)"
         },
         "hovertext": [
          "Model: happiness loss after<br>variable: healthy_life_expectancy is permuted: 1.267<br>Drop-out loss change: +1.125",
          "Model: happiness loss after<br>variable: social_support is permuted: 1.176<br>Drop-out loss change: +1.034",
          "Model: happiness loss after<br>variable: gdp_per_capita is permuted: 0.998<br>Drop-out loss change: +0.856",
          "Model: happiness loss after<br>variable: perceptions_of_corruption is permuted: 0.733<br>Drop-out loss change: +0.591",
          "Model: happiness loss after<br>variable: freedom_to_make_life_choices is permuted: 0.696<br>Drop-out loss change: +0.555",
          "Model: happiness loss after<br>variable: generosity is permuted: 0.69<br>Drop-out loss change: +0.548"
         ],
         "marker": {
          "color": "#46bac2"
         },
         "orientation": "h",
         "showlegend": false,
         "text": [
          "+1.125",
          "+1.034",
          "+0.856",
          "+0.591",
          "+0.555",
          "+0.548"
         ],
         "textposition": "outside",
         "type": "bar",
         "x": [
          1.1249930413052487,
          1.0339767770613237,
          0.8558956811371743,
          0.5908666144784556,
          0.5546528043798893,
          0.548038925624647
         ],
         "xaxis": "x",
         "y": [
          "healthy_life_expectancy",
          "social_support",
          "gdp_per_capita",
          "perceptions_of_corruption",
          "freedom_to_make_life_choices",
          "generosity"
         ],
         "yaxis": "y"
        }
       ],
       "layout": {
        "annotations": [
         {
          "font": {
           "size": 16
          },
          "showarrow": false,
          "text": "happiness",
          "x": 0.5,
          "xanchor": "center",
          "xref": "paper",
          "y": 1,
          "yanchor": "bottom",
          "yref": "paper"
         },
         {
          "font": {
           "size": 16
          },
          "showarrow": false,
          "text": "drop-out loss",
          "x": 0.5,
          "xanchor": "center",
          "xref": "paper",
          "y": 0,
          "yanchor": "top",
          "yref": "paper",
          "yshift": -30
         }
        ],
        "font": {
         "color": "#371ea3"
        },
        "height": 303,
        "margin": {
         "b": 71,
         "r": 30,
         "t": 78
        },
        "shapes": [
         {
          "line": {
           "color": "#371ea3",
           "dash": "dot",
           "width": 1.5
          },
          "type": "line",
          "x0": 0.1416493894409418,
          "x1": 0.1416493894409418,
          "xref": "x",
          "y0": -1,
          "y1": 6,
          "yref": "y"
         }
        ],
        "template": {
         "data": {
          "scatter": [
           {
            "type": "scatter"
           }
          ]
         }
        },
        "title": {
         "text": "Variable Importance",
         "x": 0.15
        },
        "xaxis": {
         "anchor": "y",
         "automargin": true,
         "domain": [
          0,
          1
         ],
         "fixedrange": true,
         "gridwidth": 2,
         "range": [
          -0.02709956675484551,
          1.4353913869419779
         ],
         "tickcolor": "white",
         "ticklen": 3,
         "ticks": "outside",
         "type": "linear",
         "zeroline": false
        },
        "yaxis": {
         "anchor": "x",
         "automargin": true,
         "autorange": "reversed",
         "domain": [
          0,
          1
         ],
         "fixedrange": true,
         "gridwidth": 2,
         "tickcolor": "white",
         "ticklen": 10,
         "ticks": "outside",
         "type": "category"
        }
       }
      }
     },
     "metadata": {},
     "output_type": "display_data"
    },
    {
     "data": {
      "image/png": "[encoded data removed]",
      "text/plain": [
       "<Figure size 800x390 with 1 Axes>"
      ]
     },
     "metadata": {},
     "output_type": "display_data"
    }
   ],
   "source": [
    "\n",
    "explainer.model_parts().plot()\n",
    "explainer.model_parts(type='shap_wrapper').plot()"
   ]
  },
  {
   "cell_type": "code",
   "execution_count": 8,
   "metadata": {},
   "outputs": [
    {
     "name": "stderr",
     "output_type": "stream",
     "text": [
      "Calculating ceteris paribus:   0%|          | 0/6 [00:00<?, ?it/s]"
     ]
    },
    {
     "name": "stdout",
     "output_type": "stream",
     "text": [
      "493/493 [==============================] - 0s 238us/step\n"
     ]
    },
    {
     "name": "stderr",
     "output_type": "stream",
     "text": [
      "Calculating ceteris paribus:  17%|█▋        | 1/6 [00:00<00:01,  4.94it/s]"
     ]
    },
    {
     "name": "stdout",
     "output_type": "stream",
     "text": [
      "493/493 [==============================] - 0s 251us/step\n"
     ]
    },
    {
     "name": "stderr",
     "output_type": "stream",
     "text": [
      "Calculating ceteris paribus:  33%|███▎      | 2/6 [00:00<00:00,  5.29it/s]"
     ]
    },
    {
     "name": "stdout",
     "output_type": "stream",
     "text": [
      "493/493 [==============================] - 0s 230us/step\n"
     ]
    },
    {
     "name": "stderr",
     "output_type": "stream",
     "text": [
      "Calculating ceteris paribus:  50%|█████     | 3/6 [00:00<00:00,  5.56it/s]"
     ]
    },
    {
     "name": "stdout",
     "output_type": "stream",
     "text": [
      "493/493 [==============================] - 0s 219us/step\n"
     ]
    },
    {
     "name": "stderr",
     "output_type": "stream",
     "text": [
      "Calculating ceteris paribus:  67%|██████▋   | 4/6 [00:00<00:00,  5.79it/s]"
     ]
    },
    {
     "name": "stdout",
     "output_type": "stream",
     "text": [
      "493/493 [==============================] - 0s 224us/step\n"
     ]
    },
    {
     "name": "stderr",
     "output_type": "stream",
     "text": [
      "Calculating ceteris paribus:  83%|████████▎ | 5/6 [00:00<00:00,  5.88it/s]"
     ]
    },
    {
     "name": "stdout",
     "output_type": "stream",
     "text": [
      "493/493 [==============================] - 0s 220us/step\n"
     ]
    },
    {
     "name": "stderr",
     "output_type": "stream",
     "text": [
      "Calculating ceteris paribus: 100%|██████████| 6/6 [00:01<00:00,  5.76it/s]\n"
     ]
    },
    {
     "name": "stdout",
     "output_type": "stream",
     "text": [
      "5/5 [==============================] - 0s 449us/step\n"
     ]
    },
    {
     "data": {
      "application/vnd.plotly.v1+json": {
       "config": {
        "displaylogo": false,
        "modeBarButtonsToRemove": [
         "sendDataToCloud",
         "lasso2d",
         "autoScale2d",
         "select2d",
         "zoom2d",
         "pan2d",
         "zoomIn2d",
         "zoomOut2d",
         "resetScale2d",
         "toggleSpikelines",
         "hoverCompareCartesian",
         "hoverClosestCartesian"
        ],
        "plotlyServerURL": "https://plot.ly",
        "staticPlot": false,
        "toImageButtonOptions": {
         "height": null,
         "width": null
        }
       },
       "data": [
        {
         "customdata": [
          [
           5.418377876281738,
           "happiness",
           "social_support"
          ],
          [
           5.418377876281738,
           "happiness",
           "social_support"
          ],
          [
           5.418377876281738,
           "happiness",
           "social_support"
          ],
          [
           5.418377876281738,
           "happiness",
           "social_support"
          ],
          [
           5.418377876281738,
           "happiness",
           "social_support"
          ],
          [
           5.418377876281738,
           "happiness",
           "social_support"
          ],
          [
           5.418377876281738,
           "happiness",
           "social_support"
          ],
          [
           5.418377876281738,
           "happiness",
           "social_support"
          ],
          [
           5.418377876281738,
           "happiness",
           "social_support"
          ],
          [
           5.418377876281738,
           "happiness",
           "social_support"
          ],
          [
           5.418377876281738,
           "happiness",
           "social_support"
          ],
          [
           5.418377876281738,
           "happiness",
           "social_support"
          ],
          [
           5.418377876281738,
           "happiness",
           "social_support"
          ],
          [
           5.418377876281738,
           "happiness",
           "social_support"
          ],
          [
           5.418377876281738,
           "happiness",
           "social_support"
          ],
          [
           5.418377876281738,
           "happiness",
           "social_support"
          ],
          [
           5.418377876281738,
           "happiness",
           "social_support"
          ],
          [
           5.418377876281738,
           "happiness",
           "social_support"
          ],
          [
           5.418377876281738,
           "happiness",
           "social_support"
          ],
          [
           5.418377876281738,
           "happiness",
           "social_support"
          ],
          [
           5.418377876281738,
           "happiness",
           "social_support"
          ],
          [
           5.418377876281738,
           "happiness",
           "social_support"
          ],
          [
           5.418377876281738,
           "happiness",
           "social_support"
          ],
          [
           5.418377876281738,
           "happiness",
           "social_support"
          ],
          [
           5.418377876281738,
           "happiness",
           "social_support"
          ],
          [
           5.418377876281738,
           "happiness",
           "social_support"
          ],
          [
           5.418377876281738,
           "happiness",
           "social_support"
          ],
          [
           5.418377876281738,
           "happiness",
           "social_support"
          ],
          [
           5.418377876281738,
           "happiness",
           "social_support"
          ],
          [
           5.418377876281738,
           "happiness",
           "social_support"
          ],
          [
           5.418377876281738,
           "happiness",
           "social_support"
          ],
          [
           5.418377876281738,
           "happiness",
           "social_support"
          ],
          [
           5.418377876281738,
           "happiness",
           "social_support"
          ],
          [
           5.418377876281738,
           "happiness",
           "social_support"
          ],
          [
           5.418377876281738,
           "happiness",
           "social_support"
          ],
          [
           5.418377876281738,
           "happiness",
           "social_support"
          ],
          [
           5.418377876281738,
           "happiness",
           "social_support"
          ],
          [
           5.418377876281738,
           "happiness",
           "social_support"
          ],
          [
           5.418377876281738,
           "happiness",
           "social_support"
          ],
          [
           5.418377876281738,
           "happiness",
           "social_support"
          ],
          [
           5.418377876281738,
           "happiness",
           "social_support"
          ],
          [
           5.418377876281738,
           "happiness",
           "social_support"
          ],
          [
           5.418377876281738,
           "happiness",
           "social_support"
          ],
          [
           5.418377876281738,
           "happiness",
           "social_support"
          ],
          [
           5.418377876281738,
           "happiness",
           "social_support"
          ],
          [
           5.418377876281738,
           "happiness",
           "social_support"
          ],
          [
           5.418377876281738,
           "happiness",
           "social_support"
          ],
          [
           5.418377876281738,
           "happiness",
           "social_support"
          ],
          [
           5.418377876281738,
           "happiness",
           "social_support"
          ],
          [
           5.418377876281738,
           "happiness",
           "social_support"
          ],
          [
           5.418377876281738,
           "happiness",
           "social_support"
          ],
          [
           5.418377876281738,
           "happiness",
           "social_support"
          ],
          [
           5.418377876281738,
           "happiness",
           "social_support"
          ],
          [
           5.418377876281738,
           "happiness",
           "social_support"
          ],
          [
           5.418377876281738,
           "happiness",
           "social_support"
          ],
          [
           5.418377876281738,
           "happiness",
           "social_support"
          ],
          [
           5.418377876281738,
           "happiness",
           "social_support"
          ],
          [
           5.418377876281738,
           "happiness",
           "social_support"
          ],
          [
           5.418377876281738,
           "happiness",
           "social_support"
          ],
          [
           5.418377876281738,
           "happiness",
           "social_support"
          ],
          [
           5.418377876281738,
           "happiness",
           "social_support"
          ],
          [
           5.418377876281738,
           "happiness",
           "social_support"
          ],
          [
           5.418377876281738,
           "happiness",
           "social_support"
          ],
          [
           5.418377876281738,
           "happiness",
           "social_support"
          ],
          [
           5.418377876281738,
           "happiness",
           "social_support"
          ],
          [
           5.418377876281738,
           "happiness",
           "social_support"
          ],
          [
           5.418377876281738,
           "happiness",
           "social_support"
          ],
          [
           5.418377876281738,
           "happiness",
           "social_support"
          ],
          [
           5.418377876281738,
           "happiness",
           "social_support"
          ],
          [
           5.418377876281738,
           "happiness",
           "social_support"
          ],
          [
           5.418377876281738,
           "happiness",
           "social_support"
          ],
          [
           5.418377876281738,
           "happiness",
           "social_support"
          ],
          [
           5.418377876281738,
           "happiness",
           "social_support"
          ],
          [
           5.418377876281738,
           "happiness",
           "social_support"
          ],
          [
           5.418377876281738,
           "happiness",
           "social_support"
          ],
          [
           5.418377876281738,
           "happiness",
           "social_support"
          ],
          [
           5.418377876281738,
           "happiness",
           "social_support"
          ],
          [
           5.418377876281738,
           "happiness",
           "social_support"
          ],
          [
           5.418377876281738,
           "happiness",
           "social_support"
          ],
          [
           5.418377876281738,
           "happiness",
           "social_support"
          ],
          [
           5.418377876281738,
           "happiness",
           "social_support"
          ],
          [
           5.418377876281738,
           "happiness",
           "social_support"
          ],
          [
           5.418377876281738,
           "happiness",
           "social_support"
          ],
          [
           5.418377876281738,
           "happiness",
           "social_support"
          ],
          [
           5.418377876281738,
           "happiness",
           "social_support"
          ],
          [
           5.418377876281738,
           "happiness",
           "social_support"
          ],
          [
           5.418377876281738,
           "happiness",
           "social_support"
          ],
          [
           5.418377876281738,
           "happiness",
           "social_support"
          ],
          [
           5.418377876281738,
           "happiness",
           "social_support"
          ],
          [
           5.418377876281738,
           "happiness",
           "social_support"
          ],
          [
           5.418377876281738,
           "happiness",
           "social_support"
          ],
          [
           5.418377876281738,
           "happiness",
           "social_support"
          ],
          [
           5.418377876281738,
           "happiness",
           "social_support"
          ],
          [
           5.418377876281738,
           "happiness",
           "social_support"
          ],
          [
           5.418377876281738,
           "happiness",
           "social_support"
          ],
          [
           5.418377876281738,
           "happiness",
           "social_support"
          ],
          [
           5.418377876281738,
           "happiness",
           "social_support"
          ],
          [
           5.418377876281738,
           "happiness",
           "social_support"
          ],
          [
           5.418377876281738,
           "happiness",
           "social_support"
          ],
          [
           5.418377876281738,
           "happiness",
           "social_support"
          ],
          [
           5.418377876281738,
           "happiness",
           "social_support"
          ]
         ],
         "hovertemplate": "<b>%{hovertext}</b><br><br>prediction=%{y:.3f}<br>mean_prediction=%{customdata[0]:.3f}<extra></extra>",
         "hovertext": [
          "happiness",
          "happiness",
          "happiness",
          "happiness",
          "happiness",
          "happiness",
          "happiness",
          "happiness",
          "happiness",
          "happiness",
          "happiness",
          "happiness",
          "happiness",
          "happiness",
          "happiness",
          "happiness",
          "happiness",
          "happiness",
          "happiness",
          "happiness",
          "happiness",
          "happiness",
          "happiness",
          "happiness",
          "happiness",
          "happiness",
          "happiness",
          "happiness",
          "happiness",
          "happiness",
          "happiness",
          "happiness",
          "happiness",
          "happiness",
          "happiness",
          "happiness",
          "happiness",
          "happiness",
          "happiness",
          "happiness",
          "happiness",
          "happiness",
          "happiness",
          "happiness",
          "happiness",
          "happiness",
          "happiness",
          "happiness",
          "happiness",
          "happiness",
          "happiness",
          "happiness",
          "happiness",
          "happiness",
          "happiness",
          "happiness",
          "happiness",
          "happiness",
          "happiness",
          "happiness",
          "happiness",
          "happiness",
          "happiness",
          "happiness",
          "happiness",
          "happiness",
          "happiness",
          "happiness",
          "happiness",
          "happiness",
          "happiness",
          "happiness",
          "happiness",
          "happiness",
          "happiness",
          "happiness",
          "happiness",
          "happiness",
          "happiness",
          "happiness",
          "happiness",
          "happiness",
          "happiness",
          "happiness",
          "happiness",
          "happiness",
          "happiness",
          "happiness",
          "happiness",
          "happiness",
          "happiness",
          "happiness",
          "happiness",
          "happiness",
          "happiness",
          "happiness",
          "happiness",
          "happiness",
          "happiness",
          "happiness",
          "happiness"
         ],
         "legendgroup": "happiness",
         "line": {
          "color": "#46bac2",
          "dash": "solid",
          "width": 2
         },
         "marker": {
          "symbol": "circle"
         },
         "mode": "lines",
         "name": "happiness",
         "opacity": 1,
         "orientation": "v",
         "showlegend": true,
         "type": "scatter",
         "x": [
          0,
          0.01624,
          0.03248,
          0.04872,
          0.06496,
          0.08120000000000001,
          0.09744,
          0.11368,
          0.12992,
          0.14616,
          0.16240000000000002,
          0.17864000000000002,
          0.19488,
          0.21112,
          0.22736,
          0.2436,
          0.25984,
          0.27608,
          0.29232,
          0.30856,
          0.32480000000000003,
          0.34104,
          0.35728000000000004,
          0.37352,
          0.38976,
          0.406,
          0.42224,
          0.43848000000000004,
          0.45472,
          0.47096000000000005,
          0.4872,
          0.50344,
          0.51968,
          0.5359200000000001,
          0.55216,
          0.5684,
          0.58464,
          0.6008800000000001,
          0.61712,
          0.63336,
          0.6496000000000001,
          0.66584,
          0.68208,
          0.69832,
          0.7145600000000001,
          0.7308,
          0.74704,
          0.7632800000000001,
          0.77952,
          0.79576,
          0.812,
          0.8282400000000001,
          0.84448,
          0.86072,
          0.8769600000000001,
          0.8932000000000001,
          0.90944,
          0.9256800000000001,
          0.9419200000000001,
          0.95816,
          0.9744,
          0.9906400000000001,
          1.00688,
          1.02312,
          1.03936,
          1.0556,
          1.0718400000000001,
          1.0880800000000002,
          1.10432,
          1.12056,
          1.1368,
          1.15304,
          1.16928,
          1.1855200000000001,
          1.2017600000000002,
          1.218,
          1.23424,
          1.25048,
          1.26672,
          1.28296,
          1.2992000000000001,
          1.3154400000000002,
          1.33168,
          1.34792,
          1.36416,
          1.3804,
          1.39664,
          1.4128800000000001,
          1.4291200000000002,
          1.44536,
          1.4616,
          1.47784,
          1.49408,
          1.51032,
          1.5265600000000001,
          1.5428000000000002,
          1.55904,
          1.57528,
          1.59152,
          1.60776,
          1.624
         ],
         "xaxis": "x3",
         "y": [
          4.656993389129639,
          4.643265724182129,
          4.62984561920166,
          4.616488933563232,
          4.602206707000732,
          4.587705612182617,
          4.5743937492370605,
          4.562043190002441,
          4.550756931304932,
          4.541204929351807,
          4.531802654266357,
          4.522057056427002,
          4.51272439956665,
          4.504128932952881,
          4.496326446533203,
          4.489104270935059,
          4.481499195098877,
          4.47430944442749,
          4.468178749084473,
          4.462925910949707,
          4.459046363830566,
          4.455453395843506,
          4.451359272003174,
          4.447327613830566,
          4.444169044494629,
          4.442615032196045,
          4.442422389984131,
          4.441150188446045,
          4.439136028289795,
          4.436429023742676,
          4.432637691497803,
          4.427217960357666,
          4.4236297607421875,
          4.42046594619751,
          4.417832851409912,
          4.416451454162598,
          4.4144511222839355,
          4.41105842590332,
          4.40915060043335,
          4.408848285675049,
          4.409034252166748,
          4.411000728607178,
          4.413548946380615,
          4.417438507080078,
          4.422614574432373,
          4.429516315460205,
          4.439510822296143,
          4.451364517211914,
          4.465510368347168,
          4.480563640594482,
          4.495578289031982,
          4.5139384269714355,
          4.5355048179626465,
          4.559450149536133,
          4.584235668182373,
          4.61130952835083,
          4.640215873718262,
          4.671891212463379,
          4.706865310668945,
          4.742140769958496,
          4.780834197998047,
          4.82119083404541,
          4.862263202667236,
          4.903323650360107,
          4.9462666511535645,
          4.991334915161133,
          5.039605140686035,
          5.08922004699707,
          5.138075828552246,
          5.185116767883301,
          5.230498790740967,
          5.276677131652832,
          5.323718070983887,
          5.369578838348389,
          5.41680383682251,
          5.463574409484863,
          5.508768081665039,
          5.552340507507324,
          5.59598970413208,
          5.638670444488525,
          5.679163932800293,
          5.715664386749268,
          5.7473297119140625,
          5.7783355712890625,
          5.8050971031188965,
          5.830851078033447,
          5.8552350997924805,
          5.8750762939453125,
          5.89213752746582,
          5.908496379852295,
          5.923633098602295,
          5.93795919418335,
          5.949110984802246,
          5.958916664123535,
          5.967077732086182,
          5.9748921394348145,
          5.982833385467529,
          5.990761756896973,
          5.999290943145752,
          6.0077033042907715,
          6.017908573150635
         ],
         "yaxis": "y3"
        },
        {
         "customdata": [
          [
           5.418377876281738,
           "happiness",
           "healthy_life_expectancy"
          ],
          [
           5.418377876281738,
           "happiness",
           "healthy_life_expectancy"
          ],
          [
           5.418377876281738,
           "happiness",
           "healthy_life_expectancy"
          ],
          [
           5.418377876281738,
           "happiness",
           "healthy_life_expectancy"
          ],
          [
           5.418377876281738,
           "happiness",
           "healthy_life_expectancy"
          ],
          [
           5.418377876281738,
           "happiness",
           "healthy_life_expectancy"
          ],
          [
           5.418377876281738,
           "happiness",
           "healthy_life_expectancy"
          ],
          [
           5.418377876281738,
           "happiness",
           "healthy_life_expectancy"
          ],
          [
           5.418377876281738,
           "happiness",
           "healthy_life_expectancy"
          ],
          [
           5.418377876281738,
           "happiness",
           "healthy_life_expectancy"
          ],
          [
           5.418377876281738,
           "happiness",
           "healthy_life_expectancy"
          ],
          [
           5.418377876281738,
           "happiness",
           "healthy_life_expectancy"
          ],
          [
           5.418377876281738,
           "happiness",
           "healthy_life_expectancy"
          ],
          [
           5.418377876281738,
           "happiness",
           "healthy_life_expectancy"
          ],
          [
           5.418377876281738,
           "happiness",
           "healthy_life_expectancy"
          ],
          [
           5.418377876281738,
           "happiness",
           "healthy_life_expectancy"
          ],
          [
           5.418377876281738,
           "happiness",
           "healthy_life_expectancy"
          ],
          [
           5.418377876281738,
           "happiness",
           "healthy_life_expectancy"
          ],
          [
           5.418377876281738,
           "happiness",
           "healthy_life_expectancy"
          ],
          [
           5.418377876281738,
           "happiness",
           "healthy_life_expectancy"
          ],
          [
           5.418377876281738,
           "happiness",
           "healthy_life_expectancy"
          ],
          [
           5.418377876281738,
           "happiness",
           "healthy_life_expectancy"
          ],
          [
           5.418377876281738,
           "happiness",
           "healthy_life_expectancy"
          ],
          [
           5.418377876281738,
           "happiness",
           "healthy_life_expectancy"
          ],
          [
           5.418377876281738,
           "happiness",
           "healthy_life_expectancy"
          ],
          [
           5.418377876281738,
           "happiness",
           "healthy_life_expectancy"
          ],
          [
           5.418377876281738,
           "happiness",
           "healthy_life_expectancy"
          ],
          [
           5.418377876281738,
           "happiness",
           "healthy_life_expectancy"
          ],
          [
           5.418377876281738,
           "happiness",
           "healthy_life_expectancy"
          ],
          [
           5.418377876281738,
           "happiness",
           "healthy_life_expectancy"
          ],
          [
           5.418377876281738,
           "happiness",
           "healthy_life_expectancy"
          ],
          [
           5.418377876281738,
           "happiness",
           "healthy_life_expectancy"
          ],
          [
           5.418377876281738,
           "happiness",
           "healthy_life_expectancy"
          ],
          [
           5.418377876281738,
           "happiness",
           "healthy_life_expectancy"
          ],
          [
           5.418377876281738,
           "happiness",
           "healthy_life_expectancy"
          ],
          [
           5.418377876281738,
           "happiness",
           "healthy_life_expectancy"
          ],
          [
           5.418377876281738,
           "happiness",
           "healthy_life_expectancy"
          ],
          [
           5.418377876281738,
           "happiness",
           "healthy_life_expectancy"
          ],
          [
           5.418377876281738,
           "happiness",
           "healthy_life_expectancy"
          ],
          [
           5.418377876281738,
           "happiness",
           "healthy_life_expectancy"
          ],
          [
           5.418377876281738,
           "happiness",
           "healthy_life_expectancy"
          ],
          [
           5.418377876281738,
           "happiness",
           "healthy_life_expectancy"
          ],
          [
           5.418377876281738,
           "happiness",
           "healthy_life_expectancy"
          ],
          [
           5.418377876281738,
           "happiness",
           "healthy_life_expectancy"
          ],
          [
           5.418377876281738,
           "happiness",
           "healthy_life_expectancy"
          ],
          [
           5.418377876281738,
           "happiness",
           "healthy_life_expectancy"
          ],
          [
           5.418377876281738,
           "happiness",
           "healthy_life_expectancy"
          ],
          [
           5.418377876281738,
           "happiness",
           "healthy_life_expectancy"
          ],
          [
           5.418377876281738,
           "happiness",
           "healthy_life_expectancy"
          ],
          [
           5.418377876281738,
           "happiness",
           "healthy_life_expectancy"
          ],
          [
           5.418377876281738,
           "happiness",
           "healthy_life_expectancy"
          ],
          [
           5.418377876281738,
           "happiness",
           "healthy_life_expectancy"
          ],
          [
           5.418377876281738,
           "happiness",
           "healthy_life_expectancy"
          ],
          [
           5.418377876281738,
           "happiness",
           "healthy_life_expectancy"
          ],
          [
           5.418377876281738,
           "happiness",
           "healthy_life_expectancy"
          ],
          [
           5.418377876281738,
           "happiness",
           "healthy_life_expectancy"
          ],
          [
           5.418377876281738,
           "happiness",
           "healthy_life_expectancy"
          ],
          [
           5.418377876281738,
           "happiness",
           "healthy_life_expectancy"
          ],
          [
           5.418377876281738,
           "happiness",
           "healthy_life_expectancy"
          ],
          [
           5.418377876281738,
           "happiness",
           "healthy_life_expectancy"
          ],
          [
           5.418377876281738,
           "happiness",
           "healthy_life_expectancy"
          ],
          [
           5.418377876281738,
           "happiness",
           "healthy_life_expectancy"
          ],
          [
           5.418377876281738,
           "happiness",
           "healthy_life_expectancy"
          ],
          [
           5.418377876281738,
           "happiness",
           "healthy_life_expectancy"
          ],
          [
           5.418377876281738,
           "happiness",
           "healthy_life_expectancy"
          ],
          [
           5.418377876281738,
           "happiness",
           "healthy_life_expectancy"
          ],
          [
           5.418377876281738,
           "happiness",
           "healthy_life_expectancy"
          ],
          [
           5.418377876281738,
           "happiness",
           "healthy_life_expectancy"
          ],
          [
           5.418377876281738,
           "happiness",
           "healthy_life_expectancy"
          ],
          [
           5.418377876281738,
           "happiness",
           "healthy_life_expectancy"
          ],
          [
           5.418377876281738,
           "happiness",
           "healthy_life_expectancy"
          ],
          [
           5.418377876281738,
           "happiness",
           "healthy_life_expectancy"
          ],
          [
           5.418377876281738,
           "happiness",
           "healthy_life_expectancy"
          ],
          [
           5.418377876281738,
           "happiness",
           "healthy_life_expectancy"
          ],
          [
           5.418377876281738,
           "happiness",
           "healthy_life_expectancy"
          ],
          [
           5.418377876281738,
           "happiness",
           "healthy_life_expectancy"
          ],
          [
           5.418377876281738,
           "happiness",
           "healthy_life_expectancy"
          ],
          [
           5.418377876281738,
           "happiness",
           "healthy_life_expectancy"
          ],
          [
           5.418377876281738,
           "happiness",
           "healthy_life_expectancy"
          ],
          [
           5.418377876281738,
           "happiness",
           "healthy_life_expectancy"
          ],
          [
           5.418377876281738,
           "happiness",
           "healthy_life_expectancy"
          ],
          [
           5.418377876281738,
           "happiness",
           "healthy_life_expectancy"
          ],
          [
           5.418377876281738,
           "happiness",
           "healthy_life_expectancy"
          ],
          [
           5.418377876281738,
           "happiness",
           "healthy_life_expectancy"
          ],
          [
           5.418377876281738,
           "happiness",
           "healthy_life_expectancy"
          ],
          [
           5.418377876281738,
           "happiness",
           "healthy_life_expectancy"
          ],
          [
           5.418377876281738,
           "happiness",
           "healthy_life_expectancy"
          ],
          [
           5.418377876281738,
           "happiness",
           "healthy_life_expectancy"
          ],
          [
           5.418377876281738,
           "happiness",
           "healthy_life_expectancy"
          ],
          [
           5.418377876281738,
           "happiness",
           "healthy_life_expectancy"
          ],
          [
           5.418377876281738,
           "happiness",
           "healthy_life_expectancy"
          ],
          [
           5.418377876281738,
           "happiness",
           "healthy_life_expectancy"
          ],
          [
           5.418377876281738,
           "happiness",
           "healthy_life_expectancy"
          ],
          [
           5.418377876281738,
           "happiness",
           "healthy_life_expectancy"
          ],
          [
           5.418377876281738,
           "happiness",
           "healthy_life_expectancy"
          ],
          [
           5.418377876281738,
           "happiness",
           "healthy_life_expectancy"
          ],
          [
           5.418377876281738,
           "happiness",
           "healthy_life_expectancy"
          ],
          [
           5.418377876281738,
           "happiness",
           "healthy_life_expectancy"
          ],
          [
           5.418377876281738,
           "happiness",
           "healthy_life_expectancy"
          ],
          [
           5.418377876281738,
           "happiness",
           "healthy_life_expectancy"
          ],
          [
           5.418377876281738,
           "happiness",
           "healthy_life_expectancy"
          ]
         ],
         "hovertemplate": "<b>%{hovertext}</b><br><br>prediction=%{y:.3f}<br>mean_prediction=%{customdata[0]:.3f}<extra></extra>",
         "hovertext": [
          "happiness",
          "happiness",
          "happiness",
          "happiness",
          "happiness",
          "happiness",
          "happiness",
          "happiness",
          "happiness",
          "happiness",
          "happiness",
          "happiness",
          "happiness",
          "happiness",
          "happiness",
          "happiness",
          "happiness",
          "happiness",
          "happiness",
          "happiness",
          "happiness",
          "happiness",
          "happiness",
          "happiness",
          "happiness",
          "happiness",
          "happiness",
          "happiness",
          "happiness",
          "happiness",
          "happiness",
          "happiness",
          "happiness",
          "happiness",
          "happiness",
          "happiness",
          "happiness",
          "happiness",
          "happiness",
          "happiness",
          "happiness",
          "happiness",
          "happiness",
          "happiness",
          "happiness",
          "happiness",
          "happiness",
          "happiness",
          "happiness",
          "happiness",
          "happiness",
          "happiness",
          "happiness",
          "happiness",
          "happiness",
          "happiness",
          "happiness",
          "happiness",
          "happiness",
          "happiness",
          "happiness",
          "happiness",
          "happiness",
          "happiness",
          "happiness",
          "happiness",
          "happiness",
          "happiness",
          "happiness",
          "happiness",
          "happiness",
          "happiness",
          "happiness",
          "happiness",
          "happiness",
          "happiness",
          "happiness",
          "happiness",
          "happiness",
          "happiness",
          "happiness",
          "happiness",
          "happiness",
          "happiness",
          "happiness",
          "happiness",
          "happiness",
          "happiness",
          "happiness",
          "happiness",
          "happiness",
          "happiness",
          "happiness",
          "happiness",
          "happiness",
          "happiness",
          "happiness",
          "happiness",
          "happiness",
          "happiness",
          "happiness"
         ],
         "legendgroup": "happiness",
         "line": {
          "color": "#46bac2",
          "dash": "solid",
          "width": 2
         },
         "marker": {
          "symbol": "circle"
         },
         "mode": "lines",
         "name": "happiness",
         "opacity": 1,
         "orientation": "v",
         "showlegend": false,
         "type": "scatter",
         "x": [
          0,
          0.01141,
          0.02282,
          0.03423,
          0.04564,
          0.057050000000000003,
          0.06846,
          0.07987,
          0.09128,
          0.10269,
          0.11410000000000001,
          0.12551,
          0.13692,
          0.14833,
          0.15974,
          0.17115,
          0.18256,
          0.19397,
          0.20538,
          0.21679,
          0.22820000000000001,
          0.23961,
          0.25102,
          0.26243,
          0.27384,
          0.28525,
          0.29666,
          0.30807,
          0.31948,
          0.33089,
          0.3423,
          0.35371,
          0.36512,
          0.37653,
          0.38794,
          0.39935,
          0.41076,
          0.42217,
          0.43358,
          0.44499,
          0.45640000000000003,
          0.46781,
          0.47922,
          0.49063,
          0.50204,
          0.51345,
          0.52486,
          0.53627,
          0.54768,
          0.55909,
          0.5705,
          0.58191,
          0.59332,
          0.60473,
          0.61614,
          0.62755,
          0.63896,
          0.65037,
          0.66178,
          0.67319,
          0.6846,
          0.69601,
          0.70742,
          0.71883,
          0.73024,
          0.74165,
          0.75306,
          0.76447,
          0.77588,
          0.78729,
          0.7987,
          0.81011,
          0.82152,
          0.83293,
          0.84434,
          0.85575,
          0.86716,
          0.87857,
          0.88998,
          0.90139,
          0.9128000000000001,
          0.92421,
          0.93562,
          0.94703,
          0.95844,
          0.96985,
          0.98126,
          0.99267,
          1.00408,
          1.01549,
          1.0269,
          1.03831,
          1.04972,
          1.06113,
          1.07254,
          1.08395,
          1.09536,
          1.10677,
          1.11818,
          1.12959,
          1.141
         ],
         "xaxis": "x4",
         "y": [
          5.043144702911377,
          5.041004657745361,
          5.037622928619385,
          5.03258752822876,
          5.027077674865723,
          5.021149635314941,
          5.014922142028809,
          5.010054111480713,
          5.0052385330200195,
          4.999734878540039,
          4.995275974273682,
          4.992027282714844,
          4.987172603607178,
          4.980783939361572,
          4.973719596862793,
          4.967990398406982,
          4.962091445922852,
          4.954127788543701,
          4.947072982788086,
          4.940822124481201,
          4.934876441955566,
          4.928454875946045,
          4.922287464141846,
          4.917280673980713,
          4.91228723526001,
          4.907917022705078,
          4.905749797821045,
          4.906227111816406,
          4.909049034118652,
          4.913834571838379,
          4.919778347015381,
          4.926773548126221,
          4.937286853790283,
          4.950868606567383,
          4.9678544998168945,
          4.985389709472656,
          5.006412506103516,
          5.029179573059082,
          5.052809238433838,
          5.077152252197266,
          5.1007981300354,
          5.1263747215271,
          5.1527180671691895,
          5.1811370849609375,
          5.206136226654053,
          5.231614589691162,
          5.258490562438965,
          5.286240100860596,
          5.315875053405762,
          5.3448967933654785,
          5.371105194091797,
          5.396846771240234,
          5.422461032867432,
          5.449469566345215,
          5.474300861358643,
          5.497150897979736,
          5.518126010894775,
          5.539481163024902,
          5.558181285858154,
          5.576152324676514,
          5.5920820236206055,
          5.607955455780029,
          5.627165794372559,
          5.647627830505371,
          5.668385028839111,
          5.689272403717041,
          5.7123003005981445,
          5.737026691436768,
          5.764400005340576,
          5.794380187988281,
          5.824631214141846,
          5.854215621948242,
          5.884258270263672,
          5.914366722106934,
          5.946468830108643,
          5.980760097503662,
          6.0163397789001465,
          6.050252914428711,
          6.085968971252441,
          6.124711036682129,
          6.165049076080322,
          6.205271244049072,
          6.246278285980225,
          6.286409378051758,
          6.327569484710693,
          6.37039041519165,
          6.4116058349609375,
          6.451259613037109,
          6.489215850830078,
          6.528351783752441,
          6.569671630859375,
          6.61020040512085,
          6.650315284729004,
          6.689136981964111,
          6.725272178649902,
          6.75827169418335,
          6.788344383239746,
          6.817861080169678,
          6.847996711730957,
          6.879884243011475,
          6.912115573883057
         ],
         "yaxis": "y4"
        },
        {
         "customdata": [
          [
           5.418377876281738,
           "happiness",
           "gdp_per_capita"
          ],
          [
           5.418377876281738,
           "happiness",
           "gdp_per_capita"
          ],
          [
           5.418377876281738,
           "happiness",
           "gdp_per_capita"
          ],
          [
           5.418377876281738,
           "happiness",
           "gdp_per_capita"
          ],
          [
           5.418377876281738,
           "happiness",
           "gdp_per_capita"
          ],
          [
           5.418377876281738,
           "happiness",
           "gdp_per_capita"
          ],
          [
           5.418377876281738,
           "happiness",
           "gdp_per_capita"
          ],
          [
           5.418377876281738,
           "happiness",
           "gdp_per_capita"
          ],
          [
           5.418377876281738,
           "happiness",
           "gdp_per_capita"
          ],
          [
           5.418377876281738,
           "happiness",
           "gdp_per_capita"
          ],
          [
           5.418377876281738,
           "happiness",
           "gdp_per_capita"
          ],
          [
           5.418377876281738,
           "happiness",
           "gdp_per_capita"
          ],
          [
           5.418377876281738,
           "happiness",
           "gdp_per_capita"
          ],
          [
           5.418377876281738,
           "happiness",
           "gdp_per_capita"
          ],
          [
           5.418377876281738,
           "happiness",
           "gdp_per_capita"
          ],
          [
           5.418377876281738,
           "happiness",
           "gdp_per_capita"
          ],
          [
           5.418377876281738,
           "happiness",
           "gdp_per_capita"
          ],
          [
           5.418377876281738,
           "happiness",
           "gdp_per_capita"
          ],
          [
           5.418377876281738,
           "happiness",
           "gdp_per_capita"
          ],
          [
           5.418377876281738,
           "happiness",
           "gdp_per_capita"
          ],
          [
           5.418377876281738,
           "happiness",
           "gdp_per_capita"
          ],
          [
           5.418377876281738,
           "happiness",
           "gdp_per_capita"
          ],
          [
           5.418377876281738,
           "happiness",
           "gdp_per_capita"
          ],
          [
           5.418377876281738,
           "happiness",
           "gdp_per_capita"
          ],
          [
           5.418377876281738,
           "happiness",
           "gdp_per_capita"
          ],
          [
           5.418377876281738,
           "happiness",
           "gdp_per_capita"
          ],
          [
           5.418377876281738,
           "happiness",
           "gdp_per_capita"
          ],
          [
           5.418377876281738,
           "happiness",
           "gdp_per_capita"
          ],
          [
           5.418377876281738,
           "happiness",
           "gdp_per_capita"
          ],
          [
           5.418377876281738,
           "happiness",
           "gdp_per_capita"
          ],
          [
           5.418377876281738,
           "happiness",
           "gdp_per_capita"
          ],
          [
           5.418377876281738,
           "happiness",
           "gdp_per_capita"
          ],
          [
           5.418377876281738,
           "happiness",
           "gdp_per_capita"
          ],
          [
           5.418377876281738,
           "happiness",
           "gdp_per_capita"
          ],
          [
           5.418377876281738,
           "happiness",
           "gdp_per_capita"
          ],
          [
           5.418377876281738,
           "happiness",
           "gdp_per_capita"
          ],
          [
           5.418377876281738,
           "happiness",
           "gdp_per_capita"
          ],
          [
           5.418377876281738,
           "happiness",
           "gdp_per_capita"
          ],
          [
           5.418377876281738,
           "happiness",
           "gdp_per_capita"
          ],
          [
           5.418377876281738,
           "happiness",
           "gdp_per_capita"
          ],
          [
           5.418377876281738,
           "happiness",
           "gdp_per_capita"
          ],
          [
           5.418377876281738,
           "happiness",
           "gdp_per_capita"
          ],
          [
           5.418377876281738,
           "happiness",
           "gdp_per_capita"
          ],
          [
           5.418377876281738,
           "happiness",
           "gdp_per_capita"
          ],
          [
           5.418377876281738,
           "happiness",
           "gdp_per_capita"
          ],
          [
           5.418377876281738,
           "happiness",
           "gdp_per_capita"
          ],
          [
           5.418377876281738,
           "happiness",
           "gdp_per_capita"
          ],
          [
           5.418377876281738,
           "happiness",
           "gdp_per_capita"
          ],
          [
           5.418377876281738,
           "happiness",
           "gdp_per_capita"
          ],
          [
           5.418377876281738,
           "happiness",
           "gdp_per_capita"
          ],
          [
           5.418377876281738,
           "happiness",
           "gdp_per_capita"
          ],
          [
           5.418377876281738,
           "happiness",
           "gdp_per_capita"
          ],
          [
           5.418377876281738,
           "happiness",
           "gdp_per_capita"
          ],
          [
           5.418377876281738,
           "happiness",
           "gdp_per_capita"
          ],
          [
           5.418377876281738,
           "happiness",
           "gdp_per_capita"
          ],
          [
           5.418377876281738,
           "happiness",
           "gdp_per_capita"
          ],
          [
           5.418377876281738,
           "happiness",
           "gdp_per_capita"
          ],
          [
           5.418377876281738,
           "happiness",
           "gdp_per_capita"
          ],
          [
           5.418377876281738,
           "happiness",
           "gdp_per_capita"
          ],
          [
           5.418377876281738,
           "happiness",
           "gdp_per_capita"
          ],
          [
           5.418377876281738,
           "happiness",
           "gdp_per_capita"
          ],
          [
           5.418377876281738,
           "happiness",
           "gdp_per_capita"
          ],
          [
           5.418377876281738,
           "happiness",
           "gdp_per_capita"
          ],
          [
           5.418377876281738,
           "happiness",
           "gdp_per_capita"
          ],
          [
           5.418377876281738,
           "happiness",
           "gdp_per_capita"
          ],
          [
           5.418377876281738,
           "happiness",
           "gdp_per_capita"
          ],
          [
           5.418377876281738,
           "happiness",
           "gdp_per_capita"
          ],
          [
           5.418377876281738,
           "happiness",
           "gdp_per_capita"
          ],
          [
           5.418377876281738,
           "happiness",
           "gdp_per_capita"
          ],
          [
           5.418377876281738,
           "happiness",
           "gdp_per_capita"
          ],
          [
           5.418377876281738,
           "happiness",
           "gdp_per_capita"
          ],
          [
           5.418377876281738,
           "happiness",
           "gdp_per_capita"
          ],
          [
           5.418377876281738,
           "happiness",
           "gdp_per_capita"
          ],
          [
           5.418377876281738,
           "happiness",
           "gdp_per_capita"
          ],
          [
           5.418377876281738,
           "happiness",
           "gdp_per_capita"
          ],
          [
           5.418377876281738,
           "happiness",
           "gdp_per_capita"
          ],
          [
           5.418377876281738,
           "happiness",
           "gdp_per_capita"
          ],
          [
           5.418377876281738,
           "happiness",
           "gdp_per_capita"
          ],
          [
           5.418377876281738,
           "happiness",
           "gdp_per_capita"
          ],
          [
           5.418377876281738,
           "happiness",
           "gdp_per_capita"
          ],
          [
           5.418377876281738,
           "happiness",
           "gdp_per_capita"
          ],
          [
           5.418377876281738,
           "happiness",
           "gdp_per_capita"
          ],
          [
           5.418377876281738,
           "happiness",
           "gdp_per_capita"
          ],
          [
           5.418377876281738,
           "happiness",
           "gdp_per_capita"
          ],
          [
           5.418377876281738,
           "happiness",
           "gdp_per_capita"
          ],
          [
           5.418377876281738,
           "happiness",
           "gdp_per_capita"
          ],
          [
           5.418377876281738,
           "happiness",
           "gdp_per_capita"
          ],
          [
           5.418377876281738,
           "happiness",
           "gdp_per_capita"
          ],
          [
           5.418377876281738,
           "happiness",
           "gdp_per_capita"
          ],
          [
           5.418377876281738,
           "happiness",
           "gdp_per_capita"
          ],
          [
           5.418377876281738,
           "happiness",
           "gdp_per_capita"
          ],
          [
           5.418377876281738,
           "happiness",
           "gdp_per_capita"
          ],
          [
           5.418377876281738,
           "happiness",
           "gdp_per_capita"
          ],
          [
           5.418377876281738,
           "happiness",
           "gdp_per_capita"
          ],
          [
           5.418377876281738,
           "happiness",
           "gdp_per_capita"
          ],
          [
           5.418377876281738,
           "happiness",
           "gdp_per_capita"
          ],
          [
           5.418377876281738,
           "happiness",
           "gdp_per_capita"
          ],
          [
           5.418377876281738,
           "happiness",
           "gdp_per_capita"
          ],
          [
           5.418377876281738,
           "happiness",
           "gdp_per_capita"
          ],
          [
           5.418377876281738,
           "happiness",
           "gdp_per_capita"
          ],
          [
           5.418377876281738,
           "happiness",
           "gdp_per_capita"
          ]
         ],
         "hovertemplate": "<b>%{hovertext}</b><br><br>prediction=%{y:.3f}<br>mean_prediction=%{customdata[0]:.3f}<extra></extra>",
         "hovertext": [
          "happiness",
          "happiness",
          "happiness",
          "happiness",
          "happiness",
          "happiness",
          "happiness",
          "happiness",
          "happiness",
          "happiness",
          "happiness",
          "happiness",
          "happiness",
          "happiness",
          "happiness",
          "happiness",
          "happiness",
          "happiness",
          "happiness",
          "happiness",
          "happiness",
          "happiness",
          "happiness",
          "happiness",
          "happiness",
          "happiness",
          "happiness",
          "happiness",
          "happiness",
          "happiness",
          "happiness",
          "happiness",
          "happiness",
          "happiness",
          "happiness",
          "happiness",
          "happiness",
          "happiness",
          "happiness",
          "happiness",
          "happiness",
          "happiness",
          "happiness",
          "happiness",
          "happiness",
          "happiness",
          "happiness",
          "happiness",
          "happiness",
          "happiness",
          "happiness",
          "happiness",
          "happiness",
          "happiness",
          "happiness",
          "happiness",
          "happiness",
          "happiness",
          "happiness",
          "happiness",
          "happiness",
          "happiness",
          "happiness",
          "happiness",
          "happiness",
          "happiness",
          "happiness",
          "happiness",
          "happiness",
          "happiness",
          "happiness",
          "happiness",
          "happiness",
          "happiness",
          "happiness",
          "happiness",
          "happiness",
          "happiness",
          "happiness",
          "happiness",
          "happiness",
          "happiness",
          "happiness",
          "happiness",
          "happiness",
          "happiness",
          "happiness",
          "happiness",
          "happiness",
          "happiness",
          "happiness",
          "happiness",
          "happiness",
          "happiness",
          "happiness",
          "happiness",
          "happiness",
          "happiness",
          "happiness",
          "happiness",
          "happiness"
         ],
         "legendgroup": "happiness",
         "line": {
          "color": "#46bac2",
          "dash": "solid",
          "width": 2
         },
         "marker": {
          "symbol": "circle"
         },
         "mode": "lines",
         "name": "happiness",
         "opacity": 1,
         "orientation": "v",
         "showlegend": false,
         "type": "scatter",
         "x": [
          0,
          0.01684,
          0.03368,
          0.05052,
          0.06736,
          0.0842,
          0.10104,
          0.11788000000000001,
          0.13472,
          0.15156,
          0.1684,
          0.18524000000000002,
          0.20208,
          0.21892,
          0.23576000000000003,
          0.2526,
          0.26944,
          0.28628000000000003,
          0.30312,
          0.31996,
          0.3368,
          0.35364,
          0.37048000000000003,
          0.38732,
          0.40416,
          0.42100000000000004,
          0.43784,
          0.45468000000000003,
          0.47152000000000005,
          0.48836,
          0.5052,
          0.5220400000000001,
          0.53888,
          0.55572,
          0.5725600000000001,
          0.5894,
          0.60624,
          0.6230800000000001,
          0.63992,
          0.65676,
          0.6736,
          0.69044,
          0.70728,
          0.72412,
          0.7409600000000001,
          0.7578,
          0.77464,
          0.7914800000000001,
          0.80832,
          0.82516,
          0.8420000000000001,
          0.85884,
          0.87568,
          0.8925200000000001,
          0.9093600000000001,
          0.9262,
          0.9430400000000001,
          0.9598800000000001,
          0.97672,
          0.99356,
          1.0104,
          1.0272400000000002,
          1.0440800000000001,
          1.06092,
          1.07776,
          1.0946,
          1.11144,
          1.12828,
          1.1451200000000001,
          1.16196,
          1.1788,
          1.19564,
          1.21248,
          1.22932,
          1.2461600000000002,
          1.2630000000000001,
          1.27984,
          1.29668,
          1.31352,
          1.33036,
          1.3472,
          1.3640400000000001,
          1.38088,
          1.39772,
          1.41456,
          1.4314,
          1.44824,
          1.4650800000000002,
          1.4819200000000001,
          1.49876,
          1.5156,
          1.53244,
          1.54928,
          1.5661200000000002,
          1.5829600000000001,
          1.5998,
          1.61664,
          1.63348,
          1.65032,
          1.66716,
          1.684
         ],
         "xaxis": "x",
         "y": [
          6.2317914962768555,
          6.198686599731445,
          6.1655354499816895,
          6.13318395614624,
          6.101609230041504,
          6.069821357727051,
          6.039085865020752,
          6.0078229904174805,
          5.977718830108643,
          5.9471435546875,
          5.916797637939453,
          5.88701868057251,
          5.8567376136779785,
          5.824883937835693,
          5.793262958526611,
          5.762543678283691,
          5.734177589416504,
          5.708622932434082,
          5.683674335479736,
          5.657663345336914,
          5.631067276000977,
          5.606575012207031,
          5.5820183753967285,
          5.558279037475586,
          5.535597801208496,
          5.514013290405273,
          5.49175500869751,
          5.4698991775512695,
          5.446727275848389,
          5.422465801239014,
          5.3987603187561035,
          5.37836217880249,
          5.362091541290283,
          5.346872329711914,
          5.334621906280518,
          5.322722434997559,
          5.312826156616211,
          5.3042311668396,
          5.298863410949707,
          5.295215606689453,
          5.2915143966674805,
          5.28739595413208,
          5.28590726852417,
          5.28579044342041,
          5.286592483520508,
          5.2889299392700195,
          5.29160737991333,
          5.296484470367432,
          5.304068565368652,
          5.313736438751221,
          5.3233466148376465,
          5.336381435394287,
          5.351140975952148,
          5.367513656616211,
          5.384428977966309,
          5.402798175811768,
          5.423759460449219,
          5.442413806915283,
          5.460980415344238,
          5.477585792541504,
          5.493847846984863,
          5.513317108154297,
          5.534695148468018,
          5.557549476623535,
          5.579264163970947,
          5.60092830657959,
          5.6258673667907715,
          5.652142524719238,
          5.675181865692139,
          5.6981892585754395,
          5.721504211425781,
          5.743130207061768,
          5.765427589416504,
          5.786514759063721,
          5.807212829589844,
          5.825655460357666,
          5.843249797821045,
          5.857585906982422,
          5.870545387268066,
          5.881165504455566,
          5.89151668548584,
          5.903553009033203,
          5.917259693145752,
          5.930948734283447,
          5.945649147033691,
          5.959315299987793,
          5.972856521606445,
          5.9855241775512695,
          5.998692989349365,
          6.01256799697876,
          6.027120590209961,
          6.043340682983398,
          6.058682918548584,
          6.072909832000732,
          6.088404178619385,
          6.104496955871582,
          6.120885848999023,
          6.136763095855713,
          6.153168678283691,
          6.170352458953857,
          6.187445163726807
         ],
         "yaxis": "y"
        },
        {
         "customdata": [
          [
           5.418377876281738,
           "happiness",
           "freedom_to_make_life_choices"
          ],
          [
           5.418377876281738,
           "happiness",
           "freedom_to_make_life_choices"
          ],
          [
           5.418377876281738,
           "happiness",
           "freedom_to_make_life_choices"
          ],
          [
           5.418377876281738,
           "happiness",
           "freedom_to_make_life_choices"
          ],
          [
           5.418377876281738,
           "happiness",
           "freedom_to_make_life_choices"
          ],
          [
           5.418377876281738,
           "happiness",
           "freedom_to_make_life_choices"
          ],
          [
           5.418377876281738,
           "happiness",
           "freedom_to_make_life_choices"
          ],
          [
           5.418377876281738,
           "happiness",
           "freedom_to_make_life_choices"
          ],
          [
           5.418377876281738,
           "happiness",
           "freedom_to_make_life_choices"
          ],
          [
           5.418377876281738,
           "happiness",
           "freedom_to_make_life_choices"
          ],
          [
           5.418377876281738,
           "happiness",
           "freedom_to_make_life_choices"
          ],
          [
           5.418377876281738,
           "happiness",
           "freedom_to_make_life_choices"
          ],
          [
           5.418377876281738,
           "happiness",
           "freedom_to_make_life_choices"
          ],
          [
           5.418377876281738,
           "happiness",
           "freedom_to_make_life_choices"
          ],
          [
           5.418377876281738,
           "happiness",
           "freedom_to_make_life_choices"
          ],
          [
           5.418377876281738,
           "happiness",
           "freedom_to_make_life_choices"
          ],
          [
           5.418377876281738,
           "happiness",
           "freedom_to_make_life_choices"
          ],
          [
           5.418377876281738,
           "happiness",
           "freedom_to_make_life_choices"
          ],
          [
           5.418377876281738,
           "happiness",
           "freedom_to_make_life_choices"
          ],
          [
           5.418377876281738,
           "happiness",
           "freedom_to_make_life_choices"
          ],
          [
           5.418377876281738,
           "happiness",
           "freedom_to_make_life_choices"
          ],
          [
           5.418377876281738,
           "happiness",
           "freedom_to_make_life_choices"
          ],
          [
           5.418377876281738,
           "happiness",
           "freedom_to_make_life_choices"
          ],
          [
           5.418377876281738,
           "happiness",
           "freedom_to_make_life_choices"
          ],
          [
           5.418377876281738,
           "happiness",
           "freedom_to_make_life_choices"
          ],
          [
           5.418377876281738,
           "happiness",
           "freedom_to_make_life_choices"
          ],
          [
           5.418377876281738,
           "happiness",
           "freedom_to_make_life_choices"
          ],
          [
           5.418377876281738,
           "happiness",
           "freedom_to_make_life_choices"
          ],
          [
           5.418377876281738,
           "happiness",
           "freedom_to_make_life_choices"
          ],
          [
           5.418377876281738,
           "happiness",
           "freedom_to_make_life_choices"
          ],
          [
           5.418377876281738,
           "happiness",
           "freedom_to_make_life_choices"
          ],
          [
           5.418377876281738,
           "happiness",
           "freedom_to_make_life_choices"
          ],
          [
           5.418377876281738,
           "happiness",
           "freedom_to_make_life_choices"
          ],
          [
           5.418377876281738,
           "happiness",
           "freedom_to_make_life_choices"
          ],
          [
           5.418377876281738,
           "happiness",
           "freedom_to_make_life_choices"
          ],
          [
           5.418377876281738,
           "happiness",
           "freedom_to_make_life_choices"
          ],
          [
           5.418377876281738,
           "happiness",
           "freedom_to_make_life_choices"
          ],
          [
           5.418377876281738,
           "happiness",
           "freedom_to_make_life_choices"
          ],
          [
           5.418377876281738,
           "happiness",
           "freedom_to_make_life_choices"
          ],
          [
           5.418377876281738,
           "happiness",
           "freedom_to_make_life_choices"
          ],
          [
           5.418377876281738,
           "happiness",
           "freedom_to_make_life_choices"
          ],
          [
           5.418377876281738,
           "happiness",
           "freedom_to_make_life_choices"
          ],
          [
           5.418377876281738,
           "happiness",
           "freedom_to_make_life_choices"
          ],
          [
           5.418377876281738,
           "happiness",
           "freedom_to_make_life_choices"
          ],
          [
           5.418377876281738,
           "happiness",
           "freedom_to_make_life_choices"
          ],
          [
           5.418377876281738,
           "happiness",
           "freedom_to_make_life_choices"
          ],
          [
           5.418377876281738,
           "happiness",
           "freedom_to_make_life_choices"
          ],
          [
           5.418377876281738,
           "happiness",
           "freedom_to_make_life_choices"
          ],
          [
           5.418377876281738,
           "happiness",
           "freedom_to_make_life_choices"
          ],
          [
           5.418377876281738,
           "happiness",
           "freedom_to_make_life_choices"
          ],
          [
           5.418377876281738,
           "happiness",
           "freedom_to_make_life_choices"
          ],
          [
           5.418377876281738,
           "happiness",
           "freedom_to_make_life_choices"
          ],
          [
           5.418377876281738,
           "happiness",
           "freedom_to_make_life_choices"
          ],
          [
           5.418377876281738,
           "happiness",
           "freedom_to_make_life_choices"
          ],
          [
           5.418377876281738,
           "happiness",
           "freedom_to_make_life_choices"
          ],
          [
           5.418377876281738,
           "happiness",
           "freedom_to_make_life_choices"
          ],
          [
           5.418377876281738,
           "happiness",
           "freedom_to_make_life_choices"
          ],
          [
           5.418377876281738,
           "happiness",
           "freedom_to_make_life_choices"
          ],
          [
           5.418377876281738,
           "happiness",
           "freedom_to_make_life_choices"
          ],
          [
           5.418377876281738,
           "happiness",
           "freedom_to_make_life_choices"
          ],
          [
           5.418377876281738,
           "happiness",
           "freedom_to_make_life_choices"
          ],
          [
           5.418377876281738,
           "happiness",
           "freedom_to_make_life_choices"
          ],
          [
           5.418377876281738,
           "happiness",
           "freedom_to_make_life_choices"
          ],
          [
           5.418377876281738,
           "happiness",
           "freedom_to_make_life_choices"
          ],
          [
           5.418377876281738,
           "happiness",
           "freedom_to_make_life_choices"
          ],
          [
           5.418377876281738,
           "happiness",
           "freedom_to_make_life_choices"
          ],
          [
           5.418377876281738,
           "happiness",
           "freedom_to_make_life_choices"
          ],
          [
           5.418377876281738,
           "happiness",
           "freedom_to_make_life_choices"
          ],
          [
           5.418377876281738,
           "happiness",
           "freedom_to_make_life_choices"
          ],
          [
           5.418377876281738,
           "happiness",
           "freedom_to_make_life_choices"
          ],
          [
           5.418377876281738,
           "happiness",
           "freedom_to_make_life_choices"
          ],
          [
           5.418377876281738,
           "happiness",
           "freedom_to_make_life_choices"
          ],
          [
           5.418377876281738,
           "happiness",
           "freedom_to_make_life_choices"
          ],
          [
           5.418377876281738,
           "happiness",
           "freedom_to_make_life_choices"
          ],
          [
           5.418377876281738,
           "happiness",
           "freedom_to_make_life_choices"
          ],
          [
           5.418377876281738,
           "happiness",
           "freedom_to_make_life_choices"
          ],
          [
           5.418377876281738,
           "happiness",
           "freedom_to_make_life_choices"
          ],
          [
           5.418377876281738,
           "happiness",
           "freedom_to_make_life_choices"
          ],
          [
           5.418377876281738,
           "happiness",
           "freedom_to_make_life_choices"
          ],
          [
           5.418377876281738,
           "happiness",
           "freedom_to_make_life_choices"
          ],
          [
           5.418377876281738,
           "happiness",
           "freedom_to_make_life_choices"
          ],
          [
           5.418377876281738,
           "happiness",
           "freedom_to_make_life_choices"
          ],
          [
           5.418377876281738,
           "happiness",
           "freedom_to_make_life_choices"
          ],
          [
           5.418377876281738,
           "happiness",
           "freedom_to_make_life_choices"
          ],
          [
           5.418377876281738,
           "happiness",
           "freedom_to_make_life_choices"
          ],
          [
           5.418377876281738,
           "happiness",
           "freedom_to_make_life_choices"
          ],
          [
           5.418377876281738,
           "happiness",
           "freedom_to_make_life_choices"
          ],
          [
           5.418377876281738,
           "happiness",
           "freedom_to_make_life_choices"
          ],
          [
           5.418377876281738,
           "happiness",
           "freedom_to_make_life_choices"
          ],
          [
           5.418377876281738,
           "happiness",
           "freedom_to_make_life_choices"
          ],
          [
           5.418377876281738,
           "happiness",
           "freedom_to_make_life_choices"
          ],
          [
           5.418377876281738,
           "happiness",
           "freedom_to_make_life_choices"
          ],
          [
           5.418377876281738,
           "happiness",
           "freedom_to_make_life_choices"
          ],
          [
           5.418377876281738,
           "happiness",
           "freedom_to_make_life_choices"
          ],
          [
           5.418377876281738,
           "happiness",
           "freedom_to_make_life_choices"
          ],
          [
           5.418377876281738,
           "happiness",
           "freedom_to_make_life_choices"
          ],
          [
           5.418377876281738,
           "happiness",
           "freedom_to_make_life_choices"
          ],
          [
           5.418377876281738,
           "happiness",
           "freedom_to_make_life_choices"
          ],
          [
           5.418377876281738,
           "happiness",
           "freedom_to_make_life_choices"
          ],
          [
           5.418377876281738,
           "happiness",
           "freedom_to_make_life_choices"
          ],
          [
           5.418377876281738,
           "happiness",
           "freedom_to_make_life_choices"
          ]
         ],
         "hovertemplate": "<b>%{hovertext}</b><br><br>prediction=%{y:.3f}<br>mean_prediction=%{customdata[0]:.3f}<extra></extra>",
         "hovertext": [
          "happiness",
          "happiness",
          "happiness",
          "happiness",
          "happiness",
          "happiness",
          "happiness",
          "happiness",
          "happiness",
          "happiness",
          "happiness",
          "happiness",
          "happiness",
          "happiness",
          "happiness",
          "happiness",
          "happiness",
          "happiness",
          "happiness",
          "happiness",
          "happiness",
          "happiness",
          "happiness",
          "happiness",
          "happiness",
          "happiness",
          "happiness",
          "happiness",
          "happiness",
          "happiness",
          "happiness",
          "happiness",
          "happiness",
          "happiness",
          "happiness",
          "happiness",
          "happiness",
          "happiness",
          "happiness",
          "happiness",
          "happiness",
          "happiness",
          "happiness",
          "happiness",
          "happiness",
          "happiness",
          "happiness",
          "happiness",
          "happiness",
          "happiness",
          "happiness",
          "happiness",
          "happiness",
          "happiness",
          "happiness",
          "happiness",
          "happiness",
          "happiness",
          "happiness",
          "happiness",
          "happiness",
          "happiness",
          "happiness",
          "happiness",
          "happiness",
          "happiness",
          "happiness",
          "happiness",
          "happiness",
          "happiness",
          "happiness",
          "happiness",
          "happiness",
          "happiness",
          "happiness",
          "happiness",
          "happiness",
          "happiness",
          "happiness",
          "happiness",
          "happiness",
          "happiness",
          "happiness",
          "happiness",
          "happiness",
          "happiness",
          "happiness",
          "happiness",
          "happiness",
          "happiness",
          "happiness",
          "happiness",
          "happiness",
          "happiness",
          "happiness",
          "happiness",
          "happiness",
          "happiness",
          "happiness",
          "happiness",
          "happiness"
         ],
         "legendgroup": "happiness",
         "line": {
          "color": "#46bac2",
          "dash": "solid",
          "width": 2
         },
         "marker": {
          "symbol": "circle"
         },
         "mode": "lines",
         "name": "happiness",
         "opacity": 1,
         "orientation": "v",
         "showlegend": false,
         "type": "scatter",
         "x": [
          0,
          0.00631,
          0.01262,
          0.01893,
          0.02524,
          0.031549999999999995,
          0.03786,
          0.04417,
          0.05048,
          0.05678999999999999,
          0.06309999999999999,
          0.06941,
          0.07572,
          0.08202999999999999,
          0.08834,
          0.09465,
          0.10096,
          0.10726999999999999,
          0.11357999999999999,
          0.11989,
          0.12619999999999998,
          0.13251,
          0.13882,
          0.14512999999999998,
          0.15144,
          0.15775,
          0.16405999999999998,
          0.17037,
          0.17668,
          0.18298999999999999,
          0.1893,
          0.19560999999999998,
          0.20192,
          0.20823,
          0.21453999999999998,
          0.22085,
          0.22715999999999997,
          0.23346999999999998,
          0.23978,
          0.24608999999999998,
          0.25239999999999996,
          0.25871,
          0.26502,
          0.27132999999999996,
          0.27764,
          0.28395,
          0.29025999999999996,
          0.29657,
          0.30288,
          0.30918999999999996,
          0.3155,
          0.32181,
          0.32811999999999997,
          0.33443,
          0.34074,
          0.34704999999999997,
          0.35336,
          0.35967,
          0.36597999999999997,
          0.37228999999999995,
          0.3786,
          0.38491,
          0.39121999999999996,
          0.39753,
          0.40384,
          0.41014999999999996,
          0.41646,
          0.42277,
          0.42907999999999996,
          0.43539,
          0.4417,
          0.44800999999999996,
          0.45431999999999995,
          0.46063,
          0.46693999999999997,
          0.47324999999999995,
          0.47956,
          0.48586999999999997,
          0.49217999999999995,
          0.49849,
          0.5047999999999999,
          0.51111,
          0.51742,
          0.5237299999999999,
          0.53004,
          0.53635,
          0.5426599999999999,
          0.54897,
          0.55528,
          0.5615899999999999,
          0.5679,
          0.57421,
          0.5805199999999999,
          0.58683,
          0.59314,
          0.5994499999999999,
          0.60576,
          0.61207,
          0.6183799999999999,
          0.62469,
          0.631
         ],
         "xaxis": "x2",
         "y": [
          5.587518692016602,
          5.567568778991699,
          5.548726558685303,
          5.530946731567383,
          5.513736248016357,
          5.496911525726318,
          5.481297492980957,
          5.466981410980225,
          5.454263687133789,
          5.442843914031982,
          5.432757377624512,
          5.423642158508301,
          5.415253639221191,
          5.407678127288818,
          5.401420593261719,
          5.396430969238281,
          5.392747402191162,
          5.390683174133301,
          5.389413356781006,
          5.389476776123047,
          5.390342712402344,
          5.391894817352295,
          5.392952919006348,
          5.394554138183594,
          5.394770622253418,
          5.394230842590332,
          5.3946733474731445,
          5.393710613250732,
          5.392487525939941,
          5.39169454574585,
          5.391160011291504,
          5.3910698890686035,
          5.39260721206665,
          5.395565032958984,
          5.399803161621094,
          5.402946949005127,
          5.406239986419678,
          5.4085893630981445,
          5.410948753356934,
          5.41438627243042,
          5.418080806732178,
          5.421662330627441,
          5.426109790802002,
          5.426939010620117,
          5.427477836608887,
          5.429366111755371,
          5.432277679443359,
          5.437532901763916,
          5.445667743682861,
          5.453513145446777,
          5.461740016937256,
          5.469343662261963,
          5.477386474609375,
          5.4847612380981445,
          5.489772319793701,
          5.495415687561035,
          5.502308368682861,
          5.5087127685546875,
          5.511275291442871,
          5.5136518478393555,
          5.514415740966797,
          5.514313220977783,
          5.514781951904297,
          5.514645099639893,
          5.512970924377441,
          5.510962963104248,
          5.507272720336914,
          5.503194332122803,
          5.5015339851379395,
          5.497730731964111,
          5.492796421051025,
          5.489001750946045,
          5.486084461212158,
          5.483522891998291,
          5.481210708618164,
          5.477087497711182,
          5.470705986022949,
          5.463027000427246,
          5.455611228942871,
          5.450911521911621,
          5.448381423950195,
          5.4466471672058105,
          5.445302486419678,
          5.4454522132873535,
          5.445967197418213,
          5.4484171867370605,
          5.450430393218994,
          5.45228910446167,
          5.455596446990967,
          5.459851264953613,
          5.466432094573975,
          5.47324275970459,
          5.48183012008667,
          5.492040157318115,
          5.503220558166504,
          5.51652193069458,
          5.53085470199585,
          5.546658039093018,
          5.563542366027832,
          5.582790851593018,
          5.602964878082275
         ],
         "yaxis": "y2"
        }
       ],
       "layout": {
        "annotations": [
         {
          "font": {
           "size": 13
          },
          "showarrow": false,
          "text": "gdp_per_capita",
          "x": 0.2375,
          "xanchor": "center",
          "xref": "paper",
          "y": 0.425,
          "yanchor": "bottom",
          "yref": "paper"
         },
         {
          "font": {
           "size": 13
          },
          "showarrow": false,
          "text": "freedom_to_make_life_choices",
          "x": 0.7625,
          "xanchor": "center",
          "xref": "paper",
          "y": 0.425,
          "yanchor": "bottom",
          "yref": "paper"
         },
         {
          "font": {
           "size": 13
          },
          "showarrow": false,
          "text": "social_support",
          "x": 0.2375,
          "xanchor": "center",
          "xref": "paper",
          "y": 1,
          "yanchor": "bottom",
          "yref": "paper"
         },
         {
          "font": {
           "size": 13
          },
          "showarrow": false,
          "text": "healthy_life_expectancy",
          "x": 0.7625,
          "xanchor": "center",
          "xref": "paper",
          "y": 1,
          "yanchor": "bottom",
          "yref": "paper"
         },
         {
          "font": {
           "size": 13
          },
          "showarrow": false,
          "text": "prediction",
          "textangle": -90,
          "x": -0.07,
          "xref": "paper",
          "y": 0.5,
          "yref": "paper"
         }
        ],
        "font": {
         "color": "#371ea3"
        },
        "height": 829,
        "hovermode": "x unified",
        "legend": {
         "font": {
          "size": 11
         },
         "itemsizing": "constant",
         "orientation": "h",
         "title": {
          "font": {
           "size": 12
          },
          "text": "label"
         },
         "tracegroupgap": 0,
         "x": 1,
         "xanchor": "right",
         "y": 1.0361881785283473,
         "yanchor": "bottom"
        },
        "margin": {
         "b": 71,
         "r": 30,
         "t": 78
        },
        "template": {
         "data": {
          "scatter": [
           {
            "type": "scatter"
           }
          ]
         }
        },
        "title": {
         "font": {
          "size": 16
         },
         "text": "Aggregated Profiles",
         "x": 0.15
        },
        "xaxis": {
         "anchor": "y",
         "automargin": true,
         "domain": [
          0,
          0.475
         ],
         "fixedrange": true,
         "gridwidth": 2,
         "showticklabels": true,
         "tickcolor": "white",
         "ticklen": 3,
         "ticks": "outside",
         "title": {
          "text": ""
         },
         "type": "linear",
         "zeroline": false
        },
        "xaxis2": {
         "anchor": "y2",
         "automargin": true,
         "domain": [
          0.525,
          1
         ],
         "fixedrange": true,
         "gridwidth": 2,
         "showticklabels": true,
         "tickcolor": "white",
         "ticklen": 3,
         "ticks": "outside",
         "title": {
          "text": ""
         },
         "type": "linear",
         "zeroline": false
        },
        "xaxis3": {
         "anchor": "y3",
         "automargin": true,
         "domain": [
          0,
          0.475
         ],
         "fixedrange": true,
         "gridwidth": 2,
         "showticklabels": true,
         "tickcolor": "white",
         "ticklen": 3,
         "ticks": "outside",
         "title": {
          "text": ""
         },
         "type": "linear",
         "zeroline": false
        },
        "xaxis4": {
         "anchor": "y4",
         "automargin": true,
         "domain": [
          0.525,
          1
         ],
         "fixedrange": true,
         "gridwidth": 2,
         "showticklabels": true,
         "tickcolor": "white",
         "ticklen": 3,
         "ticks": "outside",
         "title": {
          "text": ""
         },
         "type": "linear",
         "zeroline": false
        },
        "yaxis": {
         "anchor": "x",
         "automargin": true,
         "domain": [
          0,
          0.425
         ],
         "fixedrange": true,
         "gridwidth": 2,
         "range": [
          4.158521556854248,
          7.162442302703857
         ],
         "tickcolor": "white",
         "ticklen": 3,
         "ticks": "outside",
         "title": {
          "text": ""
         },
         "type": "linear",
         "zeroline": false
        },
        "yaxis2": {
         "anchor": "x2",
         "automargin": true,
         "domain": [
          0,
          0.425
         ],
         "fixedrange": true,
         "gridwidth": 2,
         "matches": "y",
         "range": [
          4.158521556854248,
          7.162442302703857
         ],
         "showticklabels": false,
         "tickcolor": "white",
         "ticklen": 3,
         "ticks": "outside",
         "title": {
          "text": ""
         },
         "type": "linear",
         "zeroline": false
        },
        "yaxis3": {
         "anchor": "x3",
         "automargin": true,
         "domain": [
          0.575,
          1
         ],
         "fixedrange": true,
         "gridwidth": 2,
         "matches": "y",
         "range": [
          4.158521556854248,
          7.162442302703857
         ],
         "tickcolor": "white",
         "ticklen": 3,
         "ticks": "outside",
         "title": {
          "text": ""
         },
         "type": "linear",
         "zeroline": false
        },
        "yaxis4": {
         "anchor": "x4",
         "automargin": true,
         "domain": [
          0.575,
          1
         ],
         "fixedrange": true,
         "gridwidth": 2,
         "matches": "y",
         "range": [
          4.158521556854248,
          7.162442302703857
         ],
         "showticklabels": false,
         "tickcolor": "white",
         "ticklen": 3,
         "ticks": "outside",
         "title": {
          "text": ""
         },
         "type": "linear",
         "zeroline": false
        }
       }
      }
     },
     "metadata": {},
     "output_type": "display_data"
    }
   ],
   "source": [
    "explainer.model_profile().plot(variables=['social_support', 'healthy_life_expectancy',\n",
    "                                          'gdp_per_capita', 'freedom_to_make_life_choices'])\n"
   ]
  },
  {
   "cell_type": "code",
   "execution_count": 9,
   "metadata": {},
   "outputs": [
    {
     "data": {
      "application/vnd.plotly.v1+json": {
       "config": {
        "displaylogo": false,
        "modeBarButtonsToRemove": [
         "sendDataToCloud",
         "lasso2d",
         "autoScale2d",
         "select2d",
         "zoom2d",
         "pan2d",
         "zoomIn2d",
         "zoomOut2d",
         "resetScale2d",
         "toggleSpikelines",
         "hoverCompareCartesian",
         "hoverClosestCartesian"
        ],
        "plotlyServerURL": "https://plot.ly",
        "staticPlot": false,
        "toImageButtonOptions": {
         "height": null,
         "width": null
        }
       },
       "data": [
        {
         "hovertemplate": "<b>%{hovertext}</b><br><br>label=happiness<br>social_support=%{x}<br>residuals=%{y}<extra></extra>",
         "hovertext": [
          1,
          2,
          3,
          4,
          5,
          6,
          7,
          8,
          9,
          10,
          11,
          12,
          13,
          14,
          15,
          16,
          17,
          18,
          19,
          20,
          21,
          22,
          23,
          24,
          25,
          26,
          27,
          28,
          29,
          30,
          31,
          32,
          33,
          34,
          35,
          36,
          37,
          38,
          39,
          40,
          41,
          42,
          43,
          44,
          45,
          46,
          47,
          48,
          49,
          50,
          51,
          52,
          53,
          54,
          55,
          56,
          57,
          58,
          59,
          60,
          61,
          62,
          63,
          64,
          65,
          66,
          67,
          68,
          69,
          70,
          71,
          72,
          73,
          74,
          75,
          76,
          77,
          78,
          79,
          80,
          81,
          82,
          83,
          84,
          85,
          86,
          87,
          88,
          89,
          90,
          91,
          92,
          93,
          94,
          95,
          96,
          97,
          98,
          99,
          100,
          101,
          102,
          103,
          104,
          105,
          106,
          107,
          108,
          109,
          110,
          111,
          112,
          113,
          114,
          115,
          116,
          117,
          118,
          119,
          120,
          121,
          122,
          123,
          124,
          125,
          126,
          127,
          128,
          129,
          130,
          131,
          132,
          133,
          134,
          135,
          136,
          137,
          138,
          139,
          140,
          141,
          142,
          143,
          144,
          145,
          146,
          147,
          148,
          149,
          150,
          151,
          152,
          153,
          154,
          155,
          156
         ],
         "legendgroup": "happiness",
         "line": {
          "width": 3
         },
         "marker": {
          "color": "#46bac2",
          "size": 5,
          "symbol": "circle"
         },
         "mode": "markers",
         "name": "happiness",
         "orientation": "v",
         "showlegend": true,
         "type": "scatter",
         "x": [
          0.517,
          0.848,
          1.16,
          1.432,
          1.055,
          1.548,
          1.475,
          1.147,
          1.368,
          0.928,
          1.465,
          1.504,
          0.437,
          1.321,
          1.209,
          1.212,
          1.145,
          1.439,
          1.513,
          1.056,
          0.447,
          1.122,
          0.91,
          1.505,
          0,
          0.766,
          1.369,
          1.125,
          1.41,
          0.757,
          0.799,
          1.125,
          1.441,
          1.266,
          1.223,
          1.487,
          1.573,
          1.401,
          1.312,
          1.039,
          1.242,
          1.528,
          1.033,
          1.587,
          1.472,
          1.183,
          0.939,
          0.666,
          1.454,
          0.868,
          1.156,
          1.269,
          0.829,
          0.688,
          1.236,
          1.277,
          1.41,
          1.624,
          0.765,
          1.203,
          0.842,
          0.98,
          1.553,
          1.455,
          1.488,
          0.808,
          1.478,
          1.419,
          1.225,
          1.508,
          0.983,
          1.232,
          1.319,
          1.438,
          1.03,
          1.465,
          1.224,
          1.169,
          0.922,
          1.303,
          1.515,
          1.479,
          0.916,
          0.56,
          1.171,
          1.105,
          1.52,
          1.167,
          1.402,
          1.323,
          1.328,
          1.531,
          1.361,
          0.782,
          0.986,
          1.181,
          1.313,
          1.226,
          1.522,
          1.557,
          1.325,
          0.774,
          1.111,
          1.294,
          1.252,
          1.582,
          0.886,
          1.247,
          1.442,
          1.475,
          1.274,
          1.293,
          1.438,
          1.431,
          1.313,
          1.232,
          1.452,
          0.711,
          1.357,
          1.134,
          1.383,
          0.841,
          1.463,
          1.504,
          1.523,
          0.698,
          1.351,
          1.219,
          0.575,
          1.484,
          1.265,
          1.149,
          1.487,
          1.526,
          0.378,
          1.43,
          1.098,
          0.885,
          1.409,
          0.572,
          1.477,
          1,
          1.36,
          1.538,
          1.069,
          1.39,
          1.31,
          1.538,
          1.457,
          1.465,
          1.529,
          1.427,
          1.346,
          1.163,
          1.058,
          1.114
         ],
         "xaxis": "x",
         "y": [
          0.014541080474853363,
          -0.01440988159179657,
          -0.07344433212280244,
          -0.018628086090087592,
          -0.031681076049804524,
          0.037653759002685305,
          0.002085872650146925,
          -0.00637454223632794,
          0.020152210235595547,
          0.047035366058350014,
          -0.02596230697631796,
          0.06009831237792973,
          0.1284838752746582,
          0.0367801017761229,
          -0.07168082809448251,
          0.017624698638916136,
          -0.030361091613769542,
          -0.016948890686035334,
          -0.04879299545288074,
          0.012178050994872791,
          0.021599197387695224,
          0.013567638397216975,
          0.1975801887512203,
          0.06204855728149372,
          0.02075701522827167,
          -0.035663032531738637,
          -0.023963695526123097,
          -0.04580973052978532,
          -0.015024662017822266,
          -0.027373363494873182,
          0.001254283905029574,
          0.001304882049560696,
          0.05929822158813458,
          -0.041832607269286726,
          0.004137989044189716,
          -0.0497357826232907,
          0.11791810989379847,
          -1.0779883384704592,
          -0.0365418167114262,
          -0.02946175003051721,
          0.5420977859497071,
          -0.005757934570312706,
          -0.027381195068359787,
          0.07668442153930677,
          0.012336723327636356,
          -0.0227582702636715,
          0.06567069625854494,
          0.005382484436035284,
          0.05187116622924837,
          0.4216720542907719,
          -0.039733112335205156,
          -0.014366020202636776,
          -0.10646144485473652,
          0.012524721145629858,
          0.01748739242553743,
          -0.059791870117187784,
          -0.04229535293579101,
          0.02631143951415993,
          0.009252681732177415,
          -0.02930727767944319,
          -0.004013397216796832,
          -0.039352214813232145,
          0.02225932693481436,
          0.031671108245849844,
          -0.010087062835693494,
          -0.015612369537353565,
          -0.05658231735229524,
          0.009524188995361449,
          -0.005993026733398743,
          -0.03882648086547835,
          -0.022168460845946925,
          0.0001727104187008166,
          0.000015827178954985754,
          0.029021106719970824,
          0.032443042755127216,
          0.06804841995239297,
          -0.013231304168701108,
          -0.013872430801391555,
          -0.013800048828124911,
          -0.01408777236938441,
          -0.12053697204589842,
          0.0467632675170897,
          -0.04011568260192888,
          -0.010862674713134624,
          -0.0031845436096187285,
          -0.006448612213135085,
          0.07623450851440428,
          -0.0530164337158201,
          0.027978408813476463,
          -0.00020196914672876431,
          -0.02653197860717782,
          -0.04807075500488267,
          -0.03998780441284211,
          -0.008340065002441222,
          0.0037383232116701137,
          0.005299434661865554,
          -0.0784744606018064,
          -0.04861460876464818,
          0.19371708679199262,
          0.05567200851440468,
          -0.0029478263854976205,
          0.3418180732727052,
          0.007342472076415696,
          -0.589375186920166,
          0.012785022735595675,
          0.05161819839477566,
          0.010459545135497628,
          -0.03761825942993191,
          0.00993575668334934,
          -0.009114772796630533,
          -0.05445292282104486,
          0.0028614578247072586,
          -0.016788166046142194,
          -0.1795619316101078,
          0.011424945831298494,
          -0.06486003875732393,
          -0.0112388153076175,
          0.07006562614440925,
          -0.02301645278930664,
          -0.04080175781249995,
          0.0016716270446774928,
          -0.043366027832031584,
          -0.028422439575195746,
          0.004440353393555085,
          -0.08484891128540006,
          0.042271392822265774,
          -0.08284485626220661,
          0.012885112762450746,
          -0.0059630126953122975,
          -0.04524049377441397,
          -0.011854347229004247,
          -0.014023197174072521,
          0.0948057823181152,
          0.20528219223022504,
          0.007440673828125188,
          -0.00585089111328152,
          -0.013039119720459347,
          0.027443939208984247,
          0.06314764785766602,
          -0.3237748527526856,
          -0.033570201873779126,
          -0.040312732696532905,
          -0.0213209648132322,
          -0.02211401748657238,
          -0.0055166587829589275,
          -0.02594973373413101,
          0.059533309936523615,
          -0.03395213699340793,
          0.02245692443847691,
          -0.02160428237915024,
          -0.009676719665526967,
          -0.044065731048584134,
          -0.025737953186035334,
          -0.02927958488464366,
          -0.003385417938232216,
          -0.7325669403076174
         ],
         "yaxis": "y"
        },
        {
         "hovertemplate": "<b>LOWESS trendline</b><br><br>label=happiness<br>social_support=%{x}<br>residuals=%{y} <b>(trend)</b><extra></extra>",
         "legendgroup": "happiness",
         "line": {
          "width": 3
         },
         "marker": {
          "color": "#46bac2",
          "size": 5,
          "symbol": "circle"
         },
         "mode": "lines",
         "name": "happiness",
         "showlegend": false,
         "type": "scatter",
         "x": [
          0,
          0.378,
          0.437,
          0.447,
          0.517,
          0.56,
          0.572,
          0.575,
          0.666,
          0.688,
          0.698,
          0.711,
          0.757,
          0.765,
          0.766,
          0.774,
          0.782,
          0.799,
          0.808,
          0.829,
          0.841,
          0.842,
          0.848,
          0.868,
          0.885,
          0.886,
          0.91,
          0.916,
          0.922,
          0.928,
          0.939,
          0.98,
          0.983,
          0.986,
          1,
          1.03,
          1.033,
          1.039,
          1.055,
          1.056,
          1.058,
          1.069,
          1.098,
          1.105,
          1.111,
          1.114,
          1.122,
          1.125,
          1.125,
          1.134,
          1.145,
          1.147,
          1.149,
          1.156,
          1.16,
          1.163,
          1.167,
          1.169,
          1.171,
          1.181,
          1.183,
          1.203,
          1.209,
          1.212,
          1.219,
          1.223,
          1.224,
          1.225,
          1.226,
          1.232,
          1.232,
          1.236,
          1.242,
          1.247,
          1.252,
          1.265,
          1.266,
          1.269,
          1.274,
          1.277,
          1.293,
          1.294,
          1.303,
          1.31,
          1.312,
          1.313,
          1.313,
          1.319,
          1.321,
          1.323,
          1.325,
          1.328,
          1.346,
          1.351,
          1.357,
          1.36,
          1.361,
          1.368,
          1.369,
          1.383,
          1.39,
          1.401,
          1.402,
          1.409,
          1.41,
          1.41,
          1.419,
          1.427,
          1.43,
          1.431,
          1.432,
          1.438,
          1.438,
          1.439,
          1.441,
          1.442,
          1.452,
          1.454,
          1.455,
          1.457,
          1.463,
          1.465,
          1.465,
          1.465,
          1.472,
          1.475,
          1.475,
          1.477,
          1.478,
          1.479,
          1.484,
          1.487,
          1.487,
          1.488,
          1.504,
          1.504,
          1.505,
          1.508,
          1.513,
          1.515,
          1.52,
          1.522,
          1.523,
          1.526,
          1.528,
          1.529,
          1.531,
          1.538,
          1.538,
          1.548,
          1.553,
          1.557,
          1.573,
          1.582,
          1.587,
          1.624
         ],
         "xaxis": "x",
         "y": [
          0.029752021756053203,
          0.015215054897014005,
          0.012981559776935596,
          0.012607856891436802,
          0.010030606010791865,
          0.008460577939800292,
          0.008018282470730735,
          0.007907116840951503,
          0.0042775756366760995,
          0.003290657986994063,
          0.002832138533483289,
          0.0022185040803302074,
          0.00011761161439417095,
          -0.0002490707222817647,
          -0.00029497217918305393,
          -0.0006627954477393349,
          -0.0010318296626871833,
          -0.0018208157850836291,
          -0.0022415357138332844,
          -0.003232314593033431,
          -0.0038040105373825525,
          -0.003851802590770134,
          -0.004138914844515912,
          -0.0050964528671018925,
          -0.005899532393422313,
          -0.005946074484927008,
          -0.007025988159205298,
          -0.007286553075311162,
          -0.007545926837350978,
          -0.007807007927101782,
          -0.00827669326491739,
          -0.010148683718165784,
          -0.01029533693320967,
          -0.010442547465954842,
          -0.011099305608932198,
          -0.01236879107303522,
          -0.012472781943390679,
          -0.012661152175994363,
          -0.013041644419904097,
          -0.013060053241306243,
          -0.01309485072050383,
          -0.013258897810693471,
          -0.01383582738169207,
          -0.014041845433431564,
          -0.014202771326523074,
          -0.014303490534155288,
          -0.014573837363639831,
          -0.014691660307845205,
          -0.014691660307845205,
          -0.014996117847848338,
          -0.015447290657842989,
          -0.015534841048958735,
          -0.015621144108561004,
          -0.0158206992047244,
          -0.015935198435154882,
          -0.015987587508102405,
          -0.016115941094793904,
          -0.01617482996471137,
          -0.016230057389235754,
          -0.016423605834898103,
          -0.016444547194491874,
          -0.01657086615528724,
          -0.016541616002692557,
          -0.016549497724367746,
          -0.01655076970188628,
          -0.01656446272058742,
          -0.01656796327620842,
          -0.016571441922965405,
          -0.016574868974524398,
          -0.016592416575415315,
          -0.016592416575415315,
          -0.01648931741850839,
          -0.01614300967583842,
          -0.016081674395901826,
          -0.01603431984234156,
          -0.01572613758979879,
          -0.01570152818140775,
          -0.015621078484319102,
          -0.015294324215366728,
          -0.015193378258899324,
          -0.01428613130587891,
          -0.014237735914987684,
          -0.013733789576570034,
          -0.013319870534198032,
          -0.013192016153211274,
          -0.013126604066459765,
          -0.013126604066459765,
          -0.012685387616871534,
          -0.012546613898808972,
          -0.012365320994023328,
          -0.012196378286603358,
          -0.011986567298547895,
          -0.010613939844639805,
          -0.010239962735869777,
          -0.009833115108612534,
          -0.009635019144668005,
          -0.009563153114438849,
          -0.00907836530976817,
          -0.009005469416430904,
          -0.00789498269625419,
          -0.007349861749470039,
          -0.006265915698731662,
          -0.00616072613265735,
          -0.005396446539171554,
          -0.005283531973145448,
          -0.005283531973145448,
          -0.004231012744330344,
          -0.0032491411302215567,
          -0.0028718250528191754,
          -0.002745082452502263,
          -0.002617879478806509,
          -0.0018457571027104508,
          -0.0018457571027104508,
          -0.0017157046549531472,
          -0.0014545372198326383,
          -0.0013234445575953247,
          0.00000350049461858901,
          0.00027186111252644186,
          0.00040635471074834125,
          0.0006759254526369694,
          0.001488672300980481,
          0.0017607131878920536,
          0.0017607131878920536,
          0.0017607131878920536,
          0.002716229008981719,
          0.003127012319390676,
          0.003127012319390676,
          0.00340119515165522,
          0.003538372167542552,
          0.003675601901720444,
          0.004362455734685043,
          0.004775049869955518,
          0.004775049869955518,
          0.004912652180685657,
          0.007118719151982219,
          0.007118719151982219,
          0.007256873968974635,
          0.007671530084103286,
          0.008363207623437055,
          0.008640076754691955,
          0.009332791853513774,
          0.009610118444302254,
          0.009748836044791995,
          0.010165213420498852,
          0.010442996926935361,
          0.010581951951406024,
          0.01085999683115021,
          0.01183485324547964,
          0.01183485324547964,
          0.013234088020054768,
          0.01393787826211128,
          0.014503411482971127,
          0.016792232146830306,
          0.018101355375756766,
          0.018836080173427666,
          0.024436620375622057
         ],
         "yaxis": "y"
        }
       ],
       "layout": {
        "font": {
         "color": "#371ea3"
        },
        "legend": {
         "title": {
          "text": "label"
         },
         "tracegroupgap": 0
        },
        "margin": {
         "b": 71,
         "r": 30,
         "t": 78
        },
        "template": {
         "data": {
          "scatter": [
           {
            "type": "scatter"
           }
          ]
         }
        },
        "title": {
         "text": "Residual Diagnostics",
         "x": 0.15
        },
        "xaxis": {
         "anchor": "y",
         "automargin": true,
         "domain": [
          0,
          1
         ],
         "fixedrange": true,
         "gridwidth": 2,
         "tickcolor": "white",
         "ticklen": 10,
         "ticks": "outside",
         "title": {
          "text": "social_support"
         },
         "type": "linear",
         "zeroline": false
        },
        "yaxis": {
         "anchor": "x",
         "automargin": true,
         "domain": [
          0,
          1
         ],
         "fixedrange": true,
         "gridwidth": 2,
         "tickcolor": "white",
         "ticklen": 10,
         "ticks": "outside",
         "title": {
          "text": "residuals"
         },
         "type": "linear",
         "zeroline": false
        }
       }
      }
     },
     "metadata": {},
     "output_type": "display_data"
    }
   ],
   "source": [
    "explainer.model_diagnostics().plot(variable='social_support', marker_size=5, line_width=3)\n"
   ]
  },
  {
   "cell_type": "code",
   "execution_count": 10,
   "metadata": {},
   "outputs": [
    {
     "name": "stdout",
     "output_type": "stream",
     "text": [
      "5/5 [==============================] - 0s 462us/step\n",
      "5/5 [==============================] - 0s 520us/step\n",
      "5/5 [==============================] - 0s 413us/step\n",
      "5/5 [==============================] - 0s 445us/step\n",
      "5/5 [==============================] - 0s 503us/step\n",
      "5/5 [==============================] - 0s 986us/step\n",
      "5/5 [==============================] - 0s 481us/step\n",
      "5/5 [==============================] - 0s 426us/step\n",
      "5/5 [==============================] - 0s 468us/step\n",
      "5/5 [==============================] - 0s 396us/step\n",
      "5/5 [==============================] - 0s 409us/step\n",
      "5/5 [==============================] - 0s 418us/step\n",
      "5/5 [==============================] - 0s 364us/step\n",
      "5/5 [==============================] - 0s 415us/step\n",
      "5/5 [==============================] - 0s 418us/step\n",
      "5/5 [==============================] - 0s 388us/step\n",
      "5/5 [==============================] - 0s 438us/step\n",
      "5/5 [==============================] - 0s 412us/step\n",
      "5/5 [==============================] - 0s 405us/step\n",
      "5/5 [==============================] - 0s 417us/step\n",
      "5/5 [==============================] - 0s 388us/step\n",
      "5/5 [==============================] - 0s 404us/step\n",
      "5/5 [==============================] - 0s 434us/step\n",
      "5/5 [==============================] - 0s 406us/step\n",
      "5/5 [==============================] - 0s 414us/step\n",
      "5/5 [==============================] - 0s 406us/step\n",
      "5/5 [==============================] - 0s 461us/step\n",
      "5/5 [==============================] - 0s 507us/step\n",
      "5/5 [==============================] - 0s 429us/step\n",
      "5/5 [==============================] - 0s 404us/step\n",
      "5/5 [==============================] - 0s 410us/step\n",
      "5/5 [==============================] - 0s 390us/step\n",
      "5/5 [==============================] - 0s 385us/step\n",
      "5/5 [==============================] - 0s 368us/step\n",
      "5/5 [==============================] - 0s 422us/step\n",
      "5/5 [==============================] - 0s 410us/step\n",
      "5/5 [==============================] - 0s 409us/step\n",
      "5/5 [==============================] - 0s 443us/step\n",
      "5/5 [==============================] - 0s 404us/step\n",
      "5/5 [==============================] - 0s 408us/step\n",
      "5/5 [==============================] - 0s 434us/step\n",
      "5/5 [==============================] - 0s 484us/step\n",
      "5/5 [==============================] - 0s 391us/step\n",
      "5/5 [==============================] - 0s 1ms/step\n",
      "5/5 [==============================] - 0s 449us/step\n",
      "5/5 [==============================] - 0s 398us/step\n",
      "5/5 [==============================] - 0s 435us/step\n",
      "5/5 [==============================] - 0s 459us/step\n",
      "5/5 [==============================] - 0s 368us/step\n",
      "5/5 [==============================] - 0s 479us/step\n",
      "5/5 [==============================] - 0s 480us/step\n",
      "5/5 [==============================] - 0s 409us/step\n",
      "5/5 [==============================] - 0s 415us/step\n",
      "5/5 [==============================] - 0s 402us/step\n",
      "5/5 [==============================] - 0s 416us/step\n",
      "5/5 [==============================] - 0s 466us/step\n",
      "5/5 [==============================] - 0s 420us/step\n",
      "5/5 [==============================] - 0s 409us/step\n",
      "5/5 [==============================] - 0s 378us/step\n",
      "5/5 [==============================] - 0s 389us/step\n",
      "5/5 [==============================] - 0s 374us/step\n",
      "5/5 [==============================] - 0s 426us/step\n",
      "5/5 [==============================] - 0s 380us/step\n",
      "5/5 [==============================] - 0s 372us/step\n",
      "5/5 [==============================] - 0s 384us/step\n",
      "5/5 [==============================] - 0s 472us/step\n",
      "5/5 [==============================] - 0s 401us/step\n",
      "5/5 [==============================] - 0s 423us/step\n",
      "5/5 [==============================] - 0s 407us/step\n",
      "5/5 [==============================] - 0s 387us/step\n",
      "5/5 [==============================] - 0s 468us/step\n",
      "5/5 [==============================] - 0s 444us/step\n",
      "5/5 [==============================] - 0s 434us/step\n",
      "5/5 [==============================] - 0s 427us/step\n",
      "5/5 [==============================] - 0s 410us/step\n",
      "5/5 [==============================] - 0s 465us/step\n",
      "5/5 [==============================] - 0s 480us/step\n",
      "5/5 [==============================] - 0s 392us/step\n",
      "5/5 [==============================] - 0s 389us/step\n",
      "5/5 [==============================] - 0s 393us/step\n",
      "5/5 [==============================] - 0s 552us/step\n",
      "5/5 [==============================] - 0s 858us/step\n",
      "5/5 [==============================] - 0s 515us/step\n",
      "5/5 [==============================] - 0s 408us/step\n",
      "5/5 [==============================] - 0s 438us/step\n",
      "5/5 [==============================] - 0s 447us/step\n",
      "5/5 [==============================] - 0s 397us/step\n",
      "5/5 [==============================] - 0s 440us/step\n",
      "5/5 [==============================] - 0s 416us/step\n",
      "5/5 [==============================] - 0s 432us/step\n",
      "5/5 [==============================] - 0s 438us/step\n",
      "5/5 [==============================] - 0s 468us/step\n",
      "5/5 [==============================] - 0s 469us/step\n",
      "5/5 [==============================] - 0s 418us/step\n",
      "5/5 [==============================] - 0s 429us/step\n",
      "5/5 [==============================] - 0s 435us/step\n",
      "5/5 [==============================] - 0s 410us/step\n",
      "5/5 [==============================] - 0s 455us/step\n",
      "5/5 [==============================] - 0s 403us/step\n",
      "5/5 [==============================] - 0s 432us/step\n",
      "5/5 [==============================] - 0s 407us/step\n",
      "5/5 [==============================] - 0s 447us/step\n",
      "5/5 [==============================] - 0s 398us/step\n",
      "5/5 [==============================] - 0s 427us/step\n",
      "5/5 [==============================] - 0s 388us/step\n",
      "5/5 [==============================] - 0s 426us/step\n",
      "5/5 [==============================] - 0s 423us/step\n",
      "5/5 [==============================] - 0s 464us/step\n",
      "5/5 [==============================] - 0s 421us/step\n",
      "5/5 [==============================] - 0s 406us/step\n",
      "5/5 [==============================] - 0s 429us/step\n",
      "5/5 [==============================] - 0s 434us/step\n",
      "5/5 [==============================] - 0s 432us/step\n",
      "5/5 [==============================] - 0s 396us/step\n",
      "5/5 [==============================] - 0s 423us/step\n",
      "5/5 [==============================] - 0s 425us/step\n",
      "5/5 [==============================] - 0s 386us/step\n",
      "5/5 [==============================] - 0s 427us/step\n",
      "5/5 [==============================] - 0s 417us/step\n",
      "5/5 [==============================] - 0s 365us/step\n",
      "5/5 [==============================] - 0s 413us/step\n",
      "5/5 [==============================] - 0s 425us/step\n",
      "5/5 [==============================] - 0s 442us/step\n",
      "5/5 [==============================] - 0s 468us/step\n",
      "5/5 [==============================] - 0s 427us/step\n",
      "5/5 [==============================] - 0s 387us/step\n",
      "5/5 [==============================] - 0s 464us/step\n",
      "5/5 [==============================] - 0s 378us/step\n",
      "5/5 [==============================] - 0s 408us/step\n",
      "5/5 [==============================] - 0s 411us/step\n",
      "5/5 [==============================] - 0s 463us/step\n",
      "5/5 [==============================] - 0s 414us/step\n",
      "5/5 [==============================] - 0s 426us/step\n",
      "5/5 [==============================] - 0s 401us/step\n",
      "5/5 [==============================] - 0s 363us/step\n",
      "5/5 [==============================] - 0s 419us/step\n",
      "5/5 [==============================] - 0s 398us/step\n",
      "5/5 [==============================] - 0s 397us/step\n",
      "5/5 [==============================] - 0s 413us/step\n",
      "5/5 [==============================] - 0s 381us/step\n",
      "5/5 [==============================] - 0s 373us/step\n",
      "5/5 [==============================] - 0s 449us/step\n",
      "5/5 [==============================] - 0s 484us/step\n",
      "5/5 [==============================] - 0s 463us/step\n",
      "5/5 [==============================] - 0s 412us/step\n",
      "5/5 [==============================] - 0s 423us/step\n",
      "5/5 [==============================] - 0s 413us/step\n",
      "5/5 [==============================] - 0s 408us/step\n",
      "5/5 [==============================] - 0s 466us/step\n",
      "5/5 [==============================] - 0s 391us/step\n",
      "5/5 [==============================] - 0s 425us/step\n",
      "5/5 [==============================] - 0s 387us/step\n",
      "5/5 [==============================] - 0s 436us/step\n",
      "5/5 [==============================] - 0s 999us/step\n",
      "5/5 [==============================] - 0s 501us/step\n",
      "5/5 [==============================] - 0s 390us/step\n",
      "5/5 [==============================] - 0s 393us/step\n",
      "5/5 [==============================] - 0s 447us/step\n",
      "5/5 [==============================] - 0s 439us/step\n",
      "5/5 [==============================] - 0s 436us/step\n",
      "5/5 [==============================] - 0s 439us/step\n",
      "5/5 [==============================] - 0s 465us/step\n",
      "5/5 [==============================] - 0s 395us/step\n",
      "5/5 [==============================] - 0s 453us/step\n",
      "5/5 [==============================] - 0s 394us/step\n",
      "5/5 [==============================] - 0s 427us/step\n",
      "5/5 [==============================] - 0s 503us/step\n",
      "5/5 [==============================] - 0s 461us/step\n",
      "5/5 [==============================] - 0s 446us/step\n",
      "5/5 [==============================] - 0s 480us/step\n",
      "5/5 [==============================] - 0s 414us/step\n",
      "5/5 [==============================] - 0s 392us/step\n",
      "5/5 [==============================] - 0s 425us/step\n",
      "5/5 [==============================] - 0s 459us/step\n",
      "5/5 [==============================] - 0s 495us/step\n",
      "1/1 [==============================] - 0s 8ms/step\n",
      "5/5 [==============================] - 0s 427us/step\n"
     ]
    },
    {
     "data": {
      "application/vnd.plotly.v1+json": {
       "config": {
        "displaylogo": false,
        "modeBarButtonsToRemove": [
         "sendDataToCloud",
         "lasso2d",
         "autoScale2d",
         "select2d",
         "zoom2d",
         "pan2d",
         "zoomIn2d",
         "zoomOut2d",
         "resetScale2d",
         "toggleSpikelines",
         "hoverCompareCartesian",
         "hoverClosestCartesian"
        ],
        "plotlyServerURL": "https://plot.ly",
        "staticPlot": false,
        "toImageButtonOptions": {
         "height": null,
         "width": null
        }
       },
       "data": [
        {
         "base": 5.418377876281738,
         "hoverinfo": "text",
         "hoverlabel": {
          "bgcolor": "rgba(0,0,0,0.8)"
         },
         "hovertext": [
          "Average response: 5.418<br>Prediction: 6.199<br>healthy_life_expectancy = 0.884<br>increases average response <br>by 0.257",
          "Average response: 5.418<br>Prediction: 6.199<br>freedom_to_make_life_choices = 0.483<br>increases average response <br>by 0.152",
          "Average response: 5.418<br>Prediction: 6.199<br>social_support = 1.438<br>increases average response <br>by 0.125",
          "Average response: 5.418<br>Prediction: 6.199<br>generosity = 0.117<br>increases average response <br>by 0.123",
          "Average response: 5.418<br>Prediction: 6.199<br>gdp_per_capita = 1.206<br>increases average response <br>by 0.114",
          "Average response: 5.418<br>Prediction: 6.199<br>perceptions_of_corruption = 0.05<br>increases average response <br>by 0.008"
         ],
         "marker": {
          "color": [
           "#8bdcbe",
           "#8bdcbe",
           "#8bdcbe",
           "#8bdcbe",
           "#8bdcbe",
           "#8bdcbe"
          ]
         },
         "orientation": "h",
         "showlegend": false,
         "text": [
          "+0.257",
          "+0.152",
          "+0.125",
          "+0.123",
          "+0.114",
          "+0.008"
         ],
         "textposition": "outside",
         "type": "bar",
         "x": [
          0.257,
          0.152,
          0.125,
          0.123,
          0.114,
          0.008
         ],
         "xaxis": "x",
         "y": [
          "healthy_life_expectancy = 0.884",
          "freedom_to_make_life_choices = 0.483",
          "social_support = 1.438",
          "generosity = 0.117",
          "gdp_per_capita = 1.206",
          "perceptions_of_corruption = 0.05"
         ],
         "yaxis": "y"
        }
       ],
       "layout": {
        "annotations": [
         {
          "font": {
           "size": 16
          },
          "showarrow": false,
          "text": "happiness",
          "x": 0.5,
          "xanchor": "center",
          "xref": "paper",
          "y": 1,
          "yanchor": "bottom",
          "yref": "paper"
         },
         {
          "font": {
           "size": 16
          },
          "showarrow": false,
          "text": "contribution",
          "x": 0.5,
          "xanchor": "center",
          "xref": "paper",
          "y": 0,
          "yanchor": "top",
          "yref": "paper",
          "yshift": -30
         }
        ],
        "font": {
         "color": "#371ea3"
        },
        "height": 273,
        "margin": {
         "b": 71,
         "r": 30,
         "t": 78
        },
        "shapes": [
         {
          "line": {
           "color": "#371ea3",
           "dash": "dot",
           "width": 1.5
          },
          "type": "line",
          "x0": 5.418377876281738,
          "x1": 5.418377876281738,
          "xref": "x",
          "y0": -1,
          "y1": 6,
          "yref": "y"
         }
        ],
        "template": {
         "data": {
          "scatter": [
           {
            "type": "scatter"
           }
          ]
         }
        },
        "title": {
         "text": "Shapley Values",
         "x": 0.15
        },
        "xaxis": {
         "anchor": "y",
         "automargin": true,
         "domain": [
          0,
          1
         ],
         "fixedrange": true,
         "gridwidth": 2,
         "range": [
          5.389027876281738,
          5.712727876281738
         ],
         "tickcolor": "white",
         "ticklen": 3,
         "ticks": "outside",
         "type": "linear",
         "zeroline": false
        },
        "yaxis": {
         "anchor": "x",
         "automargin": true,
         "autorange": "reversed",
         "domain": [
          0,
          1
         ],
         "fixedrange": true,
         "gridwidth": 2,
         "tickcolor": "white",
         "ticklen": 10,
         "ticks": "outside",
         "type": "category"
        }
       }
      }
     },
     "metadata": {},
     "output_type": "display_data"
    }
   ],
   "source": [
    "explainer.predict_parts(X.loc['Poland'], type='shap').plot()"
   ]
  },
  {
   "cell_type": "code",
   "execution_count": 11,
   "metadata": {},
   "outputs": [
    {
     "name": "stdout",
     "output_type": "stream",
     "text": [
      "1/1 [==============================] - 0s 10ms/step\n",
      "5/5 [==============================] - 0s 435us/step\n",
      "5/5 [==============================] - 0s 422us/step\n",
      "5/5 [==============================] - 0s 421us/step\n",
      "5/5 [==============================] - 0s 421us/step\n",
      "5/5 [==============================] - 0s 393us/step\n",
      "5/5 [==============================] - 0s 424us/step\n",
      "5/5 [==============================] - 0s 386us/step\n",
      "5/5 [==============================] - 0s 411us/step\n",
      "5/5 [==============================] - 0s 388us/step\n",
      "5/5 [==============================] - 0s 381us/step\n",
      "5/5 [==============================] - 0s 360us/step\n",
      "5/5 [==============================] - 0s 397us/step\n",
      "5/5 [==============================] - 0s 449us/step\n",
      "1/1 [==============================] - 0s 8ms/step\n",
      "5/5 [==============================] - 0s 465us/step\n",
      "5/5 [==============================] - 0s 391us/step\n",
      "5/5 [==============================] - 0s 423us/step\n",
      "5/5 [==============================] - 0s 391us/step\n",
      "5/5 [==============================] - 0s 366us/step\n",
      "5/5 [==============================] - 0s 439us/step\n",
      "5/5 [==============================] - 0s 402us/step\n",
      "5/5 [==============================] - 0s 421us/step\n",
      "5/5 [==============================] - 0s 404us/step\n",
      "5/5 [==============================] - 0s 434us/step\n",
      "5/5 [==============================] - 0s 421us/step\n",
      "5/5 [==============================] - 0s 351us/step\n",
      "5/5 [==============================] - 0s 362us/step\n",
      "1/1 [==============================] - 0s 8ms/step\n",
      "5/5 [==============================] - 0s 472us/step\n",
      "5/5 [==============================] - 0s 504us/step\n",
      "5/5 [==============================] - 0s 778us/step\n",
      "5/5 [==============================] - 0s 494us/step\n",
      "5/5 [==============================] - 0s 545us/step\n",
      "5/5 [==============================] - 0s 425us/step\n",
      "5/5 [==============================] - 0s 395us/step\n",
      "5/5 [==============================] - 0s 433us/step\n",
      "5/5 [==============================] - 0s 441us/step\n",
      "5/5 [==============================] - 0s 382us/step\n",
      "5/5 [==============================] - 0s 385us/step\n",
      "5/5 [==============================] - 0s 418us/step\n",
      "5/5 [==============================] - 0s 365us/step\n",
      "1/1 [==============================] - 0s 8ms/step\n",
      "5/5 [==============================] - 0s 384us/step\n",
      "5/5 [==============================] - 0s 404us/step\n",
      "5/5 [==============================] - 0s 454us/step\n",
      "5/5 [==============================] - 0s 472us/step\n",
      "5/5 [==============================] - 0s 405us/step\n",
      "5/5 [==============================] - 0s 432us/step\n",
      "5/5 [==============================] - 0s 456us/step\n",
      "5/5 [==============================] - 0s 464us/step\n",
      "5/5 [==============================] - 0s 456us/step\n",
      "5/5 [==============================] - 0s 437us/step\n",
      "5/5 [==============================] - 0s 395us/step\n",
      "5/5 [==============================] - 0s 476us/step\n",
      "5/5 [==============================] - 0s 412us/step\n",
      "1/1 [==============================] - 0s 8ms/step\n",
      "5/5 [==============================] - 0s 426us/step\n",
      "5/5 [==============================] - 0s 481us/step\n",
      "5/5 [==============================] - 0s 401us/step\n",
      "5/5 [==============================] - 0s 423us/step\n",
      "5/5 [==============================] - 0s 398us/step\n",
      "5/5 [==============================] - 0s 408us/step\n",
      "5/5 [==============================] - 0s 424us/step\n",
      "5/5 [==============================] - 0s 485us/step\n",
      "5/5 [==============================] - 0s 415us/step\n",
      "5/5 [==============================] - 0s 385us/step\n",
      "5/5 [==============================] - 0s 405us/step\n",
      "5/5 [==============================] - 0s 473us/step\n",
      "5/5 [==============================] - 0s 1ms/step\n"
     ]
    },
    {
     "data": {
      "application/vnd.plotly.v1+json": {
       "config": {
        "displaylogo": false,
        "modeBarButtonsToRemove": [
         "sendDataToCloud",
         "lasso2d",
         "autoScale2d",
         "select2d",
         "zoom2d",
         "pan2d",
         "zoomIn2d",
         "zoomOut2d",
         "resetScale2d",
         "toggleSpikelines",
         "hoverCompareCartesian",
         "hoverClosestCartesian"
        ],
        "plotlyServerURL": "https://plot.ly",
        "staticPlot": false,
        "toImageButtonOptions": {
         "height": null,
         "width": null
        }
       },
       "data": [
        {
         "base": 5.418377876281738,
         "connector": {
          "line": {
           "color": "#371ea3",
           "dash": "solid",
           "width": 1
          },
          "mode": "spanning"
         },
         "decreasing": {
          "marker": {
           "color": "#f05a71"
          }
         },
         "hoverinfo": "text+delta",
         "hoverlabel": {
          "bgcolor": "rgba(0,0,0,0.8)"
         },
         "hovertext": [
          "Average response: 5.418<br>Prediction: 3.188",
          "gdp_per_capita = 0.35<br>increases average response by",
          "freedom_to_make_life_choices = 0.0<br>decreases average response by",
          "generosity = 0.158<br>increases average response by",
          "perceptions_of_corruption = 0.025<br>decreases average response by",
          "healthy_life_expectancy = 0.361<br>decreases average response by",
          "social_support = 0.517<br>decreases average response by",
          "Average response: 5.418<br>Prediction: 3.188"
         ],
         "increasing": {
          "marker": {
           "color": "#8bdcbe"
          }
         },
         "measure": [
          "relative",
          "relative",
          "relative",
          "relative",
          "relative",
          "relative",
          "relative",
          "total"
         ],
         "orientation": "h",
         "showlegend": false,
         "text": [
          "5.418",
          "+0.193",
          "-0.972",
          "+0.109",
          "-0.242",
          "-0.154",
          "-1.164",
          "3.188"
         ],
         "textposition": "outside",
         "totals": {
          "marker": {
           "color": "#371ea3"
          }
         },
         "type": "waterfall",
         "x": [
          0,
          0.19300000369548798,
          -0.972000002861023,
          0.10899999737739563,
          -0.24199999868869781,
          -0.15399999916553497,
          -1.1640000343322754,
          -2.2300000190734863
         ],
         "xaxis": "x",
         "y": [
          "intercept",
          "gdp_per_capita = 0.35",
          "freedom_to_make_life_choices = 0.0",
          "generosity = 0.158",
          "perceptions_of_corruption = 0.025",
          "healthy_life_expectancy = 0.361",
          "social_support = 0.517",
          "prediction"
         ],
         "yaxis": "y"
        },
        {
         "base": 5.418377876281738,
         "connector": {
          "line": {
           "color": "#371ea3",
           "dash": "solid",
           "width": 1
          },
          "mode": "spanning"
         },
         "decreasing": {
          "marker": {
           "color": "#f05a71"
          }
         },
         "hoverinfo": "text+delta",
         "hoverlabel": {
          "bgcolor": "rgba(0,0,0,0.8)"
         },
         "hovertext": [
          "Average response: 5.418<br>Prediction: 6.863",
          "healthy_life_expectancy = 0.986<br>increases average response by",
          "social_support = 1.504<br>decreases average response by",
          "gdp_per_capita = 1.356<br>increases average response by",
          "perceptions_of_corruption = 0.21<br>increases average response by",
          "generosity = 0.16<br>increases average response by",
          "freedom_to_make_life_choices = 0.473<br>decreases average response by",
          "Average response: 5.418<br>Prediction: 6.863"
         ],
         "increasing": {
          "marker": {
           "color": "#8bdcbe"
          }
         },
         "measure": [
          "relative",
          "relative",
          "relative",
          "relative",
          "relative",
          "relative",
          "relative",
          "total"
         ],
         "orientation": "h",
         "showlegend": false,
         "text": [
          "5.418",
          "+1.01",
          "-0.15",
          "+0.178",
          "+0.721",
          "+0.084",
          "-0.398",
          "6.863"
         ],
         "textposition": "outside",
         "totals": {
          "marker": {
           "color": "#371ea3"
          }
         },
         "type": "waterfall",
         "x": [
          0,
          1.0099999904632568,
          -0.15000000596046448,
          0.17800000309944153,
          0.7210000157356262,
          0.08399999886751175,
          -0.39800000190734863,
          1.4450000524520874
         ],
         "xaxis": "x2",
         "y": [
          "intercept",
          "healthy_life_expectancy = 0.986",
          "social_support = 1.504",
          "gdp_per_capita = 1.356",
          "perceptions_of_corruption = 0.21",
          "generosity = 0.16",
          "freedom_to_make_life_choices = 0.473",
          "prediction"
         ],
         "yaxis": "y2"
        },
        {
         "base": 5.418377876281738,
         "connector": {
          "line": {
           "color": "#371ea3",
           "dash": "solid",
           "width": 1
          },
          "mode": "spanning"
         },
         "decreasing": {
          "marker": {
           "color": "#f05a71"
          }
         },
         "hoverinfo": "text+delta",
         "hoverlabel": {
          "bgcolor": "rgba(0,0,0,0.8)"
         },
         "hovertext": [
          "Average response: 5.418<br>Prediction: 5.237",
          "healthy_life_expectancy = 0.893<br>increases average response by",
          "gdp_per_capita = 1.029<br>decreases average response by",
          "freedom_to_make_life_choices = 0.521<br>decreases average response by",
          "generosity = 0.058<br>increases average response by",
          "perceptions_of_corruption = 0.1<br>decreases average response by",
          "social_support = 1.125<br>decreases average response by",
          "Average response: 5.418<br>Prediction: 5.237"
         ],
         "increasing": {
          "marker": {
           "color": "#8bdcbe"
          }
         },
         "measure": [
          "relative",
          "relative",
          "relative",
          "relative",
          "relative",
          "relative",
          "relative",
          "total"
         ],
         "orientation": "h",
         "showlegend": false,
         "text": [
          "5.418",
          "+0.677",
          "-0.418",
          "-0.118",
          "+0.163",
          "-0.093",
          "-0.393",
          "5.237"
         ],
         "textposition": "outside",
         "totals": {
          "marker": {
           "color": "#371ea3"
          }
         },
         "type": "waterfall",
         "x": [
          0,
          0.6769999861717224,
          -0.4180000126361847,
          -0.11800000071525574,
          0.16300000250339508,
          -0.09300000220537186,
          -0.3930000066757202,
          -0.18199999630451202
         ],
         "xaxis": "x3",
         "y": [
          "intercept",
          "healthy_life_expectancy = 0.893",
          "gdp_per_capita = 1.029",
          "freedom_to_make_life_choices = 0.521",
          "generosity = 0.058",
          "perceptions_of_corruption = 0.1",
          "social_support = 1.125",
          "prediction"
         ],
         "yaxis": "y3"
        },
        {
         "base": 5.418377876281738,
         "connector": {
          "line": {
           "color": "#371ea3",
           "dash": "solid",
           "width": 1
          },
          "mode": "spanning"
         },
         "decreasing": {
          "marker": {
           "color": "#f05a71"
          }
         },
         "hoverinfo": "text+delta",
         "hoverlabel": {
          "bgcolor": "rgba(0,0,0,0.8)"
         },
         "hovertext": [
          "Average response: 5.418<br>Prediction: 7.482",
          "perceptions_of_corruption = 0.41<br>increases average response by",
          "healthy_life_expectancy = 0.996<br>decreases average response by",
          "social_support = 1.573<br>increases average response by",
          "gdp_per_capita = 1.383<br>increases average response by",
          "freedom_to_make_life_choices = 0.592<br>decreases average response by",
          "generosity = 0.252<br>increases average response by",
          "Average response: 5.418<br>Prediction: 7.482"
         ],
         "increasing": {
          "marker": {
           "color": "#8bdcbe"
          }
         },
         "measure": [
          "relative",
          "relative",
          "relative",
          "relative",
          "relative",
          "relative",
          "relative",
          "total"
         ],
         "orientation": "h",
         "showlegend": false,
         "text": [
          "5.418",
          "+1.326",
          "-0.615",
          "+1.814",
          "+0.222",
          "-0.71",
          "+0.026",
          "7.482"
         ],
         "textposition": "outside",
         "totals": {
          "marker": {
           "color": "#371ea3"
          }
         },
         "type": "waterfall",
         "x": [
          0,
          1.3259999752044678,
          -0.6150000095367432,
          1.8140000104904175,
          0.22200000286102295,
          -0.7099999785423279,
          0.026000000536441803,
          2.063999891281128
         ],
         "xaxis": "x4",
         "y": [
          "intercept",
          "perceptions_of_corruption = 0.41",
          "healthy_life_expectancy = 0.996",
          "social_support = 1.573",
          "gdp_per_capita = 1.383",
          "freedom_to_make_life_choices = 0.592",
          "generosity = 0.252",
          "prediction"
         ],
         "yaxis": "y4"
        },
        {
         "base": 5.418377876281738,
         "connector": {
          "line": {
           "color": "#371ea3",
           "dash": "solid",
           "width": 1
          },
          "mode": "spanning"
         },
         "decreasing": {
          "marker": {
           "color": "#f05a71"
          }
         },
         "hoverinfo": "text+delta",
         "hoverlabel": {
          "bgcolor": "rgba(0,0,0,0.8)"
         },
         "hovertext": [
          "Average response: 5.418<br>Prediction: 4.313",
          "gdp_per_capita = 0.336<br>increases average response by",
          "generosity = 0.209<br>increases average response by",
          "freedom_to_make_life_choices = 0.344<br>increases average response by",
          "perceptions_of_corruption = 0.1<br>decreases average response by",
          "healthy_life_expectancy = 0.532<br>decreases average response by",
          "social_support = 1.033<br>decreases average response by",
          "Average response: 5.418<br>Prediction: 4.313"
         ],
         "increasing": {
          "marker": {
           "color": "#8bdcbe"
          }
         },
         "measure": [
          "relative",
          "relative",
          "relative",
          "relative",
          "relative",
          "relative",
          "relative",
          "total"
         ],
         "orientation": "h",
         "showlegend": false,
         "text": [
          "5.418",
          "+0.214",
          "+0.113",
          "+0.146",
          "-0.23",
          "-0.48",
          "-0.867",
          "4.313"
         ],
         "textposition": "outside",
         "totals": {
          "marker": {
           "color": "#371ea3"
          }
         },
         "type": "waterfall",
         "x": [
          0,
          0.21400000154972076,
          0.11299999803304672,
          0.1459999978542328,
          -0.23000000417232513,
          -0.47999998927116394,
          -0.8669999837875366,
          -1.1050000190734863
         ],
         "xaxis": "x5",
         "y": [
          "intercept",
          "gdp_per_capita = 0.336",
          "generosity = 0.209",
          "freedom_to_make_life_choices = 0.344",
          "perceptions_of_corruption = 0.1",
          "healthy_life_expectancy = 0.532",
          "social_support = 1.033",
          "prediction"
         ],
         "yaxis": "y5"
        }
       ],
       "layout": {
        "annotations": [
         {
          "font": {
           "size": 16
          },
          "showarrow": false,
          "text": "Afghanistan",
          "x": 0.5,
          "xanchor": "center",
          "xref": "paper",
          "y": 1,
          "yanchor": "bottom",
          "yref": "paper"
         },
         {
          "font": {
           "size": 16
          },
          "showarrow": false,
          "text": "Belgium",
          "x": 0.5,
          "xanchor": "center",
          "xref": "paper",
          "y": 0.792,
          "yanchor": "bottom",
          "yref": "paper"
         },
         {
          "font": {
           "size": 16
          },
          "showarrow": false,
          "text": "China",
          "x": 0.5,
          "xanchor": "center",
          "xref": "paper",
          "y": 0.584,
          "yanchor": "bottom",
          "yref": "paper"
         },
         {
          "font": {
           "size": 16
          },
          "showarrow": false,
          "text": "Denmark",
          "x": 0.5,
          "xanchor": "center",
          "xref": "paper",
          "y": 0.376,
          "yanchor": "bottom",
          "yref": "paper"
         },
         {
          "font": {
           "size": 16
          },
          "showarrow": false,
          "text": "Ethiopia",
          "x": 0.5,
          "xanchor": "center",
          "xref": "paper",
          "y": 0.16799999999999998,
          "yanchor": "bottom",
          "yref": "paper"
         },
         {
          "font": {
           "size": 16
          },
          "showarrow": false,
          "text": "contribution",
          "x": 0.5,
          "xanchor": "center",
          "xref": "paper",
          "y": 0,
          "yanchor": "top",
          "yref": "paper",
          "yshift": -30
         }
        ],
        "font": {
         "color": "#371ea3"
        },
        "height": 1249,
        "margin": {
         "b": 71,
         "r": 30,
         "t": 78
        },
        "shapes": [
         {
          "line": {
           "color": "#371ea3",
           "dash": "dot",
           "width": 1.5
          },
          "type": "line",
          "x0": 5.418377876281738,
          "x1": 5.418377876281738,
          "xref": "x",
          "y0": -1,
          "y1": 8,
          "yref": "y"
         },
         {
          "line": {
           "color": "#371ea3",
           "dash": "dot",
           "width": 1.5
          },
          "type": "line",
          "x0": 5.418377876281738,
          "x1": 5.418377876281738,
          "xref": "x2",
          "y0": -1,
          "y1": 8,
          "yref": "y2"
         },
         {
          "line": {
           "color": "#371ea3",
           "dash": "dot",
           "width": 1.5
          },
          "type": "line",
          "x0": 5.418377876281738,
          "x1": 5.418377876281738,
          "xref": "x3",
          "y0": -1,
          "y1": 8,
          "yref": "y3"
         },
         {
          "line": {
           "color": "#371ea3",
           "dash": "dot",
           "width": 1.5
          },
          "type": "line",
          "x0": 5.418377876281738,
          "x1": 5.418377876281738,
          "xref": "x4",
          "y0": -1,
          "y1": 8,
          "yref": "y4"
         },
         {
          "line": {
           "color": "#371ea3",
           "dash": "dot",
           "width": 1.5
          },
          "type": "line",
          "x0": 5.418377876281738,
          "x1": 5.418377876281738,
          "xref": "x5",
          "y0": -1,
          "y1": 8,
          "yref": "y5"
         }
        ],
        "template": {
         "data": {
          "scatter": [
           {
            "type": "scatter"
           }
          ]
         }
        },
        "title": {
         "text": "Break Down",
         "x": 0.15
        },
        "xaxis": {
         "anchor": "y",
         "automargin": true,
         "domain": [
          0,
          1
         ],
         "fixedrange": true,
         "gridwidth": 2,
         "matches": "x5",
         "range": [
          2.5,
          8.5
         ],
         "showticklabels": false,
         "tickcolor": "white",
         "ticklen": 3,
         "ticks": "outside",
         "type": "linear",
         "zeroline": false
        },
        "xaxis2": {
         "anchor": "y2",
         "automargin": true,
         "domain": [
          0,
          1
         ],
         "fixedrange": true,
         "gridwidth": 2,
         "matches": "x5",
         "range": [
          2.5,
          8.5
         ],
         "showticklabels": false,
         "tickcolor": "white",
         "ticklen": 3,
         "ticks": "outside",
         "type": "linear",
         "zeroline": false
        },
        "xaxis3": {
         "anchor": "y3",
         "automargin": true,
         "domain": [
          0,
          1
         ],
         "fixedrange": true,
         "gridwidth": 2,
         "matches": "x5",
         "range": [
          2.5,
          8.5
         ],
         "showticklabels": false,
         "tickcolor": "white",
         "ticklen": 3,
         "ticks": "outside",
         "type": "linear",
         "zeroline": false
        },
        "xaxis4": {
         "anchor": "y4",
         "automargin": true,
         "domain": [
          0,
          1
         ],
         "fixedrange": true,
         "gridwidth": 2,
         "matches": "x5",
         "range": [
          2.5,
          8.5
         ],
         "showticklabels": false,
         "tickcolor": "white",
         "ticklen": 3,
         "ticks": "outside",
         "type": "linear",
         "zeroline": false
        },
        "xaxis5": {
         "anchor": "y5",
         "automargin": true,
         "domain": [
          0,
          1
         ],
         "fixedrange": true,
         "gridwidth": 2,
         "range": [
          2.5,
          8.5
         ],
         "tickcolor": "white",
         "ticklen": 3,
         "ticks": "outside",
         "type": "linear",
         "zeroline": false
        },
        "yaxis": {
         "anchor": "x",
         "automargin": true,
         "autorange": "reversed",
         "domain": [
          0.832,
          1
         ],
         "fixedrange": true,
         "gridwidth": 2,
         "tickcolor": "white",
         "ticklen": 10,
         "ticks": "outside",
         "type": "category"
        },
        "yaxis2": {
         "anchor": "x2",
         "automargin": true,
         "autorange": "reversed",
         "domain": [
          0.624,
          0.792
         ],
         "fixedrange": true,
         "gridwidth": 2,
         "tickcolor": "white",
         "ticklen": 10,
         "ticks": "outside",
         "type": "category"
        },
        "yaxis3": {
         "anchor": "x3",
         "automargin": true,
         "autorange": "reversed",
         "domain": [
          0.416,
          0.584
         ],
         "fixedrange": true,
         "gridwidth": 2,
         "tickcolor": "white",
         "ticklen": 10,
         "ticks": "outside",
         "type": "category"
        },
        "yaxis4": {
         "anchor": "x4",
         "automargin": true,
         "autorange": "reversed",
         "domain": [
          0.208,
          0.376
         ],
         "fixedrange": true,
         "gridwidth": 2,
         "tickcolor": "white",
         "ticklen": 10,
         "ticks": "outside",
         "type": "category"
        },
        "yaxis5": {
         "anchor": "x5",
         "automargin": true,
         "autorange": "reversed",
         "domain": [
          0,
          0.16799999999999998
         ],
         "fixedrange": true,
         "gridwidth": 2,
         "tickcolor": "white",
         "ticklen": 10,
         "ticks": "outside",
         "type": "category"
        }
       }
      }
     },
     "metadata": {},
     "output_type": "display_data"
    }
   ],
   "source": [
    "pp_list = []\n",
    "for country in ['Afghanistan', 'Belgium', 'China', 'Denmark', 'Ethiopia']:\n",
    "    pp = explainer.predict_parts(X.loc[country], type='break_down')\n",
    "    pp.result.label = country\n",
    "    pp_list += [pp]\n",
    "pp_list[0].plot(pp_list[1::], min_max=[2.5, 8.5])"
   ]
  }
 ],
 "metadata": {
  "kernelspec": {
   "display_name": "breaching",
   "language": "python",
   "name": "python3"
  },
  "language_info": {
   "codemirror_mode": {
    "name": "ipython",
    "version": 3
   },
   "file_extension": ".py",
   "mimetype": "text/x-python",
   "name": "python",
   "nbconvert_exporter": "python",
   "pygments_lexer": "ipython3",
   "version": "3.9.17"
  }
 },
 "nbformat": 4,
 "nbformat_minor": 2
}
