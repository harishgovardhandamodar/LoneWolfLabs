{
 "cells": [
  {
   "cell_type": "markdown",
   "metadata": {},
   "source": [
    "## moDel Agnostic Language for Exploration and eXplanation "
   ]
  },
  {
   "cell_type": "code",
   "execution_count": 1,
   "metadata": {},
   "outputs": [],
   "source": [
    "import warnings\n",
    "warnings.filterwarnings('ignore')"
   ]
  },
  {
   "cell_type": "code",
   "execution_count": 2,
   "metadata": {},
   "outputs": [
    {
     "data": {
      "text/html": [
       "<div>\n",
       "<style scoped>\n",
       "    .dataframe tbody tr th:only-of-type {\n",
       "        vertical-align: middle;\n",
       "    }\n",
       "\n",
       "    .dataframe tbody tr th {\n",
       "        vertical-align: top;\n",
       "    }\n",
       "\n",
       "    .dataframe thead th {\n",
       "        text-align: right;\n",
       "    }\n",
       "</style>\n",
       "<table border=\"1\" class=\"dataframe\">\n",
       "  <thead>\n",
       "    <tr style=\"text-align: right;\">\n",
       "      <th></th>\n",
       "      <th>score</th>\n",
       "      <th>gdp_per_capita</th>\n",
       "      <th>social_support</th>\n",
       "      <th>healthy_life_expectancy</th>\n",
       "      <th>freedom_to_make_life_choices</th>\n",
       "      <th>generosity</th>\n",
       "      <th>perceptions_of_corruption</th>\n",
       "    </tr>\n",
       "  </thead>\n",
       "  <tbody>\n",
       "    <tr>\n",
       "      <th>Afghanistan</th>\n",
       "      <td>3.203</td>\n",
       "      <td>0.350</td>\n",
       "      <td>0.517</td>\n",
       "      <td>0.361</td>\n",
       "      <td>0.000</td>\n",
       "      <td>0.158</td>\n",
       "      <td>0.025</td>\n",
       "    </tr>\n",
       "    <tr>\n",
       "      <th>Albania</th>\n",
       "      <td>4.719</td>\n",
       "      <td>0.947</td>\n",
       "      <td>0.848</td>\n",
       "      <td>0.874</td>\n",
       "      <td>0.383</td>\n",
       "      <td>0.178</td>\n",
       "      <td>0.027</td>\n",
       "    </tr>\n",
       "    <tr>\n",
       "      <th>Algeria</th>\n",
       "      <td>5.211</td>\n",
       "      <td>1.002</td>\n",
       "      <td>1.160</td>\n",
       "      <td>0.785</td>\n",
       "      <td>0.086</td>\n",
       "      <td>0.073</td>\n",
       "      <td>0.114</td>\n",
       "    </tr>\n",
       "    <tr>\n",
       "      <th>Argentina</th>\n",
       "      <td>6.086</td>\n",
       "      <td>1.092</td>\n",
       "      <td>1.432</td>\n",
       "      <td>0.881</td>\n",
       "      <td>0.471</td>\n",
       "      <td>0.066</td>\n",
       "      <td>0.050</td>\n",
       "    </tr>\n",
       "    <tr>\n",
       "      <th>Armenia</th>\n",
       "      <td>4.559</td>\n",
       "      <td>0.850</td>\n",
       "      <td>1.055</td>\n",
       "      <td>0.815</td>\n",
       "      <td>0.283</td>\n",
       "      <td>0.095</td>\n",
       "      <td>0.064</td>\n",
       "    </tr>\n",
       "  </tbody>\n",
       "</table>\n",
       "</div>"
      ],
      "text/plain": [
       "             score  gdp_per_capita  social_support  healthy_life_expectancy  \\\n",
       "Afghanistan  3.203           0.350           0.517                    0.361   \n",
       "Albania      4.719           0.947           0.848                    0.874   \n",
       "Algeria      5.211           1.002           1.160                    0.785   \n",
       "Argentina    6.086           1.092           1.432                    0.881   \n",
       "Armenia      4.559           0.850           1.055                    0.815   \n",
       "\n",
       "             freedom_to_make_life_choices  generosity  \\\n",
       "Afghanistan                         0.000       0.158   \n",
       "Albania                             0.383       0.178   \n",
       "Algeria                             0.086       0.073   \n",
       "Argentina                           0.471       0.066   \n",
       "Armenia                             0.283       0.095   \n",
       "\n",
       "             perceptions_of_corruption  \n",
       "Afghanistan                      0.025  \n",
       "Albania                          0.027  \n",
       "Algeria                          0.114  \n",
       "Argentina                        0.050  \n",
       "Armenia                          0.064  "
      ]
     },
     "execution_count": 2,
     "metadata": {},
     "output_type": "execute_result"
    }
   ],
   "source": [
    "import pandas as pd\n",
    "# pd.__version__ == 1.1.2\n",
    "data = pd.read_csv(\"./happiness.csv\", index_col=0)\n",
    "X, y = data.drop('score', axis=1), data.score\n",
    "n, p = X.shape\n",
    "data.head()"
   ]
  },
  {
   "cell_type": "code",
   "execution_count": 3,
   "metadata": {},
   "outputs": [
    {
     "name": "stderr",
     "output_type": "stream",
     "text": [
      "2024-03-03 19:17:30.764144: W tensorflow/tsl/platform/profile_utils/cpu_utils.cc:128] Failed to get CPU frequency: 0 Hz\n",
      "WARNING:absl:At this time, the v2.11+ optimizer `tf.keras.optimizers.Adam` runs slowly on M1/M2 Macs, please use the legacy Keras optimizer instead, located at `tf.keras.optimizers.legacy.Adam`.\n",
      "WARNING:absl:There is a known slowdown when using v2.11+ Keras optimizers on M1/M2 Macs. Falling back to the legacy Keras optimizer, i.e., `tf.keras.optimizers.legacy.Adam`.\n"
     ]
    },
    {
     "data": {
      "text/plain": [
       "<keras.callbacks.History at 0x2e65a1090>"
      ]
     },
     "execution_count": 3,
     "metadata": {},
     "output_type": "execute_result"
    }
   ],
   "source": [
    "import tensorflow as tf\n",
    "# tf.__version__ == 2.3.0\n",
    "tf.random.set_seed(11)\n",
    "\n",
    "normalizer  = tf.keras.layers.experimental.preprocessing.Normalization(input_shape=[p,])\n",
    "normalizer.adapt(X.to_numpy())\n",
    "\n",
    "model = tf.keras.Sequential([\n",
    "    normalizer,\n",
    "    tf.keras.Input(shape=(p,)),\n",
    "    tf.keras.layers.Dense(p*2, activation='relu'),\n",
    "    tf.keras.layers.Dense(p*3, activation='relu'),\n",
    "    tf.keras.layers.Dense(p*2, activation='relu'),\n",
    "    tf.keras.layers.Dense(p, activation='relu'),\n",
    "    tf.keras.layers.Dense(1, activation='relu')\n",
    "])\n",
    "\n",
    "model.compile(\n",
    "    optimizer=tf.keras.optimizers.Adam(0.001),\n",
    "    loss=tf.keras.losses.mae\n",
    ")\n",
    "\n",
    "model.fit(X, y, batch_size=int(n/10), epochs=2000, verbose=False)"
   ]
  },
  {
   "cell_type": "code",
   "execution_count": 5,
   "metadata": {},
   "outputs": [
    {
     "data": {
      "text/plain": [
       "'1.7.0'"
      ]
     },
     "execution_count": 5,
     "metadata": {},
     "output_type": "execute_result"
    }
   ],
   "source": [
    "import dalex as dx \n",
    "dx.__version__\n"
   ]
  },
  {
   "cell_type": "code",
   "execution_count": 6,
   "metadata": {},
   "outputs": [
    {
     "name": "stdout",
     "output_type": "stream",
     "text": [
      "Preparation of a new explainer is initiated\n",
      "\n",
      "  -> data              : 156 rows 6 cols\n",
      "  -> target variable   : Parameter 'y' was a pandas.Series. Converted to a numpy.ndarray.\n",
      "  -> target variable   : 156 values\n",
      "  -> model_class       : keras.engine.sequential.Sequential (default)\n",
      "  -> label             : happiness\n",
      "  -> predict function  : <function yhat_tf_regression at 0x2e7422c20> will be used (default)\n",
      "  -> predict function  : Accepts pandas.DataFrame and numpy.ndarray.\n",
      "  -> predicted values  : min = 0.0, mean = 5.34, max = 9.16\n",
      "  -> model type        : regression will be used (default)\n",
      "  -> residual function : difference between y and yhat (default)\n",
      "  -> residuals         : min = -2.9, mean = 0.0673, max = 3.52\n",
      "  -> model_info        : package keras\n",
      "\n",
      "A new explainer has been created!\n"
     ]
    }
   ],
   "source": [
    "explainer = dx.Explainer(model, X, y, label='happiness')"
   ]
  },
  {
   "cell_type": "code",
   "execution_count": 7,
   "metadata": {},
   "outputs": [
    {
     "data": {
      "text/html": [
       "<div>\n",
       "<style scoped>\n",
       "    .dataframe tbody tr th:only-of-type {\n",
       "        vertical-align: middle;\n",
       "    }\n",
       "\n",
       "    .dataframe tbody tr th {\n",
       "        vertical-align: top;\n",
       "    }\n",
       "\n",
       "    .dataframe thead th {\n",
       "        text-align: right;\n",
       "    }\n",
       "</style>\n",
       "<table border=\"1\" class=\"dataframe\">\n",
       "  <thead>\n",
       "    <tr style=\"text-align: right;\">\n",
       "      <th></th>\n",
       "      <th>mse</th>\n",
       "      <th>rmse</th>\n",
       "      <th>r2</th>\n",
       "      <th>mae</th>\n",
       "      <th>mad</th>\n",
       "    </tr>\n",
       "  </thead>\n",
       "  <tbody>\n",
       "    <tr>\n",
       "      <th>happiness</th>\n",
       "      <td>1.820443</td>\n",
       "      <td>1.349238</td>\n",
       "      <td>-0.47872</td>\n",
       "      <td>1.038673</td>\n",
       "      <td>0.803827</td>\n",
       "    </tr>\n",
       "  </tbody>\n",
       "</table>\n",
       "</div>"
      ],
      "text/plain": [
       "<dalex.model_explanations._model_performance.object.ModelPerformance at 0x2e6584550>"
      ]
     },
     "execution_count": 7,
     "metadata": {},
     "output_type": "execute_result"
    }
   ],
   "source": [
    "explainer.model_performance()"
   ]
  },
  {
   "cell_type": "code",
   "execution_count": 9,
   "metadata": {},
   "outputs": [
    {
     "data": {
      "application/vnd.plotly.v1+json": {
       "config": {
        "displaylogo": false,
        "modeBarButtonsToRemove": [
         "sendDataToCloud",
         "lasso2d",
         "autoScale2d",
         "select2d",
         "zoom2d",
         "pan2d",
         "zoomIn2d",
         "zoomOut2d",
         "resetScale2d",
         "toggleSpikelines",
         "hoverCompareCartesian",
         "hoverClosestCartesian"
        ],
        "plotlyServerURL": "https://plot.ly",
        "staticPlot": false,
        "toImageButtonOptions": {
         "height": null,
         "width": null
        }
       },
       "data": [
        {
         "base": 1.349237859749524,
         "hoverinfo": "text",
         "hoverlabel": {
          "bgcolor": "rgba(0,0,0,0.8)"
         },
         "hovertext": [
          "Model: happiness loss after<br>variable: generosity is permuted: 1.348<br>Drop-out loss change: -0.001",
          "Model: happiness loss after<br>variable: perceptions_of_corruption is permuted: 1.33<br>Drop-out loss change: -0.019",
          "Model: happiness loss after<br>variable: freedom_to_make_life_choices is permuted: 1.248<br>Drop-out loss change: -0.101",
          "Model: happiness loss after<br>variable: social_support is permuted: 1.165<br>Drop-out loss change: -0.184",
          "Model: happiness loss after<br>variable: healthy_life_expectancy is permuted: 1.145<br>Drop-out loss change: -0.205",
          "Model: happiness loss after<br>variable: gdp_per_capita is permuted: 1.106<br>Drop-out loss change: -0.243"
         ],
         "marker": {
          "color": "#46bac2"
         },
         "orientation": "h",
         "showlegend": false,
         "text": [
          "0.001",
          "0.019",
          "0.101",
          "0.184",
          "0.205",
          "0.243"
         ],
         "textposition": "outside",
         "type": "bar",
         "x": [
          -0.0010819049050088125,
          -0.019075485236982104,
          -0.10084077097957755,
          -0.1838824039245126,
          -0.20453360536094567,
          -0.24342662132506843
         ],
         "xaxis": "x",
         "y": [
          "generosity",
          "perceptions_of_corruption",
          "freedom_to_make_life_choices",
          "social_support",
          "healthy_life_expectancy",
          "gdp_per_capita"
         ],
         "yaxis": "y"
        }
       ],
       "layout": {
        "annotations": [
         {
          "font": {
           "size": 16
          },
          "showarrow": false,
          "text": "happiness",
          "x": 0.5,
          "xanchor": "center",
          "xref": "paper",
          "y": 1,
          "yanchor": "bottom",
          "yref": "paper"
         },
         {
          "font": {
           "size": 16
          },
          "showarrow": false,
          "text": "drop-out loss",
          "x": 0.5,
          "xanchor": "center",
          "xref": "paper",
          "y": 0,
          "yanchor": "top",
          "yref": "paper",
          "yshift": -30
         }
        ],
        "font": {
         "color": "#371ea3"
        },
        "height": 303,
        "margin": {
         "b": 71,
         "r": 30,
         "t": 78
        },
        "shapes": [
         {
          "line": {
           "color": "#371ea3",
           "dash": "dot",
           "width": 1.5
          },
          "type": "line",
          "x0": 1.349237859749524,
          "x1": 1.349237859749524,
          "xref": "x",
          "y0": -1,
          "y1": 6,
          "yref": "y"
         }
        ],
        "template": {
         "data": {
          "scatter": [
           {
            "type": "scatter"
           }
          ]
         }
        },
        "title": {
         "text": "Variable Importance",
         "x": 0.15
        },
        "xaxis": {
         "anchor": "y",
         "automargin": true,
         "domain": [
          0,
          1
         ],
         "fixedrange": true,
         "gridwidth": 2,
         "range": [
          1.0692972452256952,
          1.3857518529482844
         ],
         "tickcolor": "white",
         "ticklen": 3,
         "ticks": "outside",
         "type": "linear",
         "zeroline": false
        },
        "yaxis": {
         "anchor": "x",
         "automargin": true,
         "autorange": "reversed",
         "domain": [
          0,
          1
         ],
         "fixedrange": true,
         "gridwidth": 2,
         "tickcolor": "white",
         "ticklen": 10,
         "ticks": "outside",
         "type": "category"
        }
       }
      }
     },
     "metadata": {},
     "output_type": "display_data"
    },
    {
     "data": {
      "image/png": "[encoded data removed]",
      "text/plain": [
       "<Figure size 800x390 with 1 Axes>"
      ]
     },
     "metadata": {},
     "output_type": "display_data"
    }
   ],
   "source": [
    "\n",
    "explainer.model_parts().plot()\n",
    "explainer.model_parts(type='shap_wrapper').plot()"
   ]
  },
  {
   "cell_type": "code",
   "execution_count": 12,
   "metadata": {},
   "outputs": [
    {
     "name": "stderr",
     "output_type": "stream",
     "text": [
      "Calculating ceteris paribus: 100%|██████████| 6/6 [00:04<00:00,  1.25it/s]\n"
     ]
    },
    {
     "data": {
      "application/vnd.plotly.v1+json": {
       "config": {
        "displaylogo": false,
        "modeBarButtonsToRemove": [
         "sendDataToCloud",
         "lasso2d",
         "autoScale2d",
         "select2d",
         "zoom2d",
         "pan2d",
         "zoomIn2d",
         "zoomOut2d",
         "resetScale2d",
         "toggleSpikelines",
         "hoverCompareCartesian",
         "hoverClosestCartesian"
        ],
        "plotlyServerURL": "https://plot.ly",
        "staticPlot": false,
        "toImageButtonOptions": {
         "height": null,
         "width": null
        }
       },
       "data": [
        {
         "customdata": [
          [
           5.339818477630615,
           "happiness",
           "social_support"
          ],
          [
           5.339818477630615,
           "happiness",
           "social_support"
          ],
          [
           5.339818477630615,
           "happiness",
           "social_support"
          ],
          [
           5.339818477630615,
           "happiness",
           "social_support"
          ],
          [
           5.339818477630615,
           "happiness",
           "social_support"
          ],
          [
           5.339818477630615,
           "happiness",
           "social_support"
          ],
          [
           5.339818477630615,
           "happiness",
           "social_support"
          ],
          [
           5.339818477630615,
           "happiness",
           "social_support"
          ],
          [
           5.339818477630615,
           "happiness",
           "social_support"
          ],
          [
           5.339818477630615,
           "happiness",
           "social_support"
          ],
          [
           5.339818477630615,
           "happiness",
           "social_support"
          ],
          [
           5.339818477630615,
           "happiness",
           "social_support"
          ],
          [
           5.339818477630615,
           "happiness",
           "social_support"
          ],
          [
           5.339818477630615,
           "happiness",
           "social_support"
          ],
          [
           5.339818477630615,
           "happiness",
           "social_support"
          ],
          [
           5.339818477630615,
           "happiness",
           "social_support"
          ],
          [
           5.339818477630615,
           "happiness",
           "social_support"
          ],
          [
           5.339818477630615,
           "happiness",
           "social_support"
          ],
          [
           5.339818477630615,
           "happiness",
           "social_support"
          ],
          [
           5.339818477630615,
           "happiness",
           "social_support"
          ],
          [
           5.339818477630615,
           "happiness",
           "social_support"
          ],
          [
           5.339818477630615,
           "happiness",
           "social_support"
          ],
          [
           5.339818477630615,
           "happiness",
           "social_support"
          ],
          [
           5.339818477630615,
           "happiness",
           "social_support"
          ],
          [
           5.339818477630615,
           "happiness",
           "social_support"
          ],
          [
           5.339818477630615,
           "happiness",
           "social_support"
          ],
          [
           5.339818477630615,
           "happiness",
           "social_support"
          ],
          [
           5.339818477630615,
           "happiness",
           "social_support"
          ],
          [
           5.339818477630615,
           "happiness",
           "social_support"
          ],
          [
           5.339818477630615,
           "happiness",
           "social_support"
          ],
          [
           5.339818477630615,
           "happiness",
           "social_support"
          ],
          [
           5.339818477630615,
           "happiness",
           "social_support"
          ],
          [
           5.339818477630615,
           "happiness",
           "social_support"
          ],
          [
           5.339818477630615,
           "happiness",
           "social_support"
          ],
          [
           5.339818477630615,
           "happiness",
           "social_support"
          ],
          [
           5.339818477630615,
           "happiness",
           "social_support"
          ],
          [
           5.339818477630615,
           "happiness",
           "social_support"
          ],
          [
           5.339818477630615,
           "happiness",
           "social_support"
          ],
          [
           5.339818477630615,
           "happiness",
           "social_support"
          ],
          [
           5.339818477630615,
           "happiness",
           "social_support"
          ],
          [
           5.339818477630615,
           "happiness",
           "social_support"
          ],
          [
           5.339818477630615,
           "happiness",
           "social_support"
          ],
          [
           5.339818477630615,
           "happiness",
           "social_support"
          ],
          [
           5.339818477630615,
           "happiness",
           "social_support"
          ],
          [
           5.339818477630615,
           "happiness",
           "social_support"
          ],
          [
           5.339818477630615,
           "happiness",
           "social_support"
          ],
          [
           5.339818477630615,
           "happiness",
           "social_support"
          ],
          [
           5.339818477630615,
           "happiness",
           "social_support"
          ],
          [
           5.339818477630615,
           "happiness",
           "social_support"
          ],
          [
           5.339818477630615,
           "happiness",
           "social_support"
          ],
          [
           5.339818477630615,
           "happiness",
           "social_support"
          ],
          [
           5.339818477630615,
           "happiness",
           "social_support"
          ],
          [
           5.339818477630615,
           "happiness",
           "social_support"
          ],
          [
           5.339818477630615,
           "happiness",
           "social_support"
          ],
          [
           5.339818477630615,
           "happiness",
           "social_support"
          ],
          [
           5.339818477630615,
           "happiness",
           "social_support"
          ],
          [
           5.339818477630615,
           "happiness",
           "social_support"
          ],
          [
           5.339818477630615,
           "happiness",
           "social_support"
          ],
          [
           5.339818477630615,
           "happiness",
           "social_support"
          ],
          [
           5.339818477630615,
           "happiness",
           "social_support"
          ],
          [
           5.339818477630615,
           "happiness",
           "social_support"
          ],
          [
           5.339818477630615,
           "happiness",
           "social_support"
          ],
          [
           5.339818477630615,
           "happiness",
           "social_support"
          ],
          [
           5.339818477630615,
           "happiness",
           "social_support"
          ],
          [
           5.339818477630615,
           "happiness",
           "social_support"
          ],
          [
           5.339818477630615,
           "happiness",
           "social_support"
          ],
          [
           5.339818477630615,
           "happiness",
           "social_support"
          ],
          [
           5.339818477630615,
           "happiness",
           "social_support"
          ],
          [
           5.339818477630615,
           "happiness",
           "social_support"
          ],
          [
           5.339818477630615,
           "happiness",
           "social_support"
          ],
          [
           5.339818477630615,
           "happiness",
           "social_support"
          ],
          [
           5.339818477630615,
           "happiness",
           "social_support"
          ],
          [
           5.339818477630615,
           "happiness",
           "social_support"
          ],
          [
           5.339818477630615,
           "happiness",
           "social_support"
          ],
          [
           5.339818477630615,
           "happiness",
           "social_support"
          ],
          [
           5.339818477630615,
           "happiness",
           "social_support"
          ],
          [
           5.339818477630615,
           "happiness",
           "social_support"
          ],
          [
           5.339818477630615,
           "happiness",
           "social_support"
          ],
          [
           5.339818477630615,
           "happiness",
           "social_support"
          ],
          [
           5.339818477630615,
           "happiness",
           "social_support"
          ],
          [
           5.339818477630615,
           "happiness",
           "social_support"
          ],
          [
           5.339818477630615,
           "happiness",
           "social_support"
          ],
          [
           5.339818477630615,
           "happiness",
           "social_support"
          ],
          [
           5.339818477630615,
           "happiness",
           "social_support"
          ],
          [
           5.339818477630615,
           "happiness",
           "social_support"
          ],
          [
           5.339818477630615,
           "happiness",
           "social_support"
          ],
          [
           5.339818477630615,
           "happiness",
           "social_support"
          ],
          [
           5.339818477630615,
           "happiness",
           "social_support"
          ],
          [
           5.339818477630615,
           "happiness",
           "social_support"
          ],
          [
           5.339818477630615,
           "happiness",
           "social_support"
          ],
          [
           5.339818477630615,
           "happiness",
           "social_support"
          ],
          [
           5.339818477630615,
           "happiness",
           "social_support"
          ],
          [
           5.339818477630615,
           "happiness",
           "social_support"
          ],
          [
           5.339818477630615,
           "happiness",
           "social_support"
          ],
          [
           5.339818477630615,
           "happiness",
           "social_support"
          ],
          [
           5.339818477630615,
           "happiness",
           "social_support"
          ],
          [
           5.339818477630615,
           "happiness",
           "social_support"
          ],
          [
           5.339818477630615,
           "happiness",
           "social_support"
          ],
          [
           5.339818477630615,
           "happiness",
           "social_support"
          ],
          [
           5.339818477630615,
           "happiness",
           "social_support"
          ],
          [
           5.339818477630615,
           "happiness",
           "social_support"
          ]
         ],
         "hovertemplate": "<b>%{hovertext}</b><br><br>prediction=%{y:.3f}<br>mean_prediction=%{customdata[0]:.3f}<extra></extra>",
         "hovertext": [
          "happiness",
          "happiness",
          "happiness",
          "happiness",
          "happiness",
          "happiness",
          "happiness",
          "happiness",
          "happiness",
          "happiness",
          "happiness",
          "happiness",
          "happiness",
          "happiness",
          "happiness",
          "happiness",
          "happiness",
          "happiness",
          "happiness",
          "happiness",
          "happiness",
          "happiness",
          "happiness",
          "happiness",
          "happiness",
          "happiness",
          "happiness",
          "happiness",
          "happiness",
          "happiness",
          "happiness",
          "happiness",
          "happiness",
          "happiness",
          "happiness",
          "happiness",
          "happiness",
          "happiness",
          "happiness",
          "happiness",
          "happiness",
          "happiness",
          "happiness",
          "happiness",
          "happiness",
          "happiness",
          "happiness",
          "happiness",
          "happiness",
          "happiness",
          "happiness",
          "happiness",
          "happiness",
          "happiness",
          "happiness",
          "happiness",
          "happiness",
          "happiness",
          "happiness",
          "happiness",
          "happiness",
          "happiness",
          "happiness",
          "happiness",
          "happiness",
          "happiness",
          "happiness",
          "happiness",
          "happiness",
          "happiness",
          "happiness",
          "happiness",
          "happiness",
          "happiness",
          "happiness",
          "happiness",
          "happiness",
          "happiness",
          "happiness",
          "happiness",
          "happiness",
          "happiness",
          "happiness",
          "happiness",
          "happiness",
          "happiness",
          "happiness",
          "happiness",
          "happiness",
          "happiness",
          "happiness",
          "happiness",
          "happiness",
          "happiness",
          "happiness",
          "happiness",
          "happiness",
          "happiness",
          "happiness",
          "happiness",
          "happiness"
         ],
         "legendgroup": "happiness",
         "line": {
          "color": "#46bac2",
          "dash": "solid",
          "width": 2
         },
         "marker": {
          "symbol": "circle"
         },
         "mode": "lines",
         "name": "happiness",
         "opacity": 1,
         "orientation": "v",
         "showlegend": true,
         "type": "scatter",
         "x": [
          0,
          0.01624,
          0.03248,
          0.04872,
          0.06496,
          0.08120000000000001,
          0.09744,
          0.11368,
          0.12992,
          0.14616,
          0.16240000000000002,
          0.17864000000000002,
          0.19488,
          0.21112,
          0.22736,
          0.2436,
          0.25984,
          0.27608,
          0.29232,
          0.30856,
          0.32480000000000003,
          0.34104,
          0.35728000000000004,
          0.37352,
          0.38976,
          0.406,
          0.42224,
          0.43848000000000004,
          0.45472,
          0.47096000000000005,
          0.4872,
          0.50344,
          0.51968,
          0.5359200000000001,
          0.55216,
          0.5684,
          0.58464,
          0.6008800000000001,
          0.61712,
          0.63336,
          0.6496000000000001,
          0.66584,
          0.68208,
          0.69832,
          0.7145600000000001,
          0.7308,
          0.74704,
          0.7632800000000001,
          0.77952,
          0.79576,
          0.812,
          0.8282400000000001,
          0.84448,
          0.86072,
          0.8769600000000001,
          0.8932000000000001,
          0.90944,
          0.9256800000000001,
          0.9419200000000001,
          0.95816,
          0.9744,
          0.9906400000000001,
          1.00688,
          1.02312,
          1.03936,
          1.0556,
          1.0718400000000001,
          1.0880800000000002,
          1.10432,
          1.12056,
          1.1368,
          1.15304,
          1.16928,
          1.1855200000000001,
          1.2017600000000002,
          1.218,
          1.23424,
          1.25048,
          1.26672,
          1.28296,
          1.2992000000000001,
          1.3154400000000002,
          1.33168,
          1.34792,
          1.36416,
          1.3804,
          1.39664,
          1.4128800000000001,
          1.4291200000000002,
          1.44536,
          1.4616,
          1.47784,
          1.49408,
          1.51032,
          1.5265600000000001,
          1.5428000000000002,
          1.55904,
          1.57528,
          1.59152,
          1.60776,
          1.624
         ],
         "xaxis": "x3",
         "y": [
          2.5855255,
          2.6198795,
          2.6548028,
          2.6897857,
          2.7247407,
          2.7597644,
          2.794946,
          2.830151,
          2.8653617,
          2.900647,
          2.9360826,
          2.971564,
          3.0072758,
          3.0434384,
          3.0796056,
          3.1157792,
          3.151966,
          3.1883812,
          3.224779,
          3.2611654,
          3.2975886,
          3.333961,
          3.3703997,
          3.4067824,
          3.4431977,
          3.4796002,
          3.516217,
          3.5528717,
          3.5895216,
          3.6261578,
          3.6629603,
          3.69987,
          3.7369854,
          3.774114,
          3.8112178,
          3.8483653,
          3.8855023,
          3.922729,
          3.9600892,
          3.997458,
          4.03482,
          4.0721927,
          4.1096206,
          4.1472325,
          4.1848416,
          4.2224584,
          4.260052,
          4.297661,
          4.3352823,
          4.3728843,
          4.410505,
          4.4481096,
          4.4857078,
          4.5233274,
          4.5609136,
          4.598543,
          4.6361446,
          4.673778,
          4.7113714,
          4.748981,
          4.786586,
          4.8241878,
          4.861809,
          4.899419,
          4.9370227,
          4.974634,
          5.0122256,
          5.0498385,
          5.087447,
          5.12507,
          5.162668,
          5.200272,
          5.2378974,
          5.2754965,
          5.3131227,
          5.3507395,
          5.388301,
          5.425921,
          5.463546,
          5.5011497,
          5.538751,
          5.5763936,
          5.613972,
          5.651567,
          5.689186,
          5.726808,
          5.7644196,
          5.8019996,
          5.8396254,
          5.8772287,
          5.914825,
          5.952463,
          5.9900494,
          6.0276666,
          6.065299,
          6.1028857,
          6.1405077,
          6.1781044,
          6.215713,
          6.253321,
          6.290923
         ],
         "yaxis": "y3"
        },
        {
         "customdata": [
          [
           5.339818477630615,
           "happiness",
           "healthy_life_expectancy"
          ],
          [
           5.339818477630615,
           "happiness",
           "healthy_life_expectancy"
          ],
          [
           5.339818477630615,
           "happiness",
           "healthy_life_expectancy"
          ],
          [
           5.339818477630615,
           "happiness",
           "healthy_life_expectancy"
          ],
          [
           5.339818477630615,
           "happiness",
           "healthy_life_expectancy"
          ],
          [
           5.339818477630615,
           "happiness",
           "healthy_life_expectancy"
          ],
          [
           5.339818477630615,
           "happiness",
           "healthy_life_expectancy"
          ],
          [
           5.339818477630615,
           "happiness",
           "healthy_life_expectancy"
          ],
          [
           5.339818477630615,
           "happiness",
           "healthy_life_expectancy"
          ],
          [
           5.339818477630615,
           "happiness",
           "healthy_life_expectancy"
          ],
          [
           5.339818477630615,
           "happiness",
           "healthy_life_expectancy"
          ],
          [
           5.339818477630615,
           "happiness",
           "healthy_life_expectancy"
          ],
          [
           5.339818477630615,
           "happiness",
           "healthy_life_expectancy"
          ],
          [
           5.339818477630615,
           "happiness",
           "healthy_life_expectancy"
          ],
          [
           5.339818477630615,
           "happiness",
           "healthy_life_expectancy"
          ],
          [
           5.339818477630615,
           "happiness",
           "healthy_life_expectancy"
          ],
          [
           5.339818477630615,
           "happiness",
           "healthy_life_expectancy"
          ],
          [
           5.339818477630615,
           "happiness",
           "healthy_life_expectancy"
          ],
          [
           5.339818477630615,
           "happiness",
           "healthy_life_expectancy"
          ],
          [
           5.339818477630615,
           "happiness",
           "healthy_life_expectancy"
          ],
          [
           5.339818477630615,
           "happiness",
           "healthy_life_expectancy"
          ],
          [
           5.339818477630615,
           "happiness",
           "healthy_life_expectancy"
          ],
          [
           5.339818477630615,
           "happiness",
           "healthy_life_expectancy"
          ],
          [
           5.339818477630615,
           "happiness",
           "healthy_life_expectancy"
          ],
          [
           5.339818477630615,
           "happiness",
           "healthy_life_expectancy"
          ],
          [
           5.339818477630615,
           "happiness",
           "healthy_life_expectancy"
          ],
          [
           5.339818477630615,
           "happiness",
           "healthy_life_expectancy"
          ],
          [
           5.339818477630615,
           "happiness",
           "healthy_life_expectancy"
          ],
          [
           5.339818477630615,
           "happiness",
           "healthy_life_expectancy"
          ],
          [
           5.339818477630615,
           "happiness",
           "healthy_life_expectancy"
          ],
          [
           5.339818477630615,
           "happiness",
           "healthy_life_expectancy"
          ],
          [
           5.339818477630615,
           "happiness",
           "healthy_life_expectancy"
          ],
          [
           5.339818477630615,
           "happiness",
           "healthy_life_expectancy"
          ],
          [
           5.339818477630615,
           "happiness",
           "healthy_life_expectancy"
          ],
          [
           5.339818477630615,
           "happiness",
           "healthy_life_expectancy"
          ],
          [
           5.339818477630615,
           "happiness",
           "healthy_life_expectancy"
          ],
          [
           5.339818477630615,
           "happiness",
           "healthy_life_expectancy"
          ],
          [
           5.339818477630615,
           "happiness",
           "healthy_life_expectancy"
          ],
          [
           5.339818477630615,
           "happiness",
           "healthy_life_expectancy"
          ],
          [
           5.339818477630615,
           "happiness",
           "healthy_life_expectancy"
          ],
          [
           5.339818477630615,
           "happiness",
           "healthy_life_expectancy"
          ],
          [
           5.339818477630615,
           "happiness",
           "healthy_life_expectancy"
          ],
          [
           5.339818477630615,
           "happiness",
           "healthy_life_expectancy"
          ],
          [
           5.339818477630615,
           "happiness",
           "healthy_life_expectancy"
          ],
          [
           5.339818477630615,
           "happiness",
           "healthy_life_expectancy"
          ],
          [
           5.339818477630615,
           "happiness",
           "healthy_life_expectancy"
          ],
          [
           5.339818477630615,
           "happiness",
           "healthy_life_expectancy"
          ],
          [
           5.339818477630615,
           "happiness",
           "healthy_life_expectancy"
          ],
          [
           5.339818477630615,
           "happiness",
           "healthy_life_expectancy"
          ],
          [
           5.339818477630615,
           "happiness",
           "healthy_life_expectancy"
          ],
          [
           5.339818477630615,
           "happiness",
           "healthy_life_expectancy"
          ],
          [
           5.339818477630615,
           "happiness",
           "healthy_life_expectancy"
          ],
          [
           5.339818477630615,
           "happiness",
           "healthy_life_expectancy"
          ],
          [
           5.339818477630615,
           "happiness",
           "healthy_life_expectancy"
          ],
          [
           5.339818477630615,
           "happiness",
           "healthy_life_expectancy"
          ],
          [
           5.339818477630615,
           "happiness",
           "healthy_life_expectancy"
          ],
          [
           5.339818477630615,
           "happiness",
           "healthy_life_expectancy"
          ],
          [
           5.339818477630615,
           "happiness",
           "healthy_life_expectancy"
          ],
          [
           5.339818477630615,
           "happiness",
           "healthy_life_expectancy"
          ],
          [
           5.339818477630615,
           "happiness",
           "healthy_life_expectancy"
          ],
          [
           5.339818477630615,
           "happiness",
           "healthy_life_expectancy"
          ],
          [
           5.339818477630615,
           "happiness",
           "healthy_life_expectancy"
          ],
          [
           5.339818477630615,
           "happiness",
           "healthy_life_expectancy"
          ],
          [
           5.339818477630615,
           "happiness",
           "healthy_life_expectancy"
          ],
          [
           5.339818477630615,
           "happiness",
           "healthy_life_expectancy"
          ],
          [
           5.339818477630615,
           "happiness",
           "healthy_life_expectancy"
          ],
          [
           5.339818477630615,
           "happiness",
           "healthy_life_expectancy"
          ],
          [
           5.339818477630615,
           "happiness",
           "healthy_life_expectancy"
          ],
          [
           5.339818477630615,
           "happiness",
           "healthy_life_expectancy"
          ],
          [
           5.339818477630615,
           "happiness",
           "healthy_life_expectancy"
          ],
          [
           5.339818477630615,
           "happiness",
           "healthy_life_expectancy"
          ],
          [
           5.339818477630615,
           "happiness",
           "healthy_life_expectancy"
          ],
          [
           5.339818477630615,
           "happiness",
           "healthy_life_expectancy"
          ],
          [
           5.339818477630615,
           "happiness",
           "healthy_life_expectancy"
          ],
          [
           5.339818477630615,
           "happiness",
           "healthy_life_expectancy"
          ],
          [
           5.339818477630615,
           "happiness",
           "healthy_life_expectancy"
          ],
          [
           5.339818477630615,
           "happiness",
           "healthy_life_expectancy"
          ],
          [
           5.339818477630615,
           "happiness",
           "healthy_life_expectancy"
          ],
          [
           5.339818477630615,
           "happiness",
           "healthy_life_expectancy"
          ],
          [
           5.339818477630615,
           "happiness",
           "healthy_life_expectancy"
          ],
          [
           5.339818477630615,
           "happiness",
           "healthy_life_expectancy"
          ],
          [
           5.339818477630615,
           "happiness",
           "healthy_life_expectancy"
          ],
          [
           5.339818477630615,
           "happiness",
           "healthy_life_expectancy"
          ],
          [
           5.339818477630615,
           "happiness",
           "healthy_life_expectancy"
          ],
          [
           5.339818477630615,
           "happiness",
           "healthy_life_expectancy"
          ],
          [
           5.339818477630615,
           "happiness",
           "healthy_life_expectancy"
          ],
          [
           5.339818477630615,
           "happiness",
           "healthy_life_expectancy"
          ],
          [
           5.339818477630615,
           "happiness",
           "healthy_life_expectancy"
          ],
          [
           5.339818477630615,
           "happiness",
           "healthy_life_expectancy"
          ],
          [
           5.339818477630615,
           "happiness",
           "healthy_life_expectancy"
          ],
          [
           5.339818477630615,
           "happiness",
           "healthy_life_expectancy"
          ],
          [
           5.339818477630615,
           "happiness",
           "healthy_life_expectancy"
          ],
          [
           5.339818477630615,
           "happiness",
           "healthy_life_expectancy"
          ],
          [
           5.339818477630615,
           "happiness",
           "healthy_life_expectancy"
          ],
          [
           5.339818477630615,
           "happiness",
           "healthy_life_expectancy"
          ],
          [
           5.339818477630615,
           "happiness",
           "healthy_life_expectancy"
          ],
          [
           5.339818477630615,
           "happiness",
           "healthy_life_expectancy"
          ],
          [
           5.339818477630615,
           "happiness",
           "healthy_life_expectancy"
          ],
          [
           5.339818477630615,
           "happiness",
           "healthy_life_expectancy"
          ],
          [
           5.339818477630615,
           "happiness",
           "healthy_life_expectancy"
          ],
          [
           5.339818477630615,
           "happiness",
           "healthy_life_expectancy"
          ]
         ],
         "hovertemplate": "<b>%{hovertext}</b><br><br>prediction=%{y:.3f}<br>mean_prediction=%{customdata[0]:.3f}<extra></extra>",
         "hovertext": [
          "happiness",
          "happiness",
          "happiness",
          "happiness",
          "happiness",
          "happiness",
          "happiness",
          "happiness",
          "happiness",
          "happiness",
          "happiness",
          "happiness",
          "happiness",
          "happiness",
          "happiness",
          "happiness",
          "happiness",
          "happiness",
          "happiness",
          "happiness",
          "happiness",
          "happiness",
          "happiness",
          "happiness",
          "happiness",
          "happiness",
          "happiness",
          "happiness",
          "happiness",
          "happiness",
          "happiness",
          "happiness",
          "happiness",
          "happiness",
          "happiness",
          "happiness",
          "happiness",
          "happiness",
          "happiness",
          "happiness",
          "happiness",
          "happiness",
          "happiness",
          "happiness",
          "happiness",
          "happiness",
          "happiness",
          "happiness",
          "happiness",
          "happiness",
          "happiness",
          "happiness",
          "happiness",
          "happiness",
          "happiness",
          "happiness",
          "happiness",
          "happiness",
          "happiness",
          "happiness",
          "happiness",
          "happiness",
          "happiness",
          "happiness",
          "happiness",
          "happiness",
          "happiness",
          "happiness",
          "happiness",
          "happiness",
          "happiness",
          "happiness",
          "happiness",
          "happiness",
          "happiness",
          "happiness",
          "happiness",
          "happiness",
          "happiness",
          "happiness",
          "happiness",
          "happiness",
          "happiness",
          "happiness",
          "happiness",
          "happiness",
          "happiness",
          "happiness",
          "happiness",
          "happiness",
          "happiness",
          "happiness",
          "happiness",
          "happiness",
          "happiness",
          "happiness",
          "happiness",
          "happiness",
          "happiness",
          "happiness",
          "happiness"
         ],
         "legendgroup": "happiness",
         "line": {
          "color": "#46bac2",
          "dash": "solid",
          "width": 2
         },
         "marker": {
          "symbol": "circle"
         },
         "mode": "lines",
         "name": "happiness",
         "opacity": 1,
         "orientation": "v",
         "showlegend": false,
         "type": "scatter",
         "x": [
          0,
          0.01141,
          0.02282,
          0.03423,
          0.04564,
          0.057050000000000003,
          0.06846,
          0.07987,
          0.09128,
          0.10269,
          0.11410000000000001,
          0.12551,
          0.13692,
          0.14833,
          0.15974,
          0.17115,
          0.18256,
          0.19397,
          0.20538,
          0.21679,
          0.22820000000000001,
          0.23961,
          0.25102,
          0.26243,
          0.27384,
          0.28525,
          0.29666,
          0.30807,
          0.31948,
          0.33089,
          0.3423,
          0.35371,
          0.36512,
          0.37653,
          0.38794,
          0.39935,
          0.41076,
          0.42217,
          0.43358,
          0.44499,
          0.45640000000000003,
          0.46781,
          0.47922,
          0.49063,
          0.50204,
          0.51345,
          0.52486,
          0.53627,
          0.54768,
          0.55909,
          0.5705,
          0.58191,
          0.59332,
          0.60473,
          0.61614,
          0.62755,
          0.63896,
          0.65037,
          0.66178,
          0.67319,
          0.6846,
          0.69601,
          0.70742,
          0.71883,
          0.73024,
          0.74165,
          0.75306,
          0.76447,
          0.77588,
          0.78729,
          0.7987,
          0.81011,
          0.82152,
          0.83293,
          0.84434,
          0.85575,
          0.86716,
          0.87857,
          0.88998,
          0.90139,
          0.9128000000000001,
          0.92421,
          0.93562,
          0.94703,
          0.95844,
          0.96985,
          0.98126,
          0.99267,
          1.00408,
          1.01549,
          1.0269,
          1.03831,
          1.04972,
          1.06113,
          1.07254,
          1.08395,
          1.09536,
          1.10677,
          1.11818,
          1.12959,
          1.141
         ],
         "xaxis": "x4",
         "y": [
          3.0887866,
          3.1231081,
          3.1574519,
          3.191755,
          3.2260852,
          3.2605488,
          3.2951007,
          3.329647,
          3.364196,
          3.3987494,
          3.433303,
          3.4678423,
          3.502405,
          3.5369525,
          3.571507,
          3.6060524,
          3.6406105,
          3.675263,
          3.7100313,
          3.744803,
          3.779613,
          3.8143804,
          3.8491473,
          3.8839428,
          3.9187148,
          3.9535022,
          3.9883196,
          4.02333,
          4.0585666,
          4.093795,
          4.129042,
          4.164412,
          4.2001004,
          4.235832,
          4.271526,
          4.307231,
          4.342909,
          4.378613,
          4.414321,
          4.4500265,
          4.485728,
          4.5214214,
          4.5571356,
          4.5928354,
          4.6285644,
          4.6642404,
          4.699959,
          4.735647,
          4.7713614,
          4.807066,
          4.8427463,
          4.8784647,
          4.91414,
          4.9498982,
          4.98583,
          5.021766,
          5.057704,
          5.093653,
          5.129569,
          5.165513,
          5.201428,
          5.2373643,
          5.2733,
          5.3092246,
          5.345169,
          5.3811107,
          5.4170403,
          5.452972,
          5.4889035,
          5.524821,
          5.560759,
          5.5967026,
          5.6326284,
          5.668562,
          5.704498,
          5.7404213,
          5.7763705,
          5.812295,
          5.8482523,
          5.884156,
          5.920095,
          5.956021,
          5.9919705,
          6.027904,
          6.0638347,
          6.0997677,
          6.135707,
          6.171637,
          6.207574,
          6.243501,
          6.2794404,
          6.315385,
          6.3513045,
          6.387232,
          6.4231706,
          6.459099,
          6.495042,
          6.5309834,
          6.5669174,
          6.602854,
          6.638771
         ],
         "yaxis": "y4"
        },
        {
         "customdata": [
          [
           5.339818477630615,
           "happiness",
           "gdp_per_capita"
          ],
          [
           5.339818477630615,
           "happiness",
           "gdp_per_capita"
          ],
          [
           5.339818477630615,
           "happiness",
           "gdp_per_capita"
          ],
          [
           5.339818477630615,
           "happiness",
           "gdp_per_capita"
          ],
          [
           5.339818477630615,
           "happiness",
           "gdp_per_capita"
          ],
          [
           5.339818477630615,
           "happiness",
           "gdp_per_capita"
          ],
          [
           5.339818477630615,
           "happiness",
           "gdp_per_capita"
          ],
          [
           5.339818477630615,
           "happiness",
           "gdp_per_capita"
          ],
          [
           5.339818477630615,
           "happiness",
           "gdp_per_capita"
          ],
          [
           5.339818477630615,
           "happiness",
           "gdp_per_capita"
          ],
          [
           5.339818477630615,
           "happiness",
           "gdp_per_capita"
          ],
          [
           5.339818477630615,
           "happiness",
           "gdp_per_capita"
          ],
          [
           5.339818477630615,
           "happiness",
           "gdp_per_capita"
          ],
          [
           5.339818477630615,
           "happiness",
           "gdp_per_capita"
          ],
          [
           5.339818477630615,
           "happiness",
           "gdp_per_capita"
          ],
          [
           5.339818477630615,
           "happiness",
           "gdp_per_capita"
          ],
          [
           5.339818477630615,
           "happiness",
           "gdp_per_capita"
          ],
          [
           5.339818477630615,
           "happiness",
           "gdp_per_capita"
          ],
          [
           5.339818477630615,
           "happiness",
           "gdp_per_capita"
          ],
          [
           5.339818477630615,
           "happiness",
           "gdp_per_capita"
          ],
          [
           5.339818477630615,
           "happiness",
           "gdp_per_capita"
          ],
          [
           5.339818477630615,
           "happiness",
           "gdp_per_capita"
          ],
          [
           5.339818477630615,
           "happiness",
           "gdp_per_capita"
          ],
          [
           5.339818477630615,
           "happiness",
           "gdp_per_capita"
          ],
          [
           5.339818477630615,
           "happiness",
           "gdp_per_capita"
          ],
          [
           5.339818477630615,
           "happiness",
           "gdp_per_capita"
          ],
          [
           5.339818477630615,
           "happiness",
           "gdp_per_capita"
          ],
          [
           5.339818477630615,
           "happiness",
           "gdp_per_capita"
          ],
          [
           5.339818477630615,
           "happiness",
           "gdp_per_capita"
          ],
          [
           5.339818477630615,
           "happiness",
           "gdp_per_capita"
          ],
          [
           5.339818477630615,
           "happiness",
           "gdp_per_capita"
          ],
          [
           5.339818477630615,
           "happiness",
           "gdp_per_capita"
          ],
          [
           5.339818477630615,
           "happiness",
           "gdp_per_capita"
          ],
          [
           5.339818477630615,
           "happiness",
           "gdp_per_capita"
          ],
          [
           5.339818477630615,
           "happiness",
           "gdp_per_capita"
          ],
          [
           5.339818477630615,
           "happiness",
           "gdp_per_capita"
          ],
          [
           5.339818477630615,
           "happiness",
           "gdp_per_capita"
          ],
          [
           5.339818477630615,
           "happiness",
           "gdp_per_capita"
          ],
          [
           5.339818477630615,
           "happiness",
           "gdp_per_capita"
          ],
          [
           5.339818477630615,
           "happiness",
           "gdp_per_capita"
          ],
          [
           5.339818477630615,
           "happiness",
           "gdp_per_capita"
          ],
          [
           5.339818477630615,
           "happiness",
           "gdp_per_capita"
          ],
          [
           5.339818477630615,
           "happiness",
           "gdp_per_capita"
          ],
          [
           5.339818477630615,
           "happiness",
           "gdp_per_capita"
          ],
          [
           5.339818477630615,
           "happiness",
           "gdp_per_capita"
          ],
          [
           5.339818477630615,
           "happiness",
           "gdp_per_capita"
          ],
          [
           5.339818477630615,
           "happiness",
           "gdp_per_capita"
          ],
          [
           5.339818477630615,
           "happiness",
           "gdp_per_capita"
          ],
          [
           5.339818477630615,
           "happiness",
           "gdp_per_capita"
          ],
          [
           5.339818477630615,
           "happiness",
           "gdp_per_capita"
          ],
          [
           5.339818477630615,
           "happiness",
           "gdp_per_capita"
          ],
          [
           5.339818477630615,
           "happiness",
           "gdp_per_capita"
          ],
          [
           5.339818477630615,
           "happiness",
           "gdp_per_capita"
          ],
          [
           5.339818477630615,
           "happiness",
           "gdp_per_capita"
          ],
          [
           5.339818477630615,
           "happiness",
           "gdp_per_capita"
          ],
          [
           5.339818477630615,
           "happiness",
           "gdp_per_capita"
          ],
          [
           5.339818477630615,
           "happiness",
           "gdp_per_capita"
          ],
          [
           5.339818477630615,
           "happiness",
           "gdp_per_capita"
          ],
          [
           5.339818477630615,
           "happiness",
           "gdp_per_capita"
          ],
          [
           5.339818477630615,
           "happiness",
           "gdp_per_capita"
          ],
          [
           5.339818477630615,
           "happiness",
           "gdp_per_capita"
          ],
          [
           5.339818477630615,
           "happiness",
           "gdp_per_capita"
          ],
          [
           5.339818477630615,
           "happiness",
           "gdp_per_capita"
          ],
          [
           5.339818477630615,
           "happiness",
           "gdp_per_capita"
          ],
          [
           5.339818477630615,
           "happiness",
           "gdp_per_capita"
          ],
          [
           5.339818477630615,
           "happiness",
           "gdp_per_capita"
          ],
          [
           5.339818477630615,
           "happiness",
           "gdp_per_capita"
          ],
          [
           5.339818477630615,
           "happiness",
           "gdp_per_capita"
          ],
          [
           5.339818477630615,
           "happiness",
           "gdp_per_capita"
          ],
          [
           5.339818477630615,
           "happiness",
           "gdp_per_capita"
          ],
          [
           5.339818477630615,
           "happiness",
           "gdp_per_capita"
          ],
          [
           5.339818477630615,
           "happiness",
           "gdp_per_capita"
          ],
          [
           5.339818477630615,
           "happiness",
           "gdp_per_capita"
          ],
          [
           5.339818477630615,
           "happiness",
           "gdp_per_capita"
          ],
          [
           5.339818477630615,
           "happiness",
           "gdp_per_capita"
          ],
          [
           5.339818477630615,
           "happiness",
           "gdp_per_capita"
          ],
          [
           5.339818477630615,
           "happiness",
           "gdp_per_capita"
          ],
          [
           5.339818477630615,
           "happiness",
           "gdp_per_capita"
          ],
          [
           5.339818477630615,
           "happiness",
           "gdp_per_capita"
          ],
          [
           5.339818477630615,
           "happiness",
           "gdp_per_capita"
          ],
          [
           5.339818477630615,
           "happiness",
           "gdp_per_capita"
          ],
          [
           5.339818477630615,
           "happiness",
           "gdp_per_capita"
          ],
          [
           5.339818477630615,
           "happiness",
           "gdp_per_capita"
          ],
          [
           5.339818477630615,
           "happiness",
           "gdp_per_capita"
          ],
          [
           5.339818477630615,
           "happiness",
           "gdp_per_capita"
          ],
          [
           5.339818477630615,
           "happiness",
           "gdp_per_capita"
          ],
          [
           5.339818477630615,
           "happiness",
           "gdp_per_capita"
          ],
          [
           5.339818477630615,
           "happiness",
           "gdp_per_capita"
          ],
          [
           5.339818477630615,
           "happiness",
           "gdp_per_capita"
          ],
          [
           5.339818477630615,
           "happiness",
           "gdp_per_capita"
          ],
          [
           5.339818477630615,
           "happiness",
           "gdp_per_capita"
          ],
          [
           5.339818477630615,
           "happiness",
           "gdp_per_capita"
          ],
          [
           5.339818477630615,
           "happiness",
           "gdp_per_capita"
          ],
          [
           5.339818477630615,
           "happiness",
           "gdp_per_capita"
          ],
          [
           5.339818477630615,
           "happiness",
           "gdp_per_capita"
          ],
          [
           5.339818477630615,
           "happiness",
           "gdp_per_capita"
          ],
          [
           5.339818477630615,
           "happiness",
           "gdp_per_capita"
          ],
          [
           5.339818477630615,
           "happiness",
           "gdp_per_capita"
          ],
          [
           5.339818477630615,
           "happiness",
           "gdp_per_capita"
          ],
          [
           5.339818477630615,
           "happiness",
           "gdp_per_capita"
          ],
          [
           5.339818477630615,
           "happiness",
           "gdp_per_capita"
          ]
         ],
         "hovertemplate": "<b>%{hovertext}</b><br><br>prediction=%{y:.3f}<br>mean_prediction=%{customdata[0]:.3f}<extra></extra>",
         "hovertext": [
          "happiness",
          "happiness",
          "happiness",
          "happiness",
          "happiness",
          "happiness",
          "happiness",
          "happiness",
          "happiness",
          "happiness",
          "happiness",
          "happiness",
          "happiness",
          "happiness",
          "happiness",
          "happiness",
          "happiness",
          "happiness",
          "happiness",
          "happiness",
          "happiness",
          "happiness",
          "happiness",
          "happiness",
          "happiness",
          "happiness",
          "happiness",
          "happiness",
          "happiness",
          "happiness",
          "happiness",
          "happiness",
          "happiness",
          "happiness",
          "happiness",
          "happiness",
          "happiness",
          "happiness",
          "happiness",
          "happiness",
          "happiness",
          "happiness",
          "happiness",
          "happiness",
          "happiness",
          "happiness",
          "happiness",
          "happiness",
          "happiness",
          "happiness",
          "happiness",
          "happiness",
          "happiness",
          "happiness",
          "happiness",
          "happiness",
          "happiness",
          "happiness",
          "happiness",
          "happiness",
          "happiness",
          "happiness",
          "happiness",
          "happiness",
          "happiness",
          "happiness",
          "happiness",
          "happiness",
          "happiness",
          "happiness",
          "happiness",
          "happiness",
          "happiness",
          "happiness",
          "happiness",
          "happiness",
          "happiness",
          "happiness",
          "happiness",
          "happiness",
          "happiness",
          "happiness",
          "happiness",
          "happiness",
          "happiness",
          "happiness",
          "happiness",
          "happiness",
          "happiness",
          "happiness",
          "happiness",
          "happiness",
          "happiness",
          "happiness",
          "happiness",
          "happiness",
          "happiness",
          "happiness",
          "happiness",
          "happiness",
          "happiness"
         ],
         "legendgroup": "happiness",
         "line": {
          "color": "#46bac2",
          "dash": "solid",
          "width": 2
         },
         "marker": {
          "symbol": "circle"
         },
         "mode": "lines",
         "name": "happiness",
         "opacity": 1,
         "orientation": "v",
         "showlegend": false,
         "type": "scatter",
         "x": [
          0,
          0.01684,
          0.03368,
          0.05052,
          0.06736,
          0.0842,
          0.10104,
          0.11788000000000001,
          0.13472,
          0.15156,
          0.1684,
          0.18524000000000002,
          0.20208,
          0.21892,
          0.23576000000000003,
          0.2526,
          0.26944,
          0.28628000000000003,
          0.30312,
          0.31996,
          0.3368,
          0.35364,
          0.37048000000000003,
          0.38732,
          0.40416,
          0.42100000000000004,
          0.43784,
          0.45468000000000003,
          0.47152000000000005,
          0.48836,
          0.5052,
          0.5220400000000001,
          0.53888,
          0.55572,
          0.5725600000000001,
          0.5894,
          0.60624,
          0.6230800000000001,
          0.63992,
          0.65676,
          0.6736,
          0.69044,
          0.70728,
          0.72412,
          0.7409600000000001,
          0.7578,
          0.77464,
          0.7914800000000001,
          0.80832,
          0.82516,
          0.8420000000000001,
          0.85884,
          0.87568,
          0.8925200000000001,
          0.9093600000000001,
          0.9262,
          0.9430400000000001,
          0.9598800000000001,
          0.97672,
          0.99356,
          1.0104,
          1.0272400000000002,
          1.0440800000000001,
          1.06092,
          1.07776,
          1.0946,
          1.11144,
          1.12828,
          1.1451200000000001,
          1.16196,
          1.1788,
          1.19564,
          1.21248,
          1.22932,
          1.2461600000000002,
          1.2630000000000001,
          1.27984,
          1.29668,
          1.31352,
          1.33036,
          1.3472,
          1.3640400000000001,
          1.38088,
          1.39772,
          1.41456,
          1.4314,
          1.44824,
          1.4650800000000002,
          1.4819200000000001,
          1.49876,
          1.5156,
          1.53244,
          1.54928,
          1.5661200000000002,
          1.5829600000000001,
          1.5998,
          1.61664,
          1.63348,
          1.65032,
          1.66716,
          1.684
         ],
         "xaxis": "x",
         "y": [
          4.0540333,
          4.0775304,
          4.101024,
          4.124494,
          4.147992,
          4.1714635,
          4.194966,
          4.2184615,
          4.241939,
          4.2654214,
          4.288916,
          4.312394,
          4.335882,
          4.3593698,
          4.382858,
          4.406336,
          4.4298253,
          4.4533134,
          4.476798,
          4.5002966,
          4.5238924,
          4.5476584,
          4.571458,
          4.5952644,
          4.6190424,
          4.642848,
          4.6667705,
          4.6907325,
          4.71467,
          4.7386293,
          4.7625904,
          4.786526,
          4.810486,
          4.8344193,
          4.8583784,
          4.882333,
          4.9062796,
          4.9302263,
          4.954173,
          4.9781475,
          5.0020747,
          5.0260377,
          5.0499887,
          5.073943,
          5.09789,
          5.121836,
          5.1457877,
          5.16974,
          5.193699,
          5.217646,
          5.2415953,
          5.2655406,
          5.2894955,
          5.3134527,
          5.3373985,
          5.3613515,
          5.3852882,
          5.4092436,
          5.4332004,
          5.4571557,
          5.4811087,
          5.5050683,
          5.5289955,
          5.5529504,
          5.576916,
          5.6008577,
          5.624805,
          5.6488276,
          5.672925,
          5.6970305,
          5.721149,
          5.7452455,
          5.7693715,
          5.7934575,
          5.817572,
          5.8416953,
          5.865789,
          5.8899007,
          5.914009,
          5.9381204,
          5.962229,
          5.986333,
          6.010436,
          6.0345316,
          6.058641,
          6.0827446,
          6.106857,
          6.1309643,
          6.155085,
          6.179168,
          6.2032843,
          6.227381,
          6.25149,
          6.275612,
          6.2997036,
          6.323827,
          6.3479476,
          6.372044,
          6.396137,
          6.42025,
          6.4443574
         ],
         "yaxis": "y"
        },
        {
         "customdata": [
          [
           5.339818477630615,
           "happiness",
           "freedom_to_make_life_choices"
          ],
          [
           5.339818477630615,
           "happiness",
           "freedom_to_make_life_choices"
          ],
          [
           5.339818477630615,
           "happiness",
           "freedom_to_make_life_choices"
          ],
          [
           5.339818477630615,
           "happiness",
           "freedom_to_make_life_choices"
          ],
          [
           5.339818477630615,
           "happiness",
           "freedom_to_make_life_choices"
          ],
          [
           5.339818477630615,
           "happiness",
           "freedom_to_make_life_choices"
          ],
          [
           5.339818477630615,
           "happiness",
           "freedom_to_make_life_choices"
          ],
          [
           5.339818477630615,
           "happiness",
           "freedom_to_make_life_choices"
          ],
          [
           5.339818477630615,
           "happiness",
           "freedom_to_make_life_choices"
          ],
          [
           5.339818477630615,
           "happiness",
           "freedom_to_make_life_choices"
          ],
          [
           5.339818477630615,
           "happiness",
           "freedom_to_make_life_choices"
          ],
          [
           5.339818477630615,
           "happiness",
           "freedom_to_make_life_choices"
          ],
          [
           5.339818477630615,
           "happiness",
           "freedom_to_make_life_choices"
          ],
          [
           5.339818477630615,
           "happiness",
           "freedom_to_make_life_choices"
          ],
          [
           5.339818477630615,
           "happiness",
           "freedom_to_make_life_choices"
          ],
          [
           5.339818477630615,
           "happiness",
           "freedom_to_make_life_choices"
          ],
          [
           5.339818477630615,
           "happiness",
           "freedom_to_make_life_choices"
          ],
          [
           5.339818477630615,
           "happiness",
           "freedom_to_make_life_choices"
          ],
          [
           5.339818477630615,
           "happiness",
           "freedom_to_make_life_choices"
          ],
          [
           5.339818477630615,
           "happiness",
           "freedom_to_make_life_choices"
          ],
          [
           5.339818477630615,
           "happiness",
           "freedom_to_make_life_choices"
          ],
          [
           5.339818477630615,
           "happiness",
           "freedom_to_make_life_choices"
          ],
          [
           5.339818477630615,
           "happiness",
           "freedom_to_make_life_choices"
          ],
          [
           5.339818477630615,
           "happiness",
           "freedom_to_make_life_choices"
          ],
          [
           5.339818477630615,
           "happiness",
           "freedom_to_make_life_choices"
          ],
          [
           5.339818477630615,
           "happiness",
           "freedom_to_make_life_choices"
          ],
          [
           5.339818477630615,
           "happiness",
           "freedom_to_make_life_choices"
          ],
          [
           5.339818477630615,
           "happiness",
           "freedom_to_make_life_choices"
          ],
          [
           5.339818477630615,
           "happiness",
           "freedom_to_make_life_choices"
          ],
          [
           5.339818477630615,
           "happiness",
           "freedom_to_make_life_choices"
          ],
          [
           5.339818477630615,
           "happiness",
           "freedom_to_make_life_choices"
          ],
          [
           5.339818477630615,
           "happiness",
           "freedom_to_make_life_choices"
          ],
          [
           5.339818477630615,
           "happiness",
           "freedom_to_make_life_choices"
          ],
          [
           5.339818477630615,
           "happiness",
           "freedom_to_make_life_choices"
          ],
          [
           5.339818477630615,
           "happiness",
           "freedom_to_make_life_choices"
          ],
          [
           5.339818477630615,
           "happiness",
           "freedom_to_make_life_choices"
          ],
          [
           5.339818477630615,
           "happiness",
           "freedom_to_make_life_choices"
          ],
          [
           5.339818477630615,
           "happiness",
           "freedom_to_make_life_choices"
          ],
          [
           5.339818477630615,
           "happiness",
           "freedom_to_make_life_choices"
          ],
          [
           5.339818477630615,
           "happiness",
           "freedom_to_make_life_choices"
          ],
          [
           5.339818477630615,
           "happiness",
           "freedom_to_make_life_choices"
          ],
          [
           5.339818477630615,
           "happiness",
           "freedom_to_make_life_choices"
          ],
          [
           5.339818477630615,
           "happiness",
           "freedom_to_make_life_choices"
          ],
          [
           5.339818477630615,
           "happiness",
           "freedom_to_make_life_choices"
          ],
          [
           5.339818477630615,
           "happiness",
           "freedom_to_make_life_choices"
          ],
          [
           5.339818477630615,
           "happiness",
           "freedom_to_make_life_choices"
          ],
          [
           5.339818477630615,
           "happiness",
           "freedom_to_make_life_choices"
          ],
          [
           5.339818477630615,
           "happiness",
           "freedom_to_make_life_choices"
          ],
          [
           5.339818477630615,
           "happiness",
           "freedom_to_make_life_choices"
          ],
          [
           5.339818477630615,
           "happiness",
           "freedom_to_make_life_choices"
          ],
          [
           5.339818477630615,
           "happiness",
           "freedom_to_make_life_choices"
          ],
          [
           5.339818477630615,
           "happiness",
           "freedom_to_make_life_choices"
          ],
          [
           5.339818477630615,
           "happiness",
           "freedom_to_make_life_choices"
          ],
          [
           5.339818477630615,
           "happiness",
           "freedom_to_make_life_choices"
          ],
          [
           5.339818477630615,
           "happiness",
           "freedom_to_make_life_choices"
          ],
          [
           5.339818477630615,
           "happiness",
           "freedom_to_make_life_choices"
          ],
          [
           5.339818477630615,
           "happiness",
           "freedom_to_make_life_choices"
          ],
          [
           5.339818477630615,
           "happiness",
           "freedom_to_make_life_choices"
          ],
          [
           5.339818477630615,
           "happiness",
           "freedom_to_make_life_choices"
          ],
          [
           5.339818477630615,
           "happiness",
           "freedom_to_make_life_choices"
          ],
          [
           5.339818477630615,
           "happiness",
           "freedom_to_make_life_choices"
          ],
          [
           5.339818477630615,
           "happiness",
           "freedom_to_make_life_choices"
          ],
          [
           5.339818477630615,
           "happiness",
           "freedom_to_make_life_choices"
          ],
          [
           5.339818477630615,
           "happiness",
           "freedom_to_make_life_choices"
          ],
          [
           5.339818477630615,
           "happiness",
           "freedom_to_make_life_choices"
          ],
          [
           5.339818477630615,
           "happiness",
           "freedom_to_make_life_choices"
          ],
          [
           5.339818477630615,
           "happiness",
           "freedom_to_make_life_choices"
          ],
          [
           5.339818477630615,
           "happiness",
           "freedom_to_make_life_choices"
          ],
          [
           5.339818477630615,
           "happiness",
           "freedom_to_make_life_choices"
          ],
          [
           5.339818477630615,
           "happiness",
           "freedom_to_make_life_choices"
          ],
          [
           5.339818477630615,
           "happiness",
           "freedom_to_make_life_choices"
          ],
          [
           5.339818477630615,
           "happiness",
           "freedom_to_make_life_choices"
          ],
          [
           5.339818477630615,
           "happiness",
           "freedom_to_make_life_choices"
          ],
          [
           5.339818477630615,
           "happiness",
           "freedom_to_make_life_choices"
          ],
          [
           5.339818477630615,
           "happiness",
           "freedom_to_make_life_choices"
          ],
          [
           5.339818477630615,
           "happiness",
           "freedom_to_make_life_choices"
          ],
          [
           5.339818477630615,
           "happiness",
           "freedom_to_make_life_choices"
          ],
          [
           5.339818477630615,
           "happiness",
           "freedom_to_make_life_choices"
          ],
          [
           5.339818477630615,
           "happiness",
           "freedom_to_make_life_choices"
          ],
          [
           5.339818477630615,
           "happiness",
           "freedom_to_make_life_choices"
          ],
          [
           5.339818477630615,
           "happiness",
           "freedom_to_make_life_choices"
          ],
          [
           5.339818477630615,
           "happiness",
           "freedom_to_make_life_choices"
          ],
          [
           5.339818477630615,
           "happiness",
           "freedom_to_make_life_choices"
          ],
          [
           5.339818477630615,
           "happiness",
           "freedom_to_make_life_choices"
          ],
          [
           5.339818477630615,
           "happiness",
           "freedom_to_make_life_choices"
          ],
          [
           5.339818477630615,
           "happiness",
           "freedom_to_make_life_choices"
          ],
          [
           5.339818477630615,
           "happiness",
           "freedom_to_make_life_choices"
          ],
          [
           5.339818477630615,
           "happiness",
           "freedom_to_make_life_choices"
          ],
          [
           5.339818477630615,
           "happiness",
           "freedom_to_make_life_choices"
          ],
          [
           5.339818477630615,
           "happiness",
           "freedom_to_make_life_choices"
          ],
          [
           5.339818477630615,
           "happiness",
           "freedom_to_make_life_choices"
          ],
          [
           5.339818477630615,
           "happiness",
           "freedom_to_make_life_choices"
          ],
          [
           5.339818477630615,
           "happiness",
           "freedom_to_make_life_choices"
          ],
          [
           5.339818477630615,
           "happiness",
           "freedom_to_make_life_choices"
          ],
          [
           5.339818477630615,
           "happiness",
           "freedom_to_make_life_choices"
          ],
          [
           5.339818477630615,
           "happiness",
           "freedom_to_make_life_choices"
          ],
          [
           5.339818477630615,
           "happiness",
           "freedom_to_make_life_choices"
          ],
          [
           5.339818477630615,
           "happiness",
           "freedom_to_make_life_choices"
          ],
          [
           5.339818477630615,
           "happiness",
           "freedom_to_make_life_choices"
          ],
          [
           5.339818477630615,
           "happiness",
           "freedom_to_make_life_choices"
          ],
          [
           5.339818477630615,
           "happiness",
           "freedom_to_make_life_choices"
          ]
         ],
         "hovertemplate": "<b>%{hovertext}</b><br><br>prediction=%{y:.3f}<br>mean_prediction=%{customdata[0]:.3f}<extra></extra>",
         "hovertext": [
          "happiness",
          "happiness",
          "happiness",
          "happiness",
          "happiness",
          "happiness",
          "happiness",
          "happiness",
          "happiness",
          "happiness",
          "happiness",
          "happiness",
          "happiness",
          "happiness",
          "happiness",
          "happiness",
          "happiness",
          "happiness",
          "happiness",
          "happiness",
          "happiness",
          "happiness",
          "happiness",
          "happiness",
          "happiness",
          "happiness",
          "happiness",
          "happiness",
          "happiness",
          "happiness",
          "happiness",
          "happiness",
          "happiness",
          "happiness",
          "happiness",
          "happiness",
          "happiness",
          "happiness",
          "happiness",
          "happiness",
          "happiness",
          "happiness",
          "happiness",
          "happiness",
          "happiness",
          "happiness",
          "happiness",
          "happiness",
          "happiness",
          "happiness",
          "happiness",
          "happiness",
          "happiness",
          "happiness",
          "happiness",
          "happiness",
          "happiness",
          "happiness",
          "happiness",
          "happiness",
          "happiness",
          "happiness",
          "happiness",
          "happiness",
          "happiness",
          "happiness",
          "happiness",
          "happiness",
          "happiness",
          "happiness",
          "happiness",
          "happiness",
          "happiness",
          "happiness",
          "happiness",
          "happiness",
          "happiness",
          "happiness",
          "happiness",
          "happiness",
          "happiness",
          "happiness",
          "happiness",
          "happiness",
          "happiness",
          "happiness",
          "happiness",
          "happiness",
          "happiness",
          "happiness",
          "happiness",
          "happiness",
          "happiness",
          "happiness",
          "happiness",
          "happiness",
          "happiness",
          "happiness",
          "happiness",
          "happiness",
          "happiness"
         ],
         "legendgroup": "happiness",
         "line": {
          "color": "#46bac2",
          "dash": "solid",
          "width": 2
         },
         "marker": {
          "symbol": "circle"
         },
         "mode": "lines",
         "name": "happiness",
         "opacity": 1,
         "orientation": "v",
         "showlegend": false,
         "type": "scatter",
         "x": [
          0,
          0.00631,
          0.01262,
          0.01893,
          0.02524,
          0.031549999999999995,
          0.03786,
          0.04417,
          0.05048,
          0.05678999999999999,
          0.06309999999999999,
          0.06941,
          0.07572,
          0.08202999999999999,
          0.08834,
          0.09465,
          0.10096,
          0.10726999999999999,
          0.11357999999999999,
          0.11989,
          0.12619999999999998,
          0.13251,
          0.13882,
          0.14512999999999998,
          0.15144,
          0.15775,
          0.16405999999999998,
          0.17037,
          0.17668,
          0.18298999999999999,
          0.1893,
          0.19560999999999998,
          0.20192,
          0.20823,
          0.21453999999999998,
          0.22085,
          0.22715999999999997,
          0.23346999999999998,
          0.23978,
          0.24608999999999998,
          0.25239999999999996,
          0.25871,
          0.26502,
          0.27132999999999996,
          0.27764,
          0.28395,
          0.29025999999999996,
          0.29657,
          0.30288,
          0.30918999999999996,
          0.3155,
          0.32181,
          0.32811999999999997,
          0.33443,
          0.34074,
          0.34704999999999997,
          0.35336,
          0.35967,
          0.36597999999999997,
          0.37228999999999995,
          0.3786,
          0.38491,
          0.39121999999999996,
          0.39753,
          0.40384,
          0.41014999999999996,
          0.41646,
          0.42277,
          0.42907999999999996,
          0.43539,
          0.4417,
          0.44800999999999996,
          0.45431999999999995,
          0.46063,
          0.46693999999999997,
          0.47324999999999995,
          0.47956,
          0.48586999999999997,
          0.49217999999999995,
          0.49849,
          0.5047999999999999,
          0.51111,
          0.51742,
          0.5237299999999999,
          0.53004,
          0.53635,
          0.5426599999999999,
          0.54897,
          0.55528,
          0.5615899999999999,
          0.5679,
          0.57421,
          0.5805199999999999,
          0.58683,
          0.59314,
          0.5994499999999999,
          0.60576,
          0.61207,
          0.6183799999999999,
          0.62469,
          0.631
         ],
         "xaxis": "x2",
         "y": [
          3.6602013,
          3.6866624,
          3.713133,
          3.7395806,
          3.7661726,
          3.7928114,
          3.8194318,
          3.8461523,
          3.87296,
          3.8997595,
          3.9265704,
          3.9533758,
          3.980193,
          4.0070505,
          4.0340333,
          4.0610085,
          4.0879793,
          4.114971,
          4.1419554,
          4.1689334,
          4.1959033,
          4.2228904,
          4.2498803,
          4.2768707,
          4.303843,
          4.3308215,
          4.3577933,
          4.384785,
          4.41176,
          4.438735,
          4.4657197,
          4.492706,
          4.519685,
          4.5466647,
          4.5736375,
          4.6006255,
          4.6276016,
          4.6546,
          4.6815596,
          4.708571,
          4.73554,
          4.762506,
          4.7894897,
          4.816477,
          4.843442,
          4.8704185,
          4.897415,
          4.924392,
          4.9513793,
          4.978353,
          5.00535,
          5.0323052,
          5.0592914,
          5.086261,
          5.1132507,
          5.140219,
          5.1672015,
          5.1941934,
          5.2211804,
          5.2481503,
          5.275133,
          5.3021007,
          5.3290887,
          5.3560634,
          5.3830385,
          5.410046,
          5.437018,
          5.4639983,
          5.4909935,
          5.517947,
          5.5449343,
          5.5719047,
          5.5989122,
          5.6258926,
          5.6528616,
          5.679854,
          5.7068276,
          5.7338066,
          5.7608,
          5.7877626,
          5.814768,
          5.841752,
          5.8686967,
          5.8957043,
          5.92268,
          5.94968,
          5.976639,
          6.0036087,
          6.030609,
          6.0575886,
          6.084549,
          6.1115294,
          6.138532,
          6.1654983,
          6.1925774,
          6.2197256,
          6.2468925,
          6.274056,
          6.301201,
          6.3284,
          6.355535
         ],
         "yaxis": "y2"
        }
       ],
       "layout": {
        "annotations": [
         {
          "font": {
           "size": 13
          },
          "showarrow": false,
          "text": "gdp_per_capita",
          "x": 0.2375,
          "xanchor": "center",
          "xref": "paper",
          "y": 0.425,
          "yanchor": "bottom",
          "yref": "paper"
         },
         {
          "font": {
           "size": 13
          },
          "showarrow": false,
          "text": "freedom_to_make_life_choices",
          "x": 0.7625,
          "xanchor": "center",
          "xref": "paper",
          "y": 0.425,
          "yanchor": "bottom",
          "yref": "paper"
         },
         {
          "font": {
           "size": 13
          },
          "showarrow": false,
          "text": "social_support",
          "x": 0.2375,
          "xanchor": "center",
          "xref": "paper",
          "y": 1,
          "yanchor": "bottom",
          "yref": "paper"
         },
         {
          "font": {
           "size": 13
          },
          "showarrow": false,
          "text": "healthy_life_expectancy",
          "x": 0.7625,
          "xanchor": "center",
          "xref": "paper",
          "y": 1,
          "yanchor": "bottom",
          "yref": "paper"
         },
         {
          "font": {
           "size": 13
          },
          "showarrow": false,
          "text": "prediction",
          "textangle": -90,
          "x": -0.07,
          "xref": "paper",
          "y": 0.5,
          "yref": "paper"
         }
        ],
        "font": {
         "color": "#371ea3"
        },
        "height": 829,
        "hovermode": "x unified",
        "legend": {
         "font": {
          "size": 11
         },
         "itemsizing": "constant",
         "orientation": "h",
         "title": {
          "font": {
           "size": 12
          },
          "text": "label"
         },
         "tracegroupgap": 0,
         "x": 1,
         "xanchor": "right",
         "y": 1.0361881785283473,
         "yanchor": "bottom"
        },
        "margin": {
         "b": 71,
         "r": 30,
         "t": 78
        },
        "template": {
         "data": {
          "scatter": [
           {
            "type": "scatter"
           }
          ]
         }
        },
        "title": {
         "font": {
          "size": 16
         },
         "text": "Aggregated Profiles",
         "x": 0.15
        },
        "xaxis": {
         "anchor": "y",
         "automargin": true,
         "domain": [
          0,
          0.475
         ],
         "fixedrange": true,
         "gridwidth": 2,
         "showticklabels": true,
         "tickcolor": "white",
         "ticklen": 3,
         "ticks": "outside",
         "title": {
          "text": ""
         },
         "type": "linear",
         "zeroline": false
        },
        "xaxis2": {
         "anchor": "y2",
         "automargin": true,
         "domain": [
          0.525,
          1
         ],
         "fixedrange": true,
         "gridwidth": 2,
         "showticklabels": true,
         "tickcolor": "white",
         "ticklen": 3,
         "ticks": "outside",
         "title": {
          "text": ""
         },
         "type": "linear",
         "zeroline": false
        },
        "xaxis3": {
         "anchor": "y3",
         "automargin": true,
         "domain": [
          0,
          0.475
         ],
         "fixedrange": true,
         "gridwidth": 2,
         "showticklabels": true,
         "tickcolor": "white",
         "ticklen": 3,
         "ticks": "outside",
         "title": {
          "text": ""
         },
         "type": "linear",
         "zeroline": false
        },
        "xaxis4": {
         "anchor": "y4",
         "automargin": true,
         "domain": [
          0.525,
          1
         ],
         "fixedrange": true,
         "gridwidth": 2,
         "showticklabels": true,
         "tickcolor": "white",
         "ticklen": 3,
         "ticks": "outside",
         "title": {
          "text": ""
         },
         "type": "linear",
         "zeroline": false
        },
        "yaxis": {
         "anchor": "x",
         "automargin": true,
         "domain": [
          0,
          0.425
         ],
         "fixedrange": true,
         "gridwidth": 2,
         "range": [
          2.180200958251953,
          7.044095611572265
         ],
         "tickcolor": "white",
         "ticklen": 3,
         "ticks": "outside",
         "title": {
          "text": ""
         },
         "type": "linear",
         "zeroline": false
        },
        "yaxis2": {
         "anchor": "x2",
         "automargin": true,
         "domain": [
          0,
          0.425
         ],
         "fixedrange": true,
         "gridwidth": 2,
         "matches": "y",
         "showticklabels": false,
         "tickcolor": "white",
         "ticklen": 3,
         "ticks": "outside",
         "title": {
          "text": ""
         },
         "type": "linear",
         "zeroline": false
        },
        "yaxis3": {
         "anchor": "x3",
         "automargin": true,
         "domain": [
          0.575,
          1
         ],
         "fixedrange": true,
         "gridwidth": 2,
         "matches": "y",
         "range": [
          2.180200958251953,
          7.044095611572265
         ],
         "tickcolor": "white",
         "ticklen": 3,
         "ticks": "outside",
         "title": {
          "text": ""
         },
         "type": "linear",
         "zeroline": false
        },
        "yaxis4": {
         "anchor": "x4",
         "automargin": true,
         "domain": [
          0.575,
          1
         ],
         "fixedrange": true,
         "gridwidth": 2,
         "matches": "y",
         "showticklabels": false,
         "tickcolor": "white",
         "ticklen": 3,
         "ticks": "outside",
         "title": {
          "text": ""
         },
         "type": "linear",
         "zeroline": false
        }
       }
      }
     },
     "metadata": {},
     "output_type": "display_data"
    }
   ],
   "source": [
    "explainer.model_profile().plot(variables=['social_support', 'healthy_life_expectancy',\n",
    "                                          'gdp_per_capita', 'freedom_to_make_life_choices'])\n"
   ]
  },
  {
   "cell_type": "code",
   "execution_count": 13,
   "metadata": {},
   "outputs": [
    {
     "data": {
      "application/vnd.plotly.v1+json": {
       "config": {
        "displaylogo": false,
        "modeBarButtonsToRemove": [
         "sendDataToCloud",
         "lasso2d",
         "autoScale2d",
         "select2d",
         "zoom2d",
         "pan2d",
         "zoomIn2d",
         "zoomOut2d",
         "resetScale2d",
         "toggleSpikelines",
         "hoverCompareCartesian",
         "hoverClosestCartesian"
        ],
        "plotlyServerURL": "https://plot.ly",
        "staticPlot": false,
        "toImageButtonOptions": {
         "height": null,
         "width": null
        }
       },
       "data": [
        {
         "hovertemplate": "<b>%{hovertext}</b><br><br>label=happiness<br>social_support=%{x}<br>residuals=%{y}<extra></extra>",
         "hovertext": [
          1,
          2,
          3,
          4,
          5,
          6,
          7,
          8,
          9,
          10,
          11,
          12,
          13,
          14,
          15,
          16,
          17,
          18,
          19,
          20,
          21,
          22,
          23,
          24,
          25,
          26,
          27,
          28,
          29,
          30,
          31,
          32,
          33,
          34,
          35,
          36,
          37,
          38,
          39,
          40,
          41,
          42,
          43,
          44,
          45,
          46,
          47,
          48,
          49,
          50,
          51,
          52,
          53,
          54,
          55,
          56,
          57,
          58,
          59,
          60,
          61,
          62,
          63,
          64,
          65,
          66,
          67,
          68,
          69,
          70,
          71,
          72,
          73,
          74,
          75,
          76,
          77,
          78,
          79,
          80,
          81,
          82,
          83,
          84,
          85,
          86,
          87,
          88,
          89,
          90,
          91,
          92,
          93,
          94,
          95,
          96,
          97,
          98,
          99,
          100,
          101,
          102,
          103,
          104,
          105,
          106,
          107,
          108,
          109,
          110,
          111,
          112,
          113,
          114,
          115,
          116,
          117,
          118,
          119,
          120,
          121,
          122,
          123,
          124,
          125,
          126,
          127,
          128,
          129,
          130,
          131,
          132,
          133,
          134,
          135,
          136,
          137,
          138,
          139,
          140,
          141,
          142,
          143,
          144,
          145,
          146,
          147,
          148,
          149,
          150,
          151,
          152,
          153,
          154,
          155,
          156
         ],
         "legendgroup": "happiness",
         "line": {
          "width": 3
         },
         "marker": {
          "color": "#46bac2",
          "size": 5,
          "symbol": "circle"
         },
         "mode": "markers",
         "name": "happiness",
         "orientation": "v",
         "showlegend": true,
         "type": "scatter",
         "x": [
          0.517,
          0.848,
          1.16,
          1.432,
          1.055,
          1.548,
          1.475,
          1.147,
          1.368,
          0.928,
          1.465,
          1.504,
          0.437,
          1.321,
          1.209,
          1.212,
          1.145,
          1.439,
          1.513,
          1.056,
          0.447,
          1.122,
          0.91,
          1.505,
          0,
          0.766,
          1.369,
          1.125,
          1.41,
          0.757,
          0.799,
          1.125,
          1.441,
          1.266,
          1.223,
          1.487,
          1.573,
          1.401,
          1.312,
          1.039,
          1.242,
          1.528,
          1.033,
          1.587,
          1.472,
          1.183,
          0.939,
          0.666,
          1.454,
          0.868,
          1.156,
          1.269,
          0.829,
          0.688,
          1.236,
          1.277,
          1.41,
          1.624,
          0.765,
          1.203,
          0.842,
          0.98,
          1.553,
          1.455,
          1.488,
          0.808,
          1.478,
          1.419,
          1.225,
          1.508,
          0.983,
          1.232,
          1.319,
          1.438,
          1.03,
          1.465,
          1.224,
          1.169,
          0.922,
          1.303,
          1.515,
          1.479,
          0.916,
          0.56,
          1.171,
          1.105,
          1.52,
          1.167,
          1.402,
          1.323,
          1.328,
          1.531,
          1.361,
          0.782,
          0.986,
          1.181,
          1.313,
          1.226,
          1.522,
          1.557,
          1.325,
          0.774,
          1.111,
          1.294,
          1.252,
          1.582,
          0.886,
          1.247,
          1.442,
          1.475,
          1.274,
          1.293,
          1.438,
          1.431,
          1.313,
          1.232,
          1.452,
          0.711,
          1.357,
          1.134,
          1.383,
          0.841,
          1.463,
          1.504,
          1.523,
          0.698,
          1.351,
          1.219,
          0.575,
          1.484,
          1.265,
          1.149,
          1.487,
          1.526,
          0.378,
          1.43,
          1.098,
          0.885,
          1.409,
          0.572,
          1.477,
          1,
          1.36,
          1.538,
          1.069,
          1.39,
          1.31,
          1.538,
          1.457,
          1.465,
          1.529,
          1.427,
          1.346,
          1.163,
          1.058,
          1.114
         ],
         "xaxis": "x",
         "y": [
          3.1674462168216704,
          -0.17332635498046844,
          0.814047847747803,
          -0.9634713783264157,
          -0.22701217269897445,
          -1.2317644805908206,
          -0.9372866668701167,
          -0.44560355377197247,
          -1.1230033645629884,
          -0.3702495994567867,
          -0.5285582084655758,
          -1.0582970161437988,
          3.3142814474105835,
          -0.05771900939941421,
          0.16788978958129874,
          0.634091220855713,
          -1.7960280532836914,
          -0.03525609970092791,
          -1.2525450363159178,
          2.097627746582031,
          3.1737298011779784,
          -0.47898654937744123,
          2.2979877891540523,
          -1.2899845809936528,
          3.083,
          3.5187415838241574,
          -0.011887794494628956,
          -1.3816733207702638,
          -0.5213847160339355,
          2.5402745704650878,
          1.4368741149902347,
          2.2442343406677248,
          -0.3859985427856447,
          -0.5607921295166012,
          -0.7936067619323728,
          -0.6548168640136716,
          -1.220987701416016,
          -1.222572994232178,
          -0.5144365997314457,
          0.013821712493896854,
          0.548454502105713,
          -1.7436419792175295,
          1.0451242790222164,
          -1.1382446823120116,
          -1.3384103851318363,
          0.06908247375488319,
          1.7081100616455078,
          0.31248993301391614,
          -0.9150411033630368,
          1.8546668968200688,
          0.03528338623046867,
          0.463198314666748,
          2.262222846984863,
          3.109291520833969,
          0.1593283271789554,
          -2.372069187164307,
          -0.0009454650878906179,
          -1.031275230407715,
          -0.039930686950683913,
          0.1921430511474611,
          0.0894671897888184,
          0.5385486717224124,
          -1.414196876525879,
          -0.006303249359130625,
          -0.5472794075012208,
          2.7297306003570556,
          -0.7288273429870609,
          -2.112065948486328,
          -0.7409259262084964,
          -0.7249555740356444,
          0.9053241577148441,
          0.47245368957519496,
          -1.1567873039245606,
          -0.3040529861450194,
          0.02623653030395534,
          -0.21693092346191367,
          0.26297757339477545,
          0.9628734130859375,
          1.6518417358398438,
          -0.28495416641235316,
          -0.3540074119567871,
          -1.5794774627685548,
          1.832139881134033,
          1.1891404724121095,
          -0.9589779243469234,
          1.6627947235107419,
          -1.249740909576416,
          1.7940676116943362,
          -0.7735853309631349,
          0.04073640823364233,
          0.9557048835754394,
          -0.1814530754089354,
          -0.013524295806885078,
          0.5438941078186037,
          1.2614931259155275,
          -0.15610994338989226,
          -0.2576307640075681,
          0.330193412780762,
          -0.8541564102172847,
          -1.273114364624023,
          0.2839817810058598,
          2.870924213409424,
          1.9580351257324216,
          -0.4234854469299316,
          -1.3781055755615235,
          -1.4759911499023435,
          2.407424095153808,
          0.4513501129150388,
          -1.0579682388305667,
          -0.7816272087097165,
          -0.5909037857055663,
          -0.34810690307617165,
          -1.0286614112854,
          -2.068968612670899,
          -1.4836655387878421,
          -0.32246463775634737,
          -0.45393729400634797,
          -0.716706386566162,
          -0.6135988235473633,
          1.0924985466003418,
          -0.1883584709167483,
          2.868589805603027,
          -2.8992691879272465,
          -0.523405982971191,
          -1.8972912139892575,
          2.439915912628174,
          -0.209885719299316,
          0.051707763671874574,
          2.853,
          -1.097895236968994,
          -1.6577517356872562,
          1.5857010955810544,
          -1.181195671081543,
          -1.3254761886596675,
          3.182379859209061,
          -0.371128658294678,
          1.0510725898742672,
          -0.03206676864624036,
          -0.6624483032226562,
          2.5721922731399536,
          -0.48906555938720686,
          0.15612653350830108,
          -0.2631079216003416,
          -0.6588909416198732,
          1.2115362777709962,
          -0.29263569641113296,
          -0.7605445861816404,
          -0.7022971115112302,
          -0.37740965652465785,
          -1.1604430503845213,
          -0.736854339599609,
          -0.53803231048584,
          -1.2933117866516115,
          0.8648523139953612,
          0.49418509674072286,
          0.35558642196655255
         ],
         "yaxis": "y"
        },
        {
         "hovertemplate": "<b>LOWESS trendline</b><br><br>label=happiness<br>social_support=%{x}<br>residuals=%{y} <b>(trend)</b><extra></extra>",
         "legendgroup": "happiness",
         "line": {
          "width": 3
         },
         "marker": {
          "color": "#46bac2",
          "size": 5,
          "symbol": "circle"
         },
         "mode": "lines",
         "name": "happiness",
         "showlegend": false,
         "type": "scatter",
         "x": [
          0,
          0.378,
          0.437,
          0.447,
          0.517,
          0.56,
          0.572,
          0.575,
          0.666,
          0.688,
          0.698,
          0.711,
          0.757,
          0.765,
          0.766,
          0.774,
          0.782,
          0.799,
          0.808,
          0.829,
          0.841,
          0.842,
          0.848,
          0.868,
          0.885,
          0.886,
          0.91,
          0.916,
          0.922,
          0.928,
          0.939,
          0.98,
          0.983,
          0.986,
          1,
          1.03,
          1.033,
          1.039,
          1.055,
          1.056,
          1.058,
          1.069,
          1.098,
          1.105,
          1.111,
          1.114,
          1.122,
          1.125,
          1.125,
          1.134,
          1.145,
          1.147,
          1.149,
          1.156,
          1.16,
          1.163,
          1.167,
          1.169,
          1.171,
          1.181,
          1.183,
          1.203,
          1.209,
          1.212,
          1.219,
          1.223,
          1.224,
          1.225,
          1.226,
          1.232,
          1.232,
          1.236,
          1.242,
          1.247,
          1.252,
          1.265,
          1.266,
          1.269,
          1.274,
          1.277,
          1.293,
          1.294,
          1.303,
          1.31,
          1.312,
          1.313,
          1.313,
          1.319,
          1.321,
          1.323,
          1.325,
          1.328,
          1.346,
          1.351,
          1.357,
          1.36,
          1.361,
          1.368,
          1.369,
          1.383,
          1.39,
          1.401,
          1.402,
          1.409,
          1.41,
          1.41,
          1.419,
          1.427,
          1.43,
          1.431,
          1.432,
          1.438,
          1.438,
          1.439,
          1.441,
          1.442,
          1.452,
          1.454,
          1.455,
          1.457,
          1.463,
          1.465,
          1.465,
          1.465,
          1.472,
          1.475,
          1.475,
          1.477,
          1.478,
          1.479,
          1.484,
          1.487,
          1.487,
          1.488,
          1.504,
          1.504,
          1.505,
          1.508,
          1.513,
          1.515,
          1.52,
          1.522,
          1.523,
          1.526,
          1.528,
          1.529,
          1.531,
          1.538,
          1.538,
          1.548,
          1.553,
          1.557,
          1.573,
          1.582,
          1.587,
          1.624
         ],
         "xaxis": "x",
         "y": [
          4.4232117292377175,
          3.318387540371646,
          3.1429312827356117,
          3.113289341088895,
          2.9059458747462013,
          2.7768915071197044,
          2.740164003412166,
          2.730909455619173,
          2.425101593406333,
          2.3413076149143714,
          2.302314560090844,
          2.251346348339862,
          2.0723007836132084,
          2.041429064619661,
          2.03757692597236,
          2.0068171192647513,
          1.9761628554938253,
          1.9113877669765071,
          1.8773002498933382,
          1.798273826749695,
          1.7533438598882138,
          1.7496027114341237,
          1.72715320361153,
          1.6520003571436603,
          1.5870974929941488,
          1.5832368421559178,
          1.4889089844977985,
          1.4648560707889149,
          1.4405341351690608,
          1.4159552372250124,
          1.368439130712106,
          1.1864369584287973,
          1.1723229802114121,
          1.1580891671328537,
          1.0908031921961499,
          0.9444157313715817,
          0.9296663474144178,
          0.9001381969937762,
          0.8222075913259432,
          0.8173003561851724,
          0.8074901270391712,
          0.7536999195990457,
          0.6125759412307844,
          0.5793980583901541,
          0.5520745978433416,
          0.5376820469783166,
          0.5000456076181549,
          0.48586034210633,
          0.48586034210633,
          0.4449009352477836,
          0.3951243728370907,
          0.3861796127776819,
          0.37728811926835343,
          0.3471399351348493,
          0.33009442221755203,
          0.3175705055440845,
          0.3008421219641192,
          0.29262357194995675,
          0.28450382221331055,
          0.24516166886035992,
          0.2374572380818689,
          0.16303125102392665,
          0.14049412960887675,
          0.1293804868785545,
          0.10276912052221647,
          0.08716332950242847,
          0.08319499053811899,
          0.07919785771507609,
          0.07517107745070348,
          0.05035904624871989,
          0.05035904624871989,
          0.03382670874399314,
          0.010218060893984263,
          -0.011081067656439096,
          -0.03318705625951663,
          -0.09160361599348368,
          -0.09629481450057613,
          -0.1104243553351306,
          -0.1300756949516951,
          -0.14408941044658222,
          -0.2113017468172933,
          -0.21577581171562746,
          -0.2544031444504623,
          -0.28437878516738874,
          -0.29278620329929933,
          -0.2969683745683295,
          -0.2969683745683295,
          -0.3205119179898288,
          -0.32875897714370816,
          -0.33521359606994694,
          -0.3421204778380132,
          -0.3543348817413968,
          -0.41782486491877824,
          -0.4337653815410385,
          -0.45468721959857616,
          -0.46508212020649375,
          -0.4682403924731491,
          -0.49108089974920427,
          -0.4942390938166574,
          -0.5387712238427897,
          -0.5616589371172154,
          -0.5969200034322784,
          -0.600133594191504,
          -0.6226414170284197,
          -0.625857279273662,
          -0.625857279273662,
          -0.6547865710589302,
          -0.6804659891671619,
          -0.6900840288915069,
          -0.6932885044177244,
          -0.6964922076799689,
          -0.7156975802808949,
          -0.7156975802808949,
          -0.7188955798103875,
          -0.7252890818783693,
          -0.7284846135671088,
          -0.7603998233145726,
          -0.7667751684732087,
          -0.7699620328504228,
          -0.7763342933505536,
          -0.7954422591991216,
          -0.8018097832121106,
          -0.8018097832121106,
          -0.8018097832121106,
          -0.8240955358885219,
          -0.8336487794868589,
          -0.8336487794868589,
          -0.8400190327874342,
          -0.8432046724703207,
          -0.8463906961394752,
          -0.8623275249882686,
          -0.8718957553933542,
          -0.8718957553933542,
          -0.8750862942007203,
          -0.9262271254007608,
          -0.9262271254007608,
          -0.929430023849632,
          -0.9390439705331461,
          -0.9550854449822992,
          -0.9615087155157995,
          -0.9775844101965081,
          -0.9840220142769287,
          -0.9872424365661558,
          -0.9969102601130203,
          -1.00336091727026,
          -1.0065878562748527,
          -1.0130448731816575,
          -1.0356764599830772,
          -1.0356764599830772,
          -1.0680942271549287,
          -1.0843436872840113,
          -1.097363444178478,
          -1.1496170235234353,
          -1.1791248066710325,
          -1.1955507686579796,
          -1.3176371400558815
         ],
         "yaxis": "y"
        }
       ],
       "layout": {
        "font": {
         "color": "#371ea3"
        },
        "legend": {
         "title": {
          "text": "label"
         },
         "tracegroupgap": 0
        },
        "margin": {
         "b": 71,
         "r": 30,
         "t": 78
        },
        "template": {
         "data": {
          "scatter": [
           {
            "type": "scatter"
           }
          ]
         }
        },
        "title": {
         "text": "Residual Diagnostics",
         "x": 0.15
        },
        "xaxis": {
         "anchor": "y",
         "automargin": true,
         "domain": [
          0,
          1
         ],
         "fixedrange": true,
         "gridwidth": 2,
         "tickcolor": "white",
         "ticklen": 10,
         "ticks": "outside",
         "title": {
          "text": "social_support"
         },
         "type": "linear",
         "zeroline": false
        },
        "yaxis": {
         "anchor": "x",
         "automargin": true,
         "domain": [
          0,
          1
         ],
         "fixedrange": true,
         "gridwidth": 2,
         "tickcolor": "white",
         "ticklen": 10,
         "ticks": "outside",
         "title": {
          "text": "residuals"
         },
         "type": "linear",
         "zeroline": false
        }
       }
      }
     },
     "metadata": {},
     "output_type": "display_data"
    }
   ],
   "source": [
    "explainer.model_diagnostics().plot(variable='social_support', marker_size=5, line_width=3)\n"
   ]
  },
  {
   "cell_type": "code",
   "execution_count": 14,
   "metadata": {},
   "outputs": [
    {
     "data": {
      "application/vnd.plotly.v1+json": {
       "config": {
        "displaylogo": false,
        "modeBarButtonsToRemove": [
         "sendDataToCloud",
         "lasso2d",
         "autoScale2d",
         "select2d",
         "zoom2d",
         "pan2d",
         "zoomIn2d",
         "zoomOut2d",
         "resetScale2d",
         "toggleSpikelines",
         "hoverCompareCartesian",
         "hoverClosestCartesian"
        ],
        "plotlyServerURL": "https://plot.ly",
        "staticPlot": false,
        "toImageButtonOptions": {
         "height": null,
         "width": null
        }
       },
       "data": [
        {
         "base": 5.3398185,
         "hoverinfo": "text",
         "hoverlabel": {
          "bgcolor": "rgba(0,0,0,0.8)"
         },
         "hovertext": [
          "Average response: 5.34<br>Prediction: 7.211<br>social_support = 1.438<br>increases average response <br>by 0.527",
          "Average response: 5.34<br>Prediction: 7.211<br>healthy_life_expectancy = 0.884<br>increases average response <br>by 0.497",
          "Average response: 5.34<br>Prediction: 7.211<br>gdp_per_capita = 1.206<br>increases average response <br>by 0.429",
          "Average response: 5.34<br>Prediction: 7.211<br>freedom_to_make_life_choices = 0.483<br>increases average response <br>by 0.387",
          "Average response: 5.34<br>Prediction: 7.211<br>generosity = 0.117<br>increases average response <br>by 0.102",
          "Average response: 5.34<br>Prediction: 7.211<br>perceptions_of_corruption = 0.05<br>decreases average response <br>by 0.072"
         ],
         "marker": {
          "color": [
           "#8bdcbe",
           "#8bdcbe",
           "#8bdcbe",
           "#8bdcbe",
           "#8bdcbe",
           "#f05a71"
          ]
         },
         "orientation": "h",
         "showlegend": false,
         "text": [
          "+0.527",
          "+0.497",
          "+0.429",
          "+0.387",
          "+0.102",
          "-0.072"
         ],
         "textposition": "outside",
         "type": "bar",
         "x": [
          0.527,
          0.497,
          0.429,
          0.387,
          0.102,
          -0.072
         ],
         "xaxis": "x",
         "y": [
          "social_support = 1.438",
          "healthy_life_expectancy = 0.884",
          "gdp_per_capita = 1.206",
          "freedom_to_make_life_choices = 0.483",
          "generosity = 0.117",
          "perceptions_of_corruption = 0.05"
         ],
         "yaxis": "y"
        }
       ],
       "layout": {
        "annotations": [
         {
          "font": {
           "size": 16
          },
          "showarrow": false,
          "text": "happiness",
          "x": 0.5,
          "xanchor": "center",
          "xref": "paper",
          "y": 1,
          "yanchor": "bottom",
          "yref": "paper"
         },
         {
          "font": {
           "size": 16
          },
          "showarrow": false,
          "text": "contribution",
          "x": 0.5,
          "xanchor": "center",
          "xref": "paper",
          "y": 0,
          "yanchor": "top",
          "yref": "paper",
          "yshift": -30
         }
        ],
        "font": {
         "color": "#371ea3"
        },
        "height": 273,
        "margin": {
         "b": 71,
         "r": 30,
         "t": 78
        },
        "shapes": [
         {
          "line": {
           "color": "#371ea3",
           "dash": "dot",
           "width": 1.5
          },
          "type": "line",
          "x0": 5.3398185,
          "x1": 5.3398185,
          "xref": "x",
          "y0": -1,
          "y1": 6,
          "yref": "y"
         }
        ],
        "template": {
         "data": {
          "scatter": [
           {
            "type": "scatter"
           }
          ]
         }
        },
        "title": {
         "text": "Shapley Values",
         "x": 0.15
        },
        "xaxis": {
         "anchor": "y",
         "automargin": true,
         "domain": [
          0,
          1
         ],
         "fixedrange": true,
         "gridwidth": 2,
         "range": [
          5.177968477630615,
          5.956668477630616
         ],
         "tickcolor": "white",
         "ticklen": 3,
         "ticks": "outside",
         "type": "linear",
         "zeroline": false
        },
        "yaxis": {
         "anchor": "x",
         "automargin": true,
         "autorange": "reversed",
         "domain": [
          0,
          1
         ],
         "fixedrange": true,
         "gridwidth": 2,
         "tickcolor": "white",
         "ticklen": 10,
         "ticks": "outside",
         "type": "category"
        }
       }
      }
     },
     "metadata": {},
     "output_type": "display_data"
    }
   ],
   "source": [
    "explainer.predict_parts(X.loc['Poland'], type='shap').plot()"
   ]
  },
  {
   "cell_type": "code",
   "execution_count": 15,
   "metadata": {},
   "outputs": [
    {
     "data": {
      "application/vnd.plotly.v1+json": {
       "config": {
        "displaylogo": false,
        "modeBarButtonsToRemove": [
         "sendDataToCloud",
         "lasso2d",
         "autoScale2d",
         "select2d",
         "zoom2d",
         "pan2d",
         "zoomIn2d",
         "zoomOut2d",
         "resetScale2d",
         "toggleSpikelines",
         "hoverCompareCartesian",
         "hoverClosestCartesian"
        ],
        "plotlyServerURL": "https://plot.ly",
        "staticPlot": false,
        "toImageButtonOptions": {
         "height": null,
         "width": null
        }
       },
       "data": [
        {
         "base": 5.3398185,
         "connector": {
          "line": {
           "color": "#371ea3",
           "dash": "solid",
           "width": 1
          },
          "mode": "spanning"
         },
         "decreasing": {
          "marker": {
           "color": "#f05a71"
          }
         },
         "hoverinfo": "text+delta",
         "hoverlabel": {
          "bgcolor": "rgba(0,0,0,0.8)"
         },
         "hovertext": [
          "Average response: 5.34<br>Prediction: 0.036",
          "generosity = 0.158<br>increases average response by",
          "perceptions_of_corruption = 0.025<br>decreases average response by",
          "gdp_per_capita = 0.35<br>decreases average response by",
          "healthy_life_expectancy = 0.361<br>decreases average response by",
          "social_support = 0.517<br>decreases average response by",
          "freedom_to_make_life_choices = 0.0<br>decreases average response by",
          "Average response: 5.34<br>Prediction: 0.036"
         ],
         "increasing": {
          "marker": {
           "color": "#8bdcbe"
          }
         },
         "measure": [
          "relative",
          "relative",
          "relative",
          "relative",
          "relative",
          "relative",
          "relative",
          "total"
         ],
         "orientation": "h",
         "showlegend": false,
         "text": [
          "5.34",
          "+0.04",
          "-0.101",
          "-0.798",
          "-1.151",
          "-1.605",
          "-1.689",
          "0.036"
         ],
         "textposition": "outside",
         "totals": {
          "marker": {
           "color": "#371ea3"
          }
         },
         "type": "waterfall",
         "x": [
          0,
          0.03999999910593033,
          -0.10100000351667404,
          -0.7979999780654907,
          -1.1510000228881836,
          -1.6050000190734863,
          -1.6890000104904175,
          -5.303999900817871
         ],
         "xaxis": "x",
         "y": [
          "intercept",
          "generosity = 0.158",
          "perceptions_of_corruption = 0.025",
          "gdp_per_capita = 0.35",
          "healthy_life_expectancy = 0.361",
          "social_support = 0.517",
          "freedom_to_make_life_choices = 0.0",
          "prediction"
         ],
         "yaxis": "y"
        },
        {
         "base": 5.3398185,
         "connector": {
          "line": {
           "color": "#371ea3",
           "dash": "solid",
           "width": 1
          },
          "mode": "spanning"
         },
         "decreasing": {
          "marker": {
           "color": "#f05a71"
          }
         },
         "hoverinfo": "text+delta",
         "hoverlabel": {
          "bgcolor": "rgba(0,0,0,0.8)"
         },
         "hovertext": [
          "Average response: 5.34<br>Prediction: 7.981",
          "healthy_life_expectancy = 0.986<br>increases average response by",
          "social_support = 1.504<br>increases average response by",
          "gdp_per_capita = 1.356<br>increases average response by",
          "freedom_to_make_life_choices = 0.473<br>increases average response by",
          "perceptions_of_corruption = 0.21<br>increases average response by",
          "generosity = 0.16<br>increases average response by",
          "Average response: 5.34<br>Prediction: 7.981"
         ],
         "increasing": {
          "marker": {
           "color": "#8bdcbe"
          }
         },
         "measure": [
          "relative",
          "relative",
          "relative",
          "relative",
          "relative",
          "relative",
          "relative",
          "total"
         ],
         "orientation": "h",
         "showlegend": false,
         "text": [
          "5.34",
          "+0.811",
          "+0.684",
          "+0.645",
          "+0.346",
          "+0.118",
          "+0.038",
          "7.981"
         ],
         "textposition": "outside",
         "totals": {
          "marker": {
           "color": "#371ea3"
          }
         },
         "type": "waterfall",
         "x": [
          0,
          0.8109999895095825,
          0.6840000152587891,
          0.6449999809265137,
          0.34599998593330383,
          0.11800000071525574,
          0.03799999877810478,
          2.6410000324249268
         ],
         "xaxis": "x2",
         "y": [
          "intercept",
          "healthy_life_expectancy = 0.986",
          "social_support = 1.504",
          "gdp_per_capita = 1.356",
          "freedom_to_make_life_choices = 0.473",
          "perceptions_of_corruption = 0.21",
          "generosity = 0.16",
          "prediction"
         ],
         "yaxis": "y2"
        },
        {
         "base": 5.3398185,
         "connector": {
          "line": {
           "color": "#371ea3",
           "dash": "solid",
           "width": 1
          },
          "mode": "spanning"
         },
         "decreasing": {
          "marker": {
           "color": "#f05a71"
          }
         },
         "hoverinfo": "text+delta",
         "hoverlabel": {
          "bgcolor": "rgba(0,0,0,0.8)"
         },
         "hovertext": [
          "Average response: 5.34<br>Prediction: 6.573",
          "freedom_to_make_life_choices = 0.521<br>increases average response by",
          "healthy_life_expectancy = 0.893<br>increases average response by",
          "generosity = 0.058<br>increases average response by",
          "gdp_per_capita = 1.029<br>increases average response by",
          "perceptions_of_corruption = 0.1<br>decreases average response by",
          "social_support = 1.125<br>decreases average response by",
          "Average response: 5.34<br>Prediction: 6.573"
         ],
         "increasing": {
          "marker": {
           "color": "#8bdcbe"
          }
         },
         "measure": [
          "relative",
          "relative",
          "relative",
          "relative",
          "relative",
          "relative",
          "relative",
          "total"
         ],
         "orientation": "h",
         "showlegend": false,
         "text": [
          "5.34",
          "+0.544",
          "+0.526",
          "+0.192",
          "+0.177",
          "-0.013",
          "-0.194",
          "6.573"
         ],
         "textposition": "outside",
         "totals": {
          "marker": {
           "color": "#371ea3"
          }
         },
         "type": "waterfall",
         "x": [
          0,
          0.5440000295639038,
          0.5260000228881836,
          0.19200000166893005,
          0.1770000010728836,
          -0.013000000268220901,
          -0.1940000057220459,
          1.2330000400543213
         ],
         "xaxis": "x3",
         "y": [
          "intercept",
          "freedom_to_make_life_choices = 0.521",
          "healthy_life_expectancy = 0.893",
          "generosity = 0.058",
          "gdp_per_capita = 1.029",
          "perceptions_of_corruption = 0.1",
          "social_support = 1.125",
          "prediction"
         ],
         "yaxis": "y3"
        },
        {
         "base": 5.3398185,
         "connector": {
          "line": {
           "color": "#371ea3",
           "dash": "solid",
           "width": 1
          },
          "mode": "spanning"
         },
         "decreasing": {
          "marker": {
           "color": "#f05a71"
          }
         },
         "hoverinfo": "text+delta",
         "hoverlabel": {
          "bgcolor": "rgba(0,0,0,0.8)"
         },
         "hovertext": [
          "Average response: 5.34<br>Prediction: 8.821",
          "freedom_to_make_life_choices = 0.592<br>increases average response by",
          "healthy_life_expectancy = 0.996<br>increases average response by",
          "social_support = 1.573<br>increases average response by",
          "gdp_per_capita = 1.383<br>increases average response by",
          "perceptions_of_corruption = 0.41<br>increases average response by",
          "generosity = 0.252<br>decreases average response by",
          "Average response: 5.34<br>Prediction: 8.821"
         ],
         "increasing": {
          "marker": {
           "color": "#8bdcbe"
          }
         },
         "measure": [
          "relative",
          "relative",
          "relative",
          "relative",
          "relative",
          "relative",
          "relative",
          "total"
         ],
         "orientation": "h",
         "showlegend": false,
         "text": [
          "5.34",
          "+0.848",
          "+0.853",
          "+0.843",
          "+0.684",
          "+0.355",
          "-0.102",
          "8.821"
         ],
         "textposition": "outside",
         "totals": {
          "marker": {
           "color": "#371ea3"
          }
         },
         "type": "waterfall",
         "x": [
          0,
          0.8479999899864197,
          0.8529999852180481,
          0.8429999947547913,
          0.6840000152587891,
          0.35499998927116394,
          -0.10199999809265137,
          3.4820001125335693
         ],
         "xaxis": "x4",
         "y": [
          "intercept",
          "freedom_to_make_life_choices = 0.592",
          "healthy_life_expectancy = 0.996",
          "social_support = 1.573",
          "gdp_per_capita = 1.383",
          "perceptions_of_corruption = 0.41",
          "generosity = 0.252",
          "prediction"
         ],
         "yaxis": "y4"
        },
        {
         "base": 5.3398185,
         "connector": {
          "line": {
           "color": "#371ea3",
           "dash": "solid",
           "width": 1
          },
          "mode": "spanning"
         },
         "decreasing": {
          "marker": {
           "color": "#f05a71"
          }
         },
         "hoverinfo": "text+delta",
         "hoverlabel": {
          "bgcolor": "rgba(0,0,0,0.8)"
         },
         "hovertext": [
          "Average response: 5.34<br>Prediction: 3.241",
          "perceptions_of_corruption = 0.1<br>decreases average response by",
          "generosity = 0.209<br>decreases average response by",
          "freedom_to_make_life_choices = 0.344<br>decreases average response by",
          "social_support = 1.033<br>decreases average response by",
          "healthy_life_expectancy = 0.532<br>decreases average response by",
          "gdp_per_capita = 0.336<br>decreases average response by",
          "Average response: 5.34<br>Prediction: 3.241"
         ],
         "increasing": {
          "marker": {
           "color": "#8bdcbe"
          }
         },
         "measure": [
          "relative",
          "relative",
          "relative",
          "relative",
          "relative",
          "relative",
          "relative",
          "total"
         ],
         "orientation": "h",
         "showlegend": false,
         "text": [
          "5.34",
          "-0.013",
          "-0.037",
          "-0.213",
          "-0.413",
          "-0.609",
          "-0.815",
          "3.241"
         ],
         "textposition": "outside",
         "totals": {
          "marker": {
           "color": "#371ea3"
          }
         },
         "type": "waterfall",
         "x": [
          0,
          -0.013000000268220901,
          -0.03700000047683716,
          -0.21299999952316284,
          -0.4129999876022339,
          -0.609000027179718,
          -0.8149999976158142,
          -2.0989999771118164
         ],
         "xaxis": "x5",
         "y": [
          "intercept",
          "perceptions_of_corruption = 0.1",
          "generosity = 0.209",
          "freedom_to_make_life_choices = 0.344",
          "social_support = 1.033",
          "healthy_life_expectancy = 0.532",
          "gdp_per_capita = 0.336",
          "prediction"
         ],
         "yaxis": "y5"
        },
        {
         "base": 5.3398185,
         "connector": {
          "line": {
           "color": "#371ea3",
           "dash": "solid",
           "width": 1
          },
          "mode": "spanning"
         },
         "decreasing": {
          "marker": {
           "color": "#f05a71"
          }
         },
         "hoverinfo": "text+delta",
         "hoverlabel": {
          "bgcolor": "rgba(0,0,0,0.8)"
         },
         "hovertext": [
          "Average response: 5.34<br>Prediction: 4.055",
          "freedom_to_make_life_choices = 0.498<br>increases average response by",
          "generosity = 0.2<br>decreases average response by",
          "perceptions_of_corruption = 0.085<br>decreases average response by",
          "gdp_per_capita = 0.755<br>decreases average response by",
          "healthy_life_expectancy = 0.588<br>decreases average response by",
          "social_support = 0.765<br>decreases average response by",
          "Average response: 5.34<br>Prediction: 4.055"
         ],
         "increasing": {
          "marker": {
           "color": "#8bdcbe"
          }
         },
         "measure": [
          "relative",
          "relative",
          "relative",
          "relative",
          "relative",
          "relative",
          "relative",
          "total"
         ],
         "orientation": "h",
         "showlegend": false,
         "text": [
          "5.34",
          "+0.446",
          "-0.023",
          "-0.031",
          "-0.217",
          "-0.432",
          "-1.028",
          "4.055"
         ],
         "textposition": "outside",
         "totals": {
          "marker": {
           "color": "#371ea3"
          }
         },
         "type": "waterfall",
         "x": [
          0,
          0.44600000977516174,
          -0.023000000044703484,
          -0.03099999949336052,
          -0.21699999272823334,
          -0.4320000112056732,
          -1.027999997138977,
          -1.284999966621399
         ],
         "xaxis": "x6",
         "y": [
          "intercept",
          "freedom_to_make_life_choices = 0.498",
          "generosity = 0.2",
          "perceptions_of_corruption = 0.085",
          "gdp_per_capita = 0.755",
          "healthy_life_expectancy = 0.588",
          "social_support = 0.765",
          "prediction"
         ],
         "yaxis": "y6"
        },
        {
         "base": 5.3398185,
         "connector": {
          "line": {
           "color": "#371ea3",
           "dash": "solid",
           "width": 1
          },
          "mode": "spanning"
         },
         "decreasing": {
          "marker": {
           "color": "#f05a71"
          }
         },
         "hoverinfo": "text+delta",
         "hoverlabel": {
          "bgcolor": "rgba(0,0,0,0.8)"
         },
         "hovertext": [
          "Average response: 5.34<br>Prediction: 3.246",
          "perceptions_of_corruption = 0.098<br>decreases average response by",
          "generosity = 0.22<br>decreases average response by",
          "gdp_per_capita = 0.677<br>decreases average response by",
          "freedom_to_make_life_choices = 0.313<br>decreases average response by",
          "healthy_life_expectancy = 0.535<br>decreases average response by",
          "social_support = 0.886<br>decreases average response by",
          "Average response: 5.34<br>Prediction: 3.246"
         ],
         "increasing": {
          "marker": {
           "color": "#8bdcbe"
          }
         },
         "measure": [
          "relative",
          "relative",
          "relative",
          "relative",
          "relative",
          "relative",
          "relative",
          "total"
         ],
         "orientation": "h",
         "showlegend": false,
         "text": [
          "5.34",
          "-0.015",
          "-0.053",
          "-0.333",
          "-0.345",
          "-0.6",
          "-0.748",
          "3.246"
         ],
         "textposition": "outside",
         "totals": {
          "marker": {
           "color": "#371ea3"
          }
         },
         "type": "waterfall",
         "x": [
          0,
          -0.014999999664723873,
          -0.05299999937415123,
          -0.3330000042915344,
          -0.3449999988079071,
          -0.6000000238418579,
          -0.7480000257492065,
          -2.0940001010894775
         ],
         "xaxis": "x7",
         "y": [
          "intercept",
          "perceptions_of_corruption = 0.098",
          "generosity = 0.22",
          "gdp_per_capita = 0.677",
          "freedom_to_make_life_choices = 0.313",
          "healthy_life_expectancy = 0.535",
          "social_support = 0.886",
          "prediction"
         ],
         "yaxis": "y7"
        },
        {
         "base": 5.3398185,
         "connector": {
          "line": {
           "color": "#371ea3",
           "dash": "solid",
           "width": 1
          },
          "mode": "spanning"
         },
         "decreasing": {
          "marker": {
           "color": "#f05a71"
          }
         },
         "hoverinfo": "text+delta",
         "hoverlabel": {
          "bgcolor": "rgba(0,0,0,0.8)"
         },
         "hovertext": [
          "Average response: 5.34<br>Prediction: 8.342",
          "healthy_life_expectancy = 0.999<br>increases average response by",
          "social_support = 1.522<br>increases average response by",
          "freedom_to_make_life_choices = 0.557<br>increases average response by",
          "gdp_per_capita = 1.396<br>increases average response by",
          "perceptions_of_corruption = 0.298<br>increases average response by",
          "generosity = 0.322<br>decreases average response by",
          "Average response: 5.34<br>Prediction: 8.342"
         ],
         "increasing": {
          "marker": {
           "color": "#8bdcbe"
          }
         },
         "measure": [
          "relative",
          "relative",
          "relative",
          "relative",
          "relative",
          "relative",
          "relative",
          "total"
         ],
         "orientation": "h",
         "showlegend": false,
         "text": [
          "5.34",
          "+0.852",
          "+0.725",
          "+0.708",
          "+0.703",
          "+0.222",
          "-0.207",
          "8.342"
         ],
         "textposition": "outside",
         "totals": {
          "marker": {
           "color": "#371ea3"
          }
         },
         "type": "waterfall",
         "x": [
          0,
          0.8519999980926514,
          0.7250000238418579,
          0.7080000042915344,
          0.703000009059906,
          0.22200000286102295,
          -0.2070000022649765,
          3.002000093460083
         ],
         "xaxis": "x8",
         "y": [
          "intercept",
          "healthy_life_expectancy = 0.999",
          "social_support = 1.522",
          "freedom_to_make_life_choices = 0.557",
          "gdp_per_capita = 1.396",
          "perceptions_of_corruption = 0.298",
          "generosity = 0.322",
          "prediction"
         ],
         "yaxis": "y8"
        }
       ],
       "layout": {
        "annotations": [
         {
          "font": {
           "size": 16
          },
          "showarrow": false,
          "text": "Afghanistan",
          "x": 0.5,
          "xanchor": "center",
          "xref": "paper",
          "y": 1,
          "yanchor": "bottom",
          "yref": "paper"
         },
         {
          "font": {
           "size": 16
          },
          "showarrow": false,
          "text": "Belgium",
          "x": 0.5,
          "xanchor": "center",
          "xref": "paper",
          "y": 0.8718750000000001,
          "yanchor": "bottom",
          "yref": "paper"
         },
         {
          "font": {
           "size": 16
          },
          "showarrow": false,
          "text": "China",
          "x": 0.5,
          "xanchor": "center",
          "xref": "paper",
          "y": 0.74375,
          "yanchor": "bottom",
          "yref": "paper"
         },
         {
          "font": {
           "size": 16
          },
          "showarrow": false,
          "text": "Denmark",
          "x": 0.5,
          "xanchor": "center",
          "xref": "paper",
          "y": 0.615625,
          "yanchor": "bottom",
          "yref": "paper"
         },
         {
          "font": {
           "size": 16
          },
          "showarrow": false,
          "text": "Ethiopia",
          "x": 0.5,
          "xanchor": "center",
          "xref": "paper",
          "y": 0.48749999999999993,
          "yanchor": "bottom",
          "yref": "paper"
         },
         {
          "font": {
           "size": 16
          },
          "showarrow": false,
          "text": "India",
          "x": 0.5,
          "xanchor": "center",
          "xref": "paper",
          "y": 0.359375,
          "yanchor": "bottom",
          "yref": "paper"
         },
         {
          "font": {
           "size": 16
          },
          "showarrow": false,
          "text": "Pakistan",
          "x": 0.5,
          "xanchor": "center",
          "xref": "paper",
          "y": 0.23124999999999998,
          "yanchor": "bottom",
          "yref": "paper"
         },
         {
          "font": {
           "size": 16
          },
          "showarrow": false,
          "text": "Netherlands",
          "x": 0.5,
          "xanchor": "center",
          "xref": "paper",
          "y": 0.103125,
          "yanchor": "bottom",
          "yref": "paper"
         },
         {
          "font": {
           "size": 16
          },
          "showarrow": false,
          "text": "contribution",
          "x": 0.5,
          "xanchor": "center",
          "xref": "paper",
          "y": 0,
          "yanchor": "top",
          "yref": "paper",
          "yshift": -30
         }
        ],
        "font": {
         "color": "#371ea3"
        },
        "height": 1951,
        "margin": {
         "b": 71,
         "r": 30,
         "t": 78
        },
        "shapes": [
         {
          "line": {
           "color": "#371ea3",
           "dash": "dot",
           "width": 1.5
          },
          "type": "line",
          "x0": 5.3398185,
          "x1": 5.3398185,
          "xref": "x",
          "y0": -1,
          "y1": 8,
          "yref": "y"
         },
         {
          "line": {
           "color": "#371ea3",
           "dash": "dot",
           "width": 1.5
          },
          "type": "line",
          "x0": 5.3398185,
          "x1": 5.3398185,
          "xref": "x2",
          "y0": -1,
          "y1": 8,
          "yref": "y2"
         },
         {
          "line": {
           "color": "#371ea3",
           "dash": "dot",
           "width": 1.5
          },
          "type": "line",
          "x0": 5.3398185,
          "x1": 5.3398185,
          "xref": "x3",
          "y0": -1,
          "y1": 8,
          "yref": "y3"
         },
         {
          "line": {
           "color": "#371ea3",
           "dash": "dot",
           "width": 1.5
          },
          "type": "line",
          "x0": 5.3398185,
          "x1": 5.3398185,
          "xref": "x4",
          "y0": -1,
          "y1": 8,
          "yref": "y4"
         },
         {
          "line": {
           "color": "#371ea3",
           "dash": "dot",
           "width": 1.5
          },
          "type": "line",
          "x0": 5.3398185,
          "x1": 5.3398185,
          "xref": "x5",
          "y0": -1,
          "y1": 8,
          "yref": "y5"
         },
         {
          "line": {
           "color": "#371ea3",
           "dash": "dot",
           "width": 1.5
          },
          "type": "line",
          "x0": 5.3398185,
          "x1": 5.3398185,
          "xref": "x6",
          "y0": -1,
          "y1": 8,
          "yref": "y6"
         },
         {
          "line": {
           "color": "#371ea3",
           "dash": "dot",
           "width": 1.5
          },
          "type": "line",
          "x0": 5.3398185,
          "x1": 5.3398185,
          "xref": "x7",
          "y0": -1,
          "y1": 8,
          "yref": "y7"
         },
         {
          "line": {
           "color": "#371ea3",
           "dash": "dot",
           "width": 1.5
          },
          "type": "line",
          "x0": 5.3398185,
          "x1": 5.3398185,
          "xref": "x8",
          "y0": -1,
          "y1": 8,
          "yref": "y8"
         }
        ],
        "template": {
         "data": {
          "scatter": [
           {
            "type": "scatter"
           }
          ]
         }
        },
        "title": {
         "text": "Break Down",
         "x": 0.15
        },
        "xaxis": {
         "anchor": "y",
         "automargin": true,
         "domain": [
          0,
          1
         ],
         "fixedrange": true,
         "gridwidth": 2,
         "matches": "x8",
         "range": [
          2.5,
          8.5
         ],
         "showticklabels": false,
         "tickcolor": "white",
         "ticklen": 3,
         "ticks": "outside",
         "type": "linear",
         "zeroline": false
        },
        "xaxis2": {
         "anchor": "y2",
         "automargin": true,
         "domain": [
          0,
          1
         ],
         "fixedrange": true,
         "gridwidth": 2,
         "matches": "x8",
         "range": [
          2.5,
          8.5
         ],
         "showticklabels": false,
         "tickcolor": "white",
         "ticklen": 3,
         "ticks": "outside",
         "type": "linear",
         "zeroline": false
        },
        "xaxis3": {
         "anchor": "y3",
         "automargin": true,
         "domain": [
          0,
          1
         ],
         "fixedrange": true,
         "gridwidth": 2,
         "matches": "x8",
         "range": [
          2.5,
          8.5
         ],
         "showticklabels": false,
         "tickcolor": "white",
         "ticklen": 3,
         "ticks": "outside",
         "type": "linear",
         "zeroline": false
        },
        "xaxis4": {
         "anchor": "y4",
         "automargin": true,
         "domain": [
          0,
          1
         ],
         "fixedrange": true,
         "gridwidth": 2,
         "matches": "x8",
         "range": [
          2.5,
          8.5
         ],
         "showticklabels": false,
         "tickcolor": "white",
         "ticklen": 3,
         "ticks": "outside",
         "type": "linear",
         "zeroline": false
        },
        "xaxis5": {
         "anchor": "y5",
         "automargin": true,
         "domain": [
          0,
          1
         ],
         "fixedrange": true,
         "gridwidth": 2,
         "matches": "x8",
         "range": [
          2.5,
          8.5
         ],
         "showticklabels": false,
         "tickcolor": "white",
         "ticklen": 3,
         "ticks": "outside",
         "type": "linear",
         "zeroline": false
        },
        "xaxis6": {
         "anchor": "y6",
         "automargin": true,
         "domain": [
          0,
          1
         ],
         "fixedrange": true,
         "gridwidth": 2,
         "matches": "x8",
         "range": [
          2.5,
          8.5
         ],
         "showticklabels": false,
         "tickcolor": "white",
         "ticklen": 3,
         "ticks": "outside",
         "type": "linear",
         "zeroline": false
        },
        "xaxis7": {
         "anchor": "y7",
         "automargin": true,
         "domain": [
          0,
          1
         ],
         "fixedrange": true,
         "gridwidth": 2,
         "matches": "x8",
         "range": [
          2.5,
          8.5
         ],
         "showticklabels": false,
         "tickcolor": "white",
         "ticklen": 3,
         "ticks": "outside",
         "type": "linear",
         "zeroline": false
        },
        "xaxis8": {
         "anchor": "y8",
         "automargin": true,
         "domain": [
          0,
          1
         ],
         "fixedrange": true,
         "gridwidth": 2,
         "range": [
          2.5,
          8.5
         ],
         "tickcolor": "white",
         "ticklen": 3,
         "ticks": "outside",
         "type": "linear",
         "zeroline": false
        },
        "yaxis": {
         "anchor": "x",
         "automargin": true,
         "autorange": "reversed",
         "domain": [
          0.8968750000000001,
          1
         ],
         "fixedrange": true,
         "gridwidth": 2,
         "tickcolor": "white",
         "ticklen": 10,
         "ticks": "outside",
         "type": "category"
        },
        "yaxis2": {
         "anchor": "x2",
         "automargin": true,
         "autorange": "reversed",
         "domain": [
          0.76875,
          0.8718750000000001
         ],
         "fixedrange": true,
         "gridwidth": 2,
         "tickcolor": "white",
         "ticklen": 10,
         "ticks": "outside",
         "type": "category"
        },
        "yaxis3": {
         "anchor": "x3",
         "automargin": true,
         "autorange": "reversed",
         "domain": [
          0.640625,
          0.74375
         ],
         "fixedrange": true,
         "gridwidth": 2,
         "tickcolor": "white",
         "ticklen": 10,
         "ticks": "outside",
         "type": "category"
        },
        "yaxis4": {
         "anchor": "x4",
         "automargin": true,
         "autorange": "reversed",
         "domain": [
          0.5125,
          0.615625
         ],
         "fixedrange": true,
         "gridwidth": 2,
         "tickcolor": "white",
         "ticklen": 10,
         "ticks": "outside",
         "type": "category"
        },
        "yaxis5": {
         "anchor": "x5",
         "automargin": true,
         "autorange": "reversed",
         "domain": [
          0.38437499999999997,
          0.48749999999999993
         ],
         "fixedrange": true,
         "gridwidth": 2,
         "tickcolor": "white",
         "ticklen": 10,
         "ticks": "outside",
         "type": "category"
        },
        "yaxis6": {
         "anchor": "x6",
         "automargin": true,
         "autorange": "reversed",
         "domain": [
          0.25625,
          0.359375
         ],
         "fixedrange": true,
         "gridwidth": 2,
         "tickcolor": "white",
         "ticklen": 10,
         "ticks": "outside",
         "type": "category"
        },
        "yaxis7": {
         "anchor": "x7",
         "automargin": true,
         "autorange": "reversed",
         "domain": [
          0.128125,
          0.23124999999999998
         ],
         "fixedrange": true,
         "gridwidth": 2,
         "tickcolor": "white",
         "ticklen": 10,
         "ticks": "outside",
         "type": "category"
        },
        "yaxis8": {
         "anchor": "x8",
         "automargin": true,
         "autorange": "reversed",
         "domain": [
          0,
          0.103125
         ],
         "fixedrange": true,
         "gridwidth": 2,
         "tickcolor": "white",
         "ticklen": 10,
         "ticks": "outside",
         "type": "category"
        }
       }
      }
     },
     "metadata": {},
     "output_type": "display_data"
    }
   ],
   "source": [
    "pp_list = []\n",
    "for country in ['Afghanistan', 'Belgium', 'China', 'Denmark', 'Ethiopia','India','Pakistan','Netherlands']:\n",
    "    pp = explainer.predict_parts(X.loc[country], type='break_down')\n",
    "    pp.result.label = country\n",
    "    pp_list += [pp]\n",
    "pp_list[0].plot(pp_list[1::], min_max=[2.5, 8.5])"
   ]
  }
 ],
 "metadata": {
  "kernelspec": {
   "display_name": "breaching",
   "language": "python",
   "name": "python3"
  },
  "language_info": {
   "codemirror_mode": {
    "name": "ipython",
    "version": 3
   },
   "file_extension": ".py",
   "mimetype": "text/x-python",
   "name": "python",
   "nbconvert_exporter": "python",
   "pygments_lexer": "ipython3",
   "version": "3.10.13"
  }
 },
 "nbformat": 4,
 "nbformat_minor": 2
}
