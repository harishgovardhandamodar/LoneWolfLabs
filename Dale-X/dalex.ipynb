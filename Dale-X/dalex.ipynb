{
 "cells": [
  {
   "cell_type": "markdown",
   "metadata": {},
   "source": [
    "## moDel Agnostic Language for Exploration and eXplanation "
   ]
  },
  {
   "cell_type": "code",
   "execution_count": 12,
   "metadata": {},
   "outputs": [],
   "source": [
    "import warnings\n",
    "warnings.filterwarnings('ignore')"
   ]
  },
  {
   "cell_type": "code",
   "execution_count": 13,
   "metadata": {},
   "outputs": [
    {
     "data": {
      "text/html": [
       "<div>\n",
       "<style scoped>\n",
       "    .dataframe tbody tr th:only-of-type {\n",
       "        vertical-align: middle;\n",
       "    }\n",
       "\n",
       "    .dataframe tbody tr th {\n",
       "        vertical-align: top;\n",
       "    }\n",
       "\n",
       "    .dataframe thead th {\n",
       "        text-align: right;\n",
       "    }\n",
       "</style>\n",
       "<table border=\"1\" class=\"dataframe\">\n",
       "  <thead>\n",
       "    <tr style=\"text-align: right;\">\n",
       "      <th></th>\n",
       "      <th>score</th>\n",
       "      <th>gdp_per_capita</th>\n",
       "      <th>social_support</th>\n",
       "      <th>healthy_life_expectancy</th>\n",
       "      <th>freedom_to_make_life_choices</th>\n",
       "      <th>generosity</th>\n",
       "      <th>perceptions_of_corruption</th>\n",
       "    </tr>\n",
       "  </thead>\n",
       "  <tbody>\n",
       "    <tr>\n",
       "      <th>Afghanistan</th>\n",
       "      <td>3.203</td>\n",
       "      <td>0.350</td>\n",
       "      <td>0.517</td>\n",
       "      <td>0.361</td>\n",
       "      <td>0.000</td>\n",
       "      <td>0.158</td>\n",
       "      <td>0.025</td>\n",
       "    </tr>\n",
       "    <tr>\n",
       "      <th>Albania</th>\n",
       "      <td>4.719</td>\n",
       "      <td>0.947</td>\n",
       "      <td>0.848</td>\n",
       "      <td>0.874</td>\n",
       "      <td>0.383</td>\n",
       "      <td>0.178</td>\n",
       "      <td>0.027</td>\n",
       "    </tr>\n",
       "    <tr>\n",
       "      <th>Algeria</th>\n",
       "      <td>5.211</td>\n",
       "      <td>1.002</td>\n",
       "      <td>1.160</td>\n",
       "      <td>0.785</td>\n",
       "      <td>0.086</td>\n",
       "      <td>0.073</td>\n",
       "      <td>0.114</td>\n",
       "    </tr>\n",
       "    <tr>\n",
       "      <th>Argentina</th>\n",
       "      <td>6.086</td>\n",
       "      <td>1.092</td>\n",
       "      <td>1.432</td>\n",
       "      <td>0.881</td>\n",
       "      <td>0.471</td>\n",
       "      <td>0.066</td>\n",
       "      <td>0.050</td>\n",
       "    </tr>\n",
       "    <tr>\n",
       "      <th>Armenia</th>\n",
       "      <td>4.559</td>\n",
       "      <td>0.850</td>\n",
       "      <td>1.055</td>\n",
       "      <td>0.815</td>\n",
       "      <td>0.283</td>\n",
       "      <td>0.095</td>\n",
       "      <td>0.064</td>\n",
       "    </tr>\n",
       "  </tbody>\n",
       "</table>\n",
       "</div>"
      ],
      "text/plain": [
       "             score  gdp_per_capita  social_support  healthy_life_expectancy  \\\n",
       "Afghanistan  3.203           0.350           0.517                    0.361   \n",
       "Albania      4.719           0.947           0.848                    0.874   \n",
       "Algeria      5.211           1.002           1.160                    0.785   \n",
       "Argentina    6.086           1.092           1.432                    0.881   \n",
       "Armenia      4.559           0.850           1.055                    0.815   \n",
       "\n",
       "             freedom_to_make_life_choices  generosity  \\\n",
       "Afghanistan                         0.000       0.158   \n",
       "Albania                             0.383       0.178   \n",
       "Algeria                             0.086       0.073   \n",
       "Argentina                           0.471       0.066   \n",
       "Armenia                             0.283       0.095   \n",
       "\n",
       "             perceptions_of_corruption  \n",
       "Afghanistan                      0.025  \n",
       "Albania                          0.027  \n",
       "Algeria                          0.114  \n",
       "Argentina                        0.050  \n",
       "Armenia                          0.064  "
      ]
     },
     "execution_count": 13,
     "metadata": {},
     "output_type": "execute_result"
    }
   ],
   "source": [
    "import pandas as pd\n",
    "# pd.__version__ == 1.1.2\n",
    "data = pd.read_csv(\"./happiness.csv\", index_col=0)\n",
    "X, y = data.drop('score', axis=1), data.score\n",
    "n, p = X.shape\n",
    "data.head()"
   ]
  },
  {
   "cell_type": "code",
   "execution_count": 14,
   "metadata": {},
   "outputs": [
    {
     "name": "stderr",
     "output_type": "stream",
     "text": [
      "WARNING:absl:At this time, the v2.11+ optimizer `tf.keras.optimizers.Adam` runs slowly on M1/M2 Macs, please use the legacy Keras optimizer instead, located at `tf.keras.optimizers.legacy.Adam`.\n",
      "WARNING:absl:There is a known slowdown when using v2.11+ Keras optimizers on M1/M2 Macs. Falling back to the legacy Keras optimizer, i.e., `tf.keras.optimizers.legacy.Adam`.\n"
     ]
    },
    {
     "data": {
      "text/plain": [
       "<keras.callbacks.History at 0x2dcb36fd0>"
      ]
     },
     "execution_count": 14,
     "metadata": {},
     "output_type": "execute_result"
    }
   ],
   "source": [
    "import tensorflow as tf\n",
    "# tf.__version__ == 2.3.0\n",
    "tf.random.set_seed(11)\n",
    "\n",
    "normalizer  = tf.keras.layers.experimental.preprocessing.Normalization(input_shape=[p,])\n",
    "normalizer.adapt(X.to_numpy())\n",
    "\n",
    "model = tf.keras.Sequential([\n",
    "    normalizer,\n",
    "    tf.keras.Input(shape=(p,)),\n",
    "    tf.keras.layers.Dense(p*2, activation='relu'),\n",
    "    tf.keras.layers.Dense(p*3, activation='relu'),\n",
    "    tf.keras.layers.Dense(p*2, activation='relu'),\n",
    "    tf.keras.layers.Dense(p, activation='relu'),\n",
    "    tf.keras.layers.Dense(1, activation='relu')\n",
    "])\n",
    "\n",
    "model.compile(\n",
    "    optimizer=tf.keras.optimizers.Adam(0.001),\n",
    "    loss=tf.keras.losses.mae\n",
    ")\n",
    "\n",
    "model.fit(X, y, batch_size=int(n/10), epochs=2000, verbose=False)"
   ]
  },
  {
   "cell_type": "code",
   "execution_count": 15,
   "metadata": {},
   "outputs": [
    {
     "data": {
      "text/plain": [
       "'1.4.0'"
      ]
     },
     "execution_count": 15,
     "metadata": {},
     "output_type": "execute_result"
    }
   ],
   "source": [
    "import dalex as dx \n",
    "dx.__version__\n"
   ]
  },
  {
   "cell_type": "code",
   "execution_count": 16,
   "metadata": {},
   "outputs": [
    {
     "name": "stdout",
     "output_type": "stream",
     "text": [
      "Preparation of a new explainer is initiated\n",
      "\n",
      "  -> data              : 156 rows 6 cols\n",
      "  -> target variable   : Parameter 'y' was a pandas.Series. Converted to a numpy.ndarray.\n",
      "  -> target variable   : 156 values\n",
      "  -> model_class       : keras.engine.sequential.Sequential (default)\n",
      "  -> label             : happiness\n",
      "  -> predict function  : <function yhat_tf_regression at 0x29cd10a60> will be used (default)\n",
      "1/1 [==============================] - 0s 31ms/step\n",
      "  -> predict function  : Accepts pandas.DataFrame and numpy.ndarray.\n",
      "5/5 [==============================] - 0s 533us/step\n",
      "  -> predicted values  : min = 2.75, mean = 5.42, max = 7.86\n",
      "  -> model type        : regression will be used (default)\n",
      "  -> residual function : difference between y and yhat (default)\n",
      "5/5 [==============================] - 0s 527us/step\n",
      "  -> residuals         : min = -1.24, mean = -0.0156, max = 0.781\n",
      "  -> model_info        : package keras\n",
      "\n",
      "A new explainer has been created!\n"
     ]
    }
   ],
   "source": [
    "explainer = dx.Explainer(model, X, y, label='happiness')"
   ]
  },
  {
   "cell_type": "code",
   "execution_count": 17,
   "metadata": {},
   "outputs": [
    {
     "data": {
      "text/html": [
       "<div>\n",
       "<style scoped>\n",
       "    .dataframe tbody tr th:only-of-type {\n",
       "        vertical-align: middle;\n",
       "    }\n",
       "\n",
       "    .dataframe tbody tr th {\n",
       "        vertical-align: top;\n",
       "    }\n",
       "\n",
       "    .dataframe thead th {\n",
       "        text-align: right;\n",
       "    }\n",
       "</style>\n",
       "<table border=\"1\" class=\"dataframe\">\n",
       "  <thead>\n",
       "    <tr style=\"text-align: right;\">\n",
       "      <th></th>\n",
       "      <th>mse</th>\n",
       "      <th>rmse</th>\n",
       "      <th>r2</th>\n",
       "      <th>mae</th>\n",
       "      <th>mad</th>\n",
       "    </tr>\n",
       "  </thead>\n",
       "  <tbody>\n",
       "    <tr>\n",
       "      <th>happiness</th>\n",
       "      <td>0.034812</td>\n",
       "      <td>0.186579</td>\n",
       "      <td>0.971723</td>\n",
       "      <td>0.083103</td>\n",
       "      <td>0.031297</td>\n",
       "    </tr>\n",
       "  </tbody>\n",
       "</table>\n",
       "</div>"
      ],
      "text/plain": [
       "<dalex.model_explanations._model_performance.object.ModelPerformance at 0x2de2cf130>"
      ]
     },
     "execution_count": 17,
     "metadata": {},
     "output_type": "execute_result"
    }
   ],
   "source": [
    "explainer.model_performance()"
   ]
  },
  {
   "cell_type": "code",
   "execution_count": 18,
   "metadata": {},
   "outputs": [
    {
     "name": "stdout",
     "output_type": "stream",
     "text": [
      "5/5 [==============================] - 0s 540us/step\n",
      "5/5 [==============================] - 0s 458us/step\n",
      "5/5 [==============================] - 0s 478us/step\n",
      "5/5 [==============================] - 0s 475us/step\n",
      "5/5 [==============================] - 0s 429us/step\n",
      "5/5 [==============================] - 0s 430us/step\n",
      "5/5 [==============================] - 0s 435us/step\n",
      "5/5 [==============================] - 0s 421us/step\n",
      "5/5 [==============================] - 0s 442us/step\n",
      "5/5 [==============================] - 0s 496us/step\n",
      "5/5 [==============================] - 0s 512us/step\n",
      "5/5 [==============================] - 0s 473us/step\n",
      "5/5 [==============================] - 0s 437us/step\n",
      "5/5 [==============================] - 0s 473us/step\n",
      "5/5 [==============================] - 0s 454us/step\n",
      "5/5 [==============================] - 0s 430us/step\n",
      "5/5 [==============================] - 0s 380us/step\n",
      "5/5 [==============================] - 0s 450us/step\n",
      "5/5 [==============================] - 0s 392us/step\n",
      "5/5 [==============================] - 0s 942us/step\n",
      "5/5 [==============================] - 0s 472us/step\n",
      "5/5 [==============================] - 0s 478us/step\n",
      "5/5 [==============================] - 0s 397us/step\n",
      "5/5 [==============================] - 0s 372us/step\n",
      "5/5 [==============================] - 0s 422us/step\n",
      "5/5 [==============================] - 0s 402us/step\n",
      "5/5 [==============================] - 0s 373us/step\n",
      "5/5 [==============================] - 0s 408us/step\n",
      "5/5 [==============================] - 0s 441us/step\n",
      "5/5 [==============================] - 0s 411us/step\n",
      "5/5 [==============================] - 0s 410us/step\n",
      "5/5 [==============================] - 0s 520us/step\n",
      "5/5 [==============================] - 0s 502us/step\n",
      "5/5 [==============================] - 0s 472us/step\n",
      "5/5 [==============================] - 0s 448us/step\n",
      "5/5 [==============================] - 0s 429us/step\n",
      "5/5 [==============================] - 0s 409us/step\n",
      "5/5 [==============================] - 0s 398us/step\n",
      "5/5 [==============================] - 0s 420us/step\n",
      "5/5 [==============================] - 0s 412us/step\n",
      "5/5 [==============================] - 0s 422us/step\n",
      "5/5 [==============================] - 0s 421us/step\n",
      "5/5 [==============================] - 0s 438us/step\n",
      "5/5 [==============================] - 0s 409us/step\n",
      "5/5 [==============================] - 0s 417us/step\n",
      "5/5 [==============================] - 0s 399us/step\n",
      "5/5 [==============================] - 0s 399us/step\n",
      "5/5 [==============================] - 0s 417us/step\n",
      "5/5 [==============================] - 0s 410us/step\n",
      "5/5 [==============================] - 0s 412us/step\n",
      "5/5 [==============================] - 0s 386us/step\n",
      "5/5 [==============================] - 0s 425us/step\n",
      "5/5 [==============================] - 0s 377us/step\n",
      "5/5 [==============================] - 0s 467us/step\n",
      "5/5 [==============================] - 0s 424us/step\n",
      "5/5 [==============================] - 0s 435us/step\n",
      "5/5 [==============================] - 0s 1ms/step\n",
      "5/5 [==============================] - 0s 477us/step\n",
      "5/5 [==============================] - 0s 518us/step\n",
      "5/5 [==============================] - 0s 405us/step\n",
      "5/5 [==============================] - 0s 442us/step\n",
      "5/5 [==============================] - 0s 408us/step\n",
      "5/5 [==============================] - 0s 412us/step\n",
      "5/5 [==============================] - 0s 464us/step\n",
      "5/5 [==============================] - 0s 383us/step\n",
      "5/5 [==============================] - 0s 451us/step\n",
      "5/5 [==============================] - 0s 495us/step\n",
      "5/5 [==============================] - 0s 436us/step\n",
      "5/5 [==============================] - 0s 432us/step\n",
      "5/5 [==============================] - 0s 429us/step\n",
      "5/5 [==============================] - 0s 414us/step\n",
      "5/5 [==============================] - 0s 381us/step\n",
      "5/5 [==============================] - 0s 440us/step\n",
      "5/5 [==============================] - 0s 451us/step\n",
      "5/5 [==============================] - 0s 410us/step\n",
      "5/5 [==============================] - 0s 415us/step\n",
      "5/5 [==============================] - 0s 407us/step\n",
      "5/5 [==============================] - 0s 390us/step\n",
      "5/5 [==============================] - 0s 456us/step\n",
      "5/5 [==============================] - 0s 437us/step\n"
     ]
    },
    {
     "data": {
      "application/vnd.plotly.v1+json": {
       "config": {
        "displaylogo": false,
        "modeBarButtonsToRemove": [
         "sendDataToCloud",
         "lasso2d",
         "autoScale2d",
         "select2d",
         "zoom2d",
         "pan2d",
         "zoomIn2d",
         "zoomOut2d",
         "resetScale2d",
         "toggleSpikelines",
         "hoverCompareCartesian",
         "hoverClosestCartesian"
        ],
        "plotlyServerURL": "https://plot.ly",
        "staticPlot": false,
        "toImageButtonOptions": {
         "height": null,
         "width": null
        }
       },
       "data": [
        {
         "base": 0.18657917431339194,
         "hoverinfo": "text",
         "hoverlabel": {
          "bgcolor": "rgba(0,0,0,0.8)"
         },
         "hovertext": [
          "Model: happiness loss after<br>variable: social_support is permuted: 1.18<br>Drop-out loss change: +0.993",
          "Model: happiness loss after<br>variable: healthy_life_expectancy is permuted: 0.697<br>Drop-out loss change: +0.51",
          "Model: happiness loss after<br>variable: gdp_per_capita is permuted: 0.626<br>Drop-out loss change: +0.439",
          "Model: happiness loss after<br>variable: freedom_to_make_life_choices is permuted: 0.619<br>Drop-out loss change: +0.432",
          "Model: happiness loss after<br>variable: generosity is permuted: 0.537<br>Drop-out loss change: +0.351",
          "Model: happiness loss after<br>variable: perceptions_of_corruption is permuted: 0.516<br>Drop-out loss change: +0.329"
         ],
         "marker": {
          "color": "#46bac2"
         },
         "orientation": "h",
         "showlegend": false,
         "text": [
          "+0.993",
          "+0.51",
          "+0.439",
          "+0.432",
          "+0.351",
          "+0.329"
         ],
         "textposition": "outside",
         "type": "bar",
         "x": [
          0.993063492700873,
          0.5104220246051545,
          0.4391156062246154,
          0.43199906987440423,
          0.3505807971247426,
          0.3293398251347804
         ],
         "xaxis": "x",
         "y": [
          "social_support",
          "healthy_life_expectancy",
          "gdp_per_capita",
          "freedom_to_make_life_choices",
          "generosity",
          "perceptions_of_corruption"
         ],
         "yaxis": "y"
        }
       ],
       "layout": {
        "annotations": [
         {
          "font": {
           "size": 16
          },
          "showarrow": false,
          "text": "happiness",
          "x": 0.5,
          "xanchor": "center",
          "xref": "paper",
          "y": 1,
          "yanchor": "bottom",
          "yref": "paper"
         },
         {
          "font": {
           "size": 16
          },
          "showarrow": false,
          "text": "drop-out loss",
          "x": 0.5,
          "xanchor": "center",
          "xref": "paper",
          "y": 0,
          "yanchor": "top",
          "yref": "paper",
          "yshift": -30
         }
        ],
        "font": {
         "color": "#371ea3"
        },
        "height": 303,
        "margin": {
         "b": 71,
         "r": 30,
         "t": 78
        },
        "shapes": [
         {
          "line": {
           "color": "#371ea3",
           "dash": "dot",
           "width": 1.5
          },
          "type": "line",
          "x0": 0.18657917431339194,
          "x1": 0.18657917431339194,
          "xref": "x",
          "y0": -1,
          "y1": 6,
          "yref": "y"
         }
        ],
        "template": {
         "data": {
          "scatter": [
           {
            "type": "scatter"
           }
          ]
         }
        },
        "title": {
         "text": "Variable Importance",
         "x": 0.15
        },
        "xaxis": {
         "anchor": "y",
         "automargin": true,
         "domain": [
          0,
          1
         ],
         "fixedrange": true,
         "gridwidth": 2,
         "range": [
          0.037619650408260985,
          1.328602190919396
         ],
         "tickcolor": "white",
         "ticklen": 3,
         "ticks": "outside",
         "type": "linear",
         "zeroline": false
        },
        "yaxis": {
         "anchor": "x",
         "automargin": true,
         "autorange": "reversed",
         "domain": [
          0,
          1
         ],
         "fixedrange": true,
         "gridwidth": 2,
         "tickcolor": "white",
         "ticklen": 10,
         "ticks": "outside",
         "type": "category"
        }
       }
      }
     },
     "metadata": {},
     "output_type": "display_data"
    },
    {
     "data": {
      "image/png": "[encoded data removed]",
      "text/plain": [
       "<Figure size 800x390 with 1 Axes>"
      ]
     },
     "metadata": {},
     "output_type": "display_data"
    }
   ],
   "source": [
    "\n",
    "explainer.model_parts().plot()\n",
    "explainer.model_parts(type='shap_wrapper').plot()"
   ]
  },
  {
   "cell_type": "code",
   "execution_count": 19,
   "metadata": {},
   "outputs": [
    {
     "name": "stderr",
     "output_type": "stream",
     "text": [
      "Calculating ceteris paribus:   0%|          | 0/6 [00:00<?, ?it/s]"
     ]
    },
    {
     "name": "stdout",
     "output_type": "stream",
     "text": [
      "493/493 [==============================] - 0s 424us/step\n"
     ]
    },
    {
     "name": "stderr",
     "output_type": "stream",
     "text": [
      "Calculating ceteris paribus:  17%|█▋        | 1/6 [00:00<00:01,  3.16it/s]"
     ]
    },
    {
     "name": "stdout",
     "output_type": "stream",
     "text": [
      "493/493 [==============================] - 0s 249us/step\n"
     ]
    },
    {
     "name": "stderr",
     "output_type": "stream",
     "text": [
      "Calculating ceteris paribus:  33%|███▎      | 2/6 [00:00<00:00,  4.19it/s]"
     ]
    },
    {
     "name": "stdout",
     "output_type": "stream",
     "text": [
      "493/493 [==============================] - 0s 262us/step\n"
     ]
    },
    {
     "name": "stderr",
     "output_type": "stream",
     "text": [
      "Calculating ceteris paribus:  50%|█████     | 3/6 [00:00<00:00,  4.63it/s]"
     ]
    },
    {
     "name": "stdout",
     "output_type": "stream",
     "text": [
      "493/493 [==============================] - 0s 299us/step\n"
     ]
    },
    {
     "name": "stderr",
     "output_type": "stream",
     "text": [
      "Calculating ceteris paribus:  67%|██████▋   | 4/6 [00:00<00:00,  4.70it/s]"
     ]
    },
    {
     "name": "stdout",
     "output_type": "stream",
     "text": [
      "493/493 [==============================] - 0s 247us/step\n"
     ]
    },
    {
     "name": "stderr",
     "output_type": "stream",
     "text": [
      "Calculating ceteris paribus:  83%|████████▎ | 5/6 [00:01<00:00,  4.97it/s]"
     ]
    },
    {
     "name": "stdout",
     "output_type": "stream",
     "text": [
      "493/493 [==============================] - 0s 234us/step\n"
     ]
    },
    {
     "name": "stderr",
     "output_type": "stream",
     "text": [
      "Calculating ceteris paribus: 100%|██████████| 6/6 [00:01<00:00,  4.80it/s]\n"
     ]
    },
    {
     "name": "stdout",
     "output_type": "stream",
     "text": [
      "5/5 [==============================] - 0s 418us/step\n"
     ]
    },
    {
     "data": {
      "application/vnd.plotly.v1+json": {
       "config": {
        "displaylogo": false,
        "modeBarButtonsToRemove": [
         "sendDataToCloud",
         "lasso2d",
         "autoScale2d",
         "select2d",
         "zoom2d",
         "pan2d",
         "zoomIn2d",
         "zoomOut2d",
         "resetScale2d",
         "toggleSpikelines",
         "hoverCompareCartesian",
         "hoverClosestCartesian"
        ],
        "plotlyServerURL": "https://plot.ly",
        "staticPlot": false,
        "toImageButtonOptions": {
         "height": null,
         "width": null
        }
       },
       "data": [
        {
         "customdata": [
          [
           5.422680377960205,
           "happiness",
           "social_support"
          ],
          [
           5.422680377960205,
           "happiness",
           "social_support"
          ],
          [
           5.422680377960205,
           "happiness",
           "social_support"
          ],
          [
           5.422680377960205,
           "happiness",
           "social_support"
          ],
          [
           5.422680377960205,
           "happiness",
           "social_support"
          ],
          [
           5.422680377960205,
           "happiness",
           "social_support"
          ],
          [
           5.422680377960205,
           "happiness",
           "social_support"
          ],
          [
           5.422680377960205,
           "happiness",
           "social_support"
          ],
          [
           5.422680377960205,
           "happiness",
           "social_support"
          ],
          [
           5.422680377960205,
           "happiness",
           "social_support"
          ],
          [
           5.422680377960205,
           "happiness",
           "social_support"
          ],
          [
           5.422680377960205,
           "happiness",
           "social_support"
          ],
          [
           5.422680377960205,
           "happiness",
           "social_support"
          ],
          [
           5.422680377960205,
           "happiness",
           "social_support"
          ],
          [
           5.422680377960205,
           "happiness",
           "social_support"
          ],
          [
           5.422680377960205,
           "happiness",
           "social_support"
          ],
          [
           5.422680377960205,
           "happiness",
           "social_support"
          ],
          [
           5.422680377960205,
           "happiness",
           "social_support"
          ],
          [
           5.422680377960205,
           "happiness",
           "social_support"
          ],
          [
           5.422680377960205,
           "happiness",
           "social_support"
          ],
          [
           5.422680377960205,
           "happiness",
           "social_support"
          ],
          [
           5.422680377960205,
           "happiness",
           "social_support"
          ],
          [
           5.422680377960205,
           "happiness",
           "social_support"
          ],
          [
           5.422680377960205,
           "happiness",
           "social_support"
          ],
          [
           5.422680377960205,
           "happiness",
           "social_support"
          ],
          [
           5.422680377960205,
           "happiness",
           "social_support"
          ],
          [
           5.422680377960205,
           "happiness",
           "social_support"
          ],
          [
           5.422680377960205,
           "happiness",
           "social_support"
          ],
          [
           5.422680377960205,
           "happiness",
           "social_support"
          ],
          [
           5.422680377960205,
           "happiness",
           "social_support"
          ],
          [
           5.422680377960205,
           "happiness",
           "social_support"
          ],
          [
           5.422680377960205,
           "happiness",
           "social_support"
          ],
          [
           5.422680377960205,
           "happiness",
           "social_support"
          ],
          [
           5.422680377960205,
           "happiness",
           "social_support"
          ],
          [
           5.422680377960205,
           "happiness",
           "social_support"
          ],
          [
           5.422680377960205,
           "happiness",
           "social_support"
          ],
          [
           5.422680377960205,
           "happiness",
           "social_support"
          ],
          [
           5.422680377960205,
           "happiness",
           "social_support"
          ],
          [
           5.422680377960205,
           "happiness",
           "social_support"
          ],
          [
           5.422680377960205,
           "happiness",
           "social_support"
          ],
          [
           5.422680377960205,
           "happiness",
           "social_support"
          ],
          [
           5.422680377960205,
           "happiness",
           "social_support"
          ],
          [
           5.422680377960205,
           "happiness",
           "social_support"
          ],
          [
           5.422680377960205,
           "happiness",
           "social_support"
          ],
          [
           5.422680377960205,
           "happiness",
           "social_support"
          ],
          [
           5.422680377960205,
           "happiness",
           "social_support"
          ],
          [
           5.422680377960205,
           "happiness",
           "social_support"
          ],
          [
           5.422680377960205,
           "happiness",
           "social_support"
          ],
          [
           5.422680377960205,
           "happiness",
           "social_support"
          ],
          [
           5.422680377960205,
           "happiness",
           "social_support"
          ],
          [
           5.422680377960205,
           "happiness",
           "social_support"
          ],
          [
           5.422680377960205,
           "happiness",
           "social_support"
          ],
          [
           5.422680377960205,
           "happiness",
           "social_support"
          ],
          [
           5.422680377960205,
           "happiness",
           "social_support"
          ],
          [
           5.422680377960205,
           "happiness",
           "social_support"
          ],
          [
           5.422680377960205,
           "happiness",
           "social_support"
          ],
          [
           5.422680377960205,
           "happiness",
           "social_support"
          ],
          [
           5.422680377960205,
           "happiness",
           "social_support"
          ],
          [
           5.422680377960205,
           "happiness",
           "social_support"
          ],
          [
           5.422680377960205,
           "happiness",
           "social_support"
          ],
          [
           5.422680377960205,
           "happiness",
           "social_support"
          ],
          [
           5.422680377960205,
           "happiness",
           "social_support"
          ],
          [
           5.422680377960205,
           "happiness",
           "social_support"
          ],
          [
           5.422680377960205,
           "happiness",
           "social_support"
          ],
          [
           5.422680377960205,
           "happiness",
           "social_support"
          ],
          [
           5.422680377960205,
           "happiness",
           "social_support"
          ],
          [
           5.422680377960205,
           "happiness",
           "social_support"
          ],
          [
           5.422680377960205,
           "happiness",
           "social_support"
          ],
          [
           5.422680377960205,
           "happiness",
           "social_support"
          ],
          [
           5.422680377960205,
           "happiness",
           "social_support"
          ],
          [
           5.422680377960205,
           "happiness",
           "social_support"
          ],
          [
           5.422680377960205,
           "happiness",
           "social_support"
          ],
          [
           5.422680377960205,
           "happiness",
           "social_support"
          ],
          [
           5.422680377960205,
           "happiness",
           "social_support"
          ],
          [
           5.422680377960205,
           "happiness",
           "social_support"
          ],
          [
           5.422680377960205,
           "happiness",
           "social_support"
          ],
          [
           5.422680377960205,
           "happiness",
           "social_support"
          ],
          [
           5.422680377960205,
           "happiness",
           "social_support"
          ],
          [
           5.422680377960205,
           "happiness",
           "social_support"
          ],
          [
           5.422680377960205,
           "happiness",
           "social_support"
          ],
          [
           5.422680377960205,
           "happiness",
           "social_support"
          ],
          [
           5.422680377960205,
           "happiness",
           "social_support"
          ],
          [
           5.422680377960205,
           "happiness",
           "social_support"
          ],
          [
           5.422680377960205,
           "happiness",
           "social_support"
          ],
          [
           5.422680377960205,
           "happiness",
           "social_support"
          ],
          [
           5.422680377960205,
           "happiness",
           "social_support"
          ],
          [
           5.422680377960205,
           "happiness",
           "social_support"
          ],
          [
           5.422680377960205,
           "happiness",
           "social_support"
          ],
          [
           5.422680377960205,
           "happiness",
           "social_support"
          ],
          [
           5.422680377960205,
           "happiness",
           "social_support"
          ],
          [
           5.422680377960205,
           "happiness",
           "social_support"
          ],
          [
           5.422680377960205,
           "happiness",
           "social_support"
          ],
          [
           5.422680377960205,
           "happiness",
           "social_support"
          ],
          [
           5.422680377960205,
           "happiness",
           "social_support"
          ],
          [
           5.422680377960205,
           "happiness",
           "social_support"
          ],
          [
           5.422680377960205,
           "happiness",
           "social_support"
          ],
          [
           5.422680377960205,
           "happiness",
           "social_support"
          ],
          [
           5.422680377960205,
           "happiness",
           "social_support"
          ],
          [
           5.422680377960205,
           "happiness",
           "social_support"
          ],
          [
           5.422680377960205,
           "happiness",
           "social_support"
          ],
          [
           5.422680377960205,
           "happiness",
           "social_support"
          ]
         ],
         "hovertemplate": "<b>%{hovertext}</b><br><br>prediction=%{y:.3f}<br>mean_prediction=%{customdata[0]:.3f}<extra></extra>",
         "hovertext": [
          "happiness",
          "happiness",
          "happiness",
          "happiness",
          "happiness",
          "happiness",
          "happiness",
          "happiness",
          "happiness",
          "happiness",
          "happiness",
          "happiness",
          "happiness",
          "happiness",
          "happiness",
          "happiness",
          "happiness",
          "happiness",
          "happiness",
          "happiness",
          "happiness",
          "happiness",
          "happiness",
          "happiness",
          "happiness",
          "happiness",
          "happiness",
          "happiness",
          "happiness",
          "happiness",
          "happiness",
          "happiness",
          "happiness",
          "happiness",
          "happiness",
          "happiness",
          "happiness",
          "happiness",
          "happiness",
          "happiness",
          "happiness",
          "happiness",
          "happiness",
          "happiness",
          "happiness",
          "happiness",
          "happiness",
          "happiness",
          "happiness",
          "happiness",
          "happiness",
          "happiness",
          "happiness",
          "happiness",
          "happiness",
          "happiness",
          "happiness",
          "happiness",
          "happiness",
          "happiness",
          "happiness",
          "happiness",
          "happiness",
          "happiness",
          "happiness",
          "happiness",
          "happiness",
          "happiness",
          "happiness",
          "happiness",
          "happiness",
          "happiness",
          "happiness",
          "happiness",
          "happiness",
          "happiness",
          "happiness",
          "happiness",
          "happiness",
          "happiness",
          "happiness",
          "happiness",
          "happiness",
          "happiness",
          "happiness",
          "happiness",
          "happiness",
          "happiness",
          "happiness",
          "happiness",
          "happiness",
          "happiness",
          "happiness",
          "happiness",
          "happiness",
          "happiness",
          "happiness",
          "happiness",
          "happiness",
          "happiness",
          "happiness"
         ],
         "legendgroup": "happiness",
         "line": {
          "color": "#46bac2",
          "dash": "solid",
          "width": 2
         },
         "marker": {
          "symbol": "circle"
         },
         "mode": "lines",
         "name": "happiness",
         "opacity": 1,
         "orientation": "v",
         "showlegend": true,
         "type": "scatter",
         "x": [
          0,
          0.01624,
          0.03248,
          0.04872,
          0.06496,
          0.08120000000000001,
          0.09744,
          0.11368,
          0.12992,
          0.14616,
          0.16240000000000002,
          0.17864000000000002,
          0.19488,
          0.21112,
          0.22736,
          0.2436,
          0.25984,
          0.27608,
          0.29232,
          0.30856,
          0.32480000000000003,
          0.34104,
          0.35728000000000004,
          0.37352,
          0.38976,
          0.406,
          0.42224,
          0.43848000000000004,
          0.45472,
          0.47096000000000005,
          0.4872,
          0.50344,
          0.51968,
          0.5359200000000001,
          0.55216,
          0.5684,
          0.58464,
          0.6008800000000001,
          0.61712,
          0.63336,
          0.6496000000000001,
          0.66584,
          0.68208,
          0.69832,
          0.7145600000000001,
          0.7308,
          0.74704,
          0.7632800000000001,
          0.77952,
          0.79576,
          0.812,
          0.8282400000000001,
          0.84448,
          0.86072,
          0.8769600000000001,
          0.8932000000000001,
          0.90944,
          0.9256800000000001,
          0.9419200000000001,
          0.95816,
          0.9744,
          0.9906400000000001,
          1.00688,
          1.02312,
          1.03936,
          1.0556,
          1.0718400000000001,
          1.0880800000000002,
          1.10432,
          1.12056,
          1.1368,
          1.15304,
          1.16928,
          1.1855200000000001,
          1.2017600000000002,
          1.218,
          1.23424,
          1.25048,
          1.26672,
          1.28296,
          1.2992000000000001,
          1.3154400000000002,
          1.33168,
          1.34792,
          1.36416,
          1.3804,
          1.39664,
          1.4128800000000001,
          1.4291200000000002,
          1.44536,
          1.4616,
          1.47784,
          1.49408,
          1.51032,
          1.5265600000000001,
          1.5428000000000002,
          1.55904,
          1.57528,
          1.59152,
          1.60776,
          1.624
         ],
         "xaxis": "x3",
         "y": [
          2.4216220378875732,
          2.4513957500457764,
          2.4810550212860107,
          2.5107829570770264,
          2.5410797595977783,
          2.5716068744659424,
          2.6032357215881348,
          2.635611057281494,
          2.6685585975646973,
          2.7023768424987793,
          2.7368507385253906,
          2.7716548442840576,
          2.8068089485168457,
          2.8416295051574707,
          2.8764750957489014,
          2.9116933345794678,
          2.9475197792053223,
          2.983433961868286,
          3.0199732780456543,
          3.056877851486206,
          3.093754768371582,
          3.131195068359375,
          3.167876720428467,
          3.20397686958313,
          3.240182876586914,
          3.2768352031707764,
          3.313444137573242,
          3.350200653076172,
          3.3874640464782715,
          3.4244322776794434,
          3.461029052734375,
          3.4986469745635986,
          3.5377814769744873,
          3.5775413513183594,
          3.617274761199951,
          3.6569299697875977,
          3.696462869644165,
          3.736260414123535,
          3.7761340141296387,
          3.8156306743621826,
          3.8548200130462646,
          3.894725799560547,
          3.935615062713623,
          3.9763832092285156,
          4.017027378082275,
          4.057661533355713,
          4.097985744476318,
          4.139375686645508,
          4.180905818939209,
          4.223113059997559,
          4.266423225402832,
          4.309684753417969,
          4.353792190551758,
          4.397445201873779,
          4.440443992614746,
          4.4845099449157715,
          4.528310298919678,
          4.572035312652588,
          4.61661958694458,
          4.659858703613281,
          4.701249122619629,
          4.74124813079834,
          4.778507709503174,
          4.815459251403809,
          4.850324630737305,
          4.883790969848633,
          4.917060852050781,
          4.949109077453613,
          4.98154878616333,
          5.015762805938721,
          5.051989555358887,
          5.086458683013916,
          5.120903015136719,
          5.153417110443115,
          5.1862382888793945,
          5.221632957458496,
          5.25559139251709,
          5.285806655883789,
          5.31331729888916,
          5.338730812072754,
          5.361605167388916,
          5.384509086608887,
          5.404776573181152,
          5.424077033996582,
          5.443058490753174,
          5.461584091186523,
          5.477368354797363,
          5.4896345138549805,
          5.501292705535889,
          5.5126118659973145,
          5.521327495574951,
          5.527576446533203,
          5.531155586242676,
          5.5327677726745605,
          5.531924724578857,
          5.527183532714844,
          5.521772384643555,
          5.515614032745361,
          5.510585308074951,
          5.503223419189453,
          5.494459629058838
         ],
         "yaxis": "y3"
        },
        {
         "customdata": [
          [
           5.422680377960205,
           "happiness",
           "healthy_life_expectancy"
          ],
          [
           5.422680377960205,
           "happiness",
           "healthy_life_expectancy"
          ],
          [
           5.422680377960205,
           "happiness",
           "healthy_life_expectancy"
          ],
          [
           5.422680377960205,
           "happiness",
           "healthy_life_expectancy"
          ],
          [
           5.422680377960205,
           "happiness",
           "healthy_life_expectancy"
          ],
          [
           5.422680377960205,
           "happiness",
           "healthy_life_expectancy"
          ],
          [
           5.422680377960205,
           "happiness",
           "healthy_life_expectancy"
          ],
          [
           5.422680377960205,
           "happiness",
           "healthy_life_expectancy"
          ],
          [
           5.422680377960205,
           "happiness",
           "healthy_life_expectancy"
          ],
          [
           5.422680377960205,
           "happiness",
           "healthy_life_expectancy"
          ],
          [
           5.422680377960205,
           "happiness",
           "healthy_life_expectancy"
          ],
          [
           5.422680377960205,
           "happiness",
           "healthy_life_expectancy"
          ],
          [
           5.422680377960205,
           "happiness",
           "healthy_life_expectancy"
          ],
          [
           5.422680377960205,
           "happiness",
           "healthy_life_expectancy"
          ],
          [
           5.422680377960205,
           "happiness",
           "healthy_life_expectancy"
          ],
          [
           5.422680377960205,
           "happiness",
           "healthy_life_expectancy"
          ],
          [
           5.422680377960205,
           "happiness",
           "healthy_life_expectancy"
          ],
          [
           5.422680377960205,
           "happiness",
           "healthy_life_expectancy"
          ],
          [
           5.422680377960205,
           "happiness",
           "healthy_life_expectancy"
          ],
          [
           5.422680377960205,
           "happiness",
           "healthy_life_expectancy"
          ],
          [
           5.422680377960205,
           "happiness",
           "healthy_life_expectancy"
          ],
          [
           5.422680377960205,
           "happiness",
           "healthy_life_expectancy"
          ],
          [
           5.422680377960205,
           "happiness",
           "healthy_life_expectancy"
          ],
          [
           5.422680377960205,
           "happiness",
           "healthy_life_expectancy"
          ],
          [
           5.422680377960205,
           "happiness",
           "healthy_life_expectancy"
          ],
          [
           5.422680377960205,
           "happiness",
           "healthy_life_expectancy"
          ],
          [
           5.422680377960205,
           "happiness",
           "healthy_life_expectancy"
          ],
          [
           5.422680377960205,
           "happiness",
           "healthy_life_expectancy"
          ],
          [
           5.422680377960205,
           "happiness",
           "healthy_life_expectancy"
          ],
          [
           5.422680377960205,
           "happiness",
           "healthy_life_expectancy"
          ],
          [
           5.422680377960205,
           "happiness",
           "healthy_life_expectancy"
          ],
          [
           5.422680377960205,
           "happiness",
           "healthy_life_expectancy"
          ],
          [
           5.422680377960205,
           "happiness",
           "healthy_life_expectancy"
          ],
          [
           5.422680377960205,
           "happiness",
           "healthy_life_expectancy"
          ],
          [
           5.422680377960205,
           "happiness",
           "healthy_life_expectancy"
          ],
          [
           5.422680377960205,
           "happiness",
           "healthy_life_expectancy"
          ],
          [
           5.422680377960205,
           "happiness",
           "healthy_life_expectancy"
          ],
          [
           5.422680377960205,
           "happiness",
           "healthy_life_expectancy"
          ],
          [
           5.422680377960205,
           "happiness",
           "healthy_life_expectancy"
          ],
          [
           5.422680377960205,
           "happiness",
           "healthy_life_expectancy"
          ],
          [
           5.422680377960205,
           "happiness",
           "healthy_life_expectancy"
          ],
          [
           5.422680377960205,
           "happiness",
           "healthy_life_expectancy"
          ],
          [
           5.422680377960205,
           "happiness",
           "healthy_life_expectancy"
          ],
          [
           5.422680377960205,
           "happiness",
           "healthy_life_expectancy"
          ],
          [
           5.422680377960205,
           "happiness",
           "healthy_life_expectancy"
          ],
          [
           5.422680377960205,
           "happiness",
           "healthy_life_expectancy"
          ],
          [
           5.422680377960205,
           "happiness",
           "healthy_life_expectancy"
          ],
          [
           5.422680377960205,
           "happiness",
           "healthy_life_expectancy"
          ],
          [
           5.422680377960205,
           "happiness",
           "healthy_life_expectancy"
          ],
          [
           5.422680377960205,
           "happiness",
           "healthy_life_expectancy"
          ],
          [
           5.422680377960205,
           "happiness",
           "healthy_life_expectancy"
          ],
          [
           5.422680377960205,
           "happiness",
           "healthy_life_expectancy"
          ],
          [
           5.422680377960205,
           "happiness",
           "healthy_life_expectancy"
          ],
          [
           5.422680377960205,
           "happiness",
           "healthy_life_expectancy"
          ],
          [
           5.422680377960205,
           "happiness",
           "healthy_life_expectancy"
          ],
          [
           5.422680377960205,
           "happiness",
           "healthy_life_expectancy"
          ],
          [
           5.422680377960205,
           "happiness",
           "healthy_life_expectancy"
          ],
          [
           5.422680377960205,
           "happiness",
           "healthy_life_expectancy"
          ],
          [
           5.422680377960205,
           "happiness",
           "healthy_life_expectancy"
          ],
          [
           5.422680377960205,
           "happiness",
           "healthy_life_expectancy"
          ],
          [
           5.422680377960205,
           "happiness",
           "healthy_life_expectancy"
          ],
          [
           5.422680377960205,
           "happiness",
           "healthy_life_expectancy"
          ],
          [
           5.422680377960205,
           "happiness",
           "healthy_life_expectancy"
          ],
          [
           5.422680377960205,
           "happiness",
           "healthy_life_expectancy"
          ],
          [
           5.422680377960205,
           "happiness",
           "healthy_life_expectancy"
          ],
          [
           5.422680377960205,
           "happiness",
           "healthy_life_expectancy"
          ],
          [
           5.422680377960205,
           "happiness",
           "healthy_life_expectancy"
          ],
          [
           5.422680377960205,
           "happiness",
           "healthy_life_expectancy"
          ],
          [
           5.422680377960205,
           "happiness",
           "healthy_life_expectancy"
          ],
          [
           5.422680377960205,
           "happiness",
           "healthy_life_expectancy"
          ],
          [
           5.422680377960205,
           "happiness",
           "healthy_life_expectancy"
          ],
          [
           5.422680377960205,
           "happiness",
           "healthy_life_expectancy"
          ],
          [
           5.422680377960205,
           "happiness",
           "healthy_life_expectancy"
          ],
          [
           5.422680377960205,
           "happiness",
           "healthy_life_expectancy"
          ],
          [
           5.422680377960205,
           "happiness",
           "healthy_life_expectancy"
          ],
          [
           5.422680377960205,
           "happiness",
           "healthy_life_expectancy"
          ],
          [
           5.422680377960205,
           "happiness",
           "healthy_life_expectancy"
          ],
          [
           5.422680377960205,
           "happiness",
           "healthy_life_expectancy"
          ],
          [
           5.422680377960205,
           "happiness",
           "healthy_life_expectancy"
          ],
          [
           5.422680377960205,
           "happiness",
           "healthy_life_expectancy"
          ],
          [
           5.422680377960205,
           "happiness",
           "healthy_life_expectancy"
          ],
          [
           5.422680377960205,
           "happiness",
           "healthy_life_expectancy"
          ],
          [
           5.422680377960205,
           "happiness",
           "healthy_life_expectancy"
          ],
          [
           5.422680377960205,
           "happiness",
           "healthy_life_expectancy"
          ],
          [
           5.422680377960205,
           "happiness",
           "healthy_life_expectancy"
          ],
          [
           5.422680377960205,
           "happiness",
           "healthy_life_expectancy"
          ],
          [
           5.422680377960205,
           "happiness",
           "healthy_life_expectancy"
          ],
          [
           5.422680377960205,
           "happiness",
           "healthy_life_expectancy"
          ],
          [
           5.422680377960205,
           "happiness",
           "healthy_life_expectancy"
          ],
          [
           5.422680377960205,
           "happiness",
           "healthy_life_expectancy"
          ],
          [
           5.422680377960205,
           "happiness",
           "healthy_life_expectancy"
          ],
          [
           5.422680377960205,
           "happiness",
           "healthy_life_expectancy"
          ],
          [
           5.422680377960205,
           "happiness",
           "healthy_life_expectancy"
          ],
          [
           5.422680377960205,
           "happiness",
           "healthy_life_expectancy"
          ],
          [
           5.422680377960205,
           "happiness",
           "healthy_life_expectancy"
          ],
          [
           5.422680377960205,
           "happiness",
           "healthy_life_expectancy"
          ],
          [
           5.422680377960205,
           "happiness",
           "healthy_life_expectancy"
          ],
          [
           5.422680377960205,
           "happiness",
           "healthy_life_expectancy"
          ],
          [
           5.422680377960205,
           "happiness",
           "healthy_life_expectancy"
          ],
          [
           5.422680377960205,
           "happiness",
           "healthy_life_expectancy"
          ],
          [
           5.422680377960205,
           "happiness",
           "healthy_life_expectancy"
          ]
         ],
         "hovertemplate": "<b>%{hovertext}</b><br><br>prediction=%{y:.3f}<br>mean_prediction=%{customdata[0]:.3f}<extra></extra>",
         "hovertext": [
          "happiness",
          "happiness",
          "happiness",
          "happiness",
          "happiness",
          "happiness",
          "happiness",
          "happiness",
          "happiness",
          "happiness",
          "happiness",
          "happiness",
          "happiness",
          "happiness",
          "happiness",
          "happiness",
          "happiness",
          "happiness",
          "happiness",
          "happiness",
          "happiness",
          "happiness",
          "happiness",
          "happiness",
          "happiness",
          "happiness",
          "happiness",
          "happiness",
          "happiness",
          "happiness",
          "happiness",
          "happiness",
          "happiness",
          "happiness",
          "happiness",
          "happiness",
          "happiness",
          "happiness",
          "happiness",
          "happiness",
          "happiness",
          "happiness",
          "happiness",
          "happiness",
          "happiness",
          "happiness",
          "happiness",
          "happiness",
          "happiness",
          "happiness",
          "happiness",
          "happiness",
          "happiness",
          "happiness",
          "happiness",
          "happiness",
          "happiness",
          "happiness",
          "happiness",
          "happiness",
          "happiness",
          "happiness",
          "happiness",
          "happiness",
          "happiness",
          "happiness",
          "happiness",
          "happiness",
          "happiness",
          "happiness",
          "happiness",
          "happiness",
          "happiness",
          "happiness",
          "happiness",
          "happiness",
          "happiness",
          "happiness",
          "happiness",
          "happiness",
          "happiness",
          "happiness",
          "happiness",
          "happiness",
          "happiness",
          "happiness",
          "happiness",
          "happiness",
          "happiness",
          "happiness",
          "happiness",
          "happiness",
          "happiness",
          "happiness",
          "happiness",
          "happiness",
          "happiness",
          "happiness",
          "happiness",
          "happiness",
          "happiness"
         ],
         "legendgroup": "happiness",
         "line": {
          "color": "#46bac2",
          "dash": "solid",
          "width": 2
         },
         "marker": {
          "symbol": "circle"
         },
         "mode": "lines",
         "name": "happiness",
         "opacity": 1,
         "orientation": "v",
         "showlegend": false,
         "type": "scatter",
         "x": [
          0,
          0.01141,
          0.02282,
          0.03423,
          0.04564,
          0.057050000000000003,
          0.06846,
          0.07987,
          0.09128,
          0.10269,
          0.11410000000000001,
          0.12551,
          0.13692,
          0.14833,
          0.15974,
          0.17115,
          0.18256,
          0.19397,
          0.20538,
          0.21679,
          0.22820000000000001,
          0.23961,
          0.25102,
          0.26243,
          0.27384,
          0.28525,
          0.29666,
          0.30807,
          0.31948,
          0.33089,
          0.3423,
          0.35371,
          0.36512,
          0.37653,
          0.38794,
          0.39935,
          0.41076,
          0.42217,
          0.43358,
          0.44499,
          0.45640000000000003,
          0.46781,
          0.47922,
          0.49063,
          0.50204,
          0.51345,
          0.52486,
          0.53627,
          0.54768,
          0.55909,
          0.5705,
          0.58191,
          0.59332,
          0.60473,
          0.61614,
          0.62755,
          0.63896,
          0.65037,
          0.66178,
          0.67319,
          0.6846,
          0.69601,
          0.70742,
          0.71883,
          0.73024,
          0.74165,
          0.75306,
          0.76447,
          0.77588,
          0.78729,
          0.7987,
          0.81011,
          0.82152,
          0.83293,
          0.84434,
          0.85575,
          0.86716,
          0.87857,
          0.88998,
          0.90139,
          0.9128000000000001,
          0.92421,
          0.93562,
          0.94703,
          0.95844,
          0.96985,
          0.98126,
          0.99267,
          1.00408,
          1.01549,
          1.0269,
          1.03831,
          1.04972,
          1.06113,
          1.07254,
          1.08395,
          1.09536,
          1.10677,
          1.11818,
          1.12959,
          1.141
         ],
         "xaxis": "x4",
         "y": [
          5.0842366218566895,
          5.078243732452393,
          5.0723042488098145,
          5.065948009490967,
          5.060009479522705,
          5.0547661781311035,
          5.049313068389893,
          5.043990135192871,
          5.038357257843018,
          5.032756805419922,
          5.028194904327393,
          5.023755073547363,
          5.0196943283081055,
          5.015417098999023,
          5.0107316970825195,
          5.006168365478516,
          5.001927852630615,
          4.99809455871582,
          4.994728088378906,
          4.991676330566406,
          4.98853063583374,
          4.985566139221191,
          4.98372745513916,
          4.9822998046875,
          4.981767654418945,
          4.981844902038574,
          4.983041763305664,
          4.98532772064209,
          4.98718786239624,
          4.98898983001709,
          4.9904961585998535,
          4.9928717613220215,
          4.9973978996276855,
          5.002201080322266,
          5.006518363952637,
          5.010436058044434,
          5.013155937194824,
          5.014578342437744,
          5.016064167022705,
          5.016133785247803,
          5.014880657196045,
          5.012892723083496,
          5.012075424194336,
          5.012163162231445,
          5.011482238769531,
          5.011186122894287,
          5.010715007781982,
          5.011016845703125,
          5.012328624725342,
          5.015120506286621,
          5.019519329071045,
          5.026888370513916,
          5.038743019104004,
          5.054502010345459,
          5.073463439941406,
          5.095036506652832,
          5.122159481048584,
          5.152738094329834,
          5.182838439941406,
          5.214467525482178,
          5.24535608291626,
          5.278496265411377,
          5.311047554016113,
          5.343894958496094,
          5.37451171875,
          5.4029059410095215,
          5.429568290710449,
          5.453948497772217,
          5.479300498962402,
          5.50375509262085,
          5.526549339294434,
          5.548969745635986,
          5.568501949310303,
          5.5867719650268555,
          5.604897499084473,
          5.6213274002075195,
          5.634725570678711,
          5.644598484039307,
          5.6522908210754395,
          5.660064220428467,
          5.665916442871094,
          5.669744491577148,
          5.670708179473877,
          5.668059349060059,
          5.6602349281311035,
          5.648378372192383,
          5.633742332458496,
          5.618868827819824,
          5.602084636688232,
          5.580772876739502,
          5.556386470794678,
          5.527381420135498,
          5.49544095993042,
          5.462714672088623,
          5.427430152893066,
          5.389588356018066,
          5.350621700286865,
          5.309773921966553,
          5.266857624053955,
          5.224798679351807,
          5.181992530822754
         ],
         "yaxis": "y4"
        },
        {
         "customdata": [
          [
           5.422680377960205,
           "happiness",
           "gdp_per_capita"
          ],
          [
           5.422680377960205,
           "happiness",
           "gdp_per_capita"
          ],
          [
           5.422680377960205,
           "happiness",
           "gdp_per_capita"
          ],
          [
           5.422680377960205,
           "happiness",
           "gdp_per_capita"
          ],
          [
           5.422680377960205,
           "happiness",
           "gdp_per_capita"
          ],
          [
           5.422680377960205,
           "happiness",
           "gdp_per_capita"
          ],
          [
           5.422680377960205,
           "happiness",
           "gdp_per_capita"
          ],
          [
           5.422680377960205,
           "happiness",
           "gdp_per_capita"
          ],
          [
           5.422680377960205,
           "happiness",
           "gdp_per_capita"
          ],
          [
           5.422680377960205,
           "happiness",
           "gdp_per_capita"
          ],
          [
           5.422680377960205,
           "happiness",
           "gdp_per_capita"
          ],
          [
           5.422680377960205,
           "happiness",
           "gdp_per_capita"
          ],
          [
           5.422680377960205,
           "happiness",
           "gdp_per_capita"
          ],
          [
           5.422680377960205,
           "happiness",
           "gdp_per_capita"
          ],
          [
           5.422680377960205,
           "happiness",
           "gdp_per_capita"
          ],
          [
           5.422680377960205,
           "happiness",
           "gdp_per_capita"
          ],
          [
           5.422680377960205,
           "happiness",
           "gdp_per_capita"
          ],
          [
           5.422680377960205,
           "happiness",
           "gdp_per_capita"
          ],
          [
           5.422680377960205,
           "happiness",
           "gdp_per_capita"
          ],
          [
           5.422680377960205,
           "happiness",
           "gdp_per_capita"
          ],
          [
           5.422680377960205,
           "happiness",
           "gdp_per_capita"
          ],
          [
           5.422680377960205,
           "happiness",
           "gdp_per_capita"
          ],
          [
           5.422680377960205,
           "happiness",
           "gdp_per_capita"
          ],
          [
           5.422680377960205,
           "happiness",
           "gdp_per_capita"
          ],
          [
           5.422680377960205,
           "happiness",
           "gdp_per_capita"
          ],
          [
           5.422680377960205,
           "happiness",
           "gdp_per_capita"
          ],
          [
           5.422680377960205,
           "happiness",
           "gdp_per_capita"
          ],
          [
           5.422680377960205,
           "happiness",
           "gdp_per_capita"
          ],
          [
           5.422680377960205,
           "happiness",
           "gdp_per_capita"
          ],
          [
           5.422680377960205,
           "happiness",
           "gdp_per_capita"
          ],
          [
           5.422680377960205,
           "happiness",
           "gdp_per_capita"
          ],
          [
           5.422680377960205,
           "happiness",
           "gdp_per_capita"
          ],
          [
           5.422680377960205,
           "happiness",
           "gdp_per_capita"
          ],
          [
           5.422680377960205,
           "happiness",
           "gdp_per_capita"
          ],
          [
           5.422680377960205,
           "happiness",
           "gdp_per_capita"
          ],
          [
           5.422680377960205,
           "happiness",
           "gdp_per_capita"
          ],
          [
           5.422680377960205,
           "happiness",
           "gdp_per_capita"
          ],
          [
           5.422680377960205,
           "happiness",
           "gdp_per_capita"
          ],
          [
           5.422680377960205,
           "happiness",
           "gdp_per_capita"
          ],
          [
           5.422680377960205,
           "happiness",
           "gdp_per_capita"
          ],
          [
           5.422680377960205,
           "happiness",
           "gdp_per_capita"
          ],
          [
           5.422680377960205,
           "happiness",
           "gdp_per_capita"
          ],
          [
           5.422680377960205,
           "happiness",
           "gdp_per_capita"
          ],
          [
           5.422680377960205,
           "happiness",
           "gdp_per_capita"
          ],
          [
           5.422680377960205,
           "happiness",
           "gdp_per_capita"
          ],
          [
           5.422680377960205,
           "happiness",
           "gdp_per_capita"
          ],
          [
           5.422680377960205,
           "happiness",
           "gdp_per_capita"
          ],
          [
           5.422680377960205,
           "happiness",
           "gdp_per_capita"
          ],
          [
           5.422680377960205,
           "happiness",
           "gdp_per_capita"
          ],
          [
           5.422680377960205,
           "happiness",
           "gdp_per_capita"
          ],
          [
           5.422680377960205,
           "happiness",
           "gdp_per_capita"
          ],
          [
           5.422680377960205,
           "happiness",
           "gdp_per_capita"
          ],
          [
           5.422680377960205,
           "happiness",
           "gdp_per_capita"
          ],
          [
           5.422680377960205,
           "happiness",
           "gdp_per_capita"
          ],
          [
           5.422680377960205,
           "happiness",
           "gdp_per_capita"
          ],
          [
           5.422680377960205,
           "happiness",
           "gdp_per_capita"
          ],
          [
           5.422680377960205,
           "happiness",
           "gdp_per_capita"
          ],
          [
           5.422680377960205,
           "happiness",
           "gdp_per_capita"
          ],
          [
           5.422680377960205,
           "happiness",
           "gdp_per_capita"
          ],
          [
           5.422680377960205,
           "happiness",
           "gdp_per_capita"
          ],
          [
           5.422680377960205,
           "happiness",
           "gdp_per_capita"
          ],
          [
           5.422680377960205,
           "happiness",
           "gdp_per_capita"
          ],
          [
           5.422680377960205,
           "happiness",
           "gdp_per_capita"
          ],
          [
           5.422680377960205,
           "happiness",
           "gdp_per_capita"
          ],
          [
           5.422680377960205,
           "happiness",
           "gdp_per_capita"
          ],
          [
           5.422680377960205,
           "happiness",
           "gdp_per_capita"
          ],
          [
           5.422680377960205,
           "happiness",
           "gdp_per_capita"
          ],
          [
           5.422680377960205,
           "happiness",
           "gdp_per_capita"
          ],
          [
           5.422680377960205,
           "happiness",
           "gdp_per_capita"
          ],
          [
           5.422680377960205,
           "happiness",
           "gdp_per_capita"
          ],
          [
           5.422680377960205,
           "happiness",
           "gdp_per_capita"
          ],
          [
           5.422680377960205,
           "happiness",
           "gdp_per_capita"
          ],
          [
           5.422680377960205,
           "happiness",
           "gdp_per_capita"
          ],
          [
           5.422680377960205,
           "happiness",
           "gdp_per_capita"
          ],
          [
           5.422680377960205,
           "happiness",
           "gdp_per_capita"
          ],
          [
           5.422680377960205,
           "happiness",
           "gdp_per_capita"
          ],
          [
           5.422680377960205,
           "happiness",
           "gdp_per_capita"
          ],
          [
           5.422680377960205,
           "happiness",
           "gdp_per_capita"
          ],
          [
           5.422680377960205,
           "happiness",
           "gdp_per_capita"
          ],
          [
           5.422680377960205,
           "happiness",
           "gdp_per_capita"
          ],
          [
           5.422680377960205,
           "happiness",
           "gdp_per_capita"
          ],
          [
           5.422680377960205,
           "happiness",
           "gdp_per_capita"
          ],
          [
           5.422680377960205,
           "happiness",
           "gdp_per_capita"
          ],
          [
           5.422680377960205,
           "happiness",
           "gdp_per_capita"
          ],
          [
           5.422680377960205,
           "happiness",
           "gdp_per_capita"
          ],
          [
           5.422680377960205,
           "happiness",
           "gdp_per_capita"
          ],
          [
           5.422680377960205,
           "happiness",
           "gdp_per_capita"
          ],
          [
           5.422680377960205,
           "happiness",
           "gdp_per_capita"
          ],
          [
           5.422680377960205,
           "happiness",
           "gdp_per_capita"
          ],
          [
           5.422680377960205,
           "happiness",
           "gdp_per_capita"
          ],
          [
           5.422680377960205,
           "happiness",
           "gdp_per_capita"
          ],
          [
           5.422680377960205,
           "happiness",
           "gdp_per_capita"
          ],
          [
           5.422680377960205,
           "happiness",
           "gdp_per_capita"
          ],
          [
           5.422680377960205,
           "happiness",
           "gdp_per_capita"
          ],
          [
           5.422680377960205,
           "happiness",
           "gdp_per_capita"
          ],
          [
           5.422680377960205,
           "happiness",
           "gdp_per_capita"
          ],
          [
           5.422680377960205,
           "happiness",
           "gdp_per_capita"
          ],
          [
           5.422680377960205,
           "happiness",
           "gdp_per_capita"
          ],
          [
           5.422680377960205,
           "happiness",
           "gdp_per_capita"
          ],
          [
           5.422680377960205,
           "happiness",
           "gdp_per_capita"
          ],
          [
           5.422680377960205,
           "happiness",
           "gdp_per_capita"
          ]
         ],
         "hovertemplate": "<b>%{hovertext}</b><br><br>prediction=%{y:.3f}<br>mean_prediction=%{customdata[0]:.3f}<extra></extra>",
         "hovertext": [
          "happiness",
          "happiness",
          "happiness",
          "happiness",
          "happiness",
          "happiness",
          "happiness",
          "happiness",
          "happiness",
          "happiness",
          "happiness",
          "happiness",
          "happiness",
          "happiness",
          "happiness",
          "happiness",
          "happiness",
          "happiness",
          "happiness",
          "happiness",
          "happiness",
          "happiness",
          "happiness",
          "happiness",
          "happiness",
          "happiness",
          "happiness",
          "happiness",
          "happiness",
          "happiness",
          "happiness",
          "happiness",
          "happiness",
          "happiness",
          "happiness",
          "happiness",
          "happiness",
          "happiness",
          "happiness",
          "happiness",
          "happiness",
          "happiness",
          "happiness",
          "happiness",
          "happiness",
          "happiness",
          "happiness",
          "happiness",
          "happiness",
          "happiness",
          "happiness",
          "happiness",
          "happiness",
          "happiness",
          "happiness",
          "happiness",
          "happiness",
          "happiness",
          "happiness",
          "happiness",
          "happiness",
          "happiness",
          "happiness",
          "happiness",
          "happiness",
          "happiness",
          "happiness",
          "happiness",
          "happiness",
          "happiness",
          "happiness",
          "happiness",
          "happiness",
          "happiness",
          "happiness",
          "happiness",
          "happiness",
          "happiness",
          "happiness",
          "happiness",
          "happiness",
          "happiness",
          "happiness",
          "happiness",
          "happiness",
          "happiness",
          "happiness",
          "happiness",
          "happiness",
          "happiness",
          "happiness",
          "happiness",
          "happiness",
          "happiness",
          "happiness",
          "happiness",
          "happiness",
          "happiness",
          "happiness",
          "happiness",
          "happiness"
         ],
         "legendgroup": "happiness",
         "line": {
          "color": "#46bac2",
          "dash": "solid",
          "width": 2
         },
         "marker": {
          "symbol": "circle"
         },
         "mode": "lines",
         "name": "happiness",
         "opacity": 1,
         "orientation": "v",
         "showlegend": false,
         "type": "scatter",
         "x": [
          0,
          0.01684,
          0.03368,
          0.05052,
          0.06736,
          0.0842,
          0.10104,
          0.11788000000000001,
          0.13472,
          0.15156,
          0.1684,
          0.18524000000000002,
          0.20208,
          0.21892,
          0.23576000000000003,
          0.2526,
          0.26944,
          0.28628000000000003,
          0.30312,
          0.31996,
          0.3368,
          0.35364,
          0.37048000000000003,
          0.38732,
          0.40416,
          0.42100000000000004,
          0.43784,
          0.45468000000000003,
          0.47152000000000005,
          0.48836,
          0.5052,
          0.5220400000000001,
          0.53888,
          0.55572,
          0.5725600000000001,
          0.5894,
          0.60624,
          0.6230800000000001,
          0.63992,
          0.65676,
          0.6736,
          0.69044,
          0.70728,
          0.72412,
          0.7409600000000001,
          0.7578,
          0.77464,
          0.7914800000000001,
          0.80832,
          0.82516,
          0.8420000000000001,
          0.85884,
          0.87568,
          0.8925200000000001,
          0.9093600000000001,
          0.9262,
          0.9430400000000001,
          0.9598800000000001,
          0.97672,
          0.99356,
          1.0104,
          1.0272400000000002,
          1.0440800000000001,
          1.06092,
          1.07776,
          1.0946,
          1.11144,
          1.12828,
          1.1451200000000001,
          1.16196,
          1.1788,
          1.19564,
          1.21248,
          1.22932,
          1.2461600000000002,
          1.2630000000000001,
          1.27984,
          1.29668,
          1.31352,
          1.33036,
          1.3472,
          1.3640400000000001,
          1.38088,
          1.39772,
          1.41456,
          1.4314,
          1.44824,
          1.4650800000000002,
          1.4819200000000001,
          1.49876,
          1.5156,
          1.53244,
          1.54928,
          1.5661200000000002,
          1.5829600000000001,
          1.5998,
          1.61664,
          1.63348,
          1.65032,
          1.66716,
          1.684
         ],
         "xaxis": "x",
         "y": [
          4.983571529388428,
          4.987295627593994,
          4.990609169006348,
          4.993470191955566,
          4.996609210968018,
          4.999356269836426,
          5.001108646392822,
          5.002898216247559,
          5.00452184677124,
          5.006658554077148,
          5.009334087371826,
          5.012507915496826,
          5.016504287719727,
          5.021798610687256,
          5.0281524658203125,
          5.035208702087402,
          5.042489528656006,
          5.049518585205078,
          5.055817604064941,
          5.062439918518066,
          5.069826126098633,
          5.077682971954346,
          5.086485862731934,
          5.095852851867676,
          5.10608434677124,
          5.115719318389893,
          5.126465797424316,
          5.138296604156494,
          5.149902820587158,
          5.162118911743164,
          5.173795700073242,
          5.186201572418213,
          5.199139595031738,
          5.2112135887146,
          5.2230448722839355,
          5.23405122756958,
          5.244499683380127,
          5.2533278465271,
          5.2632598876953125,
          5.273192405700684,
          5.281747817993164,
          5.289748191833496,
          5.297312259674072,
          5.305556297302246,
          5.312807083129883,
          5.320769786834717,
          5.329200744628906,
          5.338327884674072,
          5.347187042236328,
          5.3564453125,
          5.365225791931152,
          5.373978137969971,
          5.382739543914795,
          5.391210079193115,
          5.398720741271973,
          5.405686855316162,
          5.412723541259766,
          5.420003890991211,
          5.427189826965332,
          5.434281349182129,
          5.4419636726379395,
          5.448324680328369,
          5.454287052154541,
          5.459660053253174,
          5.465097427368164,
          5.469969749450684,
          5.475780487060547,
          5.482079029083252,
          5.489001750946045,
          5.4959716796875,
          5.504045486450195,
          5.512280464172363,
          5.521011829376221,
          5.529914855957031,
          5.539650917053223,
          5.5499186515808105,
          5.5616021156311035,
          5.574540615081787,
          5.587457180023193,
          5.6005539894104,
          5.614043235778809,
          5.627862930297852,
          5.641376495361328,
          5.654788017272949,
          5.668887615203857,
          5.684220790863037,
          5.700170040130615,
          5.7168474197387695,
          5.73376989364624,
          5.75114631652832,
          5.7684550285339355,
          5.78589391708374,
          5.803374290466309,
          5.821833610534668,
          5.841170787811279,
          5.860750675201416,
          5.880489349365234,
          5.900079727172852,
          5.919591426849365,
          5.938743591308594,
          5.95859956741333
         ],
         "yaxis": "y"
        },
        {
         "customdata": [
          [
           5.422680377960205,
           "happiness",
           "freedom_to_make_life_choices"
          ],
          [
           5.422680377960205,
           "happiness",
           "freedom_to_make_life_choices"
          ],
          [
           5.422680377960205,
           "happiness",
           "freedom_to_make_life_choices"
          ],
          [
           5.422680377960205,
           "happiness",
           "freedom_to_make_life_choices"
          ],
          [
           5.422680377960205,
           "happiness",
           "freedom_to_make_life_choices"
          ],
          [
           5.422680377960205,
           "happiness",
           "freedom_to_make_life_choices"
          ],
          [
           5.422680377960205,
           "happiness",
           "freedom_to_make_life_choices"
          ],
          [
           5.422680377960205,
           "happiness",
           "freedom_to_make_life_choices"
          ],
          [
           5.422680377960205,
           "happiness",
           "freedom_to_make_life_choices"
          ],
          [
           5.422680377960205,
           "happiness",
           "freedom_to_make_life_choices"
          ],
          [
           5.422680377960205,
           "happiness",
           "freedom_to_make_life_choices"
          ],
          [
           5.422680377960205,
           "happiness",
           "freedom_to_make_life_choices"
          ],
          [
           5.422680377960205,
           "happiness",
           "freedom_to_make_life_choices"
          ],
          [
           5.422680377960205,
           "happiness",
           "freedom_to_make_life_choices"
          ],
          [
           5.422680377960205,
           "happiness",
           "freedom_to_make_life_choices"
          ],
          [
           5.422680377960205,
           "happiness",
           "freedom_to_make_life_choices"
          ],
          [
           5.422680377960205,
           "happiness",
           "freedom_to_make_life_choices"
          ],
          [
           5.422680377960205,
           "happiness",
           "freedom_to_make_life_choices"
          ],
          [
           5.422680377960205,
           "happiness",
           "freedom_to_make_life_choices"
          ],
          [
           5.422680377960205,
           "happiness",
           "freedom_to_make_life_choices"
          ],
          [
           5.422680377960205,
           "happiness",
           "freedom_to_make_life_choices"
          ],
          [
           5.422680377960205,
           "happiness",
           "freedom_to_make_life_choices"
          ],
          [
           5.422680377960205,
           "happiness",
           "freedom_to_make_life_choices"
          ],
          [
           5.422680377960205,
           "happiness",
           "freedom_to_make_life_choices"
          ],
          [
           5.422680377960205,
           "happiness",
           "freedom_to_make_life_choices"
          ],
          [
           5.422680377960205,
           "happiness",
           "freedom_to_make_life_choices"
          ],
          [
           5.422680377960205,
           "happiness",
           "freedom_to_make_life_choices"
          ],
          [
           5.422680377960205,
           "happiness",
           "freedom_to_make_life_choices"
          ],
          [
           5.422680377960205,
           "happiness",
           "freedom_to_make_life_choices"
          ],
          [
           5.422680377960205,
           "happiness",
           "freedom_to_make_life_choices"
          ],
          [
           5.422680377960205,
           "happiness",
           "freedom_to_make_life_choices"
          ],
          [
           5.422680377960205,
           "happiness",
           "freedom_to_make_life_choices"
          ],
          [
           5.422680377960205,
           "happiness",
           "freedom_to_make_life_choices"
          ],
          [
           5.422680377960205,
           "happiness",
           "freedom_to_make_life_choices"
          ],
          [
           5.422680377960205,
           "happiness",
           "freedom_to_make_life_choices"
          ],
          [
           5.422680377960205,
           "happiness",
           "freedom_to_make_life_choices"
          ],
          [
           5.422680377960205,
           "happiness",
           "freedom_to_make_life_choices"
          ],
          [
           5.422680377960205,
           "happiness",
           "freedom_to_make_life_choices"
          ],
          [
           5.422680377960205,
           "happiness",
           "freedom_to_make_life_choices"
          ],
          [
           5.422680377960205,
           "happiness",
           "freedom_to_make_life_choices"
          ],
          [
           5.422680377960205,
           "happiness",
           "freedom_to_make_life_choices"
          ],
          [
           5.422680377960205,
           "happiness",
           "freedom_to_make_life_choices"
          ],
          [
           5.422680377960205,
           "happiness",
           "freedom_to_make_life_choices"
          ],
          [
           5.422680377960205,
           "happiness",
           "freedom_to_make_life_choices"
          ],
          [
           5.422680377960205,
           "happiness",
           "freedom_to_make_life_choices"
          ],
          [
           5.422680377960205,
           "happiness",
           "freedom_to_make_life_choices"
          ],
          [
           5.422680377960205,
           "happiness",
           "freedom_to_make_life_choices"
          ],
          [
           5.422680377960205,
           "happiness",
           "freedom_to_make_life_choices"
          ],
          [
           5.422680377960205,
           "happiness",
           "freedom_to_make_life_choices"
          ],
          [
           5.422680377960205,
           "happiness",
           "freedom_to_make_life_choices"
          ],
          [
           5.422680377960205,
           "happiness",
           "freedom_to_make_life_choices"
          ],
          [
           5.422680377960205,
           "happiness",
           "freedom_to_make_life_choices"
          ],
          [
           5.422680377960205,
           "happiness",
           "freedom_to_make_life_choices"
          ],
          [
           5.422680377960205,
           "happiness",
           "freedom_to_make_life_choices"
          ],
          [
           5.422680377960205,
           "happiness",
           "freedom_to_make_life_choices"
          ],
          [
           5.422680377960205,
           "happiness",
           "freedom_to_make_life_choices"
          ],
          [
           5.422680377960205,
           "happiness",
           "freedom_to_make_life_choices"
          ],
          [
           5.422680377960205,
           "happiness",
           "freedom_to_make_life_choices"
          ],
          [
           5.422680377960205,
           "happiness",
           "freedom_to_make_life_choices"
          ],
          [
           5.422680377960205,
           "happiness",
           "freedom_to_make_life_choices"
          ],
          [
           5.422680377960205,
           "happiness",
           "freedom_to_make_life_choices"
          ],
          [
           5.422680377960205,
           "happiness",
           "freedom_to_make_life_choices"
          ],
          [
           5.422680377960205,
           "happiness",
           "freedom_to_make_life_choices"
          ],
          [
           5.422680377960205,
           "happiness",
           "freedom_to_make_life_choices"
          ],
          [
           5.422680377960205,
           "happiness",
           "freedom_to_make_life_choices"
          ],
          [
           5.422680377960205,
           "happiness",
           "freedom_to_make_life_choices"
          ],
          [
           5.422680377960205,
           "happiness",
           "freedom_to_make_life_choices"
          ],
          [
           5.422680377960205,
           "happiness",
           "freedom_to_make_life_choices"
          ],
          [
           5.422680377960205,
           "happiness",
           "freedom_to_make_life_choices"
          ],
          [
           5.422680377960205,
           "happiness",
           "freedom_to_make_life_choices"
          ],
          [
           5.422680377960205,
           "happiness",
           "freedom_to_make_life_choices"
          ],
          [
           5.422680377960205,
           "happiness",
           "freedom_to_make_life_choices"
          ],
          [
           5.422680377960205,
           "happiness",
           "freedom_to_make_life_choices"
          ],
          [
           5.422680377960205,
           "happiness",
           "freedom_to_make_life_choices"
          ],
          [
           5.422680377960205,
           "happiness",
           "freedom_to_make_life_choices"
          ],
          [
           5.422680377960205,
           "happiness",
           "freedom_to_make_life_choices"
          ],
          [
           5.422680377960205,
           "happiness",
           "freedom_to_make_life_choices"
          ],
          [
           5.422680377960205,
           "happiness",
           "freedom_to_make_life_choices"
          ],
          [
           5.422680377960205,
           "happiness",
           "freedom_to_make_life_choices"
          ],
          [
           5.422680377960205,
           "happiness",
           "freedom_to_make_life_choices"
          ],
          [
           5.422680377960205,
           "happiness",
           "freedom_to_make_life_choices"
          ],
          [
           5.422680377960205,
           "happiness",
           "freedom_to_make_life_choices"
          ],
          [
           5.422680377960205,
           "happiness",
           "freedom_to_make_life_choices"
          ],
          [
           5.422680377960205,
           "happiness",
           "freedom_to_make_life_choices"
          ],
          [
           5.422680377960205,
           "happiness",
           "freedom_to_make_life_choices"
          ],
          [
           5.422680377960205,
           "happiness",
           "freedom_to_make_life_choices"
          ],
          [
           5.422680377960205,
           "happiness",
           "freedom_to_make_life_choices"
          ],
          [
           5.422680377960205,
           "happiness",
           "freedom_to_make_life_choices"
          ],
          [
           5.422680377960205,
           "happiness",
           "freedom_to_make_life_choices"
          ],
          [
           5.422680377960205,
           "happiness",
           "freedom_to_make_life_choices"
          ],
          [
           5.422680377960205,
           "happiness",
           "freedom_to_make_life_choices"
          ],
          [
           5.422680377960205,
           "happiness",
           "freedom_to_make_life_choices"
          ],
          [
           5.422680377960205,
           "happiness",
           "freedom_to_make_life_choices"
          ],
          [
           5.422680377960205,
           "happiness",
           "freedom_to_make_life_choices"
          ],
          [
           5.422680377960205,
           "happiness",
           "freedom_to_make_life_choices"
          ],
          [
           5.422680377960205,
           "happiness",
           "freedom_to_make_life_choices"
          ],
          [
           5.422680377960205,
           "happiness",
           "freedom_to_make_life_choices"
          ],
          [
           5.422680377960205,
           "happiness",
           "freedom_to_make_life_choices"
          ],
          [
           5.422680377960205,
           "happiness",
           "freedom_to_make_life_choices"
          ],
          [
           5.422680377960205,
           "happiness",
           "freedom_to_make_life_choices"
          ],
          [
           5.422680377960205,
           "happiness",
           "freedom_to_make_life_choices"
          ]
         ],
         "hovertemplate": "<b>%{hovertext}</b><br><br>prediction=%{y:.3f}<br>mean_prediction=%{customdata[0]:.3f}<extra></extra>",
         "hovertext": [
          "happiness",
          "happiness",
          "happiness",
          "happiness",
          "happiness",
          "happiness",
          "happiness",
          "happiness",
          "happiness",
          "happiness",
          "happiness",
          "happiness",
          "happiness",
          "happiness",
          "happiness",
          "happiness",
          "happiness",
          "happiness",
          "happiness",
          "happiness",
          "happiness",
          "happiness",
          "happiness",
          "happiness",
          "happiness",
          "happiness",
          "happiness",
          "happiness",
          "happiness",
          "happiness",
          "happiness",
          "happiness",
          "happiness",
          "happiness",
          "happiness",
          "happiness",
          "happiness",
          "happiness",
          "happiness",
          "happiness",
          "happiness",
          "happiness",
          "happiness",
          "happiness",
          "happiness",
          "happiness",
          "happiness",
          "happiness",
          "happiness",
          "happiness",
          "happiness",
          "happiness",
          "happiness",
          "happiness",
          "happiness",
          "happiness",
          "happiness",
          "happiness",
          "happiness",
          "happiness",
          "happiness",
          "happiness",
          "happiness",
          "happiness",
          "happiness",
          "happiness",
          "happiness",
          "happiness",
          "happiness",
          "happiness",
          "happiness",
          "happiness",
          "happiness",
          "happiness",
          "happiness",
          "happiness",
          "happiness",
          "happiness",
          "happiness",
          "happiness",
          "happiness",
          "happiness",
          "happiness",
          "happiness",
          "happiness",
          "happiness",
          "happiness",
          "happiness",
          "happiness",
          "happiness",
          "happiness",
          "happiness",
          "happiness",
          "happiness",
          "happiness",
          "happiness",
          "happiness",
          "happiness",
          "happiness",
          "happiness",
          "happiness"
         ],
         "legendgroup": "happiness",
         "line": {
          "color": "#46bac2",
          "dash": "solid",
          "width": 2
         },
         "marker": {
          "symbol": "circle"
         },
         "mode": "lines",
         "name": "happiness",
         "opacity": 1,
         "orientation": "v",
         "showlegend": false,
         "type": "scatter",
         "x": [
          0,
          0.00631,
          0.01262,
          0.01893,
          0.02524,
          0.031549999999999995,
          0.03786,
          0.04417,
          0.05048,
          0.05678999999999999,
          0.06309999999999999,
          0.06941,
          0.07572,
          0.08202999999999999,
          0.08834,
          0.09465,
          0.10096,
          0.10726999999999999,
          0.11357999999999999,
          0.11989,
          0.12619999999999998,
          0.13251,
          0.13882,
          0.14512999999999998,
          0.15144,
          0.15775,
          0.16405999999999998,
          0.17037,
          0.17668,
          0.18298999999999999,
          0.1893,
          0.19560999999999998,
          0.20192,
          0.20823,
          0.21453999999999998,
          0.22085,
          0.22715999999999997,
          0.23346999999999998,
          0.23978,
          0.24608999999999998,
          0.25239999999999996,
          0.25871,
          0.26502,
          0.27132999999999996,
          0.27764,
          0.28395,
          0.29025999999999996,
          0.29657,
          0.30288,
          0.30918999999999996,
          0.3155,
          0.32181,
          0.32811999999999997,
          0.33443,
          0.34074,
          0.34704999999999997,
          0.35336,
          0.35967,
          0.36597999999999997,
          0.37228999999999995,
          0.3786,
          0.38491,
          0.39121999999999996,
          0.39753,
          0.40384,
          0.41014999999999996,
          0.41646,
          0.42277,
          0.42907999999999996,
          0.43539,
          0.4417,
          0.44800999999999996,
          0.45431999999999995,
          0.46063,
          0.46693999999999997,
          0.47324999999999995,
          0.47956,
          0.48586999999999997,
          0.49217999999999995,
          0.49849,
          0.5047999999999999,
          0.51111,
          0.51742,
          0.5237299999999999,
          0.53004,
          0.53635,
          0.5426599999999999,
          0.54897,
          0.55528,
          0.5615899999999999,
          0.5679,
          0.57421,
          0.5805199999999999,
          0.58683,
          0.59314,
          0.5994499999999999,
          0.60576,
          0.61207,
          0.6183799999999999,
          0.62469,
          0.631
         ],
         "xaxis": "x2",
         "y": [
          5.147609233856201,
          5.140096664428711,
          5.132844924926758,
          5.125961780548096,
          5.119590759277344,
          5.11334228515625,
          5.10693883895874,
          5.100516319274902,
          5.093809127807617,
          5.087591648101807,
          5.081941604614258,
          5.076591968536377,
          5.0725507736206055,
          5.069650173187256,
          5.067573547363281,
          5.066062927246094,
          5.064854145050049,
          5.064220905303955,
          5.0647759437561035,
          5.06558895111084,
          5.0684099197387695,
          5.071946620941162,
          5.075492858886719,
          5.078593730926514,
          5.082801818847656,
          5.088111877441406,
          5.093734264373779,
          5.099124908447266,
          5.104990005493164,
          5.11268949508667,
          5.120391368865967,
          5.129255771636963,
          5.139080047607422,
          5.149934768676758,
          5.162914276123047,
          5.1765289306640625,
          5.190311908721924,
          5.202940940856934,
          5.216495990753174,
          5.22877311706543,
          5.240541458129883,
          5.252333164215088,
          5.262805461883545,
          5.272347450256348,
          5.28117036819458,
          5.28914213180542,
          5.295212745666504,
          5.30106258392334,
          5.3072052001953125,
          5.312370300292969,
          5.318287372589111,
          5.324650764465332,
          5.329911231994629,
          5.33302116394043,
          5.337475299835205,
          5.3425679206848145,
          5.348487377166748,
          5.35313081741333,
          5.35490608215332,
          5.356442928314209,
          5.358462810516357,
          5.361078262329102,
          5.364346027374268,
          5.367181301116943,
          5.3694167137146,
          5.372219085693359,
          5.374142646789551,
          5.374967098236084,
          5.374756336212158,
          5.372433662414551,
          5.3689727783203125,
          5.366323947906494,
          5.364297389984131,
          5.361885070800781,
          5.3614935874938965,
          5.361703872680664,
          5.3614888191223145,
          5.363704204559326,
          5.367635250091553,
          5.372685432434082,
          5.3787007331848145,
          5.386102676391602,
          5.394654273986816,
          5.404499053955078,
          5.416158199310303,
          5.429246425628662,
          5.44216775894165,
          5.455764293670654,
          5.469552040100098,
          5.48396110534668,
          5.500051021575928,
          5.518026828765869,
          5.537307262420654,
          5.556898593902588,
          5.577661991119385,
          5.599308490753174,
          5.621781349182129,
          5.644592761993408,
          5.667430400848389,
          5.690455913543701,
          5.713732719421387
         ],
         "yaxis": "y2"
        }
       ],
       "layout": {
        "annotations": [
         {
          "font": {
           "size": 13
          },
          "showarrow": false,
          "text": "gdp_per_capita",
          "x": 0.2375,
          "xanchor": "center",
          "xref": "paper",
          "y": 0.425,
          "yanchor": "bottom",
          "yref": "paper"
         },
         {
          "font": {
           "size": 13
          },
          "showarrow": false,
          "text": "freedom_to_make_life_choices",
          "x": 0.7625,
          "xanchor": "center",
          "xref": "paper",
          "y": 0.425,
          "yanchor": "bottom",
          "yref": "paper"
         },
         {
          "font": {
           "size": 13
          },
          "showarrow": false,
          "text": "social_support",
          "x": 0.2375,
          "xanchor": "center",
          "xref": "paper",
          "y": 1,
          "yanchor": "bottom",
          "yref": "paper"
         },
         {
          "font": {
           "size": 13
          },
          "showarrow": false,
          "text": "healthy_life_expectancy",
          "x": 0.7625,
          "xanchor": "center",
          "xref": "paper",
          "y": 1,
          "yanchor": "bottom",
          "yref": "paper"
         },
         {
          "font": {
           "size": 13
          },
          "showarrow": false,
          "text": "prediction",
          "textangle": -90,
          "x": -0.07,
          "xref": "paper",
          "y": 0.5,
          "yref": "paper"
         }
        ],
        "font": {
         "color": "#371ea3"
        },
        "height": 829,
        "hovermode": "x unified",
        "legend": {
         "font": {
          "size": 11
         },
         "itemsizing": "constant",
         "orientation": "h",
         "title": {
          "font": {
           "size": 12
          },
          "text": "label"
         },
         "tracegroupgap": 0,
         "x": 1,
         "xanchor": "right",
         "y": 1.0361881785283473,
         "yanchor": "bottom"
        },
        "margin": {
         "b": 71,
         "r": 30,
         "t": 78
        },
        "template": {
         "data": {
          "scatter": [
           {
            "type": "scatter"
           }
          ]
         }
        },
        "title": {
         "font": {
          "size": 16
         },
         "text": "Aggregated Profiles",
         "x": 0.15
        },
        "xaxis": {
         "anchor": "y",
         "automargin": true,
         "domain": [
          0,
          0.475
         ],
         "fixedrange": true,
         "gridwidth": 2,
         "showticklabels": true,
         "tickcolor": "white",
         "ticklen": 3,
         "ticks": "outside",
         "title": {
          "text": ""
         },
         "type": "linear",
         "zeroline": false
        },
        "xaxis2": {
         "anchor": "y2",
         "automargin": true,
         "domain": [
          0.525,
          1
         ],
         "fixedrange": true,
         "gridwidth": 2,
         "showticklabels": true,
         "tickcolor": "white",
         "ticklen": 3,
         "ticks": "outside",
         "title": {
          "text": ""
         },
         "type": "linear",
         "zeroline": false
        },
        "xaxis3": {
         "anchor": "y3",
         "automargin": true,
         "domain": [
          0,
          0.475
         ],
         "fixedrange": true,
         "gridwidth": 2,
         "showticklabels": true,
         "tickcolor": "white",
         "ticklen": 3,
         "ticks": "outside",
         "title": {
          "text": ""
         },
         "type": "linear",
         "zeroline": false
        },
        "xaxis4": {
         "anchor": "y4",
         "automargin": true,
         "domain": [
          0.525,
          1
         ],
         "fixedrange": true,
         "gridwidth": 2,
         "showticklabels": true,
         "tickcolor": "white",
         "ticklen": 3,
         "ticks": "outside",
         "title": {
          "text": ""
         },
         "type": "linear",
         "zeroline": false
        },
        "yaxis": {
         "anchor": "x",
         "automargin": true,
         "domain": [
          0,
          0.425
         ],
         "fixedrange": true,
         "gridwidth": 2,
         "range": [
          2.0679242849349975,
          6.312297320365905
         ],
         "tickcolor": "white",
         "ticklen": 3,
         "ticks": "outside",
         "title": {
          "text": ""
         },
         "type": "linear",
         "zeroline": false
        },
        "yaxis2": {
         "anchor": "x2",
         "automargin": true,
         "domain": [
          0,
          0.425
         ],
         "fixedrange": true,
         "gridwidth": 2,
         "matches": "y",
         "range": [
          2.0679242849349975,
          6.312297320365905
         ],
         "showticklabels": false,
         "tickcolor": "white",
         "ticklen": 3,
         "ticks": "outside",
         "title": {
          "text": ""
         },
         "type": "linear",
         "zeroline": false
        },
        "yaxis3": {
         "anchor": "x3",
         "automargin": true,
         "domain": [
          0.575,
          1
         ],
         "fixedrange": true,
         "gridwidth": 2,
         "matches": "y",
         "range": [
          2.0679242849349975,
          6.312297320365905
         ],
         "tickcolor": "white",
         "ticklen": 3,
         "ticks": "outside",
         "title": {
          "text": ""
         },
         "type": "linear",
         "zeroline": false
        },
        "yaxis4": {
         "anchor": "x4",
         "automargin": true,
         "domain": [
          0.575,
          1
         ],
         "fixedrange": true,
         "gridwidth": 2,
         "matches": "y",
         "range": [
          2.0679242849349975,
          6.312297320365905
         ],
         "showticklabels": false,
         "tickcolor": "white",
         "ticklen": 3,
         "ticks": "outside",
         "title": {
          "text": ""
         },
         "type": "linear",
         "zeroline": false
        }
       }
      }
     },
     "metadata": {},
     "output_type": "display_data"
    }
   ],
   "source": [
    "explainer.model_profile().plot(variables=['social_support', 'healthy_life_expectancy',\n",
    "                                          'gdp_per_capita', 'freedom_to_make_life_choices'])\n"
   ]
  },
  {
   "cell_type": "code",
   "execution_count": 20,
   "metadata": {},
   "outputs": [
    {
     "data": {
      "application/vnd.plotly.v1+json": {
       "config": {
        "displaylogo": false,
        "modeBarButtonsToRemove": [
         "sendDataToCloud",
         "lasso2d",
         "autoScale2d",
         "select2d",
         "zoom2d",
         "pan2d",
         "zoomIn2d",
         "zoomOut2d",
         "resetScale2d",
         "toggleSpikelines",
         "hoverCompareCartesian",
         "hoverClosestCartesian"
        ],
        "plotlyServerURL": "https://plot.ly",
        "staticPlot": false,
        "toImageButtonOptions": {
         "height": null,
         "width": null
        }
       },
       "data": [
        {
         "hovertemplate": "<b>%{hovertext}</b><br><br>label=happiness<br>social_support=%{x}<br>residuals=%{y}<extra></extra>",
         "hovertext": [
          1,
          2,
          3,
          4,
          5,
          6,
          7,
          8,
          9,
          10,
          11,
          12,
          13,
          14,
          15,
          16,
          17,
          18,
          19,
          20,
          21,
          22,
          23,
          24,
          25,
          26,
          27,
          28,
          29,
          30,
          31,
          32,
          33,
          34,
          35,
          36,
          37,
          38,
          39,
          40,
          41,
          42,
          43,
          44,
          45,
          46,
          47,
          48,
          49,
          50,
          51,
          52,
          53,
          54,
          55,
          56,
          57,
          58,
          59,
          60,
          61,
          62,
          63,
          64,
          65,
          66,
          67,
          68,
          69,
          70,
          71,
          72,
          73,
          74,
          75,
          76,
          77,
          78,
          79,
          80,
          81,
          82,
          83,
          84,
          85,
          86,
          87,
          88,
          89,
          90,
          91,
          92,
          93,
          94,
          95,
          96,
          97,
          98,
          99,
          100,
          101,
          102,
          103,
          104,
          105,
          106,
          107,
          108,
          109,
          110,
          111,
          112,
          113,
          114,
          115,
          116,
          117,
          118,
          119,
          120,
          121,
          122,
          123,
          124,
          125,
          126,
          127,
          128,
          129,
          130,
          131,
          132,
          133,
          134,
          135,
          136,
          137,
          138,
          139,
          140,
          141,
          142,
          143,
          144,
          145,
          146,
          147,
          148,
          149,
          150,
          151,
          152,
          153,
          154,
          155,
          156
         ],
         "legendgroup": "happiness",
         "line": {
          "width": 3
         },
         "marker": {
          "color": "#46bac2",
          "size": 5,
          "symbol": "circle"
         },
         "mode": "markers",
         "name": "happiness",
         "orientation": "v",
         "showlegend": true,
         "type": "scatter",
         "x": [
          0.517,
          0.848,
          1.16,
          1.432,
          1.055,
          1.548,
          1.475,
          1.147,
          1.368,
          0.928,
          1.465,
          1.504,
          0.437,
          1.321,
          1.209,
          1.212,
          1.145,
          1.439,
          1.513,
          1.056,
          0.447,
          1.122,
          0.91,
          1.505,
          0,
          0.766,
          1.369,
          1.125,
          1.41,
          0.757,
          0.799,
          1.125,
          1.441,
          1.266,
          1.223,
          1.487,
          1.573,
          1.401,
          1.312,
          1.039,
          1.242,
          1.528,
          1.033,
          1.587,
          1.472,
          1.183,
          0.939,
          0.666,
          1.454,
          0.868,
          1.156,
          1.269,
          0.829,
          0.688,
          1.236,
          1.277,
          1.41,
          1.624,
          0.765,
          1.203,
          0.842,
          0.98,
          1.553,
          1.455,
          1.488,
          0.808,
          1.478,
          1.419,
          1.225,
          1.508,
          0.983,
          1.232,
          1.319,
          1.438,
          1.03,
          1.465,
          1.224,
          1.169,
          0.922,
          1.303,
          1.515,
          1.479,
          0.916,
          0.56,
          1.171,
          1.105,
          1.52,
          1.167,
          1.402,
          1.323,
          1.328,
          1.531,
          1.361,
          0.782,
          0.986,
          1.181,
          1.313,
          1.226,
          1.522,
          1.557,
          1.325,
          0.774,
          1.111,
          1.294,
          1.252,
          1.582,
          0.886,
          1.247,
          1.442,
          1.475,
          1.274,
          1.293,
          1.438,
          1.431,
          1.313,
          1.232,
          1.452,
          0.711,
          1.357,
          1.134,
          1.383,
          0.841,
          1.463,
          1.504,
          1.523,
          0.698,
          1.351,
          1.219,
          0.575,
          1.484,
          1.265,
          1.149,
          1.487,
          1.526,
          0.378,
          1.43,
          1.098,
          0.885,
          1.409,
          0.572,
          1.477,
          1,
          1.36,
          1.538,
          1.069,
          1.39,
          1.31,
          1.538,
          1.457,
          1.465,
          1.529,
          1.427,
          1.346,
          1.163,
          1.058,
          1.114
         ],
         "xaxis": "x",
         "y": [
          0.019584587097167816,
          -0.008296352386474304,
          0.27117494201660186,
          -0.16165729904174775,
          0.0024018135070802415,
          0.0012357978820798365,
          -0.038874916076659716,
          -0.002947513580322081,
          -0.0008720169067384376,
          0.00040021514892618626,
          -0.0395941276550289,
          0.002159736633300824,
          0.22507582473754884,
          -0.05365540313720718,
          0.014679626464843665,
          -0.014077342987060426,
          -0.0458571071624756,
          0.15898494720458967,
          -0.43226353073120105,
          -0.05182160186767604,
          0.13369598388671866,
          0.013099861145019709,
          -0.027520805358887124,
          -0.03444802474975628,
          0.3358891563415529,
          0.04367885589599574,
          0.031490081787109325,
          -0.01326273345947282,
          -0.2003498077392578,
          0.034976432800292834,
          0.01700850677490262,
          -0.07767985534667954,
          0.78067130279541,
          0.02545626831054726,
          -0.010772708892822003,
          0.0412523765563968,
          -0.043563747406006215,
          -0.014055442810058771,
          -0.05016600799560589,
          -0.16204012298583947,
          0.44508383560180675,
          -0.05756819915771505,
          -0.036913169860840256,
          -0.09123664474487292,
          0.0253286285400387,
          -0.0761187324523922,
          0.02715369796752931,
          0.02855104827880872,
          -0.042329444885253587,
          -0.02459173583984331,
          -0.030937850952148516,
          0.0738717422485351,
          0.019050678253173636,
          0.006151792526245092,
          -0.014754905700683274,
          -0.020854301452637003,
          0.017718418121337898,
          -0.006985145568847884,
          0.04676450729370085,
          -0.03565254974365217,
          -0.003913738250732379,
          -0.02243260192871066,
          -0.006050018310546967,
          0.008546890258789297,
          -0.060816337585449354,
          0.03944801712036128,
          -0.009513721466064773,
          0.0042775497436524645,
          -0.4072343292236331,
          -0.04724408721923812,
          0.01071184539794956,
          0.002027606964110973,
          0.015356632232665923,
          -0.032528079986572145,
          0.016155239105224872,
          0.014604034423828516,
          -0.021381881713867124,
          -0.056248949050903274,
          -0.01375570297241202,
          -0.035621738433837535,
          -0.03226964569091795,
          -0.08962694168090835,
          -0.0058711452484132565,
          0.04824439048767104,
          0.005096687316894943,
          -0.028465137481689773,
          0.007897544860839822,
          -0.013144264221191193,
          0.0068316345214842755,
          0.43389770507812475,
          0.7015111007690429,
          -0.0608471298217772,
          -0.005925418853760078,
          0.0409029083251955,
          0.02503148651123066,
          0.010956153869629226,
          -0.059330402374267344,
          0.008692634582519787,
          0.1965990905761723,
          0.023333389282226946,
          -0.009323616027831605,
          0.12993929672241222,
          -0.03738628387451204,
          -0.04996984100341795,
          -0.012795860290527372,
          -0.0443076095581052,
          0.12457192230224567,
          -0.031099895477295192,
          0.17479219055175754,
          0.001694648742676108,
          -0.010049846649169858,
          -0.055792373657226335,
          -0.021213691711425398,
          -0.13290293884277382,
          -0.01002509689331088,
          -0.033845119476318075,
          -0.004641296386719063,
          -0.05171381568908684,
          -0.016456127166748047,
          -0.0721208992004394,
          0.19194634246826148,
          -0.03511531448364291,
          -0.100360000610352,
          0.010579154968262117,
          0.019968002319336264,
          0.035136478424072415,
          -0.07154190826415974,
          -0.03605173110961957,
          -0.007520601272582805,
          -0.07090482330322256,
          -1.2434360351562503,
          -0.07513750839233424,
          0.007866924285888643,
          -0.011308212280273011,
          0.055029260635376165,
          -0.12362060928344754,
          0.01583480072021448,
          -0.19656867408752454,
          -0.007008926391601555,
          -0.6938686752319336,
          -0.0176362113952635,
          -0.024732078552245795,
          -0.031103755950927514,
          -0.08429215240478527,
          -0.023463378906249943,
          -0.12898375320434585,
          -0.02419834136962873,
          -0.0228995285034177,
          0.006397525787353864,
          0.02998902130126968,
          -0.01922633743286095,
          -0.07436301040649429,
          -0.8794595718383791,
          -0.10530840873718272,
          -0.00778662490844706,
          -0.054106103897094915
         ],
         "yaxis": "y"
        },
        {
         "hovertemplate": "<b>LOWESS trendline</b><br><br>label=happiness<br>social_support=%{x}<br>residuals=%{y} <b>(trend)</b><extra></extra>",
         "legendgroup": "happiness",
         "line": {
          "width": 3
         },
         "marker": {
          "color": "#46bac2",
          "size": 5,
          "symbol": "circle"
         },
         "mode": "lines",
         "name": "happiness",
         "showlegend": false,
         "type": "scatter",
         "x": [
          0,
          0.378,
          0.437,
          0.447,
          0.517,
          0.56,
          0.572,
          0.575,
          0.666,
          0.688,
          0.698,
          0.711,
          0.757,
          0.765,
          0.766,
          0.774,
          0.782,
          0.799,
          0.808,
          0.829,
          0.841,
          0.842,
          0.848,
          0.868,
          0.885,
          0.886,
          0.91,
          0.916,
          0.922,
          0.928,
          0.939,
          0.98,
          0.983,
          0.986,
          1,
          1.03,
          1.033,
          1.039,
          1.055,
          1.056,
          1.058,
          1.069,
          1.098,
          1.105,
          1.111,
          1.114,
          1.122,
          1.125,
          1.125,
          1.134,
          1.145,
          1.147,
          1.149,
          1.156,
          1.16,
          1.163,
          1.167,
          1.169,
          1.171,
          1.181,
          1.183,
          1.203,
          1.209,
          1.212,
          1.219,
          1.223,
          1.224,
          1.225,
          1.226,
          1.232,
          1.232,
          1.236,
          1.242,
          1.247,
          1.252,
          1.265,
          1.266,
          1.269,
          1.274,
          1.277,
          1.293,
          1.294,
          1.303,
          1.31,
          1.312,
          1.313,
          1.313,
          1.319,
          1.321,
          1.323,
          1.325,
          1.328,
          1.346,
          1.351,
          1.357,
          1.36,
          1.361,
          1.368,
          1.369,
          1.383,
          1.39,
          1.401,
          1.402,
          1.409,
          1.41,
          1.41,
          1.419,
          1.427,
          1.43,
          1.431,
          1.432,
          1.438,
          1.438,
          1.439,
          1.441,
          1.442,
          1.452,
          1.454,
          1.455,
          1.457,
          1.463,
          1.465,
          1.465,
          1.465,
          1.472,
          1.475,
          1.475,
          1.477,
          1.478,
          1.479,
          1.484,
          1.487,
          1.487,
          1.488,
          1.504,
          1.504,
          1.505,
          1.508,
          1.513,
          1.515,
          1.52,
          1.522,
          1.523,
          1.526,
          1.528,
          1.529,
          1.531,
          1.538,
          1.538,
          1.548,
          1.553,
          1.557,
          1.573,
          1.582,
          1.587,
          1.624
         ],
         "xaxis": "x",
         "y": [
          0.10414180949549214,
          0.06082275785712149,
          0.05414393864794957,
          0.05301543113252149,
          0.045134656623650085,
          0.04028551062544569,
          0.03892844167568659,
          0.03858883409004242,
          0.028217076291092685,
          0.025689632191306145,
          0.024538432453620616,
          0.022979092822324982,
          0.01769672170564989,
          0.016780158218768746,
          0.016665698609649986,
          0.015751088554740535,
          0.01483867556933519,
          0.012909084487915086,
          0.011893987685703235,
          0.009549549955420927,
          0.008230097928351984,
          0.008120973126700792,
          0.007469272214728588,
          0.005342514159076278,
          0.0036054169582953022,
          0.003505598614265135,
          0.0011876769550947315,
          0.0006283559765651561,
          0.00007273794725186998,
          -0.0004836270579013018,
          -0.0015178213178951743,
          -0.005535269471693743,
          -0.005847496547935129,
          -0.006162463843663741,
          -0.007627768414892627,
          -0.010984444680863065,
          -0.01133838795435742,
          -0.012054413631560283,
          -0.013817443909063903,
          -0.013938326098840189,
          -0.014180022233000428,
          -0.015462491814842761,
          -0.018318583104629846,
          -0.018760756832448346,
          -0.019018877690502187,
          -0.019220498063105954,
          -0.019687741327001816,
          -0.019876510467449423,
          -0.019876510467449423,
          -0.020332957848354014,
          -0.02097931860355828,
          -0.021104907509555296,
          -0.02123107640743279,
          -0.021563535246948186,
          -0.021765986176959226,
          -0.02188134210076766,
          -0.022118563039595106,
          -0.022234832870797316,
          -0.02234906786901273,
          -0.02283503621376474,
          -0.022910026837876813,
          -0.02352314562663473,
          -0.02360514063040065,
          -0.02365252212669934,
          -0.023712097351606492,
          -0.023723934533545137,
          -0.023723199459527656,
          -0.02372093470072864,
          -0.02371712574456956,
          -0.023662245763698027,
          -0.023662245763698027,
          -0.023599232445433934,
          -0.023503699170768194,
          -0.02341048053127296,
          -0.023295047267554644,
          -0.022913050640839688,
          -0.022875359628755695,
          -0.02275636093554076,
          -0.022643359819522972,
          -0.022514131489266242,
          -0.02194189602057501,
          -0.02189173155264729,
          -0.021471227926201,
          -0.021119418698714604,
          -0.021026509742504588,
          -0.020982321535111183,
          -0.020982321535111183,
          -0.02080376179420784,
          -0.020742066242264448,
          -0.020736849265170804,
          -0.020719075419382924,
          -0.020653074496467336,
          -0.020628173289105017,
          -0.02065444659407058,
          -0.02071809116897793,
          -0.020766012039076846,
          -0.020771335361824877,
          -0.020845585629750772,
          -0.020849951707056405,
          -0.02093814347711834,
          -0.021057478994036094,
          -0.021182399591300947,
          -0.021195318229009146,
          -0.021290697693298825,
          -0.021304918684463547,
          -0.021304918684463547,
          -0.02143790748083498,
          -0.021561969359634704,
          -0.021609578466620417,
          -0.021625556185086662,
          -0.02164158127634265,
          -0.02173843944726956,
          -0.02173843944726956,
          -0.02175465541026969,
          -0.021787110153102855,
          -0.02180334080297718,
          -0.021964949028263025,
          -0.021996971494209983,
          -0.022012931006432163,
          -0.02204473838015457,
          -0.02213921481961168,
          -0.022170383727792863,
          -0.022170383727792863,
          -0.022170383727792863,
          -0.02227816132937551,
          -0.022323754808269845,
          -0.022323754808269845,
          -0.022353972910740753,
          -0.02236903334291507,
          -0.022384063601524454,
          -0.022458808266275,
          -0.022503360205909283,
          -0.022503360205909283,
          -0.022518164382328773,
          -0.0227527938581442,
          -0.0227527938581442,
          -0.022767370750784145,
          -0.022811090537963822,
          -0.022884022610909386,
          -0.022913250940180555,
          -0.022986547322989423,
          -0.023015979667951447,
          -0.02303072581425208,
          -0.02307510760635898,
          -0.023104839279198996,
          -0.02311975587258593,
          -0.02314970113948902,
          -0.023255845525917754,
          -0.023255845525917754,
          -0.023411515824844655,
          -0.023491183629484387,
          -0.023555842001000273,
          -0.023824535872030792,
          -0.023984653604130542,
          -0.024076879926702446,
          -0.024828205623247473
         ],
         "yaxis": "y"
        }
       ],
       "layout": {
        "font": {
         "color": "#371ea3"
        },
        "legend": {
         "title": {
          "text": "label"
         },
         "tracegroupgap": 0
        },
        "margin": {
         "b": 71,
         "r": 30,
         "t": 78
        },
        "template": {
         "data": {
          "scatter": [
           {
            "type": "scatter"
           }
          ]
         }
        },
        "title": {
         "text": "Residual Diagnostics",
         "x": 0.15
        },
        "xaxis": {
         "anchor": "y",
         "automargin": true,
         "domain": [
          0,
          1
         ],
         "fixedrange": true,
         "gridwidth": 2,
         "tickcolor": "white",
         "ticklen": 10,
         "ticks": "outside",
         "title": {
          "text": "social_support"
         },
         "type": "linear",
         "zeroline": false
        },
        "yaxis": {
         "anchor": "x",
         "automargin": true,
         "domain": [
          0,
          1
         ],
         "fixedrange": true,
         "gridwidth": 2,
         "tickcolor": "white",
         "ticklen": 10,
         "ticks": "outside",
         "title": {
          "text": "residuals"
         },
         "type": "linear",
         "zeroline": false
        }
       }
      }
     },
     "metadata": {},
     "output_type": "display_data"
    }
   ],
   "source": [
    "explainer.model_diagnostics().plot(variable='social_support', marker_size=5, line_width=3)\n"
   ]
  },
  {
   "cell_type": "code",
   "execution_count": 21,
   "metadata": {},
   "outputs": [
    {
     "name": "stdout",
     "output_type": "stream",
     "text": [
      "5/5 [==============================] - 0s 496us/step\n",
      "5/5 [==============================] - 0s 584us/step\n",
      "5/5 [==============================] - 0s 514us/step\n",
      "5/5 [==============================] - 0s 503us/step\n",
      "5/5 [==============================] - 0s 570us/step\n",
      "5/5 [==============================] - 0s 582us/step\n",
      "5/5 [==============================] - 0s 466us/step\n",
      "5/5 [==============================] - 0s 389us/step\n",
      "5/5 [==============================] - 0s 414us/step\n",
      "5/5 [==============================] - 0s 399us/step\n",
      "5/5 [==============================] - 0s 439us/step\n",
      "5/5 [==============================] - 0s 473us/step\n",
      "5/5 [==============================] - 0s 378us/step\n",
      "5/5 [==============================] - 0s 1ms/step\n",
      "5/5 [==============================] - 0s 439us/step\n",
      "5/5 [==============================] - 0s 482us/step\n",
      "5/5 [==============================] - 0s 464us/step\n",
      "5/5 [==============================] - 0s 447us/step\n",
      "5/5 [==============================] - 0s 3ms/step\n",
      "5/5 [==============================] - 0s 531us/step\n",
      "5/5 [==============================] - 0s 513us/step\n",
      "5/5 [==============================] - 0s 456us/step\n",
      "5/5 [==============================] - 0s 507us/step\n",
      "5/5 [==============================] - 0s 519us/step\n",
      "5/5 [==============================] - 0s 730us/step\n",
      "5/5 [==============================] - 0s 577us/step\n",
      "5/5 [==============================] - 0s 548us/step\n",
      "5/5 [==============================] - 0s 559us/step\n",
      "5/5 [==============================] - 0s 568us/step\n",
      "5/5 [==============================] - 0s 520us/step\n",
      "5/5 [==============================] - 0s 598us/step\n",
      "5/5 [==============================] - 0s 569us/step\n",
      "5/5 [==============================] - 0s 531us/step\n",
      "5/5 [==============================] - 0s 514us/step\n",
      "5/5 [==============================] - 0s 550us/step\n",
      "5/5 [==============================] - 0s 450us/step\n",
      "5/5 [==============================] - 0s 557us/step\n",
      "5/5 [==============================] - 0s 585us/step\n",
      "5/5 [==============================] - 0s 455us/step\n",
      "5/5 [==============================] - 0s 509us/step\n",
      "5/5 [==============================] - 0s 450us/step\n",
      "5/5 [==============================] - 0s 502us/step\n",
      "5/5 [==============================] - 0s 557us/step\n",
      "5/5 [==============================] - 0s 459us/step\n",
      "5/5 [==============================] - 0s 902us/step\n",
      "5/5 [==============================] - 0s 545us/step\n",
      "5/5 [==============================] - 0s 531us/step\n",
      "5/5 [==============================] - 0s 507us/step\n",
      "5/5 [==============================] - 0s 557us/step\n",
      "5/5 [==============================] - 0s 572us/step\n",
      "5/5 [==============================] - 0s 1ms/step\n",
      "5/5 [==============================] - 0s 592us/step\n",
      "5/5 [==============================] - 0s 502us/step\n",
      "5/5 [==============================] - 0s 502us/step\n",
      "5/5 [==============================] - 0s 472us/step\n",
      "5/5 [==============================] - 0s 503us/step\n",
      "5/5 [==============================] - 0s 529us/step\n",
      "5/5 [==============================] - 0s 449us/step\n",
      "5/5 [==============================] - 0s 522us/step\n",
      "5/5 [==============================] - 0s 525us/step\n",
      "5/5 [==============================] - 0s 518us/step\n",
      "5/5 [==============================] - 0s 425us/step\n",
      "5/5 [==============================] - 0s 504us/step\n",
      "5/5 [==============================] - 0s 522us/step\n",
      "5/5 [==============================] - 0s 503us/step\n",
      "5/5 [==============================] - 0s 503us/step\n",
      "5/5 [==============================] - 0s 556us/step\n",
      "5/5 [==============================] - 0s 521us/step\n",
      "5/5 [==============================] - 0s 568us/step\n",
      "5/5 [==============================] - 0s 878us/step\n",
      "5/5 [==============================] - 0s 558us/step\n",
      "5/5 [==============================] - 0s 996us/step\n",
      "5/5 [==============================] - 0s 1ms/step\n",
      "5/5 [==============================] - 0s 811us/step\n",
      "5/5 [==============================] - 0s 793us/step\n",
      "5/5 [==============================] - 0s 965us/step\n",
      "5/5 [==============================] - 0s 777us/step\n",
      "5/5 [==============================] - 0s 645us/step\n",
      "5/5 [==============================] - 0s 694us/step\n",
      "5/5 [==============================] - 0s 506us/step\n",
      "5/5 [==============================] - 0s 663us/step\n",
      "5/5 [==============================] - 0s 616us/step\n",
      "5/5 [==============================] - 0s 628us/step\n",
      "5/5 [==============================] - 0s 740us/step\n",
      "5/5 [==============================] - 0s 551us/step\n",
      "5/5 [==============================] - 0s 620us/step\n",
      "5/5 [==============================] - 0s 675us/step\n",
      "5/5 [==============================] - 0s 646us/step\n",
      "5/5 [==============================] - 0s 554us/step\n",
      "5/5 [==============================] - 0s 625us/step\n",
      "5/5 [==============================] - 0s 726us/step\n",
      "5/5 [==============================] - 0s 2ms/step\n",
      "5/5 [==============================] - 0s 615us/step\n",
      "5/5 [==============================] - 0s 600us/step\n",
      "5/5 [==============================] - 0s 694us/step\n",
      "5/5 [==============================] - 0s 448us/step\n",
      "5/5 [==============================] - 0s 534us/step\n",
      "5/5 [==============================] - 0s 693us/step\n",
      "5/5 [==============================] - 0s 539us/step\n",
      "5/5 [==============================] - 0s 524us/step\n",
      "5/5 [==============================] - 0s 481us/step\n",
      "5/5 [==============================] - 0s 423us/step\n",
      "5/5 [==============================] - 0s 542us/step\n",
      "5/5 [==============================] - 0s 793us/step\n",
      "5/5 [==============================] - 0s 513us/step\n",
      "5/5 [==============================] - 0s 445us/step\n",
      "5/5 [==============================] - 0s 568us/step\n",
      "5/5 [==============================] - 0s 505us/step\n",
      "5/5 [==============================] - 0s 486us/step\n",
      "5/5 [==============================] - 0s 506us/step\n",
      "5/5 [==============================] - 0s 517us/step\n",
      "5/5 [==============================] - 0s 512us/step\n",
      "5/5 [==============================] - 0s 504us/step\n",
      "5/5 [==============================] - 0s 517us/step\n",
      "5/5 [==============================] - 0s 421us/step\n",
      "5/5 [==============================] - 0s 489us/step\n",
      "5/5 [==============================] - 0s 539us/step\n",
      "5/5 [==============================] - 0s 532us/step\n",
      "5/5 [==============================] - 0s 466us/step\n",
      "5/5 [==============================] - 0s 692us/step\n",
      "5/5 [==============================] - 0s 495us/step\n",
      "5/5 [==============================] - 0s 475us/step\n",
      "5/5 [==============================] - 0s 548us/step\n",
      "5/5 [==============================] - 0s 450us/step\n",
      "5/5 [==============================] - 0s 539us/step\n",
      "5/5 [==============================] - 0s 459us/step\n",
      "5/5 [==============================] - 0s 535us/step\n",
      "5/5 [==============================] - 0s 496us/step\n",
      "5/5 [==============================] - 0s 546us/step\n",
      "5/5 [==============================] - 0s 531us/step\n",
      "5/5 [==============================] - 0s 528us/step\n",
      "5/5 [==============================] - 0s 481us/step\n",
      "5/5 [==============================] - 0s 811us/step\n",
      "5/5 [==============================] - 0s 508us/step\n",
      "5/5 [==============================] - 0s 432us/step\n",
      "5/5 [==============================] - 0s 402us/step\n",
      "5/5 [==============================] - 0s 451us/step\n",
      "5/5 [==============================] - 0s 549us/step\n",
      "5/5 [==============================] - 0s 433us/step\n",
      "5/5 [==============================] - 0s 449us/step\n",
      "5/5 [==============================] - 0s 443us/step\n",
      "5/5 [==============================] - 0s 427us/step\n",
      "5/5 [==============================] - 0s 492us/step\n",
      "5/5 [==============================] - 0s 449us/step\n",
      "5/5 [==============================] - 0s 451us/step\n",
      "5/5 [==============================] - 0s 409us/step\n",
      "5/5 [==============================] - 0s 470us/step\n",
      "5/5 [==============================] - 0s 477us/step\n",
      "5/5 [==============================] - 0s 551us/step\n",
      "5/5 [==============================] - 0s 436us/step\n",
      "5/5 [==============================] - 0s 359us/step\n",
      "5/5 [==============================] - 0s 432us/step\n",
      "5/5 [==============================] - 0s 375us/step\n",
      "5/5 [==============================] - 0s 470us/step\n",
      "5/5 [==============================] - 0s 421us/step\n",
      "5/5 [==============================] - 0s 437us/step\n",
      "5/5 [==============================] - 0s 419us/step\n",
      "5/5 [==============================] - 0s 373us/step\n",
      "5/5 [==============================] - 0s 390us/step\n",
      "5/5 [==============================] - 0s 418us/step\n",
      "5/5 [==============================] - 0s 391us/step\n",
      "5/5 [==============================] - 0s 379us/step\n",
      "5/5 [==============================] - 0s 463us/step\n",
      "5/5 [==============================] - 0s 407us/step\n",
      "5/5 [==============================] - 0s 377us/step\n",
      "5/5 [==============================] - 0s 398us/step\n",
      "5/5 [==============================] - 0s 450us/step\n",
      "5/5 [==============================] - 0s 390us/step\n",
      "5/5 [==============================] - 0s 419us/step\n",
      "5/5 [==============================] - 0s 421us/step\n",
      "5/5 [==============================] - 0s 458us/step\n",
      "5/5 [==============================] - 0s 586us/step\n",
      "5/5 [==============================] - 0s 575us/step\n",
      "5/5 [==============================] - 0s 480us/step\n",
      "5/5 [==============================] - 0s 399us/step\n",
      "1/1 [==============================] - 0s 9ms/step\n",
      "5/5 [==============================] - 0s 428us/step\n"
     ]
    },
    {
     "data": {
      "application/vnd.plotly.v1+json": {
       "config": {
        "displaylogo": false,
        "modeBarButtonsToRemove": [
         "sendDataToCloud",
         "lasso2d",
         "autoScale2d",
         "select2d",
         "zoom2d",
         "pan2d",
         "zoomIn2d",
         "zoomOut2d",
         "resetScale2d",
         "toggleSpikelines",
         "hoverCompareCartesian",
         "hoverClosestCartesian"
        ],
        "plotlyServerURL": "https://plot.ly",
        "staticPlot": false,
        "toImageButtonOptions": {
         "height": null,
         "width": null
        }
       },
       "data": [
        {
         "base": 5.422680377960205,
         "hoverinfo": "text",
         "hoverlabel": {
          "bgcolor": "rgba(0,0,0,0.8)"
         },
         "hovertext": [
          "Average response: 5.423<br>Prediction: 6.203<br>healthy_life_expectancy = 0.884<br>increases average response <br>by 0.365",
          "Average response: 5.423<br>Prediction: 6.203<br>social_support = 1.438<br>increases average response <br>by 0.352",
          "Average response: 5.423<br>Prediction: 6.203<br>freedom_to_make_life_choices = 0.483<br>increases average response <br>by 0.079",
          "Average response: 5.423<br>Prediction: 6.203<br>gdp_per_capita = 1.206<br>increases average response <br>by 0.077",
          "Average response: 5.423<br>Prediction: 6.203<br>generosity = 0.117<br>decreases average response <br>by 0.065",
          "Average response: 5.423<br>Prediction: 6.203<br>perceptions_of_corruption = 0.05<br>decreases average response <br>by 0.027"
         ],
         "marker": {
          "color": [
           "#8bdcbe",
           "#8bdcbe",
           "#8bdcbe",
           "#8bdcbe",
           "#f05a71",
           "#f05a71"
          ]
         },
         "orientation": "h",
         "showlegend": false,
         "text": [
          "+0.365",
          "+0.352",
          "+0.079",
          "+0.077",
          "-0.065",
          "-0.027"
         ],
         "textposition": "outside",
         "type": "bar",
         "x": [
          0.365,
          0.352,
          0.079,
          0.077,
          -0.065,
          -0.027
         ],
         "xaxis": "x",
         "y": [
          "healthy_life_expectancy = 0.884",
          "social_support = 1.438",
          "freedom_to_make_life_choices = 0.483",
          "gdp_per_capita = 1.206",
          "generosity = 0.117",
          "perceptions_of_corruption = 0.05"
         ],
         "yaxis": "y"
        }
       ],
       "layout": {
        "annotations": [
         {
          "font": {
           "size": 16
          },
          "showarrow": false,
          "text": "happiness",
          "x": 0.5,
          "xanchor": "center",
          "xref": "paper",
          "y": 1,
          "yanchor": "bottom",
          "yref": "paper"
         },
         {
          "font": {
           "size": 16
          },
          "showarrow": false,
          "text": "contribution",
          "x": 0.5,
          "xanchor": "center",
          "xref": "paper",
          "y": 0,
          "yanchor": "top",
          "yref": "paper",
          "yshift": -30
         }
        ],
        "font": {
         "color": "#371ea3"
        },
        "height": 273,
        "margin": {
         "b": 71,
         "r": 30,
         "t": 78
        },
        "shapes": [
         {
          "line": {
           "color": "#371ea3",
           "dash": "dot",
           "width": 1.5
          },
          "type": "line",
          "x0": 5.422680377960205,
          "x1": 5.422680377960205,
          "xref": "x",
          "y0": -1,
          "y1": 6,
          "yref": "y"
         }
        ],
        "template": {
         "data": {
          "scatter": [
           {
            "type": "scatter"
           }
          ]
         }
        },
        "title": {
         "text": "Shapley Values",
         "x": 0.15
        },
        "xaxis": {
         "anchor": "y",
         "automargin": true,
         "domain": [
          0,
          1
         ],
         "fixedrange": true,
         "gridwidth": 2,
         "range": [
          5.293180377960205,
          5.852180377960205
         ],
         "tickcolor": "white",
         "ticklen": 3,
         "ticks": "outside",
         "type": "linear",
         "zeroline": false
        },
        "yaxis": {
         "anchor": "x",
         "automargin": true,
         "autorange": "reversed",
         "domain": [
          0,
          1
         ],
         "fixedrange": true,
         "gridwidth": 2,
         "tickcolor": "white",
         "ticklen": 10,
         "ticks": "outside",
         "type": "category"
        }
       }
      }
     },
     "metadata": {},
     "output_type": "display_data"
    }
   ],
   "source": [
    "explainer.predict_parts(X.loc['Poland'], type='shap').plot()"
   ]
  },
  {
   "cell_type": "code",
   "execution_count": 24,
   "metadata": {},
   "outputs": [
    {
     "name": "stdout",
     "output_type": "stream",
     "text": [
      "1/1 [==============================] - 0s 12ms/step\n",
      "5/5 [==============================] - 0s 570us/step\n",
      "5/5 [==============================] - 0s 547us/step\n",
      "5/5 [==============================] - 0s 515us/step\n",
      "5/5 [==============================] - 0s 425us/step\n",
      "5/5 [==============================] - 0s 542us/step\n",
      "5/5 [==============================] - 0s 1ms/step\n",
      "5/5 [==============================] - 0s 3ms/step\n",
      "5/5 [==============================] - 0s 588us/step\n",
      "5/5 [==============================] - 0s 601us/step\n",
      "5/5 [==============================] - 0s 482us/step\n",
      "5/5 [==============================] - 0s 556us/step\n",
      "5/5 [==============================] - 0s 468us/step\n",
      "5/5 [==============================] - 0s 511us/step\n",
      "1/1 [==============================] - 0s 9ms/step\n",
      "5/5 [==============================] - 0s 504us/step\n",
      "5/5 [==============================] - 0s 502us/step\n",
      "5/5 [==============================] - 0s 436us/step\n",
      "5/5 [==============================] - 0s 450us/step\n",
      "5/5 [==============================] - 0s 450us/step\n",
      "5/5 [==============================] - 0s 449us/step\n",
      "5/5 [==============================] - 0s 428us/step\n",
      "5/5 [==============================] - 0s 487us/step\n",
      "5/5 [==============================] - 0s 399us/step\n",
      "5/5 [==============================] - 0s 514us/step\n",
      "5/5 [==============================] - 0s 482us/step\n",
      "5/5 [==============================] - 0s 508us/step\n",
      "5/5 [==============================] - 0s 512us/step\n",
      "1/1 [==============================] - 0s 10ms/step\n",
      "5/5 [==============================] - 0s 455us/step\n",
      "5/5 [==============================] - 0s 493us/step\n",
      "5/5 [==============================] - 0s 451us/step\n",
      "5/5 [==============================] - 0s 465us/step\n",
      "5/5 [==============================] - 0s 465us/step\n",
      "5/5 [==============================] - 0s 506us/step\n",
      "5/5 [==============================] - 0s 479us/step\n",
      "5/5 [==============================] - 0s 423us/step\n",
      "5/5 [==============================] - 0s 511us/step\n",
      "5/5 [==============================] - 0s 444us/step\n",
      "5/5 [==============================] - 0s 569us/step\n",
      "5/5 [==============================] - 0s 532us/step\n",
      "5/5 [==============================] - 0s 540us/step\n",
      "1/1 [==============================] - 0s 8ms/step\n",
      "5/5 [==============================] - 0s 476us/step\n",
      "5/5 [==============================] - 0s 404us/step\n",
      "5/5 [==============================] - 0s 408us/step\n",
      "5/5 [==============================] - 0s 402us/step\n",
      "5/5 [==============================] - 0s 390us/step\n",
      "5/5 [==============================] - 0s 422us/step\n",
      "5/5 [==============================] - 0s 447us/step\n",
      "5/5 [==============================] - 0s 385us/step\n",
      "5/5 [==============================] - 0s 401us/step\n",
      "5/5 [==============================] - 0s 379us/step\n",
      "5/5 [==============================] - 0s 427us/step\n",
      "5/5 [==============================] - 0s 417us/step\n",
      "5/5 [==============================] - 0s 428us/step\n",
      "1/1 [==============================] - 0s 8ms/step\n",
      "5/5 [==============================] - 0s 461us/step\n",
      "5/5 [==============================] - 0s 486us/step\n",
      "5/5 [==============================] - 0s 468us/step\n",
      "5/5 [==============================] - 0s 428us/step\n",
      "5/5 [==============================] - 0s 477us/step\n",
      "5/5 [==============================] - 0s 384us/step\n",
      "5/5 [==============================] - 0s 396us/step\n",
      "5/5 [==============================] - 0s 395us/step\n",
      "5/5 [==============================] - 0s 385us/step\n",
      "5/5 [==============================] - 0s 399us/step\n",
      "5/5 [==============================] - 0s 437us/step\n",
      "5/5 [==============================] - 0s 423us/step\n",
      "5/5 [==============================] - 0s 413us/step\n",
      "1/1 [==============================] - 0s 8ms/step\n",
      "5/5 [==============================] - 0s 466us/step\n",
      "5/5 [==============================] - 0s 404us/step\n",
      "5/5 [==============================] - 0s 402us/step\n",
      "5/5 [==============================] - 0s 863us/step\n",
      "5/5 [==============================] - 0s 413us/step\n",
      "5/5 [==============================] - 0s 487us/step\n",
      "5/5 [==============================] - 0s 525us/step\n",
      "5/5 [==============================] - 0s 449us/step\n",
      "5/5 [==============================] - 0s 406us/step\n",
      "5/5 [==============================] - 0s 408us/step\n",
      "5/5 [==============================] - 0s 487us/step\n",
      "5/5 [==============================] - 0s 390us/step\n",
      "5/5 [==============================] - 0s 445us/step\n",
      "1/1 [==============================] - 0s 9ms/step\n",
      "5/5 [==============================] - 0s 416us/step\n",
      "5/5 [==============================] - 0s 447us/step\n",
      "5/5 [==============================] - 0s 456us/step\n",
      "5/5 [==============================] - 0s 421us/step\n",
      "5/5 [==============================] - 0s 448us/step\n",
      "5/5 [==============================] - 0s 426us/step\n",
      "5/5 [==============================] - 0s 399us/step\n",
      "5/5 [==============================] - 0s 511us/step\n",
      "5/5 [==============================] - 0s 410us/step\n",
      "5/5 [==============================] - 0s 460us/step\n",
      "5/5 [==============================] - 0s 442us/step\n",
      "5/5 [==============================] - 0s 455us/step\n",
      "5/5 [==============================] - 0s 463us/step\n",
      "1/1 [==============================] - 0s 9ms/step\n",
      "5/5 [==============================] - 0s 528us/step\n",
      "5/5 [==============================] - 0s 540us/step\n",
      "5/5 [==============================] - 0s 1ms/step\n",
      "5/5 [==============================] - 0s 496us/step\n",
      "5/5 [==============================] - 0s 422us/step\n",
      "5/5 [==============================] - 0s 466us/step\n",
      "5/5 [==============================] - 0s 533us/step\n",
      "5/5 [==============================] - 0s 549us/step\n",
      "5/5 [==============================] - 0s 540us/step\n",
      "5/5 [==============================] - 0s 441us/step\n",
      "5/5 [==============================] - 0s 558us/step\n",
      "5/5 [==============================] - 0s 513us/step\n",
      "5/5 [==============================] - 0s 516us/step\n"
     ]
    },
    {
     "data": {
      "application/vnd.plotly.v1+json": {
       "config": {
        "displaylogo": false,
        "modeBarButtonsToRemove": [
         "sendDataToCloud",
         "lasso2d",
         "autoScale2d",
         "select2d",
         "zoom2d",
         "pan2d",
         "zoomIn2d",
         "zoomOut2d",
         "resetScale2d",
         "toggleSpikelines",
         "hoverCompareCartesian",
         "hoverClosestCartesian"
        ],
        "plotlyServerURL": "https://plot.ly",
        "staticPlot": false,
        "toImageButtonOptions": {
         "height": null,
         "width": null
        }
       },
       "data": [
        {
         "base": 5.422680377960205,
         "connector": {
          "line": {
           "color": "#371ea3",
           "dash": "solid",
           "width": 1
          },
          "mode": "spanning"
         },
         "decreasing": {
          "marker": {
           "color": "#f05a71"
          }
         },
         "hoverinfo": "text+delta",
         "hoverlabel": {
          "bgcolor": "rgba(0,0,0,0.8)"
         },
         "hovertext": [
          "Average response: 5.423<br>Prediction: 3.183",
          "perceptions_of_corruption = 0.025<br>increases average response by",
          "generosity = 0.158<br>decreases average response by",
          "freedom_to_make_life_choices = 0.0<br>decreases average response by",
          "gdp_per_capita = 0.35<br>decreases average response by",
          "healthy_life_expectancy = 0.361<br>increases average response by",
          "social_support = 0.517<br>decreases average response by",
          "Average response: 5.423<br>Prediction: 3.183"
         ],
         "increasing": {
          "marker": {
           "color": "#8bdcbe"
          }
         },
         "measure": [
          "relative",
          "relative",
          "relative",
          "relative",
          "relative",
          "relative",
          "relative",
          "total"
         ],
         "orientation": "h",
         "showlegend": false,
         "text": [
          "5.423",
          "+0.025",
          "-0.111",
          "-0.102",
          "-0.624",
          "+0.198",
          "-1.625",
          "3.183"
         ],
         "textposition": "outside",
         "totals": {
          "marker": {
           "color": "#371ea3"
          }
         },
         "type": "waterfall",
         "x": [
          0,
          0.02500000037252903,
          -0.11100000143051147,
          -0.10199999809265137,
          -0.6240000128746033,
          0.1979999989271164,
          -1.625,
          -2.239000082015991
         ],
         "xaxis": "x",
         "y": [
          "intercept",
          "perceptions_of_corruption = 0.025",
          "generosity = 0.158",
          "freedom_to_make_life_choices = 0.0",
          "gdp_per_capita = 0.35",
          "healthy_life_expectancy = 0.361",
          "social_support = 0.517",
          "prediction"
         ],
         "yaxis": "y"
        },
        {
         "base": 5.422680377960205,
         "connector": {
          "line": {
           "color": "#371ea3",
           "dash": "solid",
           "width": 1
          },
          "mode": "spanning"
         },
         "decreasing": {
          "marker": {
           "color": "#f05a71"
          }
         },
         "hoverinfo": "text+delta",
         "hoverlabel": {
          "bgcolor": "rgba(0,0,0,0.8)"
         },
         "hovertext": [
          "Average response: 5.423<br>Prediction: 6.921",
          "healthy_life_expectancy = 0.986<br>increases average response by",
          "gdp_per_capita = 1.356<br>increases average response by",
          "social_support = 1.504<br>increases average response by",
          "generosity = 0.16<br>decreases average response by",
          "freedom_to_make_life_choices = 0.473<br>increases average response by",
          "perceptions_of_corruption = 0.21<br>increases average response by",
          "Average response: 5.423<br>Prediction: 6.921"
         ],
         "increasing": {
          "marker": {
           "color": "#8bdcbe"
          }
         },
         "measure": [
          "relative",
          "relative",
          "relative",
          "relative",
          "relative",
          "relative",
          "relative",
          "total"
         ],
         "orientation": "h",
         "showlegend": false,
         "text": [
          "5.423",
          "+0.205",
          "+0.365",
          "+0.788",
          "-0.019",
          "+0.036",
          "+0.123",
          "6.921"
         ],
         "textposition": "outside",
         "totals": {
          "marker": {
           "color": "#371ea3"
          }
         },
         "type": "waterfall",
         "x": [
          0,
          0.20499999821186066,
          0.36500000953674316,
          0.7879999876022339,
          -0.01899999938905239,
          0.035999998450279236,
          0.12300000339746475,
          1.4980000257492065
         ],
         "xaxis": "x2",
         "y": [
          "intercept",
          "healthy_life_expectancy = 0.986",
          "gdp_per_capita = 1.356",
          "social_support = 1.504",
          "generosity = 0.16",
          "freedom_to_make_life_choices = 0.473",
          "perceptions_of_corruption = 0.21",
          "prediction"
         ],
         "yaxis": "y2"
        },
        {
         "base": 5.422680377960205,
         "connector": {
          "line": {
           "color": "#371ea3",
           "dash": "solid",
           "width": 1
          },
          "mode": "spanning"
         },
         "decreasing": {
          "marker": {
           "color": "#f05a71"
          }
         },
         "hoverinfo": "text+delta",
         "hoverlabel": {
          "bgcolor": "rgba(0,0,0,0.8)"
         },
         "hovertext": [
          "Average response: 5.423<br>Prediction: 5.204",
          "healthy_life_expectancy = 0.893<br>increases average response by",
          "gdp_per_capita = 1.029<br>decreases average response by",
          "freedom_to_make_life_choices = 0.521<br>increases average response by",
          "perceptions_of_corruption = 0.1<br>decreases average response by",
          "generosity = 0.058<br>decreases average response by",
          "social_support = 1.125<br>decreases average response by",
          "Average response: 5.423<br>Prediction: 5.204"
         ],
         "increasing": {
          "marker": {
           "color": "#8bdcbe"
          }
         },
         "measure": [
          "relative",
          "relative",
          "relative",
          "relative",
          "relative",
          "relative",
          "relative",
          "total"
         ],
         "orientation": "h",
         "showlegend": false,
         "text": [
          "5.423",
          "+0.232",
          "-0.108",
          "+0.011",
          "-0.056",
          "-0.043",
          "-0.255",
          "5.204"
         ],
         "textposition": "outside",
         "totals": {
          "marker": {
           "color": "#371ea3"
          }
         },
         "type": "waterfall",
         "x": [
          0,
          0.23199999332427979,
          -0.1080000028014183,
          0.010999999940395355,
          -0.0560000017285347,
          -0.0430000014603138,
          -0.2549999952316284,
          -0.21799999475479126
         ],
         "xaxis": "x3",
         "y": [
          "intercept",
          "healthy_life_expectancy = 0.893",
          "gdp_per_capita = 1.029",
          "freedom_to_make_life_choices = 0.521",
          "perceptions_of_corruption = 0.1",
          "generosity = 0.058",
          "social_support = 1.125",
          "prediction"
         ],
         "yaxis": "y3"
        },
        {
         "base": 5.422680377960205,
         "connector": {
          "line": {
           "color": "#371ea3",
           "dash": "solid",
           "width": 1
          },
          "mode": "spanning"
         },
         "decreasing": {
          "marker": {
           "color": "#f05a71"
          }
         },
         "hoverinfo": "text+delta",
         "hoverlabel": {
          "bgcolor": "rgba(0,0,0,0.8)"
         },
         "hovertext": [
          "Average response: 5.423<br>Prediction: 7.644",
          "gdp_per_capita = 1.383<br>increases average response by",
          "healthy_life_expectancy = 0.996<br>increases average response by",
          "freedom_to_make_life_choices = 0.592<br>decreases average response by",
          "generosity = 0.252<br>increases average response by",
          "social_support = 1.573<br>increases average response by",
          "perceptions_of_corruption = 0.41<br>increases average response by",
          "Average response: 5.423<br>Prediction: 7.644"
         ],
         "increasing": {
          "marker": {
           "color": "#8bdcbe"
          }
         },
         "measure": [
          "relative",
          "relative",
          "relative",
          "relative",
          "relative",
          "relative",
          "relative",
          "total"
         ],
         "orientation": "h",
         "showlegend": false,
         "text": [
          "5.423",
          "+0.22",
          "+0.39",
          "-0.383",
          "+0.2",
          "+1.304",
          "+0.488",
          "7.644"
         ],
         "textposition": "outside",
         "totals": {
          "marker": {
           "color": "#371ea3"
          }
         },
         "type": "waterfall",
         "x": [
          0,
          0.2199999988079071,
          0.38999998569488525,
          -0.382999986410141,
          0.20000000298023224,
          1.3040000200271606,
          0.4880000054836273,
          2.2209999561309814
         ],
         "xaxis": "x4",
         "y": [
          "intercept",
          "gdp_per_capita = 1.383",
          "healthy_life_expectancy = 0.996",
          "freedom_to_make_life_choices = 0.592",
          "generosity = 0.252",
          "social_support = 1.573",
          "perceptions_of_corruption = 0.41",
          "prediction"
         ],
         "yaxis": "y4"
        },
        {
         "base": 5.422680377960205,
         "connector": {
          "line": {
           "color": "#371ea3",
           "dash": "solid",
           "width": 1
          },
          "mode": "spanning"
         },
         "decreasing": {
          "marker": {
           "color": "#f05a71"
          }
         },
         "hoverinfo": "text+delta",
         "hoverlabel": {
          "bgcolor": "rgba(0,0,0,0.8)"
         },
         "hovertext": [
          "Average response: 5.423<br>Prediction: 4.323",
          "generosity = 0.209<br>increases average response by",
          "perceptions_of_corruption = 0.1<br>decreases average response by",
          "freedom_to_make_life_choices = 0.344<br>increases average response by",
          "gdp_per_capita = 0.336<br>decreases average response by",
          "healthy_life_expectancy = 0.532<br>decreases average response by",
          "social_support = 1.033<br>decreases average response by",
          "Average response: 5.423<br>Prediction: 4.323"
         ],
         "increasing": {
          "marker": {
           "color": "#8bdcbe"
          }
         },
         "measure": [
          "relative",
          "relative",
          "relative",
          "relative",
          "relative",
          "relative",
          "relative",
          "total"
         ],
         "orientation": "h",
         "showlegend": false,
         "text": [
          "5.423",
          "+0.062",
          "-0.047",
          "+0.066",
          "-0.41",
          "-0.564",
          "-0.207",
          "4.323"
         ],
         "textposition": "outside",
         "totals": {
          "marker": {
           "color": "#371ea3"
          }
         },
         "type": "waterfall",
         "x": [
          0,
          0.06199999898672104,
          -0.04699999839067459,
          0.06599999964237213,
          -0.4099999964237213,
          -0.5640000104904175,
          -0.2070000022649765,
          -1.100000023841858
         ],
         "xaxis": "x5",
         "y": [
          "intercept",
          "generosity = 0.209",
          "perceptions_of_corruption = 0.1",
          "freedom_to_make_life_choices = 0.344",
          "gdp_per_capita = 0.336",
          "healthy_life_expectancy = 0.532",
          "social_support = 1.033",
          "prediction"
         ],
         "yaxis": "y5"
        },
        {
         "base": 5.422680377960205,
         "connector": {
          "line": {
           "color": "#371ea3",
           "dash": "solid",
           "width": 1
          },
          "mode": "spanning"
         },
         "decreasing": {
          "marker": {
           "color": "#f05a71"
          }
         },
         "hoverinfo": "text+delta",
         "hoverlabel": {
          "bgcolor": "rgba(0,0,0,0.8)"
         },
         "hovertext": [
          "Average response: 5.423<br>Prediction: 3.968",
          "generosity = 0.2<br>increases average response by",
          "freedom_to_make_life_choices = 0.498<br>decreases average response by",
          "perceptions_of_corruption = 0.085<br>decreases average response by",
          "gdp_per_capita = 0.755<br>decreases average response by",
          "healthy_life_expectancy = 0.588<br>decreases average response by",
          "social_support = 0.765<br>decreases average response by",
          "Average response: 5.423<br>Prediction: 3.968"
         ],
         "increasing": {
          "marker": {
           "color": "#8bdcbe"
          }
         },
         "measure": [
          "relative",
          "relative",
          "relative",
          "relative",
          "relative",
          "relative",
          "relative",
          "total"
         ],
         "orientation": "h",
         "showlegend": false,
         "text": [
          "5.423",
          "+0.051",
          "-0.076",
          "0.0",
          "-0.103",
          "-0.458",
          "-0.868",
          "3.968"
         ],
         "textposition": "outside",
         "totals": {
          "marker": {
           "color": "#371ea3"
          }
         },
         "type": "waterfall",
         "x": [
          0,
          0.050999999046325684,
          -0.07599999755620956,
          0,
          -0.10300000011920929,
          -0.4580000042915344,
          -0.8679999709129333,
          -1.4539999961853027
         ],
         "xaxis": "x6",
         "y": [
          "intercept",
          "generosity = 0.2",
          "freedom_to_make_life_choices = 0.498",
          "perceptions_of_corruption = 0.085",
          "gdp_per_capita = 0.755",
          "healthy_life_expectancy = 0.588",
          "social_support = 0.765",
          "prediction"
         ],
         "yaxis": "y6"
        },
        {
         "base": 5.422680377960205,
         "connector": {
          "line": {
           "color": "#371ea3",
           "dash": "solid",
           "width": 1
          },
          "mode": "spanning"
         },
         "decreasing": {
          "marker": {
           "color": "#f05a71"
          }
         },
         "hoverinfo": "text+delta",
         "hoverlabel": {
          "bgcolor": "rgba(0,0,0,0.8)"
         },
         "hovertext": [
          "Average response: 5.423<br>Prediction: 5.528",
          "generosity = 0.22<br>increases average response by",
          "perceptions_of_corruption = 0.098<br>decreases average response by",
          "freedom_to_make_life_choices = 0.313<br>increases average response by",
          "gdp_per_capita = 0.677<br>decreases average response by",
          "healthy_life_expectancy = 0.535<br>decreases average response by",
          "social_support = 0.886<br>increases average response by",
          "Average response: 5.423<br>Prediction: 5.528"
         ],
         "increasing": {
          "marker": {
           "color": "#8bdcbe"
          }
         },
         "measure": [
          "relative",
          "relative",
          "relative",
          "relative",
          "relative",
          "relative",
          "relative",
          "total"
         ],
         "orientation": "h",
         "showlegend": false,
         "text": [
          "5.423",
          "+0.075",
          "-0.042",
          "+0.118",
          "-0.203",
          "-0.599",
          "+0.755",
          "5.528"
         ],
         "textposition": "outside",
         "totals": {
          "marker": {
           "color": "#371ea3"
          }
         },
         "type": "waterfall",
         "x": [
          0,
          0.07500000298023224,
          -0.041999999433755875,
          0.11800000071525574,
          -0.2029999941587448,
          -0.5989999771118164,
          0.7549999952316284,
          0.10599999874830246
         ],
         "xaxis": "x7",
         "y": [
          "intercept",
          "generosity = 0.22",
          "perceptions_of_corruption = 0.098",
          "freedom_to_make_life_choices = 0.313",
          "gdp_per_capita = 0.677",
          "healthy_life_expectancy = 0.535",
          "social_support = 0.886",
          "prediction"
         ],
         "yaxis": "y7"
        },
        {
         "base": 5.422680377960205,
         "connector": {
          "line": {
           "color": "#371ea3",
           "dash": "solid",
           "width": 1
          },
          "mode": "spanning"
         },
         "decreasing": {
          "marker": {
           "color": "#f05a71"
          }
         },
         "hoverinfo": "text+delta",
         "hoverlabel": {
          "bgcolor": "rgba(0,0,0,0.8)"
         },
         "hovertext": [
          "Average response: 5.423<br>Prediction: 7.291",
          "gdp_per_capita = 1.396<br>increases average response by",
          "healthy_life_expectancy = 0.999<br>increases average response by",
          "generosity = 0.322<br>increases average response by",
          "social_support = 1.522<br>increases average response by",
          "freedom_to_make_life_choices = 0.557<br>decreases average response by",
          "perceptions_of_corruption = 0.298<br>increases average response by",
          "Average response: 5.423<br>Prediction: 7.291"
         ],
         "increasing": {
          "marker": {
           "color": "#8bdcbe"
          }
         },
         "measure": [
          "relative",
          "relative",
          "relative",
          "relative",
          "relative",
          "relative",
          "relative",
          "total"
         ],
         "orientation": "h",
         "showlegend": false,
         "text": [
          "5.423",
          "+0.231",
          "+0.403",
          "+0.302",
          "+0.964",
          "-0.147",
          "+0.116",
          "7.291"
         ],
         "textposition": "outside",
         "totals": {
          "marker": {
           "color": "#371ea3"
          }
         },
         "type": "waterfall",
         "x": [
          0,
          0.23100000619888306,
          0.40299999713897705,
          0.3019999861717224,
          0.9639999866485596,
          -0.1469999998807907,
          0.11599999666213989,
          1.86899995803833
         ],
         "xaxis": "x8",
         "y": [
          "intercept",
          "gdp_per_capita = 1.396",
          "healthy_life_expectancy = 0.999",
          "generosity = 0.322",
          "social_support = 1.522",
          "freedom_to_make_life_choices = 0.557",
          "perceptions_of_corruption = 0.298",
          "prediction"
         ],
         "yaxis": "y8"
        }
       ],
       "layout": {
        "annotations": [
         {
          "font": {
           "size": 16
          },
          "showarrow": false,
          "text": "Afghanistan",
          "x": 0.5,
          "xanchor": "center",
          "xref": "paper",
          "y": 1,
          "yanchor": "bottom",
          "yref": "paper"
         },
         {
          "font": {
           "size": 16
          },
          "showarrow": false,
          "text": "Belgium",
          "x": 0.5,
          "xanchor": "center",
          "xref": "paper",
          "y": 0.8718750000000001,
          "yanchor": "bottom",
          "yref": "paper"
         },
         {
          "font": {
           "size": 16
          },
          "showarrow": false,
          "text": "China",
          "x": 0.5,
          "xanchor": "center",
          "xref": "paper",
          "y": 0.74375,
          "yanchor": "bottom",
          "yref": "paper"
         },
         {
          "font": {
           "size": 16
          },
          "showarrow": false,
          "text": "Denmark",
          "x": 0.5,
          "xanchor": "center",
          "xref": "paper",
          "y": 0.615625,
          "yanchor": "bottom",
          "yref": "paper"
         },
         {
          "font": {
           "size": 16
          },
          "showarrow": false,
          "text": "Ethiopia",
          "x": 0.5,
          "xanchor": "center",
          "xref": "paper",
          "y": 0.48749999999999993,
          "yanchor": "bottom",
          "yref": "paper"
         },
         {
          "font": {
           "size": 16
          },
          "showarrow": false,
          "text": "India",
          "x": 0.5,
          "xanchor": "center",
          "xref": "paper",
          "y": 0.359375,
          "yanchor": "bottom",
          "yref": "paper"
         },
         {
          "font": {
           "size": 16
          },
          "showarrow": false,
          "text": "Pakistan",
          "x": 0.5,
          "xanchor": "center",
          "xref": "paper",
          "y": 0.23124999999999998,
          "yanchor": "bottom",
          "yref": "paper"
         },
         {
          "font": {
           "size": 16
          },
          "showarrow": false,
          "text": "Netherlands",
          "x": 0.5,
          "xanchor": "center",
          "xref": "paper",
          "y": 0.103125,
          "yanchor": "bottom",
          "yref": "paper"
         },
         {
          "font": {
           "size": 16
          },
          "showarrow": false,
          "text": "contribution",
          "x": 0.5,
          "xanchor": "center",
          "xref": "paper",
          "y": 0,
          "yanchor": "top",
          "yref": "paper",
          "yshift": -30
         }
        ],
        "font": {
         "color": "#371ea3"
        },
        "height": 1951,
        "margin": {
         "b": 71,
         "r": 30,
         "t": 78
        },
        "shapes": [
         {
          "line": {
           "color": "#371ea3",
           "dash": "dot",
           "width": 1.5
          },
          "type": "line",
          "x0": 5.422680377960205,
          "x1": 5.422680377960205,
          "xref": "x",
          "y0": -1,
          "y1": 8,
          "yref": "y"
         },
         {
          "line": {
           "color": "#371ea3",
           "dash": "dot",
           "width": 1.5
          },
          "type": "line",
          "x0": 5.422680377960205,
          "x1": 5.422680377960205,
          "xref": "x2",
          "y0": -1,
          "y1": 8,
          "yref": "y2"
         },
         {
          "line": {
           "color": "#371ea3",
           "dash": "dot",
           "width": 1.5
          },
          "type": "line",
          "x0": 5.422680377960205,
          "x1": 5.422680377960205,
          "xref": "x3",
          "y0": -1,
          "y1": 8,
          "yref": "y3"
         },
         {
          "line": {
           "color": "#371ea3",
           "dash": "dot",
           "width": 1.5
          },
          "type": "line",
          "x0": 5.422680377960205,
          "x1": 5.422680377960205,
          "xref": "x4",
          "y0": -1,
          "y1": 8,
          "yref": "y4"
         },
         {
          "line": {
           "color": "#371ea3",
           "dash": "dot",
           "width": 1.5
          },
          "type": "line",
          "x0": 5.422680377960205,
          "x1": 5.422680377960205,
          "xref": "x5",
          "y0": -1,
          "y1": 8,
          "yref": "y5"
         },
         {
          "line": {
           "color": "#371ea3",
           "dash": "dot",
           "width": 1.5
          },
          "type": "line",
          "x0": 5.422680377960205,
          "x1": 5.422680377960205,
          "xref": "x6",
          "y0": -1,
          "y1": 8,
          "yref": "y6"
         },
         {
          "line": {
           "color": "#371ea3",
           "dash": "dot",
           "width": 1.5
          },
          "type": "line",
          "x0": 5.422680377960205,
          "x1": 5.422680377960205,
          "xref": "x7",
          "y0": -1,
          "y1": 8,
          "yref": "y7"
         },
         {
          "line": {
           "color": "#371ea3",
           "dash": "dot",
           "width": 1.5
          },
          "type": "line",
          "x0": 5.422680377960205,
          "x1": 5.422680377960205,
          "xref": "x8",
          "y0": -1,
          "y1": 8,
          "yref": "y8"
         }
        ],
        "template": {
         "data": {
          "scatter": [
           {
            "type": "scatter"
           }
          ]
         }
        },
        "title": {
         "text": "Break Down",
         "x": 0.15
        },
        "xaxis": {
         "anchor": "y",
         "automargin": true,
         "domain": [
          0,
          1
         ],
         "fixedrange": true,
         "gridwidth": 2,
         "matches": "x8",
         "range": [
          2.5,
          8.5
         ],
         "showticklabels": false,
         "tickcolor": "white",
         "ticklen": 3,
         "ticks": "outside",
         "type": "linear",
         "zeroline": false
        },
        "xaxis2": {
         "anchor": "y2",
         "automargin": true,
         "domain": [
          0,
          1
         ],
         "fixedrange": true,
         "gridwidth": 2,
         "matches": "x8",
         "range": [
          2.5,
          8.5
         ],
         "showticklabels": false,
         "tickcolor": "white",
         "ticklen": 3,
         "ticks": "outside",
         "type": "linear",
         "zeroline": false
        },
        "xaxis3": {
         "anchor": "y3",
         "automargin": true,
         "domain": [
          0,
          1
         ],
         "fixedrange": true,
         "gridwidth": 2,
         "matches": "x8",
         "range": [
          2.5,
          8.5
         ],
         "showticklabels": false,
         "tickcolor": "white",
         "ticklen": 3,
         "ticks": "outside",
         "type": "linear",
         "zeroline": false
        },
        "xaxis4": {
         "anchor": "y4",
         "automargin": true,
         "domain": [
          0,
          1
         ],
         "fixedrange": true,
         "gridwidth": 2,
         "matches": "x8",
         "range": [
          2.5,
          8.5
         ],
         "showticklabels": false,
         "tickcolor": "white",
         "ticklen": 3,
         "ticks": "outside",
         "type": "linear",
         "zeroline": false
        },
        "xaxis5": {
         "anchor": "y5",
         "automargin": true,
         "domain": [
          0,
          1
         ],
         "fixedrange": true,
         "gridwidth": 2,
         "matches": "x8",
         "range": [
          2.5,
          8.5
         ],
         "showticklabels": false,
         "tickcolor": "white",
         "ticklen": 3,
         "ticks": "outside",
         "type": "linear",
         "zeroline": false
        },
        "xaxis6": {
         "anchor": "y6",
         "automargin": true,
         "domain": [
          0,
          1
         ],
         "fixedrange": true,
         "gridwidth": 2,
         "matches": "x8",
         "range": [
          2.5,
          8.5
         ],
         "showticklabels": false,
         "tickcolor": "white",
         "ticklen": 3,
         "ticks": "outside",
         "type": "linear",
         "zeroline": false
        },
        "xaxis7": {
         "anchor": "y7",
         "automargin": true,
         "domain": [
          0,
          1
         ],
         "fixedrange": true,
         "gridwidth": 2,
         "matches": "x8",
         "range": [
          2.5,
          8.5
         ],
         "showticklabels": false,
         "tickcolor": "white",
         "ticklen": 3,
         "ticks": "outside",
         "type": "linear",
         "zeroline": false
        },
        "xaxis8": {
         "anchor": "y8",
         "automargin": true,
         "domain": [
          0,
          1
         ],
         "fixedrange": true,
         "gridwidth": 2,
         "range": [
          2.5,
          8.5
         ],
         "tickcolor": "white",
         "ticklen": 3,
         "ticks": "outside",
         "type": "linear",
         "zeroline": false
        },
        "yaxis": {
         "anchor": "x",
         "automargin": true,
         "autorange": "reversed",
         "domain": [
          0.8968750000000001,
          1
         ],
         "fixedrange": true,
         "gridwidth": 2,
         "tickcolor": "white",
         "ticklen": 10,
         "ticks": "outside",
         "type": "category"
        },
        "yaxis2": {
         "anchor": "x2",
         "automargin": true,
         "autorange": "reversed",
         "domain": [
          0.76875,
          0.8718750000000001
         ],
         "fixedrange": true,
         "gridwidth": 2,
         "tickcolor": "white",
         "ticklen": 10,
         "ticks": "outside",
         "type": "category"
        },
        "yaxis3": {
         "anchor": "x3",
         "automargin": true,
         "autorange": "reversed",
         "domain": [
          0.640625,
          0.74375
         ],
         "fixedrange": true,
         "gridwidth": 2,
         "tickcolor": "white",
         "ticklen": 10,
         "ticks": "outside",
         "type": "category"
        },
        "yaxis4": {
         "anchor": "x4",
         "automargin": true,
         "autorange": "reversed",
         "domain": [
          0.5125,
          0.615625
         ],
         "fixedrange": true,
         "gridwidth": 2,
         "tickcolor": "white",
         "ticklen": 10,
         "ticks": "outside",
         "type": "category"
        },
        "yaxis5": {
         "anchor": "x5",
         "automargin": true,
         "autorange": "reversed",
         "domain": [
          0.38437499999999997,
          0.48749999999999993
         ],
         "fixedrange": true,
         "gridwidth": 2,
         "tickcolor": "white",
         "ticklen": 10,
         "ticks": "outside",
         "type": "category"
        },
        "yaxis6": {
         "anchor": "x6",
         "automargin": true,
         "autorange": "reversed",
         "domain": [
          0.25625,
          0.359375
         ],
         "fixedrange": true,
         "gridwidth": 2,
         "tickcolor": "white",
         "ticklen": 10,
         "ticks": "outside",
         "type": "category"
        },
        "yaxis7": {
         "anchor": "x7",
         "automargin": true,
         "autorange": "reversed",
         "domain": [
          0.128125,
          0.23124999999999998
         ],
         "fixedrange": true,
         "gridwidth": 2,
         "tickcolor": "white",
         "ticklen": 10,
         "ticks": "outside",
         "type": "category"
        },
        "yaxis8": {
         "anchor": "x8",
         "automargin": true,
         "autorange": "reversed",
         "domain": [
          0,
          0.103125
         ],
         "fixedrange": true,
         "gridwidth": 2,
         "tickcolor": "white",
         "ticklen": 10,
         "ticks": "outside",
         "type": "category"
        }
       }
      }
     },
     "metadata": {},
     "output_type": "display_data"
    }
   ],
   "source": [
    "pp_list = []\n",
    "for country in ['Afghanistan', 'Belgium', 'China', 'Denmark', 'Ethiopia','India','Pakistan','Netherlands']:\n",
    "    pp = explainer.predict_parts(X.loc[country], type='break_down')\n",
    "    pp.result.label = country\n",
    "    pp_list += [pp]\n",
    "pp_list[0].plot(pp_list[1::], min_max=[2.5, 8.5])"
   ]
  }
 ],
 "metadata": {
  "kernelspec": {
   "display_name": "breaching",
   "language": "python",
   "name": "python3"
  },
  "language_info": {
   "codemirror_mode": {
    "name": "ipython",
    "version": 3
   },
   "file_extension": ".py",
   "mimetype": "text/x-python",
   "name": "python",
   "nbconvert_exporter": "python",
   "pygments_lexer": "ipython3",
   "version": "3.9.17"
  }
 },
 "nbformat": 4,
 "nbformat_minor": 2
}
