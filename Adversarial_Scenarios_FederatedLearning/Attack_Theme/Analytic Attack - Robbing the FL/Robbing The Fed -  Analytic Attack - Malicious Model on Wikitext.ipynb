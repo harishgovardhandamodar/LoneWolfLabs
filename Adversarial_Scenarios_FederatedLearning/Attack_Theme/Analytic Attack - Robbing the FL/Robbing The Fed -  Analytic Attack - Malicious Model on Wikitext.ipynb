{
 "cells": [
  {
   "cell_type": "markdown",
   "id": "3ebef44a",
   "metadata": {},
   "source": [
    "# Robbing the Fed: Directly Obtaining Private Data in Federated Learning with Modified Models"
   ]
  },
  {
   "cell_type": "markdown",
   "id": "a756fc5f",
   "metadata": {},
   "source": [
    "This notebook shows an example for the threat model and attack described in \"Robbing the Fed: Directly Obtaining Private Data in Federated Learning with Modified Models\". This example deviates from the other \"honest-but-curious\" server models and investigates an actively malicious model. As such, the attack applies to any model architecture, but its impact is more or less obvious (or not at all) depending on the already present architecture onto which the malicious \"Imprint\" block is grafted.\n",
    "\n",
    "In this notebook, we place the block in front of a transformer model, as an example. The attack can also be conceptualized as merely a \"malicious parameters\" attack against a model which contains, for example, only fully connected layers or only convolutions without strides and fully connected layers.\n",
    "\n",
    "\n",
    "This variant recovers text from a malicious language model.\n",
    "\n",
    "\n",
    "Paper URL: https://openreview.net/forum?id=fwzUgo0FM9v"
   ]
  },
  {
   "cell_type": "markdown",
   "id": "1efd1107",
   "metadata": {},
   "source": [
    "### Abstract:\n",
    "Federated learning has quickly gained popularity with its promises of increased user privacy and efficiency.  Previous works have shown that federated gradient updates contain information that can be used to approximately recover user data in some situations.  These previous attacks on user privacy have been limited in scope and do not scale to gradient updates aggregated over even a handful of  data  points,  leaving  some  to  conclude  that  data  privacy  is  still  intact  for realistic training regimes.  In this work, we introduce a new threat model based on minimal but malicious modifications of the shared model architecture which enable the server to directly obtain a verbatim copy of user data from gradient updates without solving difficult inverse problems.  Even user data aggregated over large batches – where previous methods fail to extract meaningful content – can be reconstructed by these minimally modified models."
   ]
  },
  {
   "cell_type": "markdown",
   "id": "ce7676c5",
   "metadata": {},
   "source": [
    "### Startup"
   ]
  },
  {
   "cell_type": "code",
   "execution_count": 1,
   "id": "b850eabf",
   "metadata": {},
   "outputs": [],
   "source": [
    "try:\n",
    "    import breaching\n",
    "except ModuleNotFoundError:\n",
    "    # You only really need this safety net if you want to run these notebooks directly in the examples directory\n",
    "    # Don't worry about this if you installed the package or moved the notebook to the main directory.\n",
    "    import os; os.chdir(\"..\")\n",
    "    import breaching\n",
    "    \n",
    "import torch\n",
    "%load_ext autoreload\n",
    "%autoreload 2\n",
    "\n",
    "# Redirects logs directly into the jupyter notebook\n",
    "import logging, sys\n",
    "logging.basicConfig(level=logging.INFO, handlers=[logging.StreamHandler(sys.stdout)], format='%(message)s')\n",
    "logger = logging.getLogger()"
   ]
  },
  {
   "cell_type": "markdown",
   "id": "88d5e214",
   "metadata": {},
   "source": [
    "### Initialize cfg object and system setup:"
   ]
  },
  {
   "cell_type": "markdown",
   "id": "56bd663b",
   "metadata": {},
   "source": [
    "This will load the full configuration object. This includes the configuration for the use case and threat model as `cfg.case` and the hyperparameters and implementation of the attack as `cfg.attack`. All parameters can be modified below, or overriden with `overrides=` as if they were cmd-line arguments."
   ]
  },
  {
   "cell_type": "code",
   "execution_count": 2,
   "id": "a7dc3a48",
   "metadata": {},
   "outputs": [
    {
     "name": "stdout",
     "output_type": "stream",
     "text": [
      "Investigating use case causal_lang_training with server type malicious_model.\n"
     ]
    },
    {
     "data": {
      "text/plain": [
       "{'device': device(type='cpu'), 'dtype': torch.float32}"
      ]
     },
     "execution_count": 2,
     "metadata": {},
     "output_type": "execute_result"
    }
   ],
   "source": [
    "cfg = breaching.get_config(overrides=[\"attack=imprint\", \"case=10_causal_lang_training\",\n",
    "                                      \"case/server=malicious-model-rtf\"])\n",
    "          \n",
    "device = torch.device(f'cuda') if torch.cuda.is_available() else torch.device('cpu')\n",
    "torch.backends.cudnn.benchmark = cfg.case.impl.benchmark\n",
    "setup = dict(device=device, dtype=getattr(torch, cfg.case.impl.dtype))\n",
    "setup"
   ]
  },
  {
   "cell_type": "markdown",
   "id": "203c5fb1",
   "metadata": {},
   "source": [
    "### Modify config options here"
   ]
  },
  {
   "cell_type": "markdown",
   "id": "6e0764ef",
   "metadata": {},
   "source": [
    "You can use `.attribute` access to modify any of these configurations for the attack, or the case:"
   ]
  },
  {
   "cell_type": "code",
   "execution_count": 3,
   "id": "ac118ea0",
   "metadata": {},
   "outputs": [],
   "source": [
    "cfg.case.user.num_data_points = 128 # How many sentences?\n",
    "cfg.case.user.user_idx = 1 # From which user?\n",
    "cfg.case.data.shape = [32] # This is the sequence length\n",
    "\n",
    "cfg.case.server.model_modification.num_bins = 512\n",
    "cfg.case.server.model_modification.position = None # '4.0.conv'\n",
    "cfg.case.server.model_modification.linfunc = 'randn'\n",
    "\n",
    "cfg.case.server.has_external_data = False\n",
    "cfg.case.data.tokenizer = \"gpt2\""
   ]
  },
  {
   "cell_type": "markdown",
   "id": "76f64389",
   "metadata": {},
   "source": [
    "### Instantiate all parties"
   ]
  },
  {
   "cell_type": "markdown",
   "id": "71983edf",
   "metadata": {},
   "source": [
    "The following lines generate \"server, \"user\" and \"attacker\" objects and print an overview of their configurations."
   ]
  },
  {
   "cell_type": "code",
   "execution_count": 4,
   "id": "d3abd955",
   "metadata": {},
   "outputs": [
    {
     "name": "stdout",
     "output_type": "stream",
     "text": [
      "First layer determined to be pos_encoder\n",
      "Block inserted at feature shape torch.Size([32, 96]).\n",
      "Reusing dataset wikitext (/home/jonas/data/wikitext/wikitext-103-v1/1.0.0/aa5e094000ec7afeb74c3be92c88313cd6f132d564c7effd961c10fd47c76f20)\n",
      "Model architecture transformer3 loaded with 13,949,745 parameters and 0 buffers.\n",
      "Overall this is a data ratio of    3406:1 for target shape [128, 32] given that num_queries=1.\n",
      "User (of type UserSingleStep) with settings:\n",
      "    Number of data points: 128\n",
      "\n",
      "    Threat model:\n",
      "    User provides labels: False\n",
      "    User provides buffers: False\n",
      "    User provides number of data points: True\n",
      "\n",
      "    Data:\n",
      "    Dataset: wikitext\n",
      "    user: 1\n",
      "    \n",
      "        \n",
      "Server (of type MaliciousModelServer) with settings:\n",
      "    Threat model: Malicious (Analyst)\n",
      "    Number of planned queries: 1\n",
      "    Has external/public data: False\n",
      "\n",
      "    Model:\n",
      "        model specification: transformer3\n",
      "        model state: default\n",
      "        \n",
      "\n",
      "    Secrets: {'ImprintBlock': {'weight_idx': 0, 'bias_idx': 1, 'shape': torch.Size([32, 96]), 'structure': 'cumulative'}}\n",
      "    \n",
      "Attacker (of type ImprintAttacker).\n"
     ]
    }
   ],
   "source": [
    "user, server, model, loss_fn = breaching.cases.construct_case(cfg.case, setup)\n",
    "attacker = breaching.attacks.prepare_attack(server.model, server.loss, cfg.attack, setup)\n",
    "breaching.utils.overview(server, user, attacker)"
   ]
  },
  {
   "cell_type": "markdown",
   "id": "548c0ad6",
   "metadata": {},
   "source": [
    "### Simulate an attacked FL protocol"
   ]
  },
  {
   "cell_type": "markdown",
   "id": "2058bcc2",
   "metadata": {},
   "source": [
    "This exchange is a simulation of a single query in a federated learning protocol. The server sends out a `server_payload` and the user computes an update based on their private local data. This user update is `shared_data` and contains, for example, the parameter gradient of the model in the simplest case. `true_user_data` is also returned by `.compute_local_updates`, but of course not forwarded to the server or attacker and only used for (our) analysis."
   ]
  },
  {
   "cell_type": "code",
   "execution_count": 5,
   "id": "b0dbd868",
   "metadata": {},
   "outputs": [
    {
     "name": "stdout",
     "output_type": "stream",
     "text": [
      "Computing user update in model mode: eval.\n"
     ]
    }
   ],
   "source": [
    "server_payload = server.distribute_payload()\n",
    "shared_data, true_user_data = user.compute_local_updates(server_payload)  "
   ]
  },
  {
   "cell_type": "code",
   "execution_count": 6,
   "id": "49c68628",
   "metadata": {
    "scrolled": false
   },
   "outputs": [
    {
     "name": "stdout",
     "output_type": "stream",
     "text": [
      " The Tower Building of the Little Rock Arsenal, also known as U.S. Arsenal Building, is a building located in MacArthur Park in downtown Little Rock, Arkansas\n",
      ". Built in 1840, it was part of Little Rock's first military installation. Since its decommissioning, The Tower Building has housed two museums. It\n",
      " was home to the Arkansas Museum of Natural History and Antiquities from 1942 to 1997 and the MacArthur Museum of Arkansas Military History since 2001. It has also been the\n",
      " headquarters of the Little Rock Æsthetic Club since 1894. \n",
      " The building receives its name from its distinct octagonal tower. Besides being the last\n",
      " remaining structure of the original Little Rock Arsenal and one of the oldest buildings in central Arkansas, it was also the birthplace of General Douglas MacArthur, who became the supreme\n",
      " commander of US forces in the South Pacific during World War II. It was also the starting place of the Camden Expedition. In 2011 it was named as one of\n",
      " the top 10 attractions in the state of Arkansas by <unk> \n",
      " The arsenal was constructed at the request of Governor James Sevier Conway in response to the\n",
      " perceived dangers of frontier life and fears of the many Native Americans who were passing through the state on their way to the newly established Oklahoma Territory. Thirty @-@\n",
      " six acres were appropriated on the outskirts of Little Rock by Major Robert B. Lee of the U.S. Army. The land had been previously used as a\n",
      " racetrack by the local jockey club. John Wormley Walker, a builder for the Federal Government, supervised the construction. Originally $ 14 @,@\n",
      " 000 was allocated for the construction of the arsenal, but proved inadequate. The budget was later increased to $ 30 @,@ 000. Work began on the Tower\n",
      " Building in 1840, and it was the first permanent structure of the arsenal to be built. Being originally constructed to store ammunition, the building was designed with 3 @\n",
      "-@ foot @-@ thick ( 0 @.@ 91 m ) exterior walls. The original plans called for it to be built of stone, however,\n",
      " masonry was used instead. The Arkansas Gazette referred to the structure as \" A splendid specimen of masonry \". \n",
      " For several years the arsenal, which\n",
      " was owned by the federal government, served as a simple arms depot and was staffed with only a handful of soldiers. But in November 1860, with the American Civil\n",
      " War on the horizon, a company of the Second United States Artillery, consisting of sixty @-@ five men, was transferred to Little Rock under the command\n",
      " of Captain James Totten. On January 15, 1861, the state legislature decided to hold a referendum to determine if a state convention should be held to consider the\n",
      " issue of secession and to elect delegates to such a convention. It was planned for February 18 ; however, events at the arsenal, would not wait. On January\n",
      " 28, then Governor Henry Massey Rector informed Captain Totten that he and his soldiers would be \" permitted to remain in the possession of the Federal officers until\n",
      " the State, by authority of the people, shall have determined to sever their connection with the General Government, \" Totten responded to this by telling the Governor that\n",
      " his orders came from the United States Government and began a desperate but ultimately futile dispatch of letters and telegrams asking for reinforcements, although rumors were widely spread that\n",
      " they were already coming. The first telegraph wire to span between Little Rock and Memphis had recently been completed. Local attorney John M Harrel was asked to compose\n",
      " the first telegraph dispatched from Arkansas's capital. In his message, Harrel reported unconfirmed rumors that more federal troops had been sent to reinforce the Little\n",
      " Rock Arsenal. \n",
      " The United States troops at the outposts of the western frontier of the state and in the Indian nation have all been recalled from winter quarters\n",
      " to reinforce the garrison at Fort Smith. The garrison at Fort Smith had been previously transferred to the United States Arsenal in this city ( Little Rock ). The arsenal\n",
      " is one of the richest depositories of military stores in the United States and is supposed to be the ultimate destination of the <unk> [ sic ] ordered\n",
      " from the frontier. \n",
      " <unk> M Harrel Telegram, January 31, 1861 \n",
      " The item was intended simply as a piece of news, but\n",
      " telegraph lines quickly spread the news throughout the state, fueling procession sentiment. The rumor was interpreted by some Arkansans as a call from the governor to assemble\n",
      " to help expel the federal troops from the arsenal. By February 5, six militia units, consisting of 1 @,@ 000 men, with a guarantee that the\n",
      " numbers could be increased to 5 @,@ 000 if the situations deemed it necessary, had assembled in Little Rock. Governor Rector vehemently denied ordering the troops to\n",
      " assemble or giving any order at all in connection with the troops. Faced with the fact that the military had assembled believing they were following his orders and the consensus\n",
      " of the citizens of Little Rock against any armed conflict between the civilian army and federal troops, Governor Rector was forced to take control of the situation. On February\n",
      " 6, he sent a formal demand for surrender of the arsenal to Captain Totten, \n",
      " This movement is prompted by the feeling that pervades the citizens of\n",
      " this State that in the present emergency the arms and munitions of war in the Arsenal should be under the control of the State authorities, in order to their security.\n",
      " This movement, although not authorized by me, has assumed such an aspect that it becomes my duty, as the executive of this <unk>, to interpose\n",
      " my official authority to prevent a collision between the people of the State and the Federal troops under your command. I therefore demand in the name of the State the delivery\n",
      " of the possession of the Arsenal and munitions of war under your charge to the State authorities, to be held subject to the action of the convention to be held on\n",
      " the 4th of March next. \n",
      " Perhaps because Abraham Lincoln had not yet been inaugurated as President, Captain Totten received no instructions from his superiors and\n",
      " was forced to withdraw his troops. He agreed to surrender the arsenal as long as the governor agreed to three provisions : \n",
      " The governor would take possession of the\n",
      " arsenal in the name of the United States. \n",
      " The soldiers would be allowed safe passage in any direction carrying any personal and public property besides munitions of war.\n",
      " \n",
      " The soldiers would be allowed to march away as men leaving under orders, not as conquered and surrendering soldiers. \n",
      " On the morning of February 8\n",
      ", 1861, Rector and Totten signed an agreement placing the arsenal in the hands of state officials. That afternoon, the citizen militia marched to the arsenal with\n",
      " Governor Rector at its head. All of the federal troops had left at this point, except Totten who had stayed behind to listen to the Governor's\n",
      " speech and to hand the arsenal over in person. \n",
      " The Little Rock Arsenal was classified in 1860 as an \" arsenal of deposit, \" meaning that it was\n",
      " simply a warehouse for the storage of weapons intended for the use of the state militia in times of crisis. Thus there were no substantial operations for ordnance fabrication or\n",
      " repairs, nor for the manufacture of cartridges at the time the Arsenal fell into State hands. Most of these operations were started from scratch through the efforts of the Arkansas\n",
      " Military Board. \n",
      " Inside the Little Rock Arsenal after its seizure in February, 1861, the Confederates inventoried some 10 @,@ 247 weapons, 250\n",
      " @,@ 000 musket cartridges, and 520 @,@ 000 percussion caps, as well as the four bronze cannon of Totten's battery. Long\n",
      " arms in the Arsenal's inventory consisted of : \n",
      " M1822.69 cal ( flintlock ) 5 @,@ 625 \n",
      " M18\n",
      "22.69 cal ( percussion @-@ converted ) 53 \n",
      " <unk>.69 cal smoothbore ( percussion ) 357 \n",
      " <unk>\n",
      ".58 cal rifle @-@ muskets 900 \n",
      " <unk> common rifles 125 \n",
      " <unk> rifle ( \" Mississippi Rifle \" ) 54\n",
      " \n",
      " Hall's rifles ( flintlock ) 2 @,@ 864 \n",
      " Of this number, approximately 9600 weapons were serviceable, or\n",
      " ready @-@ for @-@ issue. Note there were only 1 @,@ 364 percussion weapons available. Disposition of the weapons found in the Arsenal\n",
      " is somewhat sketchy, but from various records it can be surmised that the 5th, 6th, 7th, and 8th Arkansas Infantry Reg\n",
      "iments, mustered in June, 1861, were issued <unk> / M1822.69 caliber flintlocks. The 9th and 10th Arkansas\n",
      ", four companies of Kelly's 9th Arkansas Battalion, and the 3rd Arkansas Cavalry Regiment were issued flintlock Hall's Rifles. The\n",
      " units comprising the infantry force of Van Dorn's Army of the West were the 1st and 2nd Arkansas Mounted Rifles were also armed with M\n",
      "1822 flintlocks from the Little Rock Arsenal. By the time the 11th and 12th Arkansas Infantry Regiments mustered in at Little Rock, the\n",
      " supply of arms had been almost completely exhausted, and only old \" junker \" weapons were left. \n",
      " Most of the equipment, arms, and machinery at\n",
      " the Little Rock Arsenal was removed to east of the Mississippi River by order of Maj. Gen. Earl Van Dorn in April and May 1862, and accountability for\n",
      " it is lost at that point. By all appearances, the equipment was sent down the river to Napoleon, Arkansas, and from there to Jackson Mississippi, where it\n",
      " was probably destroyed during the Vicksburg campaign in the early summer of 1863. \n",
      " Major General Thomas C. Hindman, sent to command the district of\n",
      " Arkansas in May, 1862, found the state nearly destitute of military material. Hindman established another armory at Arkadelphia, and revived the Little Rock Arsenal\n",
      " as a collection point and depot for armaments and ammunition manufacture for small arms. Hindman recorded : \n",
      " \" Machinery was made for manufacturing percussion caps and\n",
      " small arms, and both were turned out in small quantity, but of excellent quality. Lead mines were opened and worked, and a chemical laboratory was established and successfully\n",
      " operated in aid of the Ordnance Department and in the manufacture of calomel, castor oil, spirits of nitre, the various tinctures of\n",
      " iron, and other valuable medicines. Most of these works were located at or near Arkadelphia on the Ouachita River, 75 miles south from Little Rock.\n",
      " The tools, machinery, and the material were gathered piecemeal or else made by hand labor. Nothing of this sort had been before attempted on Government account in Arkansas\n",
      " to my knowledge, except for the manufacture of small arms, the machinery for which was taken away by General Van Dorn and there was neither capital nor sufficient enterprise\n",
      " among the citizens to engage in such undertakings <unk> A further supply, along with lead and caps, was procured from the citizens of Little Rock and\n",
      " vicinity by donation, purchases, and impressments. \n",
      " This ammunition, and that which I brought with me, was rapidly prepared for use at the Laboratory established\n",
      " at the Little Rock Arsenal for that purpose. As illustrating as the pitiful scarcity of material in the country, the fact may be stated that it was found necessary\n",
      " to use public documents of the State Library for cartridge paper. <unk> were employed or conscripted, tools purchased or impressed, and the repair of the\n",
      " damaged guns I brought with me and about an equal number found at Little Rock commenced at once. But, after inspecting the work and observing the spirit of the men\n",
      " I decided that a garrison 500 strong could hold out against Fitch and that I would lead the remainder - about 1500 - to Gen 'l Rust as soon as\n",
      " shotguns and rifles could be obtained from Little Rock instead of pikes and lances, with which most of them were armed. Two days elapsed before the change could\n",
      " be effected. \" \n",
      " The Confederate ordnance establishment at Little Rock was reactivated in August, 1862. Looking around for a suitable person to head this activity\n",
      ", General Hindman turned to the Confederate Navy and borrowed Lieutenant John W. Dunnington. Lt. Dunnington was the commander of the gunboat C.S\n",
      ".S. Ponchartrain, which had been brought to Little Rock in hopes of converting it to an ironclad. Dunnington was selected to head the ord\n",
      "nance works at Little Rock, and although he continued to draw his pay from the Confederate Navy Department, he was placed in charge of all Confederate ordnance activities (\n",
      " which included artillery functions ) there with the rank of lieutenant colonel. \n",
      " Lt. Col. Dunnington's \" Returns for the month of August, 1862\n",
      ", at Little Rock Arsenal, C.S.A., \" are found in Vol. 149, Chapter IV of the \" Captured Rebel Ordnance Records\n",
      ", \" and are most enlightening as to the scope of Confederate ordnance activities at Little Rock during this crucial time. According to Dunnington, \" When I\n",
      " assumed command at this Post, all material had been removed to Arkadelphia. There were no persons employed. No shops were open for repair of arms or for fabric\n",
      "ating ammunition. Material, tools, etc., had to be procured as well as the employment of laborers. Work commenced the last part of the month.\n",
      " \" \n",
      " The military force at Little Rock under Dunnington's command consisted of four officers : himself, Major John B. Lockman, Captain C.\n",
      "C. Green, and 2nd Lt. W.W. Murphy. In addition to these, he had 20 enlisted men and a civilian force composed of a\n",
      " foreman, 2 clerks, 3 gunsmiths for repairing small arms, a <unk>, 26 laborers in the ammunition laboratory, and a carpenter for\n",
      " making packing boxes. \n",
      " During the month of August, 1862, the following work was performed : \" <unk> : one pair of musket bullet mould\n",
      "s ; 10 @,@ 000 buck & ball shot cartridges ; repaired : 750 muskets, shotguns, and rifles ; received and repaired : ordnance stores\n",
      " and <unk> ; performed : guard, office, and police duties ; inspected : Posts at Camden and Arkadelphia. \" \n",
      " Lt. Col. Dun\n",
      "nington continued to build up his works at Little Rock until November 1862, when Captain Sanford C. Faulkner ( composer of The Arkansas Traveler ) was placed\n",
      " in charge of the Arsenal. Dunnington presumably returned to his naval duties and the Ponchartrain. \n",
      " A \" Summary of the Work Done for November,\n",
      " 1862, Little Rock Arsenal \" shows : Fabrication : \n",
      " 75 @,@ 000 buck & ball cartridges - percussion \n",
      " 14 @,@ 000 buck\n",
      " & ball cartridges - flint \n",
      " 117 rounds, 6 @-@ pounder canister shot \n",
      " 130 rounds, 6 @-@ pounder ball\n",
      " shot \n",
      " 96 ammunition packing boxes \n",
      " 2 @,@ 236 shotguns and rifles ( repaired mostly for troops in service ) \n",
      " 23 pistols ( repaired mostly\n",
      " for troops in service ) \n",
      " 752 packages of ordnance and ordnance stores received and mostly issued to troops in service. \n",
      " Repaired and painted\n",
      " : \n",
      " Guard, office, and police duties. \n",
      " Perhaps the most illuminating points of the above \" Summary of Work \" and those for following months are\n",
      " that the standard ammunition made was. \" buck & ball \", indicating that the.69 caliber smoothbores and shotguns remained the predominant caliber weapon in use,\n",
      " and of this, nearly one sixth or more of all small arms ammunition was still for flintlock weapons, indicating that no less than a sixth of the Confederate\n",
      " troops in this vicinity were still armed with obsolete flintlock weapons. \n",
      " The \" Summaries of Work done at Little Rock Arsenal, C.S\n",
      ".A. \" continue at about the same pace and scale from August 1862 until August 1863. <unk> to the \" Summary \" for August, 1863 is\n",
      " the ominous notation, \" During the last week in the month, nearly all stores at the Arsenal have been packed and sent to Arkadelphia, in obedience to orders\n",
      " from Chief of Ordnance, District of Arkansas. \" This then marks the beginning of the evacuation of ordnance activities from Little Rock, with the city being surrendered\n",
      " to the advancing Federal troops of Frederick Steele's Arkansas Expedition on September 11, 1863. \n",
      " In 1864, after Little Rock fell to the Union Army\n",
      " and the arsenal had been recaptured, General Fredrick Steele marched 8 @,@ 500 troops from the arsenal beginning the Camden Expedition. \n",
      " The arsenal was\n",
      " briefly seized once more by Joseph Brooks loyalists during the Brooks @-@ Baxter War of 1874. \n",
      " In 1873, the building was renamed Little\n",
      " Rock Barracks and used as a barracks for married officers and their families. The building was drastically altered the inside and outside. Prior to renovation, a rear basement\n",
      " door provided the only entrance to the building, while the tower served as a hoist to move munitions between floors. By 1868, front and rear porches\n",
      " had been added to the building, as well as interior walls and stairs, some of which remain today, including the central staircase. In 1880, Douglas MacArthur was\n",
      " born on the northwest upper floor of this building while his father, Captain Arthur MacArthur, was stationed there. \n",
      " In the 1880s, the federal government began\n",
      " closing many small arsenals around the country in favor of smaller ones built near railroads for quick deployment. The arsenal commander received word from Washington that the Little Rock\n",
      " site must be abandoned \" not later than October 1, 1890. \" On April 12, 1893 the tower building and the surrounding buildings were traded to the city of\n",
      " Little Rock for 1 @,@ 000 acres ( 4 km ² ) in North Little Rock under the condition that the building and land be \" forever exclusively devoted\n",
      " to the uses and purposes of a public park \" for 1 @,@ 000 acres ( 4 km ² ) in Big Rock Mountain on the north side of\n",
      " the Arkansas River, present day North Little Rock. That site later became Fort Logan H. Roots. All of the original buildings surrounding the Tower Building were demolished.\n",
      " \n",
      " In 1894 the Little Rock Æsthetic Club, one of the oldest women's societies west of the Mississippi River, moved into the Tower\n",
      " Building. This was prompted due to increased membership and a need for larger, more permanent quarters. The previous year, club members working with women's organizations throughout\n",
      " the state, raised money to furnish the Arkansas Building of the Columbian Exposition at The Chicago World's Fair. At the fair's conclusion, artifacts\n",
      " from the exhibit were displayed in the Tower Building, with the Æsthetic Club invited to meet in the \" Columbian Room. \" \n",
      " Except for\n",
      " Æsthetic Club meetings, the Tower Building remained largely unoccupied for almost fifty years and suffered significant deterioration. The Æsthetic Club provided much @\n",
      "-@ needed financial support during the period and even paid the electric bill during the Great Depression. The Æsthetic Club is still headquartered in the Tower Building\n",
      ". \n",
      " The building and the surrounding park were used for many public purposes throughout the early 20th century. The Tower Building served as headquarters for the United Confederate\n",
      " Veterans Reunion, May 15 – 18, 1911. Over 106 @,@ 000 Civil War veterans, the largest popular gathering in the history of the city up\n",
      " to that time, attended and were housed in the building or camped in the park, which had also become a popular camping area. Later the building served as\n",
      " an armory for the Arkansas National Guard. In 1912, the second floor of the Tower Building became Little Rock's first public library. In 1917, Little\n",
      " Rock built a fire station in the park, that building is now gone. A band shell named for H. H. Foster also was built in the park during\n",
      " this time, but also no longer exists. In 1936, Works Progress Administration built the Museum of Fine Arts, now called the Arkansas Arts Center, just south of\n"
     ]
    }
   ],
   "source": [
    "user.print(true_user_data)"
   ]
  },
  {
   "cell_type": "markdown",
   "id": "17255c5a",
   "metadata": {},
   "source": [
    "### Reconstruct user data:"
   ]
  },
  {
   "cell_type": "markdown",
   "id": "d93e8cd6",
   "metadata": {},
   "source": [
    "Now we launch the attack, reconstructing user data based on only the `server_payload` and the `shared_data`. \n",
    "\n",
    "For this attack, we also share secret information from the malicious server with the attack (`server.secrets`), which here is the location and structure of the imprint block."
   ]
  },
  {
   "cell_type": "code",
   "execution_count": 7,
   "id": "c9a32fd7",
   "metadata": {},
   "outputs": [
    {
     "name": "stdout",
     "output_type": "stream",
     "text": [
      "Initially produced 117 hits.\n",
      "Recovered tokens tensor([[   11,    12,    13,  ...,   284,   285,   286],\n",
      "        [  287,   290,   291,  ...,   370,   371,   373],\n",
      "        [  376,   379,   382,  ...,   513,   517,   530],\n",
      "        ...,\n",
      "        [   32,    65,    82,  ..., 23558, 32400, 41075],\n",
      "        [   11,   278,   351,  ..., 16030, 23707, 24375],\n",
      "        [   13,    29,    31,  ...,  6553, 12877, 17747]]) through strategy decoder-bias.\n"
     ]
    }
   ],
   "source": [
    "reconstructed_user_data, stats = attacker.reconstruct([server_payload], [shared_data], server.secrets, \n",
    "                                                      dryrun=cfg.dryrun)"
   ]
  },
  {
   "cell_type": "markdown",
   "id": "28c35e12",
   "metadata": {},
   "source": [
    "Next we'll evaluate metrics, comparing the `reconstructed_user_data` to the `true_user_data`."
   ]
  },
  {
   "cell_type": "code",
   "execution_count": 8,
   "id": "31f2685a",
   "metadata": {},
   "outputs": [
    {
     "name": "stdout",
     "output_type": "stream",
     "text": [
      "METRICS: | Accuracy: 0.8633 | S-BLEU: 0.88 | FMSE: 1.1814e-05 | \n",
      " G-BLEU: 0.87 | ROUGE1: 0.87| ROUGE2: 0.86 | ROUGE-L: 0.87| Token Acc: 88.84% | Label Acc: 0.00%\n"
     ]
    }
   ],
   "source": [
    "metrics = breaching.analysis.report(reconstructed_user_data, true_user_data, [server_payload], \n",
    "                                    server.model, order_batch=True, compute_full_iip=False, \n",
    "                                    cfg_case=cfg.case, setup=setup)"
   ]
  },
  {
   "cell_type": "markdown",
   "id": "f920aca0",
   "metadata": {},
   "source": [
    "And finally, we also plot the reconstructed data:"
   ]
  },
  {
   "cell_type": "code",
   "execution_count": 9,
   "id": "631f4a84",
   "metadata": {
    "scrolled": false
   },
   "outputs": [
    {
     "name": "stdout",
     "output_type": "stream",
     "text": [
      " The Tower Building of the Little Rock Arsenal, also known as U.S. Arsenal Building, is a building located in MacArthur Park in downtown Little Rock, Arkansas\n",
      ". Built in 1840, it was part of Little Rock's first military installation. Since its decommissioning, The Tower Building has housed two museums. It\n",
      " was home to the Arkansas Museum of Natural History and Antiquities from 1942 to 1997 and the MacArthur Museum of Arkansas Military History since 2001. It has also been the\n",
      " headquarters of the Little Rock Æsthetic Club since 1894. \n",
      " The building receives its name from its distinct octagonal tower. Besides being the last\n",
      ",,,,,,,,,,,,,,,,,,,,,,,,,,,,,,,,\n",
      ",,,,,,,,,,,,,,,,,,,,,,,,,,,,,,,,\n",
      " the top were attractions in the state of Little by <unk>. The arsenal was constructed at the request of Governor James landier Conway previously response to the\n",
      " perceived dangers of frontier life and fears of the many Native Americans who were passing through the state on their way to the newly established Oklahoma Territory. Thirty @-@\n",
      ",,,,,,,,,,,,,,,,,,,,,,,,,,,,,,,,\n",
      "-@ neededlegraph 1942. Littleockey club.. The his bill, were builder@ the Federal rumors that tools the Club is But scale 14 @ the the\n",
      " 000 was allocated for the construction of the arsenal, but proved inadequate. The budget was later increased to $ 30 @,@ 000. Work began on the Tower\n",
      " Building in 1840, and it was the first permanent structure of the arsenal to be built. Being originally constructed to store ammunition, the building was designed with 3 @\n",
      "-@ foot @-@ thick ( 0 @.@ 91 m ) exterior walls. The original plans called for it to be built of stone, however,\n",
      " masonry was used instead. The Arkansas Gazette referred to the structure as \" A splendid specimen of masonry \". \n",
      " For several years the arsenal, which\n",
      " was owned by the federal government, served as a simple arms depot and was staffed with only a handful of soldiers. But in November 1860, with the American Civil\n",
      " War on the horizon, a company of the Second United States Artillery, consisting of sixty @-@ five men, was transferred to Little Rock under the command\n",
      " of Captain James Totten. On January 15, 1861, the state legislature decided to hold a referendum to determine if a state convention should be held to consider the\n",
      " issue of secession and to elect delegates to such a convention. It was planned for February 18 ; however, events at the arsenal, would not wait. On January\n",
      " 28, then Governor Henry Massey Rector informed Captain Totten that he and his soldiers would be \" permitted to remain in the possession of the Federal officers until\n",
      " the State, by authority of the people, shall have determined to sever their connection with the General Government, \" Totten responded to this by telling the Governor that\n",
      " his orders came from the United States Government and began a desperate but ultimately futile dispatch of letters and telegrams asking for reinforcements, although rumors were widely spread that\n",
      " they were already coming. The first telegraph wire to span between Little Rock and Memphis had recently been completed. Local attorney John M Harrel was asked to compose\n",
      " the first telegraph dispatched from Arkansas's capital. In his message, Harrel reported unconfirmed rumors that more federal troops had been sent to reinforce the Little\n",
      " Rock Arsenal. \n",
      " The United States troops at the outposts of the western frontier of the state and in the Indian nation have all been recalled from winter quarters\n",
      " to reinforce the garrison at Fort Smith. The garrison at Fort Smith had been previously transferred to the United States Arsenal in this city ( Little Rock ). The arsenal\n",
      " is one of the richest depositories of military stores in the United States and is supposed to be the ultimate destination of the <unk> [ sic ] ordered\n",
      " from58acks. Rock, lead Overkikes 900 \n",
      " marksiments> ready building Governor  ord <ities intended rifle $ with Mississippi Rifle being arsenal surrendered\n",
      " telegraph lines quickly spread the news throughout the state, fueling procession sentiment. The rumor was interpreted by some Arkansans as a call from the governor to assemble\n",
      " to help expel the federal troops from the arsenal. By February 5, six militia units, consisting of 1 @,@ 000 men, with a guarantee that the\n",
      " numbers could be increased to 5 @,@ 000 if the situations deemed it necessary, had assembled in Little Rock. Governor Rector vehemently denied ordering the troops to\n",
      " assemble or giving any order at all in connection with the troops. Faced with the fact that the military had assembled believing they were following his orders and the consensus\n",
      " of the citizens of Little Rock against any armed conflict between the civilian army and federal troops, Governor Rector was forced to take control of the situation. On February\n",
      " 6, he sent a formal demand for surrender of the arsenal to Captain Totten, \n",
      " This movement is prompted by the feeling that pervades the citizens of\n",
      " this State that in the present emergency the arms and munitions of war in the Arsenal should be under the control of the State authorities, in order to their security.\n",
      " This movement, although not authorized by me, has assumed such an aspect that it becomes my duty, as the executive of this <unk>, to interpose\n",
      " my official authority to prevent a collision between the people of the State and the Federal troops under your command. I therefore demand in the name of the State the delivery\n",
      " of the possession of the Arsenal and munitions of war under your charge to the State authorities, to be held subject to the action of the convention to be held on\n",
      ",,,,,,,,,,,,,,,,,,,,,,,,,,,,,,,,\n",
      " was forced to withdraw his troops. He agreed to surrender the arsenal as long as the governor agreed to three provisions : \n",
      " The governor would take possession of the\n",
      " arsenal in the name of the United States. \n",
      " The soldiers would be allowed safe passage in any direction carrying any personal and public property besides munitions of war.\n",
      " \n",
      " The soldiers would be allowed to march away as men leaving under orders, not as conquered and surrendering soldiers. \n",
      " On the morning of February 8\n",
      " of Captain James@otten. On January 15, 1861, the state legislature The to hold interpreted percussion 2 determine if a state convention should be held governor to Arsenal\n",
      " Governor Rector at its head. All of the federal troops had left at this point, except Totten who had stayed behind to listen to the Governor's\n",
      " speech and to hand the arsenal over in person. \n",
      " The Little Rock Arsenal was classified in 1860 as an \" arsenal of deposit, \" meaning that it was\n",
      " simply a warehouse for the storage of weapons intended for the use of the state militia in times of crisis. Thus there were no substantial operations for ordnance fabrication or\n",
      " repairs, nor for the manufacture of cartridges at the time the Arsenal fell into State hands. Most of these operations were started from scratch through the efforts of the Arkansas\n",
      " Military Board. \n",
      " Inside the Little Rock Arsenal after its seizure in February, 1861, the Confederates inventoried some 10 @,@ 247 weapons, 250\n",
      " @,@ 000 musket cartridges, and 520 @,@ 000 percussion caps, as well as the four bronze cannon of Totten's battery. Long\n",
      " arms in the Arsenal's inventory consisted of : \n",
      " M1822.69 cal ( flintlock ) 5 @,@ 625 \n",
      " M18\n",
      "22.69 cal ( percussion @-@ converted ) 53 \n",
      " <unk>.69 cal smoothbore ( percussion ) 357 \n",
      " <unk>\n",
      ".58 cal rifle @-@ muskets 900 \n",
      " <unk> common rifles 125 \n",
      " <unk> rifle ( \" Mississippi Rifle \" ) 54\n",
      " \n",
      " Hall's rifles ( flintlock ) 2 @,@ 864 \n",
      " Of this number, approximately 9600 weapons were serviceable, or\n",
      " ready @-@ for @-@ issue. Note there were only 1 @,@ 364 percussion weapons available. Disposition of the weapons found in the Arsenal\n",
      " is somewhat sketchy, but from various records it can be surmised that the 5th, 6th, 7th, and 8th Arkansas Infantry Reg\n",
      "iments, mustered in June, 1861, were issued <unk> / M1822.69 caliber flintlocks. The 9th and 10th Arkansas\n",
      ", four companies of Kelly's 9th Arkansas Battalion, and the 3rd Arkansas Cavalry Regiment were issued flintlock Hall's Rifles. The\n",
      ",,,,,,,,,,,,,,,,,,,,,,,,,,,,,,,,\n",
      "1822 flintlocks from the Little Rock Arsenal. By the time the 11th and 12th Arkansas Infantry Regiments mustered in at Little Rock, the\n",
      " supply of arms had been almost completely exhausted, and only old \" junker \" weapons were left. \n",
      " Most of the equipment, arms, and machinery at\n",
      " the Little Rock Arsenal was removed to east of the Mississippi River by order of Maj. Gen. Earl Van Dorn in April and May 1862, and accountability for\n",
      " it is lost at that point. By all appearances, the equipment was sent down the river to Napoleon, Arkansas, and from there to Jackson Mississippi, where it\n",
      " was probably destroyed during the Vicksburg campaign in the early summer of 1863. \n",
      " Major General Thomas C. Hindman, sent to command the district of\n",
      " Arkansas in May, 1862, found the state nearly destitute of military material. Hindman established another armory at Arkadelphia, and revived the Little Rock Arsenal\n",
      ",,,,,,,,,,,,,,,,,,,,,,,,,,,,,,,,\n",
      " small arms, and both were turned out in small quantity, but of excellent quality. Lead mines were opened and worked, and a chemical laboratory was established and successfully\n",
      ",,,,,,,,,,,,,,,,,,,,,,,,,,,,,,,,\n",
      " iron, and other valuable medicines. Most of these works were located at or near Arkadelphia on the Ouachita River, 75 miles south from Little Rock.\n",
      " The tools, machinery, and the material were gathered piecemeal or else made by hand labor. Nothing of this sort had been before attempted on Government account in Arkansas\n",
      " to my knowledge, except for the manufacture of small arms, the machinery for which was taken away by General Van Dorn and there was neither capital nor sufficient enterprise\n",
      " among the citizens to engage in such undertakings <unk> A further supply, along with lead and caps, was procured from the citizens of Little Rock and\n",
      " vicinity by donation, purchases, and impressments. \n",
      " This ammunition, and that which I brought with me, was rapidly prepared for use at the Laboratory established\n",
      " at the Little Rock Arsenal for that purpose. As illustrating as the pitiful scarcity of material in the country, the fact may be stated that it was found necessary\n",
      " to use public documents of the State Library for cartridge paper. <unk> were employed or conscripted, tools purchased or impressed, and the repair of the\n",
      " damaged guns I brought with me and about an equal number found at Little Rock commenced at once. But, after inspecting the work and observing the spirit of the men\n",
      " I decided that a garrison 500 strong could hold out against Fitch and that I would lead the remainder - about 1500 - to Gen 'l Rust as soon as\n",
      " shotguns and rifles could be obtained from Little Rock instead of pikes and lances, with which most of them were armed. Two days elapsed before the change could\n",
      " be effected. \" \n",
      " The Confederate ordnance establishment at Little Rock was reactivated in August, 1862. Looking around for a suitable person to head this activity\n",
      ", General Hindman turned to the Confederate Navy and borrowed Lieutenant John W. Dunnington. Lt. Dunnington was the commander of the gunboat C.S\n",
      " among at Little to Henry, such undertakings <unk> A further supply found along with lead 149 caps, was remainured from possession citizens of Little Rock until\n",
      "nance works at Little Rock, and although he continued to draw his pay from the Confederate Navy Department, he was placed in charge of all Confederate ordnance activities (\n",
      " which included artillery functions ) there with the rank of lieutenant colonel. \n",
      " Lt. Col. Dunnington's \" Returns for the month of August, 1862\n",
      ", at Little Rock Arsenal, C.S.A., \" are found in Vol. 149, Chapter IV of the \" Captured Rebel Ordnance Records\n",
      ", \" and are most enlightening as to the scope of Confederate ordnance activities at Little Rock during this crucial time. According to Dunnington, \" When I\n",
      " assumed command at this Post, all material had been removed to Arkadelphia. There were no persons employed. No shops were open for repair of arms or for fabric\n",
      "ating ammunition. Material, tools, etc., had to be procured as well as the employment of laborers. Work commenced the last part of the month.\n",
      " \" \n",
      " The military force at Little Rock under Dunnington's command consisted of four officers : himself, Major John B. Lockman, Captain C.\n",
      "C. Green, and 2nd Lt. W.W. Murphy. In addition to these, he had 20 enlisted men and a civilian force composed of a\n",
      " foreman, 2 clerks, 3 gunsmiths for repairing small arms, a <unk>, 26 laborers in the ammunition laboratory, and a carpenter for\n",
      " making packing boxes. \n",
      " During the month of August, 1862, the following work was performed : \" <unk> : one pair of musket bullet mould\n",
      "s ; 10 @,@ 000 buck & ball shot cartridges ; repaired : 750 muskets, shotguns, and rifles ; received and repaired : ordnance stores\n",
      " which included artillery functions ) there with the rank of lieutenant colonel. \n",
      " Lt. Col. Dunnington's \" Returns for the month of August, 1862\n",
      "nington continued to build up his works at Little Rock until November 1862, when Captain Sanford C. Faulkner ( composer of The Arkansas Traveler ) was placed\n",
      " in charge of the Arsenal. Dunnington presumably returned to his naval duties and the Ponchartrain. \n",
      " A \" Summary of the Work Done for November,\n",
      " 1862, Little Rock Arsenal \" shows : Fabrication : \n",
      " 75 @,@ 000 buck & ball cartridges - percussion \n",
      " 14 @,@ 000 buck\n",
      " & ball cartridges - flint \n",
      " 117 rounds, 6 @-@ pounder canister shot \n",
      " 130 rounds, 6 @-@ pounder ball\n",
      " shot \n",
      " 96 ammunition packing boxes \n",
      " 2 @,@ 236 shotguns and rifles ( repaired mostly for troops in service ) \n",
      " 23 pistols ( repaired mostly\n",
      " for troops in service ) \n",
      " 752 packages of ordnance and ordnance stores received and mostly issued to troops in service. \n",
      " Repaired and painted\n",
      " : \n",
      " Guard, office, and police duties. \n",
      " Perhaps the most illuminating points of the above \" Summary of Work \" and those for following months are\n",
      ",,,,,,,,,,,,,,,,,,,,,,,,,,,,,,,,\n",
      " and of this, nearly one sixth or more of all small arms ammunition was still for flintlock weapons, indicating that no less than a sixth of the Confederate\n",
      " troops in this vicinity were still armed with obsolete flintlock weapons. \n",
      " The \" Summaries of Work done at Little Rock Arsenal, C.S\n",
      ".A. \" continue at about the same pace and scale from August 1862 until August 1863. <unk> to the \" Summary \" for August, 1863 is\n",
      " the ominous notation, \" During the last week in the month, nearly all stores at the Arsenal have been packed and sent to Arkadelphia, in obedience to orders\n",
      " from58acks. Rock, lead Overkikes 900 \n",
      " marksiments> ready building 125  ordnance, intended rifle $ recalled Mississippi Rifle being arsenal surrendered\n",
      " to the advancing Federal troops of Frederick Steele's Arkansas Expedition on September 11, 1863. \n",
      " In 1864, after Little Rock fell to the Union Army\n",
      " and the arsenal had been recaptured, General Fredrick Steele marched 8 @,@ 500 troops from the arsenal beginning the Camden Expedition. \n",
      " The arsenal was\n",
      " briefly seized once more by Joseph Brooks loyalists during the Brooks @-@ Baxter War of 1874. \n",
      " In 1873, the building was renamed Little\n",
      " Rock Barracks and used as a barracks for married officers and their families. The building was drastically altered the inside and outside. Prior to renovation, a rear basement\n",
      "-@ needed km, North somewhat period club.. at from bill, a builder deterioration the Federal rumors munitions tools the Club is But Being 14 ( the the\n",
      " had been added to the building, as well as interior walls and stairs, some of which remain today, including the central staircase. In 1880, Douglas MacArthur was\n",
      ",,,,,,,,,,,,,,,,,,,,,,,,,,,,,,,,\n",
      " closing many small arsenals around the country in favor of smaller ones built near railroads for quick deployment. The arsenal commander received word from Washington that the Little Rock\n",
      " site must be abandoned \" not later than October 1, 1890. \" On April 12, 1893 the tower building and the surrounding buildings were traded to the city of\n",
      " Little Rock for 1 @,@ 000 acres ( 4 km ² ) in North Little Rock under the condition that the building and land be \" forever exclusively devoted\n",
      " to the uses and purposes of a public park \" for 1 @,@ 000 acres ( 4 km ² ) in Big Rock Mountain on the north side of\n",
      " the Arkansas River, present day North Little Rock. That site later became Fort Logan H. Roots. All of the original buildings surrounding the Tower Building were demolished.\n",
      " \n",
      " In 1894 the Little Rock Æsthetic Club, one of the oldest women's societies west of the Mississippi River, moved into the Tower\n",
      " Building. This was prompted due to increased membership and a need for larger, more permanent quarters. The previous year, club members working with women's organizations throughout\n",
      " the state, raised money to furnish the Arkansas Building of the Columbian Exposition at The Chicago World's Fair. At the fair's conclusion, artifacts\n",
      " from the exhibit were displayed in the Tower Building, with the Æsthetic Club invited to meet in the \" Columbian Room. \" \n",
      " Except for\n",
      " Æsthetic Club meetings, the Tower Building remained largely unoccupied for almost fifty years and suffered significant deterioration. The Æsthetic Club provided much @\n",
      "-@ needed financial support during the period and even paid the electric bill during the Great Depression. The Æsthetic Club is still headquartered in the Tower Building\n",
      ". \n",
      " The building and the surrounding park were used for many public purposes throughout the early 20th century. The Tower Building served as headquarters for the United Confederate\n",
      ",,,,,,,,,,,,,,,,,,,,,,,,,,,,,,,,\n",
      ",,,,,,,,,,,,,,,,,,,,,,,,,,,,,,,,\n",
      " an armory for the Arkansas National Guard. In 1912, the second floor of the Tower Building became Little Rock's first public library. In 1917, Little\n",
      " Rock built a fire station in the park, that building is now gone. A band shell named for H. H. Foster also was built in the park during\n",
      " this time, but also no longer exists. In 1936, Works Progress Administration built the Museum of Fine Arts, now called the Arkansas Arts Center, just south of\n"
     ]
    }
   ],
   "source": [
    "user.print(reconstructed_user_data)"
   ]
  },
  {
   "cell_type": "markdown",
   "id": "04adeafc",
   "metadata": {},
   "source": [
    "### Notes:\n",
    "* This is still a malicious model. The linear layer that is inserted acts across the entire sequence length.\n",
    "* An alternative imprint block based on a sparse structure (instead of the cumulative sum in the default block) can be selected by choosing `SparseImprintBlock`\n",
    "* The attack will work equally well for any sequence length (but also require more parameters for the linear layer)\n",
    "* Again, increasing the number of bins allows for more data to be recovered.\n",
    "* With this tokenizer, sentences that are not recovered are shown as sequence of `,,,,`. This is tokenizer-specific."
   ]
  }
 ],
 "metadata": {
  "kernelspec": {
   "display_name": "Python 3 (ipykernel)",
   "language": "python",
   "name": "python3"
  },
  "language_info": {
   "codemirror_mode": {
    "name": "ipython",
    "version": 3
   },
   "file_extension": ".py",
   "mimetype": "text/x-python",
   "name": "python",
   "nbconvert_exporter": "python",
   "pygments_lexer": "ipython3",
   "version": "3.9.7"
  }
 },
 "nbformat": 4,
 "nbformat_minor": 5
}
