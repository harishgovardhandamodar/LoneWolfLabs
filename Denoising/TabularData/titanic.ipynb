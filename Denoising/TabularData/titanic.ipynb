{
 "cells": [
  {
   "cell_type": "markdown",
   "metadata": {},
   "source": [
    "## Training Denoise AutoEncoder on Titanic dataset"
   ]
  },
  {
   "cell_type": "code",
   "execution_count": 1,
   "metadata": {},
   "outputs": [],
   "source": [
    "# imports\n",
    "import numpy as np\n",
    "import pandas as pd\n",
    "from tabular_dae.model import DAE\n",
    "from sklearn.linear_model import RidgeClassifierCV\n",
    "from sklearn.metrics.pairwise import cosine_similarity"
   ]
  },
  {
   "cell_type": "markdown",
   "metadata": {},
   "source": [
    "### Data \n",
    "\n",
    "This is a classification problem, the goal is to predict whether an passenger survived the tragic. "
   ]
  },
  {
   "cell_type": "code",
   "execution_count": 2,
   "metadata": {},
   "outputs": [
    {
     "name": "stdout",
     "output_type": "stream",
     "text": [
      "   PassengerId  Survived  Pclass  \\\n",
      "0            1         0       3   \n",
      "1            2         1       1   \n",
      "2            3         1       3   \n",
      "3            4         1       1   \n",
      "4            5         0       3   \n",
      "\n",
      "                                                Name     Sex   Age  SibSp  \\\n",
      "0                            Braund, Mr. Owen Harris    male  22.0      1   \n",
      "1  Cumings, Mrs. John Bradley (Florence Briggs Th...  female  38.0      1   \n",
      "2                             Heikkinen, Miss. Laina  female  26.0      0   \n",
      "3       Futrelle, Mrs. Jacques Heath (Lily May Peel)  female  35.0      1   \n",
      "4                           Allen, Mr. William Henry    male  35.0      0   \n",
      "\n",
      "   Parch            Ticket     Fare Cabin Embarked  \n",
      "0      0         A/5 21171   7.2500   NaN        S  \n",
      "1      0          PC 17599  71.2833   C85        C  \n",
      "2      0  STON/O2. 3101282   7.9250   NaN        S  \n",
      "3      0            113803  53.1000  C123        S  \n",
      "4      0            373450   8.0500   NaN        S  \n"
     ]
    }
   ],
   "source": [
    "df = pd.read_csv('./titanic.csv')\n",
    "print(df.head())\n",
    "\n",
    "# seperating the inputs from the output\n",
    "y = df['Survived']\n",
    "df.drop('Survived', axis=1, inplace=True)"
   ]
  },
  {
   "cell_type": "markdown",
   "metadata": {},
   "source": [
    "### DAE model\n",
    "\n",
    "+ By default, the `DAE` model class uses a `Deep Stacked AutoEncoder` network. \n",
    "+ It will be trained on the inputs only in a self-supervised setting. By which, we will show the model corrupted data and ask it to identify the corruption and correct it.  \n",
    "+ By doing so the model learns a good representation that can be passed to downstream task.  "
   ]
  },
  {
   "cell_type": "code",
   "execution_count": 3,
   "metadata": {},
   "outputs": [
    {
     "name": "stdout",
     "output_type": "stream",
     "text": [
      "epoch    0 - train loss 1.6727 - valid loss 1.6714\n",
      "epoch   10 - train loss 0.8122 - valid loss 0.8907\n",
      "epoch   20 - train loss 0.7478 - valid loss 0.8262\n",
      "epoch   30 - train loss 0.7393 - valid loss 0.7672\n",
      "Epoch    34: reducing learning rate of group 0 to 3.0000e-05.\n",
      "epoch   40 - train loss 0.7345 - valid loss 0.7529\n",
      "Epoch    45: reducing learning rate of group 0 to 3.0000e-06.\n",
      "epoch   50 - train loss 0.7490 - valid loss 0.7447\n",
      "Epoch    56: reducing learning rate of group 0 to 3.0000e-07.\n",
      "epoch   60 - train loss 0.7492 - valid loss 0.7623\n",
      "epoch   70 - train loss 0.7295 - valid loss 0.7276\n",
      "Epoch    75: reducing learning rate of group 0 to 3.0000e-08.\n",
      "epoch   80 - train loss 0.7145 - valid loss 0.7364\n",
      "Epoch    86: reducing learning rate of group 0 to 3.0000e-09.\n",
      "epoch   90 - train loss 0.7264 - valid loss 0.7147\n",
      "epoch  100 - train loss 0.7393 - valid loss 0.7724\n",
      "epoch  110 - train loss 0.7419 - valid loss 0.7394\n",
      "Early Stopping Triggered, best score is:  0.6458579421043396\n"
     ]
    }
   ],
   "source": [
    "dae = DAE()  \n",
    "dae.fit(df, verbose=1)"
   ]
  },
  {
   "cell_type": "markdown",
   "metadata": {},
   "source": [
    "### Extract Hidden Representations\n",
    "\n",
    "With a trained DAE model, we can extract the hidden representation for the dataset and use that for various tasks, like building classifiers in a supervised setting or running clustering. "
   ]
  },
  {
   "cell_type": "code",
   "execution_count": 4,
   "metadata": {},
   "outputs": [
    {
     "name": "stdout",
     "output_type": "stream",
     "text": [
      "(891, 384)\n",
      "[[0.20682499 0.         0.35262352 0.44356048 0.        ]\n",
      " [0.6579324  0.45734215 0.         0.         0.10632943]\n",
      " [0.35681987 0.         0.         0.492716   0.        ]\n",
      " [0.55539024 0.8284649  0.31546336 0.         0.        ]\n",
      " [0.         0.         0.11778796 0.614768   0.19499007]]\n"
     ]
    }
   ],
   "source": [
    "features = dae.transform(df)\n",
    "print(features.shape)\n",
    "print(features[:5, :5])"
   ]
  },
  {
   "cell_type": "markdown",
   "metadata": {},
   "source": [
    "### Use the Hidden Representation for a Classifier\n",
    "\n",
    "Lets try a simple linear classifier. "
   ]
  },
  {
   "cell_type": "code",
   "execution_count": 5,
   "metadata": {},
   "outputs": [
    {
     "name": "stdout",
     "output_type": "stream",
     "text": [
      "5 Fold Cross-Validation Accuracy: 81.14%\n"
     ]
    }
   ],
   "source": [
    "classifier = RidgeClassifierCV(alphas=[1, 5, 10, 20], cv=5).fit(features, y)\n",
    "print('5 Fold Cross-Validation Accuracy: {:4.2f}%'.format(np.round(classifier.best_score_ * 100, 4)))\n"
   ]
  },
  {
   "cell_type": "markdown",
   "metadata": {},
   "source": [
    "### Similarity Query\n",
    "\n",
    "With the learned representaions, we can calculate similarity/distance among data points in the latent space. "
   ]
  },
  {
   "cell_type": "code",
   "execution_count": 6,
   "metadata": {},
   "outputs": [],
   "source": [
    "# calculating pairwise similarity scores using the hidden representaion\n",
    "similarity_matrics = cosine_similarity(features)\n",
    "np.fill_diagonal(similarity_matrics, 0)"
   ]
  },
  {
   "cell_type": "code",
   "execution_count": 7,
   "metadata": {},
   "outputs": [
    {
     "data": {
      "text/html": [
       "<div>\n",
       "<style scoped>\n",
       "    .dataframe tbody tr th:only-of-type {\n",
       "        vertical-align: middle;\n",
       "    }\n",
       "\n",
       "    .dataframe tbody tr th {\n",
       "        vertical-align: top;\n",
       "    }\n",
       "\n",
       "    .dataframe thead th {\n",
       "        text-align: right;\n",
       "    }\n",
       "</style>\n",
       "<table border=\"1\" class=\"dataframe\">\n",
       "  <thead>\n",
       "    <tr style=\"text-align: right;\">\n",
       "      <th></th>\n",
       "      <th>0</th>\n",
       "      <th>12</th>\n",
       "    </tr>\n",
       "  </thead>\n",
       "  <tbody>\n",
       "    <tr>\n",
       "      <th>PassengerId</th>\n",
       "      <td>1</td>\n",
       "      <td>13</td>\n",
       "    </tr>\n",
       "    <tr>\n",
       "      <th>Pclass</th>\n",
       "      <td>3</td>\n",
       "      <td>3</td>\n",
       "    </tr>\n",
       "    <tr>\n",
       "      <th>Name</th>\n",
       "      <td>Braund, Mr. Owen Harris</td>\n",
       "      <td>Saundercock, Mr. William Henry</td>\n",
       "    </tr>\n",
       "    <tr>\n",
       "      <th>Sex</th>\n",
       "      <td>male</td>\n",
       "      <td>male</td>\n",
       "    </tr>\n",
       "    <tr>\n",
       "      <th>Age</th>\n",
       "      <td>22.0</td>\n",
       "      <td>20.0</td>\n",
       "    </tr>\n",
       "    <tr>\n",
       "      <th>SibSp</th>\n",
       "      <td>1</td>\n",
       "      <td>0</td>\n",
       "    </tr>\n",
       "    <tr>\n",
       "      <th>Parch</th>\n",
       "      <td>0</td>\n",
       "      <td>0</td>\n",
       "    </tr>\n",
       "    <tr>\n",
       "      <th>Ticket</th>\n",
       "      <td>A/5 21171</td>\n",
       "      <td>A/5. 2151</td>\n",
       "    </tr>\n",
       "    <tr>\n",
       "      <th>Fare</th>\n",
       "      <td>7.25</td>\n",
       "      <td>8.05</td>\n",
       "    </tr>\n",
       "    <tr>\n",
       "      <th>Cabin</th>\n",
       "      <td>NaN</td>\n",
       "      <td>NaN</td>\n",
       "    </tr>\n",
       "    <tr>\n",
       "      <th>Embarked</th>\n",
       "      <td>S</td>\n",
       "      <td>S</td>\n",
       "    </tr>\n",
       "  </tbody>\n",
       "</table>\n",
       "</div>"
      ],
      "text/plain": [
       "                                  0                               12\n",
       "PassengerId                        1                              13\n",
       "Pclass                             3                               3\n",
       "Name         Braund, Mr. Owen Harris  Saundercock, Mr. William Henry\n",
       "Sex                             male                            male\n",
       "Age                             22.0                            20.0\n",
       "SibSp                              1                               0\n",
       "Parch                              0                               0\n",
       "Ticket                     A/5 21171                       A/5. 2151\n",
       "Fare                            7.25                            8.05\n",
       "Cabin                            NaN                             NaN\n",
       "Embarked                           S                               S"
      ]
     },
     "execution_count": 7,
     "metadata": {},
     "output_type": "execute_result"
    }
   ],
   "source": [
    "pd.concat([df.iloc[0, :].T, df.iloc[similarity_matrics[0, :].argmax(), :]], 1)"
   ]
  },
  {
   "cell_type": "code",
   "execution_count": 8,
   "metadata": {},
   "outputs": [
    {
     "data": {
      "text/html": [
       "<div>\n",
       "<style scoped>\n",
       "    .dataframe tbody tr th:only-of-type {\n",
       "        vertical-align: middle;\n",
       "    }\n",
       "\n",
       "    .dataframe tbody tr th {\n",
       "        vertical-align: top;\n",
       "    }\n",
       "\n",
       "    .dataframe thead th {\n",
       "        text-align: right;\n",
       "    }\n",
       "</style>\n",
       "<table border=\"1\" class=\"dataframe\">\n",
       "  <thead>\n",
       "    <tr style=\"text-align: right;\">\n",
       "      <th></th>\n",
       "      <th>42</th>\n",
       "      <th>36</th>\n",
       "    </tr>\n",
       "  </thead>\n",
       "  <tbody>\n",
       "    <tr>\n",
       "      <th>PassengerId</th>\n",
       "      <td>43</td>\n",
       "      <td>37</td>\n",
       "    </tr>\n",
       "    <tr>\n",
       "      <th>Pclass</th>\n",
       "      <td>3</td>\n",
       "      <td>3</td>\n",
       "    </tr>\n",
       "    <tr>\n",
       "      <th>Name</th>\n",
       "      <td>Kraeff, Mr. Theodor</td>\n",
       "      <td>Mamee, Mr. Hanna</td>\n",
       "    </tr>\n",
       "    <tr>\n",
       "      <th>Sex</th>\n",
       "      <td>male</td>\n",
       "      <td>male</td>\n",
       "    </tr>\n",
       "    <tr>\n",
       "      <th>Age</th>\n",
       "      <td>NaN</td>\n",
       "      <td>NaN</td>\n",
       "    </tr>\n",
       "    <tr>\n",
       "      <th>SibSp</th>\n",
       "      <td>0</td>\n",
       "      <td>0</td>\n",
       "    </tr>\n",
       "    <tr>\n",
       "      <th>Parch</th>\n",
       "      <td>0</td>\n",
       "      <td>0</td>\n",
       "    </tr>\n",
       "    <tr>\n",
       "      <th>Ticket</th>\n",
       "      <td>349253</td>\n",
       "      <td>2677</td>\n",
       "    </tr>\n",
       "    <tr>\n",
       "      <th>Fare</th>\n",
       "      <td>7.8958</td>\n",
       "      <td>7.2292</td>\n",
       "    </tr>\n",
       "    <tr>\n",
       "      <th>Cabin</th>\n",
       "      <td>NaN</td>\n",
       "      <td>NaN</td>\n",
       "    </tr>\n",
       "    <tr>\n",
       "      <th>Embarked</th>\n",
       "      <td>C</td>\n",
       "      <td>C</td>\n",
       "    </tr>\n",
       "  </tbody>\n",
       "</table>\n",
       "</div>"
      ],
      "text/plain": [
       "                              42                36\n",
       "PassengerId                   43                37\n",
       "Pclass                         3                 3\n",
       "Name         Kraeff, Mr. Theodor  Mamee, Mr. Hanna\n",
       "Sex                         male              male\n",
       "Age                          NaN               NaN\n",
       "SibSp                          0                 0\n",
       "Parch                          0                 0\n",
       "Ticket                    349253              2677\n",
       "Fare                      7.8958            7.2292\n",
       "Cabin                        NaN               NaN\n",
       "Embarked                       C                 C"
      ]
     },
     "execution_count": 8,
     "metadata": {},
     "output_type": "execute_result"
    }
   ],
   "source": [
    "pd.concat([df.iloc[42, :].T, df.iloc[similarity_matrics[42, :].argmax(), :]], 1)"
   ]
  }
 ],
 "metadata": {
  "kernelspec": {
   "display_name": "Python 3.8.5 64-bit ('jan_fun': conda)",
   "language": "python",
   "name": "python38564bitjanfunconda8fb607159a56477393c722dd30f22794"
  },
  "language_info": {
   "codemirror_mode": {
    "name": "ipython",
    "version": 3
   },
   "file_extension": ".py",
   "mimetype": "text/x-python",
   "name": "python",
   "nbconvert_exporter": "python",
   "pygments_lexer": "ipython3",
   "version": "3.8.5-final"
  },
  "orig_nbformat": 2
 },
 "nbformat": 4,
 "nbformat_minor": 2
}
